{
 "cells": [
  {
   "cell_type": "code",
   "execution_count": 1,
   "metadata": {
    "scrolled": false
   },
   "outputs": [
    {
     "name": "stdout",
     "output_type": "stream",
     "text": [
      "data.yaml  \u001b[0m\u001b[01;34mlabels\u001b[0m/       output.txt  \u001b[01;34mtrash\u001b[0m/     yolo_generate.ipynb\r\n",
      "\u001b[01;34mimages\u001b[0m/    \u001b[01;34mlabels_json\u001b[0m/  \u001b[01;34mruns\u001b[0m/       \u001b[01;34mtxt_file\u001b[0m/  yolov8n.pt\r\n"
     ]
    }
   ],
   "source": [
    "ls"
   ]
  },
  {
   "cell_type": "code",
   "execution_count": 3,
   "metadata": {},
   "outputs": [],
   "source": [
    "import json\n",
    "from glob import glob\n",
    "from tqdm import tqdm\n",
    "import os "
   ]
  },
  {
   "cell_type": "markdown",
   "metadata": {},
   "source": [
    "#### yolo 학습에 사용될 BBox 및 Class 정의, txt 추출"
   ]
  },
  {
   "cell_type": "code",
   "execution_count": 4,
   "metadata": {},
   "outputs": [
    {
     "name": "stderr",
     "output_type": "stream",
     "text": [
      "100%|██████████| 66463/66463 [04:30<00:00, 245.29it/s] \n"
     ]
    }
   ],
   "source": [
    "for i in tqdm(range(1, 66464)):\n",
    "    num = str(i).zfill(5)\n",
    "    file_path = f'./labels_json/obj_img_{num}.json'\n",
    "    \n",
    "    if not os.path.exists(file_path):\n",
    "        continue\n",
    "\n",
    "    with open(file_path) as json_file:\n",
    "        json_data = json.load(json_file)\n",
    "        \n",
    "    file_name = json_data.get('FileName').replace('.jpg', '')\n",
    "    size = json_data.get('BoundingBox')\n",
    "    \n",
    "    # BoundingBox 정보를 좌표 및 크기로 변환하는 함수 정의\n",
    "    def info(label):\n",
    "        bounding_box = size.get(label)\n",
    "        if bounding_box is not None:\n",
    "            x = ((float(bounding_box[0]) + (float(bounding_box[2]) - float(bounding_box[0])) / 2)/json_data.get('size')[0])\n",
    "            y = ((float(bounding_box[1]) + (float(bounding_box[3]) - float(bounding_box[1])) / 2)/json_data.get('size')[1])\n",
    "            w = ((float(bounding_box[2]) - float(bounding_box[0]))/json_data.get('size')[0])\n",
    "            h = ((float(bounding_box[3]) - float(bounding_box[1]))/json_data.get('size')[1])\n",
    "            return x, y, w, h\n",
    "        else:\n",
    "            return None\n",
    "        \n",
    "    # 눈과 핸드폰의 BoundingBox 정보 추출\n",
    "    leye_info = info('Leye')\n",
    "    reye_info = info('Reye')\n",
    "    phone_info = info('Phone')\n",
    "    \n",
    "    # 텍스트 파일에 BoundingBox 정보 작성        \n",
    "    with open(f'./labels/{file_name}.txt', 'a') as text_file:\n",
    "        if leye_info is not None:\n",
    "            text_file.write(f\"0 {' '.join(map(str, leye_info))}\\n\")\n",
    "        if reye_info is not None:\n",
    "            text_file.write(f\"1 {' '.join(map(str, reye_info))}\\n\")\n",
    "        if phone_info is not None:\n",
    "            text_file.write(f\"2 {' '.join(map(str, phone_info))}\\n\")"
   ]
  },
  {
   "cell_type": "code",
   "execution_count": 7,
   "metadata": {},
   "outputs": [
    {
     "name": "stderr",
     "output_type": "stream",
     "text": [
      "100%|██████████| 66358/66358 [00:00<00:00, 1124234.56it/s]\n"
     ]
    }
   ],
   "source": [
    "path = './labels_json'\n",
    "lst = os.listdir(path)\n",
    "img_lst = []\n",
    "\n",
    "for i in tqdm(range(len(lst))):\n",
    "    filename = lst[i]\n",
    "    num = filename.split('_')[2].split('.')[0]\n",
    "    img_lst.append(num)"
   ]
  },
  {
   "cell_type": "markdown",
   "metadata": {},
   "source": [
    "#### train_test_split 진행"
   ]
  },
  {
   "cell_type": "code",
   "execution_count": 8,
   "metadata": {},
   "outputs": [],
   "source": [
    "from sklearn.model_selection import train_test_split\n",
    "train,test = train_test_split(img_lst, test_size = 0.2)"
   ]
  },
  {
   "cell_type": "code",
   "execution_count": 9,
   "metadata": {},
   "outputs": [],
   "source": [
    "dir = '/home/work/VisionAI/subeen/images/'\n",
    "for i in train:\n",
    "    with open(f'./txt_file/train.txt','a') as text_file:\n",
    "        text_file.write(f'{dir}obj_img_{i}.jpg\\n')"
   ]
  },
  {
   "cell_type": "code",
   "execution_count": 10,
   "metadata": {},
   "outputs": [],
   "source": [
    "dir = '/home/work/VisionAI/subeen/images/'\n",
    "for i in test:\n",
    "    with open(f'./txt_file/test.txt','a') as text_file:\n",
    "        text_file.write(f'{dir}obj_img_{i}.jpg\\n')"
   ]
  },
  {
   "cell_type": "code",
   "execution_count": 11,
   "metadata": {},
   "outputs": [],
   "source": [
    "from sklearn.model_selection import train_test_split\n",
    "train1, val = train_test_split(train, test_size = 0.2)"
   ]
  },
  {
   "cell_type": "code",
   "execution_count": 12,
   "metadata": {},
   "outputs": [],
   "source": [
    "dir = '/home/work/VisionAI/subeen/images/'\n",
    "for i in train1:\n",
    "    with open(f'./txt_file/train1.txt','a') as text_file:\n",
    "        text_file.write(f'{dir}obj_img_{i}.jpg\\n')"
   ]
  },
  {
   "cell_type": "code",
   "execution_count": 13,
   "metadata": {},
   "outputs": [],
   "source": [
    "dir = '/home/work/VisionAI/subeen/images/'\n",
    "for i in val:\n",
    "    with open(f'./txt_file/val.txt','a') as text_file:\n",
    "        text_file.write(f'{dir}obj_img_{i}.jpg\\n')"
   ]
  }
 ],
 "metadata": {
  "kernelspec": {
   "display_name": "PyTorch 1.9.0 on Python 3.8 (CUDA 11.1)",
   "language": "python",
   "name": "python3"
  },
  "language_info": {
   "codemirror_mode": {
    "name": "ipython",
    "version": 3
   },
   "file_extension": ".py",
   "mimetype": "text/x-python",
   "name": "python",
   "nbconvert_exporter": "python",
   "pygments_lexer": "ipython3",
   "version": "3.8.7"
  },
  "vscode": {
   "interpreter": {
    "hash": "916dbcbb3f70747c44a77c7bcd40155683ae19c65e1c03b4aa3499c5328201f1"
   }
  }
 },
 "nbformat": 4,
 "nbformat_minor": 4
}
