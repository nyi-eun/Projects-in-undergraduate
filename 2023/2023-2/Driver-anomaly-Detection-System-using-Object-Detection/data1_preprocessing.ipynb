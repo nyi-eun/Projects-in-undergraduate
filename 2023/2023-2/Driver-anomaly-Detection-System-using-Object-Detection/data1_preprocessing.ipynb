{
 "cells": [
  {
   "cell_type": "code",
   "execution_count": 1,
   "metadata": {},
   "outputs": [],
   "source": [
    "import json\n",
    "import os\n",
    "import shutil"
   ]
  },
  {
   "cell_type": "code",
   "execution_count": 2,
   "metadata": {},
   "outputs": [],
   "source": [
    "train_data_path = './ori_data/Training/'\n",
    "valid_data_path = './ori_data/Validation/'"
   ]
  },
  {
   "cell_type": "code",
   "execution_count": 3,
   "metadata": {},
   "outputs": [],
   "source": [
    "# 실제도로환경\n",
    "real_label = '[라벨]bbox(실제도로환경)'\n",
    "real_img = '[원천]bbox(실제도로환경)'\n",
    "\n",
    "# 통제환경\n",
    "control_label = '[라벨]bbox(통제환경)'\n",
    "control_img = '[원천]bbox(통제환경)'"
   ]
  },
  {
   "cell_type": "markdown",
   "metadata": {},
   "source": [
    "#### BoundingBox 추출 및 json 파일 생성"
   ]
  },
  {
   "cell_type": "code",
   "execution_count": 4,
   "metadata": {},
   "outputs": [],
   "source": [
    "for car_type in [filename for filename in os.listdir(valid_data_path + real_label) if filename.startswith('.') == False] :\n",
    "    for file in [filename for filename in os.listdir(valid_data_path + real_label + '/' + car_type) if filename.startswith('.') == False] :\n",
    "        for json_file in [filename for filename in os.listdir(valid_data_path + real_label + '/' + car_type + '/' + file) if filename.endswith('.json')] :\n",
    "            with open(valid_data_path + real_label +'/' + car_type + '/' + file + '/' + json_file, 'r') as f:\n",
    "                ori_json = json.load(f)\n",
    "\n",
    "            bounding_box = {'Leye' : None, 'Reye' : None, 'Phone' : None}\n",
    "\n",
    "            # 'isVisible' 값이 True인 경우에 해당 키의 'Position' 값을 추출하여 BoundingBox 값으로 할당\n",
    "            for key, value in ori_json['ObjectInfo'][\"BoundingBox\"].items():\n",
    "                if key in ['Leye', 'Reye'] :\n",
    "                    if (value['isVisible'] == True) & (value['Opened'] == False):\n",
    "                        bounding_box[key] = value['Position']\n",
    "                if key == 'Phone' :\n",
    "                    if value['isVisible'] == True:\n",
    "                        bounding_box[key] = value['Position']\n",
    "\n",
    "            # 변경된 JSON 데이터 생성\n",
    "            change_json = {'FileName' : ori_json['FileInfo']['FileName'],\n",
    "                        'BoundingBox' : bounding_box}\n",
    "            \n",
    "            try :\n",
    "                img_file = json_file.replace('.json', '.jpg')\n",
    "                src = valid_data_path + real_img + '/' + car_type + '/' + file + '/'\n",
    "                dir = './data/img/'\n",
    "                shutil.move(src + img_file, dir + img_file)\n",
    "                \n",
    "                with open('./data/label/' + json_file, \"w\") as outfile:\n",
    "                    json.dump(change_json, outfile)\n",
    "\n",
    "            except :\n",
    "                continue\n"
   ]
  },
  {
   "cell_type": "code",
   "execution_count": 5,
   "metadata": {},
   "outputs": [],
   "source": [
    "for car_type in [filename for filename in os.listdir(train_data_path + real_label) if filename.startswith('.') == False] :\n",
    "    for file in [filename for filename in os.listdir(train_data_path + real_label + '/' + car_type) if filename.startswith('.') == False] :\n",
    "        for json_file in [filename for filename in os.listdir(train_data_path + real_label + '/' + car_type + '/' + file) if filename.endswith('.json')] :\n",
    "            with open(train_data_path + real_label +'/' + car_type + '/' + file + '/' + json_file, 'r') as f:\n",
    "                ori_json = json.load(f)\n",
    "\n",
    "            bounding_box = {'Leye' : None, 'Reye' : None, 'Phone' : None}\n",
    "\n",
    "            # 'isVisible' 값이 True인 경우에 해당 키의 'Position' 값을 추출하여 BoundingBox 값으로 할당\n",
    "            for key, value in ori_json['ObjectInfo'][\"BoundingBox\"].items():\n",
    "                if key in ['Leye', 'Reye'] :\n",
    "                    if (value['isVisible'] == True) & (value['Opened'] == False):\n",
    "                        bounding_box[key] = value['Position']\n",
    "                if key == 'Phone' :\n",
    "                    if value['isVisible'] == True:\n",
    "                        bounding_box[key] = value['Position']\n",
    "\n",
    "            # 변경된 JSON 데이터 생성\n",
    "            change_json = {'FileName' : ori_json['FileInfo']['FileName'],\n",
    "                        'BoundingBox' : bounding_box}\n",
    "            \n",
    "            try :\n",
    "                img_file = json_file.replace('.json', '.jpg')\n",
    "                src = train_data_path + real_img + '/' + car_type + '/' + file + '/'\n",
    "                dir = './data/img/'\n",
    "                shutil.move(src + img_file, dir + img_file)\n",
    "                \n",
    "                with open('./data/label/' + json_file, \"w\") as outfile:\n",
    "                    json.dump(change_json, outfile)\n",
    "\n",
    "            except :\n",
    "                continue"
   ]
  },
  {
   "cell_type": "code",
   "execution_count": 6,
   "metadata": {},
   "outputs": [],
   "source": [
    "# for car_type in [filename for filename in os.listdir(train_data_path + control_label) if filename.startswith('.') == False] :\n",
    "for file in [filename for filename in os.listdir(train_data_path + control_label) if filename.startswith('.') == False] :\n",
    "    for json_file in [filename for filename in os.listdir(train_data_path + control_label + '/' + file) if filename.endswith('.json')] :\n",
    "        with open(train_data_path + control_label +'/' + file + '/' + json_file, 'r') as f:\n",
    "            ori_json = json.load(f)\n",
    "\n",
    "        bounding_box = {'Leye' : None, 'Reye' : None, 'Phone' : None}\n",
    "\n",
    "        # 'isVisible' 값이 True인 경우에 해당 키의 'Position' 값을 추출하여 BoundingBox 값으로 할당\n",
    "        for key, value in ori_json['ObjectInfo'][\"BoundingBox\"].items():\n",
    "            if key in ['Leye', 'Reye'] :\n",
    "                if (value['isVisible'] == True) & (value['Opened'] == False):\n",
    "                    bounding_box[key] = value['Position']\n",
    "            if key == 'Phone' :\n",
    "                if value['isVisible'] == True:\n",
    "                    bounding_box[key] = value['Position']\n",
    "\n",
    "        # 변경된 JSON 데이터 생성\n",
    "        change_json = {'FileName' : ori_json['FileInfo']['FileName'],\n",
    "                    'BoundingBox' : bounding_box}\n",
    "        \n",
    "        try :\n",
    "            img_file = json_file.replace('.json', '.jpg')\n",
    "            src = train_data_path + control_img + '/' + file + '/'\n",
    "            dir = './data/img/'\n",
    "            shutil.move(src + img_file, dir + img_file)\n",
    "                \n",
    "            with open('./data/label/' + json_file, \"w\") as outfile:\n",
    "                json.dump(change_json, outfile)\n",
    "            \n",
    "        except :\n",
    "            continue"
   ]
  },
  {
   "cell_type": "code",
   "execution_count": 8,
   "metadata": {},
   "outputs": [],
   "source": [
    "for file in [filename for filename in os.listdir(valid_data_path + control_label) if filename.startswith('.') == False] :\n",
    "    for json_file in [filename for filename in os.listdir(valid_data_path + control_label + '/' + file) if filename.endswith('.json')] :\n",
    "        with open(valid_data_path + control_label +'/' + file + '/' + json_file, 'r') as f:\n",
    "            ori_json = json.load(f)\n",
    "\n",
    "        bounding_box = {'Leye' : None, 'Reye' : None, 'Phone' : None}\n",
    "\n",
    "        # 'isVisible' 값이 True인 경우에 해당 키의 'Position' 값을 추출하여 BoundingBox 값으로 할당\n",
    "        for key, value in ori_json['ObjectInfo'][\"BoundingBox\"].items():\n",
    "            if key in ['Leye', 'Reye'] :\n",
    "                if (value['isVisible'] == True) & (value['Opened'] == False):\n",
    "                    bounding_box[key] = value['Position']\n",
    "            if key == 'Phone' :\n",
    "                if value['isVisible'] == True:\n",
    "                    bounding_box[key] = value['Position']\n",
    "\n",
    "        # 변경된 JSON 데이터 생성\n",
    "        change_json = {'FileName' : ori_json['FileInfo']['FileName'],\n",
    "                    'BoundingBox' : bounding_box}\n",
    "\n",
    "        try :   \n",
    "            img_file = json_file.replace('.json', '.jpg')\n",
    "            src = valid_data_path + control_img + '/' + file + '/'\n",
    "            dir = './data/img/'\n",
    "            shutil.move(src + img_file, dir + img_file)\n",
    "                \n",
    "            with open('./data/label/' + json_file, \"w\") as outfile:\n",
    "                json.dump(change_json, outfile)\n",
    "\n",
    "        except :\n",
    "            continue"
   ]
  }
 ],
 "metadata": {
  "kernelspec": {
   "display_name": "base",
   "language": "python",
   "name": "python3"
  },
  "language_info": {
   "codemirror_mode": {
    "name": "ipython",
    "version": 3
   },
   "file_extension": ".py",
   "mimetype": "text/x-python",
   "name": "python",
   "nbconvert_exporter": "python",
   "pygments_lexer": "ipython3",
   "version": "3.11.3"
  }
 },
 "nbformat": 4,
 "nbformat_minor": 2
}
