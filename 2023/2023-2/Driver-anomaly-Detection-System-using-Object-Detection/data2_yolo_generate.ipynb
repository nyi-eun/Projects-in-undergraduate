{
 "cells": [
  {
   "cell_type": "code",
   "execution_count": 1,
   "metadata": {
    "scrolled": false
   },
   "outputs": [
    {
     "name": "stdout",
     "output_type": "stream",
     "text": [
      "anomaly_detection_data_extraction.ipynb  \u001b[0m\u001b[01;34mlabels_json\u001b[0m/\r\n",
      "data.yaml                                \u001b[01;34mlabels_normal\u001b[0m/\r\n",
      "\u001b[01;34mimages\u001b[0m/                                  \u001b[01;34mlabels_phone\u001b[0m/\r\n",
      "\u001b[01;34mimages_normal\u001b[0m/                           \u001b[01;34mlabels_sleep\u001b[0m/\r\n",
      "\u001b[01;34mimages_phone\u001b[0m/                            \u001b[01;34mruns\u001b[0m/\r\n",
      "\u001b[01;34mimages_sleep\u001b[0m/                            \u001b[01;34mtrash\u001b[0m/\r\n",
      "\u001b[01;34mlabels\u001b[0m/                                  \u001b[01;34mtxt_file\u001b[0m/\r\n",
      "labels.cache                             yolo_generate.ipynb\r\n",
      "\u001b[01;34mlabels_anomaly\u001b[0m/                          yolov8n.pt\r\n",
      "labels_anomaly.tar\r\n"
     ]
    }
   ],
   "source": [
    "ls"
   ]
  },
  {
   "cell_type": "code",
   "execution_count": 8,
   "metadata": {},
   "outputs": [],
   "source": [
    "import json\n",
    "from glob import glob\n",
    "from tqdm import tqdm\n",
    "import os "
   ]
  },
  {
   "cell_type": "markdown",
   "metadata": {},
   "source": [
    "#### yolo 학습에 사용될 BBox 및 Class 정의, txt 추출"
   ]
  },
  {
   "cell_type": "code",
   "execution_count": 107,
   "metadata": {
    "scrolled": true
   },
   "outputs": [
    {
     "name": "stderr",
     "output_type": "stream",
     "text": [
      "100%|██████████| 237845/237845 [04:14<00:00, 935.00it/s] \n"
     ]
    }
   ],
   "source": [
    "file_list = os.listdir('./labels_json')\n",
    "for i in tqdm(file_list):\n",
    "    file_path = f'./labels_json/{i}'\n",
    "      \n",
    "    if not os.path.exists(file_path):\n",
    "        continue\n",
    "\n",
    "    with open(file_path) as json_file:\n",
    "        json_data = json.load(json_file)\n",
    "\n",
    "    # 파일 이름 및 BoundingBox 크기 추출    \n",
    "    file_name = json_data.get('FileName').replace('.jpg', '')\n",
    "    size = json_data.get('BoundingBox')\n",
    "    \n",
    "    # BoundingBox 정보를 좌표 및 크기로 변환하는 함수 정의\n",
    "    def info(label):\n",
    "        bounding_box = size.get(label)\n",
    "        if bounding_box is not None:\n",
    "            \n",
    "            # BoundingBox가 이미지 크기를 초과하지 않도록 보정\n",
    "            if float(bounding_box[0]) + float(bounding_box[2]) > 1280 :\n",
    "                bounding_box[2] = (1280 - float(bounding_box[0]))\n",
    "                \n",
    "            if (bounding_box[1]) + (bounding_box[3]) > 720 :\n",
    "                bounding_box[3] = (720 - float(bounding_box[1]))\n",
    "\n",
    "            # BoundingBox 정보를 좌표 및 크기로 변환\n",
    "            x = ((float(bounding_box[0]) + (float(bounding_box[2]) / 2)) / json_data.get('size')[0])\n",
    "            y = ((float(bounding_box[1]) + (float(bounding_box[3]) / 2)) / json_data.get('size')[1])\n",
    "            w = (float(bounding_box[2]) / json_data.get('size')[0])\n",
    "            h = (float(bounding_box[3]) / json_data.get('size')[1])\n",
    "            return x, y, w, h\n",
    "    \n",
    "        else:\n",
    "            return None\n",
    "        \n",
    "    # body와 face의 BoundingBox 정보 추출              \n",
    "    body_info = info('body')\n",
    "    face_info = info('face')\n",
    "    \n",
    "    # 텍스트 파일에 BoundingBox 정보 작성\n",
    "    with open(f'./labels/{file_name}.txt', 'a') as text_file:\n",
    "        if body_info is not None:\n",
    "            text_file.write(f\"0 {' '.join(map(str, body_info))}\\n\")\n",
    "        if face_info is not None:\n",
    "            text_file.write(f\"1 {' '.join(map(str, face_info))}\\n\")"
   ]
  },
  {
   "cell_type": "code",
   "execution_count": 116,
   "metadata": {
    "scrolled": true
   },
   "outputs": [
    {
     "name": "stderr",
     "output_type": "stream",
     "text": [
      "100%|██████████| 237845/237845 [00:00<00:00, 1315681.22it/s]\n"
     ]
    }
   ],
   "source": [
    "path = './labels'\n",
    "lst = os.listdir(path)\n",
    "img_lst = []\n",
    "\n",
    "for i in tqdm(range(len(lst))):\n",
    "    filename = lst[i]\n",
    "    num = filename.split('.')[0]\n",
    "    img_lst.append(num)"
   ]
  },
  {
   "cell_type": "markdown",
   "metadata": {},
   "source": [
    "#### train_test_split 진행"
   ]
  },
  {
   "cell_type": "code",
   "execution_count": 118,
   "metadata": {},
   "outputs": [],
   "source": [
    "from sklearn.model_selection import train_test_split\n",
    "train,test = train_test_split(img_lst, test_size = 0.2)"
   ]
  },
  {
   "cell_type": "code",
   "execution_count": 119,
   "metadata": {},
   "outputs": [
    {
     "name": "stderr",
     "output_type": "stream",
     "text": [
      "100%|██████████| 190276/190276 [01:36<00:00, 1970.73it/s]\n"
     ]
    }
   ],
   "source": [
    "dir = '/home/work/VisionAI/monitoring/images/'\n",
    "#전체 train test\n",
    "for i in tqdm(train):\n",
    "    with open(f'./txt_file/train.txt','a') as text_file:\n",
    "        text_file.write(f'{dir}{i}.jpg\\n')"
   ]
  },
  {
   "cell_type": "code",
   "execution_count": 32,
   "metadata": {},
   "outputs": [
    {
     "name": "stderr",
     "output_type": "stream",
     "text": [
      "100%|██████████| 47555/47555 [00:24<00:00, 1959.20it/s]\n"
     ]
    }
   ],
   "source": [
    "dir = '/home/work/VisionAI/monitoring/images/'\n",
    "for i in tqdm(test):\n",
    "    with open(f'./txt_file/test.txt','a') as text_file:\n",
    "        text_file.write(f'{dir}{i}.jpg\\n')"
   ]
  },
  {
   "cell_type": "code",
   "execution_count": 33,
   "metadata": {},
   "outputs": [],
   "source": [
    "from sklearn.model_selection import train_test_split\n",
    "train1, val = train_test_split(train, test_size = 0.2)"
   ]
  },
  {
   "cell_type": "code",
   "execution_count": 34,
   "metadata": {},
   "outputs": [
    {
     "name": "stderr",
     "output_type": "stream",
     "text": [
      "100%|██████████| 152174/152174 [01:17<00:00, 1957.71it/s]\n"
     ]
    }
   ],
   "source": [
    "#학습에 쓸 train\n",
    "dir = '/home/work/VisionAI/monitoring/images/'\n",
    "for i in tqdm(train1):\n",
    "    with open(f'./txt_file/train1.txt','a') as text_file:\n",
    "        text_file.write(f'{dir}{i}.jpg\\n')"
   ]
  },
  {
   "cell_type": "code",
   "execution_count": 35,
   "metadata": {},
   "outputs": [
    {
     "name": "stderr",
     "output_type": "stream",
     "text": [
      "100%|██████████| 38044/38044 [00:19<00:00, 1993.12it/s]\n"
     ]
    }
   ],
   "source": [
    "dir = '/home/work/VisionAI/monitoring/images/'\n",
    "for i in tqdm(val):\n",
    "    with open(f'./txt_file/val.txt','a') as text_file:\n",
    "        text_file.write(f'{dir}{i}.jpg\\n')"
   ]
  }
 ],
 "metadata": {
  "kernelspec": {
   "display_name": "PyTorch 1.9.0 on Python 3.8 (CUDA 11.1)",
   "language": "python",
   "name": "python3"
  },
  "language_info": {
   "codemirror_mode": {
    "name": "ipython",
    "version": 3
   },
   "file_extension": ".py",
   "mimetype": "text/x-python",
   "name": "python",
   "nbconvert_exporter": "python",
   "pygments_lexer": "ipython3",
   "version": "3.8.7"
  },
  "vscode": {
   "interpreter": {
    "hash": "916dbcbb3f70747c44a77c7bcd40155683ae19c65e1c03b4aa3499c5328201f1"
   }
  }
 },
 "nbformat": 4,
 "nbformat_minor": 4
}
