{
 "cells": [
  {
   "cell_type": "code",
   "execution_count": 1,
   "id": "567b2f6b",
   "metadata": {},
   "outputs": [],
   "source": [
    "import cv2\n",
    "import numpy as np\n",
    "from PIL import ImageFont, ImageDraw, Image\n",
    "import pandas as pd"
   ]
  },
  {
   "cell_type": "code",
   "execution_count": 53,
   "id": "bd5d106d",
   "metadata": {
    "scrolled": true
   },
   "outputs": [],
   "source": [
    "# 이미지 로드\n",
    "img = cv2.imread('image/erase/img_16.png')\n",
    "info=pd.read_csv('image/information/gt_img_16.csv',encoding='cp949') "
   ]
  },
  {
   "cell_type": "markdown",
   "id": "2ff96ec7",
   "metadata": {},
   "source": [
    "## 흰색 배경에 검정 글씨 (검정 글씨 추출) "
   ]
  },
  {
   "cell_type": "code",
   "execution_count": 50,
   "id": "95503d02",
   "metadata": {},
   "outputs": [],
   "source": [
    "# 이미지 읽기\n",
    "text_img = cv2.imread('image/text/black.png')\n",
    "\n",
    "# BGR에서 HSV로 변환\n",
    "hsv_image = cv2.cvtColor(text_img, cv2.COLOR_BGR2HSV)\n",
    "\n",
    "# 검정색 범위 설정 (HSV)\n",
    "lower_black = np.array([0, 0, 0])\n",
    "upper_black = np.array([179, 255, 30])\n",
    "\n",
    "# 검정색 영역 추출\n",
    "mask = cv2.inRange(hsv_image, lower_black, upper_black)\n",
    "\n",
    "# 텍스트의 색상 추출 (평균값 계산)\n",
    "b, g, r = cv2.mean(text_img, mask=mask)[:3]\n",
    "text_color = (round(b), round(g), round(r))"
   ]
  },
  {
   "cell_type": "markdown",
   "id": "1e4d9ee1",
   "metadata": {},
   "source": [
    "## 검정 배경에 흰색 글씨 (흰색 글씨 추출)"
   ]
  },
  {
   "cell_type": "code",
   "execution_count": 57,
   "id": "306a0675",
   "metadata": {
    "scrolled": true
   },
   "outputs": [],
   "source": [
    "text_img = cv2.imread('image/text/white.png')\n",
    "\n",
    "# BGR에서 HSV로 변환\n",
    "hsv_image = cv2.cvtColor(text_img, cv2.COLOR_BGR2HSV)\n",
    "\n",
    "# 흰색 범위 설정 (HSV)\n",
    "lower_white = np.array([0, 0, 200])\n",
    "upper_white = np.array([179, 30, 255])\n",
    "\n",
    "# 흰색 영역 추출\n",
    "mask = cv2.inRange(hsv_image, lower_white, upper_white)\n",
    "\n",
    "# 텍스트의 색상 추출 (평균값 계산)\n",
    "b, g, r = cv2.mean(text_img, mask=mask)[:3]\n",
    "text_color = (round(10000 * b), round(10000 * g), round(10000 * r))"
   ]
  },
  {
   "cell_type": "markdown",
   "id": "2761c15d",
   "metadata": {},
   "source": [
    "# 실행 코드"
   ]
  },
  {
   "cell_type": "code",
   "execution_count": 58,
   "id": "7c79be08",
   "metadata": {},
   "outputs": [],
   "source": [
    "#폰트 크기 및 사이즈 정의 함수\n",
    "def add_text_to_image(img, text_list, font_path, font_sizes, text_color, positions):\n",
    "    img_pil = Image.fromarray(cv2.cvtColor(img, cv2.COLOR_BGR2RGB))\n",
    "    draw = ImageDraw.Draw(img_pil)\n",
    "\n",
    "    for i, (text, font_size, position) in enumerate(zip(text_list, font_sizes, positions)):\n",
    "        font = ImageFont.truetype(font_path, font_size)\n",
    "        text_x, text_y = position\n",
    "\n",
    "        text_size = font.getsize(text)\n",
    "        text_width, text_height = text_size\n",
    "\n",
    "        draw.text((text_x, text_y), text, font=font, stroke_fill=text_color, fill=text_color)\n",
    "\n",
    "    numpy_img = np.array(img_pil)\n",
    "    cv_img = cv2.cvtColor(numpy_img, cv2.COLOR_RGB2BGR)\n",
    "    return cv_img"
   ]
  },
  {
   "cell_type": "code",
   "execution_count": 59,
   "id": "4df36034",
   "metadata": {
    "scrolled": true
   },
   "outputs": [
    {
     "name": "stderr",
     "output_type": "stream",
     "text": [
      "C:\\Users\\milks\\AppData\\Local\\Temp\\ipykernel_19752\\2501440310.py:20: DeprecationWarning: getsize is deprecated and will be removed in Pillow 10 (2023-07-01). Use getbbox or getlength instead.\n",
      "  text_width, text_height = font.getsize(info.iloc[i][9])\n",
      "C:\\Users\\milks\\AppData\\Local\\Temp\\ipykernel_19752\\910720760.py:10: DeprecationWarning: getsize is deprecated and will be removed in Pillow 10 (2023-07-01). Use getbbox or getlength instead.\n",
      "  text_size = font.getsize(text)\n"
     ]
    }
   ],
   "source": [
    "# 좌표값 개수 입력 받기\n",
    "#info=pd.concat([info,kor],axis=1)\n",
    "num_coords = len(info) #5\n",
    "\n",
    "# 좌표값과 텍스트 입력 받기\n",
    "positions = []\n",
    "text_list = []\n",
    "font_sizes = []\n",
    "for i in range(num_coords):\n",
    "    if pd.notna(info.iloc[i][9]):\n",
    "        bbox_start_x, bbox_start_y, bbox_end_x, bbox_end_y = int(info.iloc[i][0]), int(info.iloc[i][1]), int(info.iloc[i][4]), int(info.iloc[i][5])\n",
    "\n",
    "        font_path = \"image/font/malgun.ttf\"\n",
    "\n",
    "        # 높이 계산\n",
    "        height = bbox_end_y - bbox_start_y\n",
    "        font_size = int(height * 0.8)\n",
    "\n",
    "        font = ImageFont.truetype(font_path, font_size)\n",
    "        text_width, text_height = font.getsize(info.iloc[i][9])\n",
    "\n",
    "        width = bbox_end_x - bbox_start_x\n",
    "        x = bbox_start_x + width // 2 - text_width // 2  # bbox 내 가운데 정렬\n",
    "        y = bbox_start_y + height // 2 - text_height // 2\n",
    "\n",
    "        position = (x, y)\n",
    "        text = info.iloc[i][9]\n",
    "        positions.append(position)\n",
    "        text_list.append(text)\n",
    "        font_sizes.append(font_size)\n",
    "\n",
    "# 이미지에 텍스트 추가\n",
    "result_img = add_text_to_image(img, text_list, font_path, font_sizes, text_color, positions)\n",
    "\n",
    "# 이미지 출력 및 저장\n",
    "cv2.imshow('Results', result_img)\n",
    "cv2.imwrite(\"image/results/16.png\", result_img)\n",
    "cv2.waitKey(0)\n",
    "cv2.destroyAllWindows()\n"
   ]
  }
 ],
 "metadata": {
  "kernelspec": {
   "display_name": "text",
   "language": "python",
   "name": "text"
  },
  "language_info": {
   "codemirror_mode": {
    "name": "ipython",
    "version": 3
   },
   "file_extension": ".py",
   "mimetype": "text/x-python",
   "name": "python",
   "nbconvert_exporter": "python",
   "pygments_lexer": "ipython3",
   "version": "3.8.16"
  }
 },
 "nbformat": 4,
 "nbformat_minor": 5
}
