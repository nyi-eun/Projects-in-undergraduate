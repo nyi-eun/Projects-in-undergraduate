{
 "cells": [
  {
   "cell_type": "markdown",
   "id": "c6fc69a7",
   "metadata": {},
   "source": [
    "## Table of contents"
   ]
  },
  {
   "cell_type": "markdown",
   "id": "3a27d288",
   "metadata": {},
   "source": [
    "- [Preprocessing](#Preprocessing)\n",
    "    + [1. 결측치 제거](#Missing-Value-Handling)\n",
    "    + [2. 중복값 제거](#Remove-duplicates)\n",
    "\n",
    "- [Analyze](#Analyze)\n",
    "    + [자치구별 grdp와 학교 및 학원/교습소 수](#grdp와-교육열의-관계)\n",
    "\n",
    "- [Visualize](#Visualize)\n",
    "    + [1.자치구별 grdp와 학교 총 개수 시각화](#1.자치구별-grdp와-학교-총-개수-시각화)\n",
    "    + [2. 자치구별 grdp와 자치구별 학원/교습소 수](#2.자치구별-grdp와-자치구별-학원/교습소-수)\n"
   ]
  },
  {
   "cell_type": "markdown",
   "id": "0e8eedf1",
   "metadata": {},
   "source": [
    "### Preprocessing\n",
    "전처리 수행(결측값 처리, 중복값 처리, 이상치 처리 등)"
   ]
  },
  {
   "cell_type": "code",
   "execution_count": 5,
   "id": "79d1b66c",
   "metadata": {},
   "outputs": [],
   "source": [
    "import pandas as pd\n",
    "import numpy as np\n",
    "import matplotlib.pyplot as plt\n",
    "import seaborn as sns\n",
    "import plotly.express as px\n",
    "\n",
    "%matplotlib inline\n",
    "plt.rc('font', family='malgun gothic')\n",
    "plt.rc('axes', unicode_minus=False)"
   ]
  },
  {
   "cell_type": "code",
   "execution_count": 6,
   "id": "73972ef2",
   "metadata": {},
   "outputs": [
    {
     "ename": "UnicodeDecodeError",
     "evalue": "'cp949' codec can't decode byte 0xed in position 0: illegal multibyte sequence",
     "output_type": "error",
     "traceback": [
      "\u001b[1;31m---------------------------------------------------------------------------\u001b[0m",
      "\u001b[1;31mUnicodeDecodeError\u001b[0m                        Traceback (most recent call last)",
      "Input \u001b[1;32mIn [6]\u001b[0m, in \u001b[0;36m<cell line: 2>\u001b[1;34m()\u001b[0m\n\u001b[0;32m      1\u001b[0m \u001b[38;5;66;03m# Main Data\u001b[39;00m\n\u001b[1;32m----> 2\u001b[0m school \u001b[38;5;241m=\u001b[39m \u001b[43mpd\u001b[49m\u001b[38;5;241;43m.\u001b[39;49m\u001b[43mread_csv\u001b[49m\u001b[43m(\u001b[49m\u001b[38;5;124;43m'\u001b[39;49m\u001b[38;5;124;43m./data/서울특별시 학교 기본정보.csv\u001b[39;49m\u001b[38;5;124;43m'\u001b[39;49m\u001b[43m,\u001b[49m\u001b[43mencoding\u001b[49m\u001b[38;5;241;43m=\u001b[39;49m\u001b[38;5;124;43m'\u001b[39;49m\u001b[38;5;124;43mcp949\u001b[39;49m\u001b[38;5;124;43m'\u001b[39;49m\u001b[43m)\u001b[49m\n\u001b[0;32m      3\u001b[0m grdp\u001b[38;5;241m=\u001b[39mpd\u001b[38;5;241m.\u001b[39mread_csv(\u001b[38;5;124m'\u001b[39m\u001b[38;5;124m./data/자치구별 1인당 지역내총생산 및 수준지수.csv\u001b[39m\u001b[38;5;124m'\u001b[39m)\n\u001b[0;32m      4\u001b[0m \u001b[38;5;66;03m#전처리 데이터 수합 엑셀 파일 중, '학원교습소정보' 사용\u001b[39;00m\n",
      "File \u001b[1;32m~\\anaconda3\\lib\\site-packages\\pandas\\util\\_decorators.py:311\u001b[0m, in \u001b[0;36mdeprecate_nonkeyword_arguments.<locals>.decorate.<locals>.wrapper\u001b[1;34m(*args, **kwargs)\u001b[0m\n\u001b[0;32m    305\u001b[0m \u001b[38;5;28;01mif\u001b[39;00m \u001b[38;5;28mlen\u001b[39m(args) \u001b[38;5;241m>\u001b[39m num_allow_args:\n\u001b[0;32m    306\u001b[0m     warnings\u001b[38;5;241m.\u001b[39mwarn(\n\u001b[0;32m    307\u001b[0m         msg\u001b[38;5;241m.\u001b[39mformat(arguments\u001b[38;5;241m=\u001b[39marguments),\n\u001b[0;32m    308\u001b[0m         \u001b[38;5;167;01mFutureWarning\u001b[39;00m,\n\u001b[0;32m    309\u001b[0m         stacklevel\u001b[38;5;241m=\u001b[39mstacklevel,\n\u001b[0;32m    310\u001b[0m     )\n\u001b[1;32m--> 311\u001b[0m \u001b[38;5;28;01mreturn\u001b[39;00m func(\u001b[38;5;241m*\u001b[39margs, \u001b[38;5;241m*\u001b[39m\u001b[38;5;241m*\u001b[39mkwargs)\n",
      "File \u001b[1;32m~\\anaconda3\\lib\\site-packages\\pandas\\io\\parsers\\readers.py:680\u001b[0m, in \u001b[0;36mread_csv\u001b[1;34m(filepath_or_buffer, sep, delimiter, header, names, index_col, usecols, squeeze, prefix, mangle_dupe_cols, dtype, engine, converters, true_values, false_values, skipinitialspace, skiprows, skipfooter, nrows, na_values, keep_default_na, na_filter, verbose, skip_blank_lines, parse_dates, infer_datetime_format, keep_date_col, date_parser, dayfirst, cache_dates, iterator, chunksize, compression, thousands, decimal, lineterminator, quotechar, quoting, doublequote, escapechar, comment, encoding, encoding_errors, dialect, error_bad_lines, warn_bad_lines, on_bad_lines, delim_whitespace, low_memory, memory_map, float_precision, storage_options)\u001b[0m\n\u001b[0;32m    665\u001b[0m kwds_defaults \u001b[38;5;241m=\u001b[39m _refine_defaults_read(\n\u001b[0;32m    666\u001b[0m     dialect,\n\u001b[0;32m    667\u001b[0m     delimiter,\n\u001b[1;32m   (...)\u001b[0m\n\u001b[0;32m    676\u001b[0m     defaults\u001b[38;5;241m=\u001b[39m{\u001b[38;5;124m\"\u001b[39m\u001b[38;5;124mdelimiter\u001b[39m\u001b[38;5;124m\"\u001b[39m: \u001b[38;5;124m\"\u001b[39m\u001b[38;5;124m,\u001b[39m\u001b[38;5;124m\"\u001b[39m},\n\u001b[0;32m    677\u001b[0m )\n\u001b[0;32m    678\u001b[0m kwds\u001b[38;5;241m.\u001b[39mupdate(kwds_defaults)\n\u001b[1;32m--> 680\u001b[0m \u001b[38;5;28;01mreturn\u001b[39;00m \u001b[43m_read\u001b[49m\u001b[43m(\u001b[49m\u001b[43mfilepath_or_buffer\u001b[49m\u001b[43m,\u001b[49m\u001b[43m \u001b[49m\u001b[43mkwds\u001b[49m\u001b[43m)\u001b[49m\n",
      "File \u001b[1;32m~\\anaconda3\\lib\\site-packages\\pandas\\io\\parsers\\readers.py:575\u001b[0m, in \u001b[0;36m_read\u001b[1;34m(filepath_or_buffer, kwds)\u001b[0m\n\u001b[0;32m    572\u001b[0m _validate_names(kwds\u001b[38;5;241m.\u001b[39mget(\u001b[38;5;124m\"\u001b[39m\u001b[38;5;124mnames\u001b[39m\u001b[38;5;124m\"\u001b[39m, \u001b[38;5;28;01mNone\u001b[39;00m))\n\u001b[0;32m    574\u001b[0m \u001b[38;5;66;03m# Create the parser.\u001b[39;00m\n\u001b[1;32m--> 575\u001b[0m parser \u001b[38;5;241m=\u001b[39m TextFileReader(filepath_or_buffer, \u001b[38;5;241m*\u001b[39m\u001b[38;5;241m*\u001b[39mkwds)\n\u001b[0;32m    577\u001b[0m \u001b[38;5;28;01mif\u001b[39;00m chunksize \u001b[38;5;129;01mor\u001b[39;00m iterator:\n\u001b[0;32m    578\u001b[0m     \u001b[38;5;28;01mreturn\u001b[39;00m parser\n",
      "File \u001b[1;32m~\\anaconda3\\lib\\site-packages\\pandas\\io\\parsers\\readers.py:933\u001b[0m, in \u001b[0;36mTextFileReader.__init__\u001b[1;34m(self, f, engine, **kwds)\u001b[0m\n\u001b[0;32m    930\u001b[0m     \u001b[38;5;28mself\u001b[39m\u001b[38;5;241m.\u001b[39moptions[\u001b[38;5;124m\"\u001b[39m\u001b[38;5;124mhas_index_names\u001b[39m\u001b[38;5;124m\"\u001b[39m] \u001b[38;5;241m=\u001b[39m kwds[\u001b[38;5;124m\"\u001b[39m\u001b[38;5;124mhas_index_names\u001b[39m\u001b[38;5;124m\"\u001b[39m]\n\u001b[0;32m    932\u001b[0m \u001b[38;5;28mself\u001b[39m\u001b[38;5;241m.\u001b[39mhandles: IOHandles \u001b[38;5;241m|\u001b[39m \u001b[38;5;28;01mNone\u001b[39;00m \u001b[38;5;241m=\u001b[39m \u001b[38;5;28;01mNone\u001b[39;00m\n\u001b[1;32m--> 933\u001b[0m \u001b[38;5;28mself\u001b[39m\u001b[38;5;241m.\u001b[39m_engine \u001b[38;5;241m=\u001b[39m \u001b[38;5;28;43mself\u001b[39;49m\u001b[38;5;241;43m.\u001b[39;49m\u001b[43m_make_engine\u001b[49m\u001b[43m(\u001b[49m\u001b[43mf\u001b[49m\u001b[43m,\u001b[49m\u001b[43m \u001b[49m\u001b[38;5;28;43mself\u001b[39;49m\u001b[38;5;241;43m.\u001b[39;49m\u001b[43mengine\u001b[49m\u001b[43m)\u001b[49m\n",
      "File \u001b[1;32m~\\anaconda3\\lib\\site-packages\\pandas\\io\\parsers\\readers.py:1235\u001b[0m, in \u001b[0;36mTextFileReader._make_engine\u001b[1;34m(self, f, engine)\u001b[0m\n\u001b[0;32m   1232\u001b[0m     \u001b[38;5;28;01mraise\u001b[39;00m \u001b[38;5;167;01mValueError\u001b[39;00m(msg)\n\u001b[0;32m   1234\u001b[0m \u001b[38;5;28;01mtry\u001b[39;00m:\n\u001b[1;32m-> 1235\u001b[0m     \u001b[38;5;28;01mreturn\u001b[39;00m mapping[engine](f, \u001b[38;5;241m*\u001b[39m\u001b[38;5;241m*\u001b[39m\u001b[38;5;28mself\u001b[39m\u001b[38;5;241m.\u001b[39moptions)\n\u001b[0;32m   1236\u001b[0m \u001b[38;5;28;01mexcept\u001b[39;00m \u001b[38;5;167;01mException\u001b[39;00m:\n\u001b[0;32m   1237\u001b[0m     \u001b[38;5;28;01mif\u001b[39;00m \u001b[38;5;28mself\u001b[39m\u001b[38;5;241m.\u001b[39mhandles \u001b[38;5;129;01mis\u001b[39;00m \u001b[38;5;129;01mnot\u001b[39;00m \u001b[38;5;28;01mNone\u001b[39;00m:\n",
      "File \u001b[1;32m~\\anaconda3\\lib\\site-packages\\pandas\\io\\parsers\\c_parser_wrapper.py:75\u001b[0m, in \u001b[0;36mCParserWrapper.__init__\u001b[1;34m(self, src, **kwds)\u001b[0m\n\u001b[0;32m     72\u001b[0m     kwds\u001b[38;5;241m.\u001b[39mpop(key, \u001b[38;5;28;01mNone\u001b[39;00m)\n\u001b[0;32m     74\u001b[0m kwds[\u001b[38;5;124m\"\u001b[39m\u001b[38;5;124mdtype\u001b[39m\u001b[38;5;124m\"\u001b[39m] \u001b[38;5;241m=\u001b[39m ensure_dtype_objs(kwds\u001b[38;5;241m.\u001b[39mget(\u001b[38;5;124m\"\u001b[39m\u001b[38;5;124mdtype\u001b[39m\u001b[38;5;124m\"\u001b[39m, \u001b[38;5;28;01mNone\u001b[39;00m))\n\u001b[1;32m---> 75\u001b[0m \u001b[38;5;28mself\u001b[39m\u001b[38;5;241m.\u001b[39m_reader \u001b[38;5;241m=\u001b[39m parsers\u001b[38;5;241m.\u001b[39mTextReader(src, \u001b[38;5;241m*\u001b[39m\u001b[38;5;241m*\u001b[39mkwds)\n\u001b[0;32m     77\u001b[0m \u001b[38;5;28mself\u001b[39m\u001b[38;5;241m.\u001b[39munnamed_cols \u001b[38;5;241m=\u001b[39m \u001b[38;5;28mself\u001b[39m\u001b[38;5;241m.\u001b[39m_reader\u001b[38;5;241m.\u001b[39munnamed_cols\n\u001b[0;32m     79\u001b[0m \u001b[38;5;66;03m# error: Cannot determine type of 'names'\u001b[39;00m\n",
      "File \u001b[1;32m~\\anaconda3\\lib\\site-packages\\pandas\\_libs\\parsers.pyx:544\u001b[0m, in \u001b[0;36mpandas._libs.parsers.TextReader.__cinit__\u001b[1;34m()\u001b[0m\n",
      "File \u001b[1;32m~\\anaconda3\\lib\\site-packages\\pandas\\_libs\\parsers.pyx:633\u001b[0m, in \u001b[0;36mpandas._libs.parsers.TextReader._get_header\u001b[1;34m()\u001b[0m\n",
      "File \u001b[1;32m~\\anaconda3\\lib\\site-packages\\pandas\\_libs\\parsers.pyx:847\u001b[0m, in \u001b[0;36mpandas._libs.parsers.TextReader._tokenize_rows\u001b[1;34m()\u001b[0m\n",
      "File \u001b[1;32m~\\anaconda3\\lib\\site-packages\\pandas\\_libs\\parsers.pyx:1952\u001b[0m, in \u001b[0;36mpandas._libs.parsers.raise_parser_error\u001b[1;34m()\u001b[0m\n",
      "\u001b[1;31mUnicodeDecodeError\u001b[0m: 'cp949' codec can't decode byte 0xed in position 0: illegal multibyte sequence"
     ]
    }
   ],
   "source": [
    "# Main Data\n",
    "school = pd.read_csv('./data/서울특별시 학교 기본정보.csv')\n",
    "grdp=pd.read_csv('./data/자치구별 1인당 지역내총생산 및 수준지수.csv')\n",
    "#전처리 데이터 수합 엑셀 파일 중, '학원교습소정보' 사용\n",
    "hello= pd.read_excel('./data/helloworld_data_set.xlsx',sheet_name=None)\n",
    "print(hello.keys())\n",
    "locals().update(hello)\n",
    "#학원교습소정보를 academy 변수에 지정\n",
    "academy= hello['학원교습소정보']"
   ]
  },
  {
   "cell_type": "markdown",
   "id": "d3b63589",
   "metadata": {},
   "source": [
    "### Missing Value Handling"
   ]
  },
  {
   "cell_type": "code",
   "execution_count": null,
   "id": "964571d1",
   "metadata": {},
   "outputs": [],
   "source": [
    "school.info()"
   ]
  },
  {
   "cell_type": "code",
   "execution_count": null,
   "id": "ce7ce153",
   "metadata": {
    "scrolled": true
   },
   "outputs": [],
   "source": [
    "school.head()"
   ]
  },
  {
   "cell_type": "code",
   "execution_count": null,
   "id": "c5050ceb",
   "metadata": {
    "scrolled": false
   },
   "outputs": [],
   "source": [
    "school.isnull().sum()"
   ]
  },
  {
   "cell_type": "code",
   "execution_count": null,
   "id": "6f9a8e10",
   "metadata": {},
   "outputs": [],
   "source": [
    "# 해당 열들은 대부분의 값이 비어있음  -> 유용하지 않은 열이므로 삭제 \n",
    "# 고등학교구분명, 특수목적고등학교계열명, 계열명, 학과명\n",
    "del school['고등학교구분명']\n",
    "del school['특수목적고등학교계열명']\n",
    "del school['계열명']\n",
    "del school['학과명']\n",
    "del school['도로명상세주소']"
   ]
  },
  {
   "cell_type": "code",
   "execution_count": null,
   "id": "07314b3f",
   "metadata": {
    "scrolled": false
   },
   "outputs": [],
   "source": [
    "school.isnull().sum()"
   ]
  },
  {
   "cell_type": "code",
   "execution_count": null,
   "id": "871699ee",
   "metadata": {
    "scrolled": true
   },
   "outputs": [],
   "source": [
    "school['자치구']= school['도로명주소'].str.split().str[1] # 자치구만 뽑아내기\n",
    "school['자치구']"
   ]
  },
  {
   "cell_type": "code",
   "execution_count": null,
   "id": "371dd02e",
   "metadata": {
    "scrolled": true
   },
   "outputs": [],
   "source": [
    "school.head()"
   ]
  },
  {
   "cell_type": "code",
   "execution_count": null,
   "id": "cb4864e3",
   "metadata": {},
   "outputs": [],
   "source": [
    "# 결측치 행 제거 \n",
    "school= school.dropna(subset=['도로명주소', '자치구']) "
   ]
  },
  {
   "cell_type": "code",
   "execution_count": null,
   "id": "3b921697",
   "metadata": {
    "scrolled": true
   },
   "outputs": [],
   "source": [
    "school.isnull().sum()"
   ]
  },
  {
   "cell_type": "code",
   "execution_count": null,
   "id": "d2abb28f",
   "metadata": {},
   "outputs": [],
   "source": [
    "school['주야과정'].value_counts(dropna=False)"
   ]
  },
  {
   "cell_type": "code",
   "execution_count": null,
   "id": "1e027558",
   "metadata": {},
   "outputs": [],
   "source": [
    "school['고등학교일반실업구분명'].value_counts(dropna=False)"
   ]
  },
  {
   "cell_type": "code",
   "execution_count": null,
   "id": "0934927e",
   "metadata": {
    "scrolled": true
   },
   "outputs": [],
   "source": [
    "school['고등학교일반실업구분명'] = school['고등학교일반실업구분명'].fillna('기타') #nan값을 기타로 채우기\n",
    "school['주야과정'] = school['주야과정'].fillna('기타') # nan값을 기타로 채우기"
   ]
  },
  {
   "cell_type": "code",
   "execution_count": null,
   "id": "47c27f6d",
   "metadata": {
    "scrolled": true
   },
   "outputs": [],
   "source": [
    "school.isnull().sum()"
   ]
  },
  {
   "cell_type": "markdown",
   "id": "e86b964b",
   "metadata": {},
   "source": [
    "### 학교 종류 (초중고로 정리)"
   ]
  },
  {
   "cell_type": "code",
   "execution_count": null,
   "id": "1e2d4030",
   "metadata": {
    "scrolled": true
   },
   "outputs": [],
   "source": [
    "# 학교 종류 정리\n",
    "school['학교종류명'].value_counts()"
   ]
  },
  {
   "cell_type": "code",
   "execution_count": null,
   "id": "91d482d2",
   "metadata": {},
   "outputs": [],
   "source": [
    "#이름 바꾸기\n",
    "school.loc[school['학교종류명'] == '평생학교(고)-2년6학기','학교종류명'] = '고등학교'\n",
    "school.loc[school['학교종류명'] == '각종학교(고)','학교종류명'] = '고등학교'\n",
    "school.loc[school['학교종류명'] == '평생학교(고)-3년6학기','학교종류명'] = '고등학교'\n",
    "school.loc[school['학교종류명'] == '평생학교(중)-2년6학기','학교종류명'] = '중학교'\n",
    "school.loc[school['학교종류명'] == '각종학교(중)','학교종류명'] = '중학교'\n",
    "school.loc[school['학교종류명'] == '방송통신고등학교','학교종류명'] = '고등학교'\n",
    "school.loc[school['학교종류명'] == '평생학교(초)-3년6학기','학교종류명'] = '초등학교'\n",
    "school.loc[school['학교종류명'] == '고등기술학교','학교종류명'] = '고등학교'\n",
    "school.loc[school['학교종류명'] == '평생학교(중)-3년6학기','학교종류명'] = '중학교'\n",
    "school.loc[school['학교종류명'] == '방송통신중학교','학교종류명'] = '중학교'\n",
    "school.loc[school['학교종류명'] == '공동실습소','학교종류명'] = '고등학교'\n",
    "school.loc[school['학교종류명'] == '각종학교(초)','학교종류명'] = '초등학교'"
   ]
  },
  {
   "cell_type": "code",
   "execution_count": null,
   "id": "eb7b9514",
   "metadata": {},
   "outputs": [],
   "source": [
    "school['학교종류명'].value_counts(dropna=False)"
   ]
  },
  {
   "cell_type": "code",
   "execution_count": null,
   "id": "28b17050",
   "metadata": {
    "scrolled": true
   },
   "outputs": [],
   "source": [
    "school.head()"
   ]
  },
  {
   "cell_type": "markdown",
   "id": "b85d4b3d",
   "metadata": {},
   "source": [
    "### Remove duplicates"
   ]
  },
  {
   "cell_type": "code",
   "execution_count": null,
   "id": "09443b03",
   "metadata": {},
   "outputs": [],
   "source": [
    "school.duplicated().sum()"
   ]
  },
  {
   "cell_type": "code",
   "execution_count": null,
   "id": "eb9064bf",
   "metadata": {
    "scrolled": true
   },
   "outputs": [],
   "source": [
    "school[school.duplicated()]"
   ]
  },
  {
   "cell_type": "code",
   "execution_count": null,
   "id": "e5745cac",
   "metadata": {},
   "outputs": [],
   "source": [
    "school.shape"
   ]
  },
  {
   "cell_type": "code",
   "execution_count": null,
   "id": "151ec140",
   "metadata": {},
   "outputs": [],
   "source": [
    "school.drop_duplicates(inplace=True) "
   ]
  },
  {
   "cell_type": "code",
   "execution_count": null,
   "id": "3174ee86",
   "metadata": {},
   "outputs": [],
   "source": [
    "school.shape"
   ]
  },
  {
   "cell_type": "code",
   "execution_count": null,
   "id": "ed05bec4",
   "metadata": {
    "scrolled": true
   },
   "outputs": [],
   "source": [
    "school.info()"
   ]
  },
  {
   "cell_type": "code",
   "execution_count": null,
   "id": "4676491a",
   "metadata": {
    "scrolled": true
   },
   "outputs": [],
   "source": [
    "school.head()"
   ]
  },
  {
   "cell_type": "code",
   "execution_count": null,
   "id": "779526e2",
   "metadata": {},
   "outputs": [],
   "source": [
    "# 분석에 쓰이지 않는 열 삭제\n",
    "del school['설립구분']\n",
    "del school['학교명']\n",
    "del school['관할조직명']\n",
    "del school['도로명주소']\n",
    "del school['남녀공학구분명']\n",
    "del school['산업체특별학급존재여부']\n",
    "del school['고등학교일반실업구분명']\n",
    "del school['입시전후기구분명']\n",
    "del school['주야구분명']\n",
    "del school['설립일자']\n",
    "del school['개교기념일']\n",
    "del school['시도교육청명']\n",
    "del school['주야과정']"
   ]
  },
  {
   "cell_type": "code",
   "execution_count": null,
   "id": "47438e8d",
   "metadata": {},
   "outputs": [],
   "source": [
    "school.head()"
   ]
  },
  {
   "cell_type": "code",
   "execution_count": null,
   "id": "3848f14f",
   "metadata": {},
   "outputs": [],
   "source": [
    "school.info()"
   ]
  },
  {
   "cell_type": "markdown",
   "id": "5f4e4504",
   "metadata": {},
   "source": [
    "## Analyze"
   ]
  },
  {
   "cell_type": "markdown",
   "id": "3ef87eb9",
   "metadata": {},
   "source": [
    "#### gdp와 교육열의 관계"
   ]
  },
  {
   "cell_type": "code",
   "execution_count": null,
   "id": "7ec1a079",
   "metadata": {},
   "outputs": [],
   "source": [
    "import pandas as pd\n",
    "import numpy as np"
   ]
  },
  {
   "cell_type": "code",
   "execution_count": null,
   "id": "87a24027",
   "metadata": {},
   "outputs": [],
   "source": [
    "#자치구별 지역내총생산 groupby\n",
    "grdp_sum=grdp.groupby('자치구')['지역내총생산(당해년가격)'].sum();grdp_sum "
   ]
  },
  {
   "cell_type": "markdown",
   "id": "3fc0d60c",
   "metadata": {},
   "source": [
    "##### 자치구별 학교수 총계"
   ]
  },
  {
   "cell_type": "code",
   "execution_count": null,
   "id": "20a65058",
   "metadata": {},
   "outputs": [],
   "source": [
    "#자치구별 학교 합계수\n",
    "school_count= school['자치구'].value_counts()\n",
    "school_count=pd.DataFrame(school_count)\n",
    "school_count=school_count.sort_index();school_count #가나다로 정렬\n",
    "#열 이름 바꾸기\n",
    "school_count=school_count.rename(columns={'자치구':'학교수'});school_count"
   ]
  },
  {
   "cell_type": "markdown",
   "id": "7de6412b",
   "metadata": {},
   "source": [
    "##### 자치구별 학원/교습소 갯수"
   ]
  },
  {
   "cell_type": "code",
   "execution_count": null,
   "id": "e59f22af",
   "metadata": {},
   "outputs": [],
   "source": [
    "# 행정구역명 -> 자치구로 변경\n",
    "academy_sum=academy.groupby('자치구')[['학원/교습소']].count(); academy_sum #행정구역명별 학원/교습소 groupby"
   ]
  },
  {
   "cell_type": "markdown",
   "id": "0306d496",
   "metadata": {},
   "source": [
    "##### 자치구별 grdp/ 학교수/ 학원 교습소 갯수 병합"
   ]
  },
  {
   "cell_type": "code",
   "execution_count": null,
   "id": "78159a76",
   "metadata": {},
   "outputs": [],
   "source": [
    "#자치구 기준으로 병합\n",
    "df=pd.concat([grdp_sum,school_count,academy_sum ],axis=1);df\n",
    "df= df.dropna() #서울시 삭제 (NAN값 삭제)\n",
    "df"
   ]
  },
  {
   "cell_type": "markdown",
   "id": "4d697410",
   "metadata": {},
   "source": [
    "## Visualize"
   ]
  },
  {
   "cell_type": "markdown",
   "id": "bf7322ec",
   "metadata": {},
   "source": [
    "#### 1.자치구별 grdp와 학교 총 개수 시각화"
   ]
  },
  {
   "cell_type": "code",
   "execution_count": null,
   "id": "4d750e49",
   "metadata": {
    "scrolled": false
   },
   "outputs": [],
   "source": [
    "x = df.index\n",
    "y1 = df['학교수']\n",
    "y2 = df['지역내총생산(당해년가격)']\n",
    "\n",
    "fig = plt.figure(figsize=(8,8)) ## 캔버스 생성\n",
    "fig.set_facecolor('white')\n",
    "ax1 = fig.add_subplot() ## axes 생성\n",
    " \n",
    "color1 = 'purple'\n",
    "ax1.plot(x, y2, color=color1)\n",
    "ax1.set_xlabel('자치구')\n",
    "ax1.set_ylabel('지역내총생산(당해년가격)', color=color1)\n",
    "ax1.tick_params(axis='y', labelcolor=color1)\n",
    "\n",
    "color2 = 'green'\n",
    "ax2 = ax1.twinx() # 새로운 y축 생성\n",
    "ax2.plot(x, y1, color=color2)\n",
    "ax2.set_ylabel('학교수', color=color2)\n",
    "ax2.tick_params(axis='y', labelcolor=color2)\n",
    "\n",
    "fig.autofmt_xdate(rotation=45)# x축 45도 회전\n",
    "plt.title('자치구별 grdp와 자치구별 학교수')\n",
    "\n",
    "ax1.legend(['grdp총수'],loc='upper left') #범례 달기\n",
    "ax2.legend(['학교수'],loc='upper right')\n",
    "plt.show();\n",
    "\n",
    "# grdp의 움직임에 따라서 자치구별 학교수도 같은 움직임을 나타낸다는 것을 알 수 있었다. "
   ]
  },
  {
   "cell_type": "markdown",
   "id": "6bce3682",
   "metadata": {},
   "source": [
    "#### 2. 자치구별 grdp와 자치구별 학원/교습소 수"
   ]
  },
  {
   "cell_type": "code",
   "execution_count": null,
   "id": "7efa8a63",
   "metadata": {
    "scrolled": false
   },
   "outputs": [],
   "source": [
    "x = df.index\n",
    "y1 = df['학원/교습소']\n",
    "y2 = df['지역내총생산(당해년가격)']\n",
    "\n",
    "fig = plt.figure(figsize=(7,7)) ## 캔버스 생성\n",
    "\n",
    "fig.set_facecolor('white')\n",
    "ax1 = fig.add_subplot() ## axes 생성\n",
    " \n",
    "color1 = 'green'\n",
    "ax1.plot(x, y2, color=color1)\n",
    "ax1.set_xlabel('자치구')\n",
    "ax1.set_ylabel('grdp총수', color=color1)\n",
    "ax1.tick_params(axis='y', labelcolor=color1)\n",
    " \n",
    "color2 = 'skyblue'\n",
    "ax2 = ax1.twinx() # 새로운 y축 생성\n",
    "ax2.plot(x, y1, color=color2)\n",
    "ax2.set_ylabel('학원/교습소', color=color2)\n",
    "ax2.tick_params(axis='y', labelcolor=color2)\n",
    "\n",
    "\n",
    "plt.title('자치구별 grdp와 자치구별 학원/교습소')\n",
    "fig.autofmt_xdate(rotation=45)\n",
    "ax1.legend(['grdp총수'],loc='upper left')\n",
    "ax2.legend(['학원/교습소'],loc='upper right');\n",
    "\n",
    "## grdp의 변동에 따라서 학원/교습소의 수도 같은 움직임을 보인다.\n",
    "## 자치구별 gdp가 높은 곳일수록 학교, 학원 및 교습소 수도 많음을 그래프를 통해 확인할 수 있다."
   ]
  }
 ],
 "metadata": {
  "kernelspec": {
   "display_name": "Python 3 (ipykernel)",
   "language": "python",
   "name": "python3"
  },
  "language_info": {
   "codemirror_mode": {
    "name": "ipython",
    "version": 3
   },
   "file_extension": ".py",
   "mimetype": "text/x-python",
   "name": "python",
   "nbconvert_exporter": "python",
   "pygments_lexer": "ipython3",
   "version": "3.9.12"
  }
 },
 "nbformat": 4,
 "nbformat_minor": 5
}
