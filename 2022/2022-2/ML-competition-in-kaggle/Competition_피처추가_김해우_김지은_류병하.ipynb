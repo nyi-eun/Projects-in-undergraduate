{
 "cells": [
  {
   "cell_type": "code",
   "execution_count": 211,
   "id": "ceb6b047",
   "metadata": {},
   "outputs": [],
   "source": [
    "%matplotlib inline\n",
    "import warnings\n",
    "warnings.filterwarnings(\"ignore\")\n",
    "\n",
    "from sklearn.model_selection import train_test_split, KFold\n",
    "import plotly.express as px\n",
    "import pandas as pd\n",
    "import numpy as np\n",
    "import matplotlib.pyplot as plt\n",
    "import seaborn as sns\n",
    "from sklearn.pipeline import Pipeline\n",
    "from sklearn.compose import ColumnTransformer\n",
    "from sklearn.preprocessing import FunctionTransformer\n",
    "from sklearn.base import BaseEstimator, TransformerMixin\n",
    "from sklearn.impute import SimpleImputer\n",
    "from sklearn.preprocessing import PowerTransformer \n",
    "from sklearn.preprocessing import OrdinalEncoder, OneHotEncoder\n",
    "from sklearn.feature_selection import SelectPercentile\n",
    "from sklearn.model_selection import train_test_split, cross_val_score, cross_validate\n",
    "from sklearn.metrics import mean_squared_error\n",
    "from sklearn import set_config\n",
    "from lightgbm import LGBMRegressor\n",
    "import lightgbm as lgb\n",
    "import optuna\n",
    "from optuna.distributions import CategoricalDistribution, IntDistribution, FloatDistribution\n",
    "from optuna.integration import OptunaSearchCV, ShapleyImportanceEvaluator\n",
    "from optuna.integration.lightgbm import LightGBMTunerCV #lgbm 전용 tunner 가 존재\n",
    "from catboost import CatBoostRegressor\n",
    "from sklearn.linear_model import Ridge\n",
    "from sklearn.linear_model import RidgeClassifier\n",
    "from sklearn.decomposition import PCA\n",
    "from sklearn.linear_model import Lasso\n",
    "from sklearn.metrics import mean_squared_error\n",
    "from sklearn import model_selection\n",
    "from category_encoders import TargetEncoder\n",
    "from sklearn.preprocessing import StandardScaler, MinMaxScaler\n",
    "import klib\n",
    "plt.rc('font', family='NanumGothic')\n",
    "plt.rcParams['axes.unicode_minus'] = False"
   ]
  },
  {
   "cell_type": "code",
   "execution_count": 212,
   "id": "151b65d3",
   "metadata": {},
   "outputs": [],
   "source": [
    "X_train = pd.read_csv('X_train_candidate1.csv')\n",
    "y_train = pd.read_csv('y_train.csv').drop(columns=['ID'])\n",
    "X_test = pd.read_csv('X_test_candidate1.csv')"
   ]
  },
  {
   "cell_type": "markdown",
   "id": "5be0fa11",
   "metadata": {},
   "source": [
    "## 피처추가"
   ]
  },
  {
   "cell_type": "code",
   "execution_count": 213,
   "id": "e7b16abe",
   "metadata": {},
   "outputs": [],
   "source": [
    "#'직무태그','근무지역','근무형태'"
   ]
  },
  {
   "cell_type": "markdown",
   "id": "3c3dfed9",
   "metadata": {},
   "source": [
    "### 1) 직무태그 글자수별 Salary"
   ]
  },
  {
   "cell_type": "code",
   "execution_count": 214,
   "id": "1a22cabd",
   "metadata": {},
   "outputs": [],
   "source": [
    "X_train = X_train.fillna('')\n",
    "X_test = X_test.fillna('')"
   ]
  },
  {
   "cell_type": "code",
   "execution_count": 215,
   "id": "37bf19a8",
   "metadata": {},
   "outputs": [],
   "source": [
    "a = []\n",
    "for i in X_train['직무태그']:\n",
    "        a.append(len(i))\n",
    "        \n",
    "X_train['직무태그글자수'] = a"
   ]
  },
  {
   "cell_type": "code",
   "execution_count": 216,
   "id": "df5891f7",
   "metadata": {},
   "outputs": [],
   "source": [
    "b = []\n",
    "for j in X_test['직무태그']:\n",
    "        b.append(len(j))\n",
    "        \n",
    "X_test['직무태그글자수'] = b"
   ]
  },
  {
   "cell_type": "code",
   "execution_count": 217,
   "id": "aa03781b",
   "metadata": {},
   "outputs": [],
   "source": [
    "a = []\n",
    "for i in X_train['직무태그글자수']:\n",
    "    if 10 > i >= 0:\n",
    "        a.append(10)\n",
    "    elif 20 > i >= 10:\n",
    "        a.append(20)\n",
    "    elif 30 > i >= 20:\n",
    "        a.append(30)\n",
    "    elif 40 > i >= 30:\n",
    "        a.append(40)\n",
    "    elif 50 > i >= 40:\n",
    "        a.append(50)\n",
    "    elif 60 > i >= 50:\n",
    "        a.append(60)\n",
    "    elif 70 > i >= 60:\n",
    "        a.append(70)\n",
    "    else:\n",
    "        a.append(80)\n",
    "\n",
    "X_train['직무태그글자수범위별'] = a\n",
    "X_train = X_train.drop(columns = '직무태그글자수')\n",
    "\n",
    "b = []\n",
    "for i in X_test['직무태그글자수']:\n",
    "    if 10 > i >= 0:\n",
    "        b.append(10)\n",
    "    elif 20 > i >= 10:\n",
    "        b.append(20)\n",
    "    elif 30 > i >= 20:\n",
    "        b.append(30)\n",
    "    elif 40 > i >= 30:\n",
    "        b.append(40)\n",
    "    elif 50 > i >= 40:\n",
    "        b.append(50)\n",
    "    elif 60 > i >= 50:\n",
    "        b.append(60)\n",
    "    elif 70 > i >= 60:\n",
    "        b.append(70)\n",
    "    else:\n",
    "        b.append(80)\n",
    "\n",
    "X_test['직무태그글자수범위별'] = b\n",
    "X_test = X_test.drop(columns = '직무태그글자수')"
   ]
  },
  {
   "cell_type": "markdown",
   "id": "5eeebed5",
   "metadata": {},
   "source": [
    "### 2) 근무지역 소분류, 대분류 추가"
   ]
  },
  {
   "cell_type": "code",
   "execution_count": 218,
   "id": "1363270f",
   "metadata": {},
   "outputs": [],
   "source": [
    "X_train['근무지역_소분류'] = X_train['근무지역'].copy()\n",
    "X_test['근무지역_소분류'] = X_test['근무지역'].copy()"
   ]
  },
  {
   "cell_type": "code",
   "execution_count": 219,
   "id": "59dba079",
   "metadata": {},
   "outputs": [],
   "source": [
    "X_train['근무지역_소분류'][X_train['근무지역_소분류'].str.contains\n",
    "                ('해외|미국|중국|러시아|일본|캐나다|필리핀|인도|싱가포르|대만|말레이시아|프랑스|홍콩')] = '해외'\n",
    "\n",
    "X_train['근무지역_소분류'][X_train['근무지역_소분류'] == '전국,,'] = '전국'\n",
    "X_train['근무지역_소분류'][X_train['근무지역_소분류'] == '전국,전국,'] = '전국'\n",
    "X_train['근무지역_소분류'][X_train['근무지역_소분류'] == '전국,전국,전국'] = '전국'\n",
    "\n",
    "X_train['근무지역_소분류'][X_train['근무지역_소분류'].str.split(',').str[0] == '서울'] = '서울'\n",
    "X_train['근무지역_소분류'][X_train['근무지역_소분류'].str.split(',').str[0] == '경기'] = '경기'\n",
    "X_train['근무지역_소분류'][X_train['근무지역_소분류'].str.split(',').str[0] == '인천'] = '인천'\n",
    "X_train['근무지역_소분류'][X_train['근무지역_소분류'].str.split(',').str[0] == '부산'] = '부산'\n",
    "X_train['근무지역_소분류'][X_train['근무지역_소분류'].str.split(',').str[0] == '대전'] = '대전'\n",
    "X_train['근무지역_소분류'][X_train['근무지역_소분류'].str.split(',').str[0] == '광주'] = '광주'\n",
    "X_train['근무지역_소분류'][X_train['근무지역_소분류'].str.split(',').str[0] == '충남'] = '충남'\n",
    "X_train['근무지역_소분류'][X_train['근무지역_소분류'].str.split(',').str[0] == '경남'] = '경남'\n",
    "X_train['근무지역_소분류'][X_train['근무지역_소분류'].str.split(',').str[0] == '전북'] = '전북'\n",
    "X_train['근무지역_소분류'][X_train['근무지역_소분류'].str.split(',').str[0] == '충북'] = '충북'\n",
    "X_train['근무지역_소분류'][X_train['근무지역_소분류'].str.split(',').str[0] == '제주'] = '제주'\n",
    "X_train['근무지역_소분류'][X_train['근무지역_소분류'].str.split(',').str[0] == '경북'] = '경북'\n",
    "X_train['근무지역_소분류'][X_train['근무지역_소분류'].str.split(',').str[0] == '강원'] = '강원'\n",
    "X_train['근무지역_소분류'][X_train['근무지역_소분류'].str.split(',').str[0] == '울산'] = '울산'\n",
    "X_train['근무지역_소분류'][X_train['근무지역_소분류'].str.split(',').str[0] == '전남'] = '전남'\n",
    "X_train['근무지역_소분류'][X_train['근무지역_소분류'].str.split(',').str[0] == '대구'] = '대구'\n",
    "X_train['근무지역_소분류'][X_train['근무지역_소분류'].str.split(',').str[0] == '전북'] = '전북'\n",
    "\n",
    "X_train['근무지역_소분류'][X_train['근무지역_소분류'].str.contains\n",
    "                ('기타')] = '기타'"
   ]
  },
  {
   "cell_type": "code",
   "execution_count": 220,
   "id": "fa1c4a65",
   "metadata": {},
   "outputs": [],
   "source": [
    "X_test['근무지역_소분류'][X_test['근무지역_소분류'].str.contains\n",
    "                ('해외|미국|중국|러시아|일본|캐나다|필리핀|인도|싱가포르|대만|말레이시아|프랑스|홍콩')] = '해외'\n",
    "\n",
    "X_test['근무지역_소분류'][X_test['근무지역_소분류'] == '전국,,'] = '전국'\n",
    "X_test['근무지역_소분류'][X_test['근무지역_소분류'] == '전국,전국,'] = '전국'\n",
    "X_test['근무지역_소분류'][X_test['근무지역_소분류'] == '전국,전국,전국'] = '전국'\n",
    "\n",
    "X_test['근무지역_소분류'][X_test['근무지역_소분류'].str.split(',').str[0] == '서울'] = '서울'\n",
    "X_test['근무지역_소분류'][X_test['근무지역_소분류'].str.split(',').str[0] == '경기'] = '경기'\n",
    "X_test['근무지역_소분류'][X_test['근무지역_소분류'].str.split(',').str[0] == '인천'] = '인천'\n",
    "X_test['근무지역_소분류'][X_test['근무지역_소분류'].str.split(',').str[0] == '부산'] = '부산'\n",
    "X_test['근무지역_소분류'][X_test['근무지역_소분류'].str.split(',').str[0] == '대전'] = '대전'\n",
    "X_test['근무지역_소분류'][X_test['근무지역_소분류'].str.split(',').str[0] == '광주'] = '광주'\n",
    "X_test['근무지역_소분류'][X_test['근무지역_소분류'].str.split(',').str[0] == '충남'] = '충남'\n",
    "X_test['근무지역_소분류'][X_test['근무지역_소분류'].str.split(',').str[0] == '경남'] = '경남'\n",
    "X_test['근무지역_소분류'][X_test['근무지역_소분류'].str.split(',').str[0] == '전북'] = '전북'\n",
    "X_test['근무지역_소분류'][X_test['근무지역_소분류'].str.split(',').str[0] == '충북'] = '충북'\n",
    "X_test['근무지역_소분류'][X_test['근무지역_소분류'].str.split(',').str[0] == '제주'] = '제주'\n",
    "X_test['근무지역_소분류'][X_test['근무지역_소분류'].str.split(',').str[0] == '경북'] = '경북'\n",
    "X_test['근무지역_소분류'][X_test['근무지역_소분류'].str.split(',').str[0] == '강원'] = '강원'\n",
    "X_test['근무지역_소분류'][X_test['근무지역_소분류'].str.split(',').str[0] == '울산'] = '울산'\n",
    "X_test['근무지역_소분류'][X_test['근무지역_소분류'].str.split(',').str[0] == '전남'] = '전남'\n",
    "X_test['근무지역_소분류'][X_test['근무지역_소분류'].str.split(',').str[0] == '대구'] = '대구'\n",
    "X_test['근무지역_소분류'][X_test['근무지역_소분류'].str.split(',').str[0] == '전북'] = '전북'\n",
    "\n",
    "X_test['근무지역_소분류'][X_test['근무지역_소분류'].str.contains\n",
    "                ('기타')] = '기타'"
   ]
  },
  {
   "cell_type": "code",
   "execution_count": 221,
   "id": "95dc7d28",
   "metadata": {},
   "outputs": [],
   "source": [
    "X_train['근무지역_대분류'] = X_train['근무지역_소분류'].copy()\n",
    "X_test['근무지역_대분류'] = X_test['근무지역_소분류'].copy()"
   ]
  },
  {
   "cell_type": "code",
   "execution_count": 222,
   "id": "b0d02eea",
   "metadata": {},
   "outputs": [],
   "source": [
    "X_train['근무지역_대분류'][X_train['근무지역_대분류'].str.contains('서울|인천|경기')] = '수도권'\n",
    "X_train['근무지역_대분류'][~X_train['근무지역_대분류'].str.contains('수도권|해외|전국')] = '비수도권'\n",
    "\n",
    "X_test['근무지역_대분류'][X_test['근무지역_대분류'].str.contains('서울|인천|경기')] = '수도권'\n",
    "X_test['근무지역_대분류'][~X_test['근무지역_대분류'].str.contains('수도권|해외|전국')] = '비수도권'"
   ]
  },
  {
   "cell_type": "markdown",
   "id": "a9e3e6af",
   "metadata": {},
   "source": [
    "## 3) 근무경력 유무"
   ]
  },
  {
   "cell_type": "code",
   "execution_count": 223,
   "id": "6403bff1",
   "metadata": {},
   "outputs": [],
   "source": [
    "X_train['경력유무'] = X_train['근무경력'].apply(lambda x: 'X' if (-1<x<24) else 'O')\n",
    "X_test['경력유무'] = X_test['근무경력'].apply(lambda x: 'X' if (-1<x<24) else \"O\")"
   ]
  },
  {
   "cell_type": "markdown",
   "id": "485fc27b",
   "metadata": {},
   "source": [
    "## 4) 인서울여부"
   ]
  },
  {
   "cell_type": "code",
   "execution_count": 224,
   "id": "47af7fcf",
   "metadata": {},
   "outputs": [],
   "source": [
    "in_seoul_lst = ['성균관대학교', '중앙대학교', '세종대학교', '연세대학교', '이화여자대학교']\n",
    "\n",
    "X_train['인서울여부'] = X_train['출신대학'].map(lambda x: '0' if x in in_seoul_lst else '1')\n",
    "\n",
    "X_test['인서울여부'] = X_test['출신대학'].map(lambda x: '0' if x in in_seoul_lst else '1')"
   ]
  },
  {
   "cell_type": "markdown",
   "id": "c7917403",
   "metadata": {},
   "source": [
    "## 5) 사회공헌여부"
   ]
  },
  {
   "cell_type": "code",
   "execution_count": 225,
   "id": "73ff5836",
   "metadata": {},
   "outputs": [],
   "source": [
    "Big_hand_lst = ['임원', '사회공헌']\n",
    "\n",
    "X_train['큰손'] = X_train['직무태그'].map(lambda x: '0' if x in Big_hand_lst else '1')\n",
    "\n",
    "X_test['큰손'] = X_test['직무태그'].map(lambda x: '0' if x in Big_hand_lst else '1')"
   ]
  },
  {
   "cell_type": "markdown",
   "id": "92b329aa",
   "metadata": {},
   "source": [
    "## 6) 직무태그_사무직여부"
   ]
  },
  {
   "cell_type": "code",
   "execution_count": 226,
   "id": "b012cdd3",
   "metadata": {},
   "outputs": [],
   "source": [
    "samujik_lst = ['사무', '비서', '복지']\n",
    "\n",
    "X_train['사무직'] = X_train['직무태그'].map(lambda x: '0' if x in samujik_lst else '1')\n",
    "\n",
    "X_test['사무직'] = X_test['직무태그'].map(lambda x: '0' if x in samujik_lst else '1')"
   ]
  },
  {
   "cell_type": "markdown",
   "id": "f0d29b0e",
   "metadata": {},
   "source": [
    "## 7) 직무태그_직무수"
   ]
  },
  {
   "cell_type": "code",
   "execution_count": 227,
   "id": "85a31690",
   "metadata": {},
   "outputs": [],
   "source": [
    "X_train['직무태그_직무수']= X_train['직무태그'].apply(lambda x: len(x.split(',')))\n",
    "X_test['직무태그_직무수']= X_test['직무태그'].apply(lambda x: len(x.split(',')))"
   ]
  },
  {
   "cell_type": "markdown",
   "id": "d85a5beb",
   "metadata": {},
   "source": [
    "## 8) 직종_직종수"
   ]
  },
  {
   "cell_type": "code",
   "execution_count": 228,
   "id": "f308d96f",
   "metadata": {},
   "outputs": [],
   "source": [
    "X_train['직종수']= X_train['직종'].apply(lambda x: len(x.split('·')))\n",
    "X_test['직종수']= X_test['직종'].apply(lambda x: len(x.split('·')))"
   ]
  },
  {
   "cell_type": "markdown",
   "id": "4998aad2",
   "metadata": {},
   "source": [
    "## 9) 세부직종_세부직종수"
   ]
  },
  {
   "cell_type": "code",
   "execution_count": 229,
   "id": "119346bf",
   "metadata": {},
   "outputs": [],
   "source": [
    "X_train['세부직종수']= X_train['직종'].apply(lambda x: len(x.split('·')))\n",
    "X_test['세부직종수']= X_test['직종'].apply(lambda x: len(x.split('·')))"
   ]
  },
  {
   "cell_type": "markdown",
   "id": "3fdd45be",
   "metadata": {},
   "source": [
    "## 8) 근무경력X대학성적"
   ]
  },
  {
   "cell_type": "code",
   "execution_count": 230,
   "id": "e1380c7b",
   "metadata": {},
   "outputs": [],
   "source": [
    "X_train['근무경력_x_대학성적'] = X_train['근무경력'] * X_train['대학성적']\n",
    "X_test['근무경력_x_대학성적'] = X_test['근무경력'] * X_test['대학성적']"
   ]
  },
  {
   "cell_type": "markdown",
   "id": "1eba4160",
   "metadata": {},
   "source": [
    "## 9) 대학교X대학성적"
   ]
  },
  {
   "cell_type": "code",
   "execution_count": 231,
   "id": "f9ff1246",
   "metadata": {},
   "outputs": [],
   "source": [
    "top_rank = ['성균관대학교', '연세대학교', '중앙대학교', '이화여자대학교']\n",
    "mid_rank = ['세종대학교', '성신여자대학교']\n",
    "low_rank = ['한성대학교', '동덕여자대학교', '서울여자대학교', '서울과학기술대학교']\n",
    "province = ['제주대학교', '인천대학교', '군산대학교', '한국산업기술대학교']\n",
    "etc= ['수원대학교', '전주대학교', '세명대학교', '신라대학교', '상지대학교', '한밭대학교', '경기대학교', '선문대학교', '성공회대학교', '호원대학교', '한림대학교', '목포대학교', '동아대학교', '동의대학교', '성결대학교', '호남대학교', '광주대학교', '서원대학교', '동서대학교', '한일장신대학교', '한세대학교', '용인대학교', '경주대학교', '협성대학교', '서울신학대학교', '송원대학교', '부산디지털대학교','남부대학교','기타']\n",
    "\n",
    "\n",
    "university = []\n",
    "for i in X_train['출신대학']:\n",
    "    if i in top_rank:\n",
    "        university.append(5)\n",
    "    elif i in mid_rank:\n",
    "        university.append(4)\n",
    "    elif i in low_rank:\n",
    "        university.append(3)\n",
    "    elif i in province:\n",
    "        university.append(2)\n",
    "    elif i in etc:\n",
    "        university.append(1)\n",
    "        \n",
    "X_train['출신대학수치'] = university\n",
    "\n",
    "university = []\n",
    "for i in X_test['출신대학']:\n",
    "    if i in top_rank:\n",
    "        university.append(5)\n",
    "    elif i in mid_rank:\n",
    "        university.append(4)\n",
    "    elif i in low_rank:\n",
    "        university.append(3)\n",
    "    elif i in province:\n",
    "        university.append(2)\n",
    "    elif i in etc:\n",
    "        university.append(1) \n",
    "        \n",
    "X_test['출신대학수치'] = university\n",
    "\n",
    "a = X_train['출신대학수치'] * X_train['대학성적']\n",
    "X_train['출신대학*대학성적'] = a\n",
    "a = X_test['출신대학수치'] * X_test['대학성적']\n",
    "X_test['출신대학*대학성적'] = a"
   ]
  },
  {
   "cell_type": "code",
   "execution_count": 232,
   "id": "c4b0773b",
   "metadata": {},
   "outputs": [],
   "source": [
    "#blank 없애기 + 세부직종 전처리\n",
    "X_train['세부직종'] = X_train['세부직종'].replace('기타 기술·과학·산업','기타기술·과학·산업')\n",
    "X_train['세부직종'] = X_train['세부직종'].replace('기타 경영·기획·회계·사무','기타경영·기획·회계·사무')\n",
    "X_train['세부직종'] = X_train['세부직종'].replace('기타 전문·교육·자격','기타전문·교육·자격')\n",
    "X_train['세부직종'] = X_train['세부직종'].replace('기타 통신·모바일','기타통신·모바일')\n",
    "X_train['세부직종'] = X_train['세부직종'].replace('기타 디자인','기타디자인')\n",
    "X_train['세부직종'] = X_train['세부직종'].replace('기타 건설·기계·전기·전자','기타건설·기계·전기·전자')\n",
    "X_train['세부직종'] = X_train['세부직종'].replace('기타 영업·판매·TM','기타영업·판매·TM')\n",
    "X_train['세부직종'] = X_train['세부직종'].replace('기타 재료·화학·섬유·의복','기타재료·화학·섬유·의복')\n",
    "X_train['세부직종'] = X_train['세부직종'].replace('기타 IT·게임','기타IT·게임')\n",
    "X_train['세부직종'] = X_train['세부직종'].replace('데이터베이스 전문직','데이터베이스전문직')\n",
    "\n",
    "X_test['세부직종'] = X_test['세부직종'].replace('기타 기술·과학·산업','기타기술·과학·산업')\n",
    "X_test['세부직종'] = X_test['세부직종'].replace('기타 경영·기획·회계·사무','기타경영·기획·회계·사무')\n",
    "X_test['세부직종'] = X_test['세부직종'].replace('기타 전문·교육·자격','기타전문·교육·자격')\n",
    "X_test['세부직종'] = X_test['세부직종'].replace('기타 통신·모바일','기타통신·모바일')\n",
    "X_test['세부직종'] = X_test['세부직종'].replace('기타 디자인','기타디자인')\n",
    "X_test['세부직종'] = X_test['세부직종'].replace('기타 건설·기계·전기·전자','기타건설·기계·전기·전자')\n",
    "X_test['세부직종'] = X_test['세부직종'].replace('기타 영업·판매·TM','기타영업·판매·TM')\n",
    "X_test['세부직종'] = X_test['세부직종'].replace('기타 재료·화학·섬유·의복','기타재료·화학·섬유·의복')\n",
    "X_test['세부직종'] = X_test['세부직종'].replace('기타 IT·게임','기타IT·게임')\n",
    "X_test['세부직종'] = X_test['세부직종'].replace('데이터베이스 전문직','데이터베이스전문직')\n",
    "\n",
    "X_train['세부직종'] = X_train['세부직종'].replace('게임기획','게임디자인')\n",
    "X_train['세부직종'] = X_train['세부직종'].replace('게임운영·테스터','게임프로그래머')\n",
    "X_train['세부직종'] = X_train['세부직종'].replace('기타영업·판매·TM','텔레마케팅(인/아웃바운드TM)')\n",
    "X_train['세부직종'] = X_train['세부직종'].replace('텔레마케팅(인/아웃바운드TM)','텔레마케팅')\n",
    "X_test['세부직종'] = X_test['세부직종'].replace('텔레마케팅(인/아웃바운드TM)','텔레마케팅')\n",
    "X_train['세부직종'] = X_train['세부직종'].replace('농림어업','기타')\n",
    "X_train['세부직종'] = X_train['세부직종'].replace('모바일디자인','모바일프로그래머')\n",
    "X_train['세부직종'] = X_train['세부직종'].replace('보험·연금','보험영업')\n",
    "X_train['세부직종'] = X_train['세부직종'].replace('유비쿼터스·와이브로·WCDMA','기타')\n",
    "X_train['세부직종'] = X_train['세부직종'].replace('정비·검사·수리·AS','컴퓨터·PC수리')\n",
    "X_train['세부직종'] = X_train['세부직종'].replace('조리·제빵·제과','식품가공')"
   ]
  },
  {
   "cell_type": "markdown",
   "id": "172e8fbc",
   "metadata": {},
   "source": [
    "## 10)병하꺼"
   ]
  },
  {
   "cell_type": "code",
   "execution_count": 233,
   "id": "987657af",
   "metadata": {},
   "outputs": [],
   "source": [
    "# 키워드의 수를 세어 딕셔내리 형태로 넣어주는 함수 \n",
    "def get_counts(seq): \n",
    "    counts = {}\n",
    "    for x in seq:\n",
    "        if x in counts:\n",
    "            counts[x] += 1\n",
    "        else:\n",
    "            counts[x] = 1\n",
    "    return counts"
   ]
  },
  {
   "cell_type": "code",
   "execution_count": 234,
   "id": "a0513a81",
   "metadata": {},
   "outputs": [],
   "source": [
    "세부직종_lst = list(X_train['세부직종'].unique())"
   ]
  },
  {
   "cell_type": "code",
   "execution_count": 235,
   "id": "33fbcfcd",
   "metadata": {},
   "outputs": [],
   "source": [
    "for i in 세부직종_lst:\n",
    "    globals()[f'{i}_sum'] = X_train[X_train['세부직종'] == i]['직무태그'].sum().split(',')\n",
    "    globals()[f'{i}_count'] = get_counts(globals()[f'{i}_sum'])\n",
    "    globals()[f'{i}_count'] = sorted(globals()[f'{i}_count'].items(), key=lambda x: x[1], reverse=True)\n",
    "    \n",
    "for i in 세부직종_lst:\n",
    "    globals()[f'{i}_essential'] = []\n",
    "    for j in globals()[f'{i}_count'][:5]:\n",
    "        globals()[f'{i}_essential'].append(j[0])"
   ]
  },
  {
   "cell_type": "code",
   "execution_count": 236,
   "id": "dbd266e6",
   "metadata": {},
   "outputs": [],
   "source": [
    "essential = []\n",
    "\n",
    "def essentials(x):\n",
    "    tag = x['세부직종']\n",
    "    try : \n",
    "        if len(set(x['직무태그'].split(',')) & set(globals()[f'{tag}_essential'])) != 0:\n",
    "            essential.append(1)\n",
    "        else:\n",
    "            essential.append(0)\n",
    "    except KeyError:\n",
    "        essential.append(0)\n",
    "        \n",
    "\n",
    "X_train.apply(essentials,axis=1)\n",
    "X_train['세부직종별_필수직무유무'] = essential\n",
    "\n",
    "essential = []\n",
    "X_test.apply(essentials,axis=1)\n",
    "X_test['세부직종별_필수직무유무'] = essential"
   ]
  },
  {
   "cell_type": "markdown",
   "id": "325fa446",
   "metadata": {},
   "source": [
    "# 숙련도"
   ]
  },
  {
   "cell_type": "code",
   "execution_count": 237,
   "id": "10af014a",
   "metadata": {},
   "outputs": [],
   "source": [
    "#X_train['숙련도'] = X_train['근무경력'].str[0].astype(float)\n",
    "X_train['숙련도'] = X_train['근무경력'].apply(lambda x:'경력없음' \n",
    "                          if x==0 else '하' if x<=3 else '중' if x<=6 else '상')\n",
    "\n",
    "#X_test['숙련도'] = X_test['근무경력'].str[0].astype(float)\n",
    "X_test['숙련도'] = X_test['근무경력'].apply(lambda x:'경력없음' \n",
    "                          if x==0 else '하' if x<=3 else '중' if x<=6 else '상')"
   ]
  },
  {
   "cell_type": "markdown",
   "id": "33f96dc5",
   "metadata": {},
   "source": [
    "# 직무태그_직무수 + 근무경력"
   ]
  },
  {
   "cell_type": "code",
   "execution_count": 238,
   "id": "a2a48732",
   "metadata": {},
   "outputs": [],
   "source": [
    "X_train['직무태그_직무수 + 근무경력_x']=X_train['직무태그_직무수']*X_train['근무경력']\n",
    "X_test['직무태그_직무수 + 근무경력_x']=X_test['직무태그_직무수']*X_test['근무경력']"
   ]
  },
  {
   "cell_type": "markdown",
   "id": "9939bb3c",
   "metadata": {},
   "source": [
    "# 세부직종별 근무경력"
   ]
  },
  {
   "cell_type": "code",
   "execution_count": 239,
   "id": "10757b71",
   "metadata": {},
   "outputs": [],
   "source": [
    "X_train=pd.merge(X_train, X_train.groupby('세부직종')['근무경력'].mean().reset_index().rename(columns={'근무경력':'세부직종별 근무경력mean'}), on = '세부직종',how='left')\n",
    "X_test=pd.merge(X_test, X_test.groupby('세부직종')['근무경력'].mean().reset_index().rename(columns={'근무경력':'세부직종별 근무경력mean'}), on = '세부직종',how='left')\n",
    "\n",
    "X_train=pd.merge(X_train, X_train.groupby('세부직종')['근무경력'].median().reset_index().rename(columns={'근무경력':'세부직종별 근무경력median'}), on = '세부직종',how='left')\n",
    "X_test=pd.merge(X_test, X_test.groupby('세부직종')['근무경력'].median().reset_index().rename(columns={'근무경력':'세부직종별 근무경력median'}), on = '세부직종',how='left')\n",
    "\n",
    "X_train=pd.merge(X_train,X_train.groupby('세부직종')['근무경력'].var().reset_index().rename(columns={'근무경력':'세부직종별 근무경력var'}), on = '세부직종',how='left')\n",
    "X_test=pd.merge(X_test, X_test.groupby('세부직종')['근무경력'].var().reset_index().rename(columns={'근무경력':'세부직종별 근무경력var'}), on = '세부직종',how='left')\n",
    "\n",
    "X_train=pd.merge(X_train, X_train.groupby('세부직종')['근무경력'].std().reset_index().rename(columns={'근무경력':'세부직종별 근무경력std'}), on = '세부직종',how='left')\n",
    "X_test=pd.merge(X_test, X_test.groupby('세부직종')['근무경력'].std().reset_index().rename(columns={'근무경력':'세부직종별 근무경력std'}), on = '세부직종',how='left')\n",
    "\n",
    "X_train=pd.merge(X_train, X_train.groupby('세부직종')['근무경력'].sum().reset_index().rename(columns={'근무경력':'세부직종별 근무경력sum'}), on = '세부직종',how='left')\n",
    "X_test=pd.merge(X_test, X_test.groupby('세부직종')['근무경력'].sum().reset_index().rename(columns={'근무경력':'세부직종별 근무경력sum'}), on = '세부직종',how='left')\n",
    "\n",
    "X_train=pd.merge(X_train, X_train.groupby('세부직종')['근무경력'].min().reset_index().rename(columns={'근무경력':'세부직종별 근무경력min'}), on = '세부직종',how='left')\n",
    "X_test=pd.merge(X_test, X_test.groupby('세부직종')['근무경력'].min().reset_index().rename(columns={'근무경력':'세부직종별 근무경력min'}), on = '세부직종',how='left')\n",
    "\n",
    "X_train=pd.merge(X_train, X_train.groupby('세부직종')['근무경력'].max().reset_index().rename(columns={'근무경력':'세부직종별 근무경력max'}), on = '세부직종',how='left')\n",
    "X_test=pd.merge(X_test, X_test.groupby('세부직종')['근무경력'].max().reset_index().rename(columns={'근무경력':'세부직종별 근무경력max'}), on = '세부직종',how='left')"
   ]
  },
  {
   "cell_type": "markdown",
   "id": "ce67af4f",
   "metadata": {},
   "source": [
    "# 세부직종별 직무태그_직무수"
   ]
  },
  {
   "cell_type": "code",
   "execution_count": 240,
   "id": "4f386045",
   "metadata": {},
   "outputs": [],
   "source": [
    "X_train=pd.merge(X_train, X_train.groupby('세부직종')['직무태그_직무수'].mean().reset_index().rename(columns={'직무태그_직무수':'세부직종별 직무태그_직무수mean'}), on = '세부직종',how='left')\n",
    "X_test=pd.merge(X_test, X_test.groupby('세부직종')['직무태그_직무수'].mean().reset_index().rename(columns={'직무태그_직무수':'세부직종별 직무태그_직무수mean'}), on = '세부직종',how='left')\n",
    "\n",
    "X_train=pd.merge(X_train, X_train.groupby('세부직종')['직무태그_직무수'].median().reset_index().rename(columns={'직무태그_직무수':'세부직종별 직무태그_직무수median'}), on = '세부직종',how='left')\n",
    "X_test=pd.merge(X_test, X_test.groupby('세부직종')['직무태그_직무수'].median().reset_index().rename(columns={'직무태그_직무수':'세부직종별 직무태그_직무수median'}), on = '세부직종',how='left')\n",
    "\n",
    "X_train=pd.merge(X_train, X_train.groupby('세부직종')['직무태그_직무수'].var().reset_index().rename(columns={'직무태그_직무수':'세부직종별 직무태그_직무수var'}), on = '세부직종',how='left')\n",
    "X_test=pd.merge(X_test, X_test.groupby('세부직종')['직무태그_직무수'].var().reset_index().rename(columns={'직무태그_직무수':'세부직종별 직무태그_직무수var'}), on = '세부직종',how='left')\n",
    "\n",
    "X_train=pd.merge(X_train, X_train.groupby('세부직종')['직무태그_직무수'].std().reset_index().rename(columns={'직무태그_직무수':'세부직종별 직무태그_직무수std'}), on = '세부직종',how='left')\n",
    "X_test=pd.merge(X_test, X_test.groupby('세부직종')['직무태그_직무수'].std().reset_index().rename(columns={'직무태그_직무수':'세부직종별 직무태그_직무수std'}), on = '세부직종',how='left')\n",
    "\n",
    "X_train=pd.merge(X_train, X_train.groupby('세부직종')['직무태그_직무수'].sum().reset_index().rename(columns={'직무태그_직무수':'세부직종별 직무태그_직무수sum'}), on = '세부직종',how='left')\n",
    "X_test=pd.merge(X_test, X_test.groupby('세부직종')['직무태그_직무수'].sum().reset_index().rename(columns={'직무태그_직무수':'세부직종별 직무태그_직무수sum'}), on = '세부직종',how='left')\n",
    "\n",
    "X_train=pd.merge(X_train, X_train.groupby('세부직종')['직무태그_직무수'].min().reset_index().rename(columns={'직무태그_직무수':'세부직종별 직무태그_직무수min'}), on = '세부직종',how='left')\n",
    "X_test=pd.merge(X_test, X_test.groupby('세부직종')['직무태그_직무수'].max().reset_index().rename(columns={'직무태그_직무수':'세부직종별 직무태그_직무수min'}), on = '세부직종',how='left')\n",
    "\n",
    "X_train=pd.merge(X_train, X_train.groupby('세부직종')['직무태그_직무수'].max().reset_index().rename(columns={'직무태그_직무수':'세부직종별 직무태그_직무수max'}), on = '세부직종',how='left')\n",
    "X_test=pd.merge(X_test, X_test.groupby('세부직종')['직무태그_직무수'].max().reset_index().rename(columns={'직무태그_직무수':'세부직종별 직무태그_직무수max'}), on = '세부직종',how='left')"
   ]
  },
  {
   "cell_type": "markdown",
   "id": "9c6a81bf",
   "metadata": {},
   "source": [
    "# 출신대학별 근무경력"
   ]
  },
  {
   "cell_type": "code",
   "execution_count": 241,
   "id": "97777e13",
   "metadata": {},
   "outputs": [],
   "source": [
    "X_train=pd.merge(X_train, X_train.groupby('출신대학')['근무경력'].mean().reset_index().rename(columns={'근무경력':'출신대학별 근무경력mean'}), on = '출신대학',how='left')\n",
    "X_test=pd.merge(X_test, X_test.groupby('출신대학')['근무경력'].mean().reset_index().rename(columns={'근무경력':'출신대학별 근무경력mean'}), on = '출신대학',how='left')\n",
    "\n",
    "X_train=pd.merge(X_train, X_train.groupby('출신대학')['근무경력'].sum().reset_index().rename(columns={'근무경력':'출신대학별 근무경력sum'}), on = '출신대학',how='left')\n",
    "X_test=pd.merge(X_test, X_test.groupby('출신대학')['근무경력'].sum().reset_index().rename(columns={'근무경력':'출신대학별 근무경력sum'}), on = '출신대학',how='left')\n",
    "\n",
    "\n",
    "X_train=pd.merge(X_train, X_train.groupby('출신대학')['근무경력'].median().reset_index().rename(columns={'근무경력':'출신대학별 근무경력median'}), on = '출신대학',how='left')\n",
    "X_test=pd.merge(X_test, X_test.groupby('출신대학')['근무경력'].median().reset_index().rename(columns={'근무경력':'출신대학별 근무경력median'}), on = '출신대학',how='left')\n",
    "\n",
    "X_train=pd.merge(X_train, X_train.groupby('출신대학')['근무경력'].var().reset_index().rename(columns={'근무경력':'출신대학별 근무경력var'}), on = '출신대학',how='left')\n",
    "X_test=pd.merge(X_test, X_test.groupby('출신대학')['근무경력'].var().reset_index().rename(columns={'근무경력':'출신대학별 근무경력var'}), on = '출신대학',how='left')\n",
    "\n",
    "X_train=pd.merge(X_train, X_train.groupby('출신대학')['근무경력'].std().reset_index().rename(columns={'근무경력':'출신대학별 근무경력std'}), on = '출신대학',how='left')\n",
    "X_test=pd.merge(X_test, X_test.groupby('출신대학')['근무경력'].std().reset_index().rename(columns={'근무경력':'출신대학별 근무경력std'}), on = '출신대학',how='left')\n",
    "\n",
    "X_train=pd.merge(X_train, X_train.groupby('출신대학')['근무경력'].min().reset_index().rename(columns={'근무경력':'출신대학별 근무경력min'}), on = '출신대학',how='left')\n",
    "X_test=pd.merge(X_test, X_test.groupby('출신대학')['근무경력'].min().reset_index().rename(columns={'근무경력':'출신대학별 근무경력min'}), on = '출신대학',how='left')\n",
    "\n",
    "X_train=pd.merge(X_train, X_train.groupby('출신대학')['근무경력'].max().reset_index().rename(columns={'근무경력':'출신대학별 근무경력max'}), on = '출신대학',how='left')\n",
    "X_test=pd.merge(X_test, X_test.groupby('출신대학')['근무경력'].max().reset_index().rename(columns={'근무경력':'출신대학별 근무경력max'}), on = '출신대학',how='left')"
   ]
  },
  {
   "cell_type": "markdown",
   "id": "2c9abbea",
   "metadata": {},
   "source": [
    "# 출신대학별  대학성적"
   ]
  },
  {
   "cell_type": "code",
   "execution_count": 242,
   "id": "61396841",
   "metadata": {},
   "outputs": [],
   "source": [
    "X_train=pd.merge(X_train, X_train.groupby('출신대학')['대학성적'].mean().reset_index().rename(columns={'대학성적':'출신대학별 대학성적mean'}), on = '출신대학',how='left')\n",
    "X_test=pd.merge(X_test, X_test.groupby('출신대학')['대학성적'].mean().reset_index().rename(columns={'대학성적':'출신대학별 대학성적mean'}), on = '출신대학',how='left')\n",
    "\n",
    "X_train=pd.merge(X_train, X_train.groupby('출신대학')['대학성적'].median().reset_index().rename(columns={'대학성적':'출신대학별 대학성적median'}), on = '출신대학',how='left')\n",
    "X_test=pd.merge(X_test, X_test.groupby('출신대학')['대학성적'].median().reset_index().rename(columns={'대학성적':'출신대학별 대학성적median'}), on = '출신대학',how='left')\n",
    "\n",
    "X_train=pd.merge(X_train, X_train.groupby('출신대학')['대학성적'].var().reset_index().rename(columns={'대학성적':'출신대학별 대학성적var'}), on = '출신대학',how='left')\n",
    "X_test=pd.merge(X_test, X_test.groupby('출신대학')['대학성적'].var().reset_index().rename(columns={'대학성적':'출신대학별 대학성적var'}), on = '출신대학',how='left')\n",
    "\n",
    "X_train=pd.merge(X_train, X_train.groupby('출신대학')['대학성적'].std().reset_index().rename(columns={'대학성적':'출신대학별 대학성적std'}), on = '출신대학',how='left')\n",
    "X_test=pd.merge(X_test, X_test.groupby('출신대학')['대학성적'].std().reset_index().rename(columns={'대학성적':'출신대학별 대학성적std'}), on = '출신대학',how='left')\n",
    "\n",
    "X_train=pd.merge(X_train, X_train.groupby('출신대학')['대학성적'].sum().reset_index().rename(columns={'대학성적':'출신대학별 대학성적sum'}), on = '출신대학',how='left')\n",
    "X_test=pd.merge(X_test, X_test.groupby('출신대학')['대학성적'].sum().reset_index().rename(columns={'대학성적':'출신대학별 대학성적sum'}), on = '출신대학',how='left')\n",
    "\n",
    "X_train=pd.merge(X_train, X_train.groupby('출신대학')['대학성적'].min().reset_index().rename(columns={'대학성적':'출신대학별 대학성적min'}), on = '출신대학',how='left')\n",
    "X_test=pd.merge(X_test, X_test.groupby('출신대학')['대학성적'].min().reset_index().rename(columns={'대학성적':'출신대학별 대학성적min'}), on = '출신대학',how='left')\n",
    "\n",
    "X_train=pd.merge(X_train, X_train.groupby('출신대학')['대학성적'].max().reset_index().rename(columns={'대학성적':'출신대학별 대학성적max'}), on = '출신대학',how='left')\n",
    "X_test=pd.merge(X_test, X_test.groupby('출신대학')['대학성적'].max().reset_index().rename(columns={'대학성적':'출신대학별 대학성적max'}), on = '출신대학',how='left')"
   ]
  },
  {
   "cell_type": "markdown",
   "id": "e87c3a22",
   "metadata": {},
   "source": [
    "# 근무형태별 근무경력"
   ]
  },
  {
   "cell_type": "code",
   "execution_count": 243,
   "id": "376a1644",
   "metadata": {},
   "outputs": [],
   "source": [
    "X_train=pd.merge(X_train, X_train.groupby('근무형태')['근무경력'].mean().reset_index().rename(columns={'근무경력':'근무형태별 근무경력mean'}), on = '근무형태',how='left')\n",
    "X_test=pd.merge(X_test, X_test.groupby('근무형태')['근무경력'].mean().reset_index().rename(columns={'근무경력':'근무형태별 근무경력mean'}), on = '근무형태',how='left')\n",
    "\n",
    "X_train=pd.merge(X_train, X_train.groupby('근무형태')['근무경력'].median().reset_index().rename(columns={'근무경력':'근무형태별 근무경력median'}), on = '근무형태',how='left')\n",
    "X_test=pd.merge(X_test, X_test.groupby('근무형태')['근무경력'].median().reset_index().rename(columns={'근무경력':'근무형태별 근무경력median'}), on = '근무형태',how='left')\n",
    "\n",
    "X_train=pd.merge(X_train, X_train.groupby('근무형태')['근무경력'].var().reset_index().rename(columns={'근무경력':'근무형태별 근무경력var'}), on = '근무형태',how='left')\n",
    "X_test=pd.merge(X_test, X_test.groupby('근무형태')['근무경력'].var().reset_index().rename(columns={'근무경력':'근무형태별 근무경력var'}), on = '근무형태',how='left')\n",
    "\n",
    "X_train=pd.merge(X_train, X_train.groupby('근무형태')['근무경력'].std().reset_index().rename(columns={'근무경력':'근무형태별 근무경력std'}), on = '근무형태',how='left')\n",
    "X_test=pd.merge(X_test, X_test.groupby('근무형태')['근무경력'].std().reset_index().rename(columns={'근무경력':'근무형태별 근무경력std'}), on = '근무형태',how='left')\n",
    "\n",
    "X_train=pd.merge(X_train, X_train.groupby('근무형태')['근무경력'].sum().reset_index().rename(columns={'근무경력':'근무형태별 근무경력sum'}), on = '근무형태',how='left')\n",
    "X_test=pd.merge(X_test, X_test.groupby('근무형태')['근무경력'].sum().reset_index().rename(columns={'근무경력':'근무형태별 근무경력sum'}), on = '근무형태',how='left')\n",
    "\n",
    "X_train=pd.merge(X_train, X_train.groupby('근무형태')['근무경력'].min().reset_index().rename(columns={'근무경력':'근무형태별 근무경력min'}), on = '근무형태',how='left')\n",
    "X_test=pd.merge(X_test, X_test.groupby('근무형태')['근무경력'].min().reset_index().rename(columns={'근무경력':'근무형태별 근무경력min'}), on = '근무형태',how='left')\n",
    "\n",
    "X_train=pd.merge(X_train, X_train.groupby('근무형태')['근무경력'].max().reset_index().rename(columns={'근무경력':'근무형태별 근무경력max'}), on = '근무형태',how='left')\n",
    "X_test=pd.merge(X_test, X_test.groupby('근무형태')['근무경력'].max().reset_index().rename(columns={'근무경력':'근무형태별 근무경력max'}), on = '근무형태',how='left')\n"
   ]
  },
  {
   "cell_type": "markdown",
   "id": "a44a7381",
   "metadata": {},
   "source": [
    "# 근무형태별 대학성적"
   ]
  },
  {
   "cell_type": "code",
   "execution_count": 244,
   "id": "221346ac",
   "metadata": {},
   "outputs": [],
   "source": [
    "X_train=pd.merge(X_train, X_train.groupby('근무형태')['대학성적'].mean().reset_index().rename(columns={'대학성적':'근무형태별 대학성적mean'}), on = '근무형태',how='left')\n",
    "X_test=pd.merge(X_test, X_test.groupby('근무형태')['대학성적'].mean().reset_index().rename(columns={'대학성적':'근무형태별 대학성적mean'}), on = '근무형태',how='left')\n",
    "\n",
    "X_train=pd.merge(X_train, X_train.groupby('근무형태')['대학성적'].median().reset_index().rename(columns={'대학성적':'근무형태별 대학성적median'}), on = '근무형태',how='left')\n",
    "X_test=pd.merge(X_test, X_test.groupby('근무형태')['대학성적'].median().reset_index().rename(columns={'대학성적':'근무형태별 대학성적median'}), on = '근무형태',how='left')\n",
    "\n",
    "X_train=pd.merge(X_train, X_train.groupby('근무형태')['대학성적'].var().reset_index().rename(columns={'대학성적':'근무형태별 대학성적var'}), on = '근무형태',how='left')\n",
    "X_test=pd.merge(X_test, X_test.groupby('근무형태')['대학성적'].var().reset_index().rename(columns={'대학성적':'근무형태별 대학성적var'}), on = '근무형태',how='left')\n",
    "\n",
    "X_train=pd.merge(X_train, X_train.groupby('근무형태')['대학성적'].std().reset_index().rename(columns={'대학성적':'근무형태별 대학성적std'}), on = '근무형태',how='left')\n",
    "X_test=pd.merge(X_test, X_test.groupby('근무형태')['대학성적'].std().reset_index().rename(columns={'대학성적':'근무형태별 대학성적std'}), on = '근무형태',how='left')\n",
    "\n",
    "X_train=pd.merge(X_train, X_train.groupby('근무형태')['대학성적'].sum().reset_index().rename(columns={'대학성적':'근무형태별 대학성적sum'}), on = '근무형태',how='left')\n",
    "X_test=pd.merge(X_test, X_test.groupby('근무형태')['대학성적'].sum().reset_index().rename(columns={'대학성적':'근무형태별 대학성적sum'}), on = '근무형태',how='left')\n",
    "\n",
    "X_train=pd.merge(X_train, X_train.groupby('근무형태')['대학성적'].min().reset_index().rename(columns={'대학성적':'근무형태별 대학성적min'}), on = '근무형태',how='left')\n",
    "X_test=pd.merge(X_test, X_test.groupby('근무형태')['대학성적'].min().reset_index().rename(columns={'대학성적':'근무형태별 대학성적min'}), on = '근무형태',how='left')\n",
    "\n",
    "X_train=pd.merge(X_train, X_train.groupby('근무형태')['대학성적'].max().reset_index().rename(columns={'대학성적':'근무형태별 대학성적max'}), on = '근무형태',how='left')\n",
    "X_test=pd.merge(X_test, X_test.groupby('근무형태')['대학성적'].max().reset_index().rename(columns={'대학성적':'근무형태별 대학성적max'}), on = '근무형태',how='left')"
   ]
  },
  {
   "cell_type": "markdown",
   "id": "4459cf8f",
   "metadata": {},
   "source": [
    "# 대학전공별 근무경력"
   ]
  },
  {
   "cell_type": "code",
   "execution_count": 245,
   "id": "bbc4f22a",
   "metadata": {},
   "outputs": [],
   "source": [
    "X_train=pd.merge(X_train, X_train.groupby('대학전공')['근무경력'].mean().reset_index().rename(columns={'근무경력':'대학전공별 근무경력mean'}), on = '대학전공',how='left')\n",
    "X_test=pd.merge(X_test, X_test.groupby('대학전공')['근무경력'].mean().reset_index().rename(columns={'근무경력':'대학전공별 근무경력mean'}), on = '대학전공',how='left')\n",
    "\n",
    "X_train=pd.merge(X_train, X_train.groupby('대학전공')['근무경력'].median().reset_index().rename(columns={'근무경력':'대학전공별 근무경력median'}), on = '대학전공',how='left')\n",
    "X_test=pd.merge(X_test, X_test.groupby('대학전공')['근무경력'].median().reset_index().rename(columns={'근무경력':'대학전공별 근무경력median'}), on = '대학전공',how='left')\n",
    "\n",
    "X_train=pd.merge(X_train, X_train.groupby('대학전공')['근무경력'].var().reset_index().rename(columns={'근무경력':'대학전공별 근무경력var'}), on = '대학전공',how='left')\n",
    "X_test=pd.merge(X_test, X_test.groupby('대학전공')['근무경력'].var().reset_index().rename(columns={'근무경력':'대학전공별 근무경력var'}), on = '대학전공',how='left')\n",
    "\n",
    "X_train=pd.merge(X_train, X_train.groupby('대학전공')['근무경력'].std().reset_index().rename(columns={'근무경력':'대학전공별 근무경력std'}), on = '대학전공',how='left')\n",
    "X_test=pd.merge(X_test, X_test.groupby('대학전공')['근무경력'].std().reset_index().rename(columns={'근무경력':'대학전공별 근무경력std'}), on = '대학전공',how='left')\n",
    "\n",
    "X_train=pd.merge(X_train, X_train.groupby('대학전공')['근무경력'].sum().reset_index().rename(columns={'근무경력':'대학전공별 근무경력sum'}), on = '대학전공',how='left')\n",
    "X_test=pd.merge(X_test, X_test.groupby('대학전공')['근무경력'].sum().reset_index().rename(columns={'근무경력':'대학전공별 근무경력sum'}), on = '대학전공',how='left')\n",
    "\n",
    "X_train=pd.merge(X_train, X_train.groupby('대학전공')['근무경력'].min().reset_index().rename(columns={'근무경력':'대학전공별 근무경력min'}), on = '대학전공',how='left')\n",
    "X_test=pd.merge(X_test, X_test.groupby('대학전공')['근무경력'].min().reset_index().rename(columns={'근무경력':'대학전공별 근무경력min'}), on = '대학전공',how='left')\n",
    "\n",
    "X_train=pd.merge(X_train, X_train.groupby('대학전공')['근무경력'].max().reset_index().rename(columns={'근무경력':'대학전공별 근무경력max'}), on = '대학전공',how='left')\n",
    "X_test=pd.merge(X_test, X_test.groupby('대학전공')['근무경력'].max().reset_index().rename(columns={'근무경력':'대학전공별 근무경력max'}), on = '대학전공',how='left')"
   ]
  },
  {
   "cell_type": "markdown",
   "id": "25487935",
   "metadata": {},
   "source": [
    "# 대학전공별 대학성적"
   ]
  },
  {
   "cell_type": "code",
   "execution_count": 246,
   "id": "283413bc",
   "metadata": {},
   "outputs": [],
   "source": [
    "X_train=pd.merge(X_train, X_train.groupby('대학전공')['대학성적'].mean().reset_index().rename(columns={'대학성적':'대학전공별 대학성적mean'}), on = '대학전공',how='left')\n",
    "X_test=pd.merge(X_test, X_test.groupby('대학전공')['대학성적'].mean().reset_index().rename(columns={'대학성적':'대학전공별 대학성적mean'}), on = '대학전공',how='left')\n",
    "\n",
    "X_train=pd.merge(X_train, X_train.groupby('대학전공')['대학성적'].median().reset_index().rename(columns={'대학성적':'대학전공별 대학성적median'}), on = '대학전공',how='left')\n",
    "X_test=pd.merge(X_test, X_test.groupby('대학전공')['대학성적'].median().reset_index().rename(columns={'대학성적':'대학전공별 대학성적median'}), on = '대학전공',how='left')\n",
    "\n",
    "X_train=pd.merge(X_train, X_train.groupby('대학전공')['대학성적'].var().reset_index().rename(columns={'대학성적':'대학전공별 대학성적var'}), on = '대학전공',how='left')\n",
    "X_test=pd.merge(X_test, X_test.groupby('대학전공')['대학성적'].var().reset_index().rename(columns={'대학성적':'대학전공별 대학성적var'}), on = '대학전공',how='left')\n",
    "\n",
    "X_train=pd.merge(X_train, X_train.groupby('대학전공')['대학성적'].std().reset_index().rename(columns={'대학성적':'대학전공별 대학성적std'}), on = '대학전공',how='left')\n",
    "X_test=pd.merge(X_test, X_test.groupby('대학전공')['대학성적'].std().reset_index().rename(columns={'대학성적':'대학전공별 대학성적std'}), on = '대학전공',how='left')\n",
    "\n",
    "X_train=pd.merge(X_train, X_train.groupby('대학전공')['대학성적'].sum().reset_index().rename(columns={'대학성적':'대학전공별 대학성적sum'}), on = '대학전공',how='left')\n",
    "X_test=pd.merge(X_test, X_test.groupby('대학전공')['대학성적'].sum().reset_index().rename(columns={'대학성적':'대학전공별 대학성적sum'}), on = '대학전공',how='left')\n",
    "\n",
    "X_train=pd.merge(X_train, X_train.groupby('대학전공')['대학성적'].min().reset_index().rename(columns={'대학성적':'대학전공별 대학성적min'}), on = '대학전공',how='left')\n",
    "X_test=pd.merge(X_test, X_test.groupby('대학전공')['대학성적'].min().reset_index().rename(columns={'대학성적':'대학전공별 대학성적min'}), on = '대학전공',how='left')\n",
    "\n",
    "X_train=pd.merge(X_train, X_train.groupby('대학전공')['대학성적'].max().reset_index().rename(columns={'대학성적':'대학전공별 대학성적max'}), on = '대학전공',how='left')\n",
    "X_test=pd.merge(X_test, X_test.groupby('대학전공')['대학성적'].max().reset_index().rename(columns={'대학성적':'대학전공별 대학성적max'}), on = '대학전공',how='left')"
   ]
  },
  {
   "cell_type": "markdown",
   "id": "7db03b34",
   "metadata": {},
   "source": [
    "# 직무태그별 근무경력"
   ]
  },
  {
   "cell_type": "code",
   "execution_count": 247,
   "id": "77b5b207",
   "metadata": {},
   "outputs": [],
   "source": [
    "X_train=pd.merge(X_train, X_train.groupby('직무태그')['근무경력'].mean().reset_index().rename(columns={'근무경력':'직무태그별 근무경력mean'}), on = '직무태그',how='left')\n",
    "X_test=pd.merge(X_test, X_test.groupby('직무태그')['근무경력'].mean().reset_index().rename(columns={'근무경력':'직무태그별 근무경력mean'}), on = '직무태그',how='left')\n",
    "\n",
    "X_train=pd.merge(X_train, X_train.groupby('직무태그')['근무경력'].median().reset_index().rename(columns={'근무경력':'직무태그별 근무경력median'}), on = '직무태그',how='left')\n",
    "X_test=pd.merge(X_test, X_test.groupby('직무태그')['근무경력'].median().reset_index().rename(columns={'근무경력':'직무태그별 근무경력median'}), on = '직무태그',how='left')\n",
    "\n",
    "X_train=pd.merge(X_train, X_train.groupby('직무태그')['근무경력'].var().reset_index().rename(columns={'근무경력':'직무태그별 근무경력var'}), on = '직무태그',how='left')\n",
    "X_test=pd.merge(X_test, X_test.groupby('직무태그')['근무경력'].var().reset_index().rename(columns={'근무경력':'직무태그별 근무경력var'}), on = '직무태그',how='left')\n",
    "\n",
    "X_train=pd.merge(X_train, X_train.groupby('직무태그')['근무경력'].std().reset_index().rename(columns={'근무경력':'직무태그별 근무경력std'}), on = '직무태그',how='left')\n",
    "X_test=pd.merge(X_test, X_test.groupby('직무태그')['근무경력'].std().reset_index().rename(columns={'근무경력':'직무태그별 근무경력std'}), on = '직무태그',how='left')\n",
    "\n",
    "X_train=pd.merge(X_train, X_train.groupby('직무태그')['근무경력'].sum().reset_index().rename(columns={'근무경력':'직무태그별 근무경력sum'}), on = '직무태그',how='left')\n",
    "X_test=pd.merge(X_test, X_test.groupby('직무태그')['근무경력'].sum().reset_index().rename(columns={'근무경력':'직무태그별 근무경력sum'}), on = '직무태그',how='left')\n",
    "\n",
    "X_train=pd.merge(X_train, X_train.groupby('직무태그')['근무경력'].min().reset_index().rename(columns={'근무경력':'직무태그별 근무경력min'}), on = '직무태그',how='left')\n",
    "X_test=pd.merge(X_test, X_test.groupby('직무태그')['근무경력'].min().reset_index().rename(columns={'근무경력':'직무태그별 근무경력min'}), on = '직무태그',how='left')\n",
    "\n",
    "X_train=pd.merge(X_train, X_train.groupby('직무태그')['근무경력'].max().reset_index().rename(columns={'근무경력':'직무태그별 근무경력max'}), on = '직무태그',how='left')\n",
    "X_test=pd.merge(X_test, X_test.groupby('직무태그')['근무경력'].max().reset_index().rename(columns={'근무경력':'직무태그별 근무경력max'}), on = '직무태그',how='left')"
   ]
  },
  {
   "cell_type": "markdown",
   "id": "5d86bf77",
   "metadata": {},
   "source": [
    "# 대학+전공"
   ]
  },
  {
   "cell_type": "code",
   "execution_count": 248,
   "id": "2d9aeea5",
   "metadata": {},
   "outputs": [],
   "source": [
    "X_train['대학+전공'] = X_train['출신대학'] + X_train['대학전공']\n",
    "X_test['대학+전공'] = X_test['출신대학'] + X_test['대학전공']"
   ]
  },
  {
   "cell_type": "markdown",
   "id": "3b0499bd",
   "metadata": {},
   "source": [
    "# 근무형태 + 직종"
   ]
  },
  {
   "cell_type": "code",
   "execution_count": 249,
   "id": "110b0bcf",
   "metadata": {},
   "outputs": [],
   "source": [
    "X_train['근무형태+직종'] = X_train['근무형태']+X_train['직종']\n",
    "X_test['근무형태+직종'] = X_test['근무형태']+X_test['직종']"
   ]
  },
  {
   "cell_type": "markdown",
   "id": "31c66f38",
   "metadata": {},
   "source": [
    "# 세부직종 + 출신대학"
   ]
  },
  {
   "cell_type": "code",
   "execution_count": 250,
   "id": "2231f527",
   "metadata": {},
   "outputs": [],
   "source": [
    "X_train['세부직종+출신대학'] = X_train['세부직종']+X_train['출신대학']\n",
    "X_test['세부직종+출신대학'] = X_test['세부직종']+X_test['출신대학']"
   ]
  },
  {
   "cell_type": "markdown",
   "id": "75bb3ff2",
   "metadata": {},
   "source": [
    "# 세부직종 + 대학전공"
   ]
  },
  {
   "cell_type": "code",
   "execution_count": 251,
   "id": "3917308d",
   "metadata": {},
   "outputs": [],
   "source": [
    "X_train['세부직종+대학전공'] = X_train['세부직종']+X_train['대학전공']\n",
    "X_test['세부직종+대학전공'] = X_test['세부직종']+X_test['대학전공']"
   ]
  },
  {
   "cell_type": "markdown",
   "id": "6cee2d1e",
   "metadata": {},
   "source": [
    "# 출신대학 + 대학전공"
   ]
  },
  {
   "cell_type": "code",
   "execution_count": 252,
   "id": "8dcb2baa",
   "metadata": {},
   "outputs": [],
   "source": [
    "X_train['대학전공+출신대학'] = X_train['대학전공']+X_train['출신대학']\n",
    "X_test['대학전공+출신대학'] = X_test['대학전공']+X_test['출신대학']"
   ]
  },
  {
   "cell_type": "markdown",
   "id": "d608e726",
   "metadata": {},
   "source": [
    "# 직무태그1"
   ]
  },
  {
   "cell_type": "code",
   "execution_count": 253,
   "id": "80d7924a",
   "metadata": {},
   "outputs": [],
   "source": [
    "a = []\n",
    "for i in X_train['직무태그']:\n",
    "    a.append(i.split(',')[0])\n",
    "    \n",
    "X_train['직무태그1']= a"
   ]
  },
  {
   "cell_type": "code",
   "execution_count": 254,
   "id": "ba1a1ad3",
   "metadata": {},
   "outputs": [],
   "source": [
    "b = []\n",
    "for i in X_test['직무태그']:\n",
    "    b.append(i.split(',')[0])\n",
    "\n",
    "X_test['직무태그1']= b"
   ]
  },
  {
   "cell_type": "markdown",
   "id": "7feaacf9",
   "metadata": {},
   "source": [
    "# 상위어학시험"
   ]
  },
  {
   "cell_type": "code",
   "execution_count": null,
   "id": "b7fc7b12",
   "metadata": {},
   "outputs": [],
   "source": []
  },
  {
   "cell_type": "code",
   "execution_count": 255,
   "id": "71a0bb88",
   "metadata": {},
   "outputs": [],
   "source": [
    "X_train['어학시험'].fillna('N',inplace = True)\n",
    "X_train.loc[X_train['어학시험'] == ' ','어학시험'] = 'BLANK'\n",
    "X_train['상위어학시험'] = '0'\n",
    "for i in range(16570):\n",
    "    X_train['상위어학시험'][i] = X_train['어학시험'].loc[i][:5]\n",
    "X_train.loc[X_train['상위어학시험'] == '新HSK','상위어학시험'] = 'HSK'\n",
    "\n",
    "list(X_train['상위어학시험'].value_counts().index[12:])\n",
    "\n",
    "for i in list(X_train['상위어학시험'].value_counts().index[12:]):\n",
    "    X_train.loc[X_train['상위어학시험'] == i,'상위어학시험'] = '기타'\n",
    "\n",
    "X_test['어학시험'].fillna('N',inplace = True)\n",
    "X_test.loc[X_test['어학시험'] == ' ','어학시험'] = 'BLANK'\n",
    "X_test['상위어학시험'] = '0'\n",
    "for i in range(11048):\n",
    "    X_test['상위어학시험'][i] = X_test['어학시험'].loc[i][:5]\n",
    "X_test.loc[X_train['상위어학시험'] == '新HSK','상위어학시험'] = 'HSK'\n",
    "\n",
    "for i in list(X_test['상위어학시험'].value_counts().index[12:]):\n",
    "    X_test.loc[X_test['상위어학시험'] == i,'상위어학시험'] = '기타'\n"
   ]
  },
  {
   "cell_type": "code",
   "execution_count": 256,
   "id": "3aeb66d8",
   "metadata": {},
   "outputs": [],
   "source": [
    "EN = ['TOEIC', 'TOEFL', 'OPIc', 'TEPS', 'IELTS', 'TOEIC Speaking', 'TOEFL-CBT', 'G-TELP', 'TOEFL-IBT', 'TOEFL-PBT', 'SEPT', 'G-ETAT', 'GRE', 'G-TELP(GLT)', 'TOEIC S&W', 'OPI']\n",
    "JP = ['JLPT', 'JPT', 'JTRA'] \n",
    "CH = ['新HSK', 'HSK']\n",
    "ETC = ['기타', '기타시험']\n",
    "FR = ['DALF', 'DELF']\n",
    "X_train['어학시험언어']='N'\n",
    "for i,j in enumerate(X_train['어학시험']):\n",
    "    if j in EN:\n",
    "        X_train['어학시험언어'][i] = 'EN'\n",
    "    elif j in JP:\n",
    "        X_train['어학시험언어'][i] = 'JP'\n",
    "    elif j in CH:\n",
    "        X_train['어학시험언어'][i] = 'CH'\n",
    "    elif j in ETC:\n",
    "        X_train['어학시험언어'][i] = 'ETC'\n",
    "    elif j in FR:\n",
    "        X_train['어학시험언어'][i] = 'FR'"
   ]
  },
  {
   "cell_type": "code",
   "execution_count": 257,
   "id": "34b532d8",
   "metadata": {},
   "outputs": [],
   "source": [
    "EN = ['TOEIC', 'TOEFL', 'OPIc', 'TEPS', 'IELTS', 'TOEIC Speaking', 'TOEFL-CBT', 'G-TELP', 'TOEFL-IBT', 'TOEFL-PBT', 'SEPT', 'G-ETAT', 'GRE', 'G-TELP(GLT)', 'TOEIC S&W', 'OPI']\n",
    "JP = ['JLPT', 'JPT', 'JTRA'] \n",
    "CH = ['新HSK', 'HSK']\n",
    "ETC = ['기타', '기타시험']\n",
    "FR = ['DALF', 'DELF']\n",
    "X_test['어학시험언어']='N'\n",
    "for i,j in enumerate(X_test['어학시험']):\n",
    "    if j in EN:\n",
    "        X_test['어학시험언어'][i] = 'EN'\n",
    "    elif j in JP:\n",
    "        X_test['어학시험언어'][i] = 'JP'\n",
    "    elif j in CH:\n",
    "        X_test['어학시험언어'][i] = 'CH'\n",
    "    elif j in ETC:\n",
    "        X_test['어학시험언어'][i] = 'ETC'\n",
    "    elif j in FR:\n",
    "        X_test['어학시험언어'][i] = 'FR'"
   ]
  },
  {
   "cell_type": "code",
   "execution_count": 258,
   "id": "214b7d3d",
   "metadata": {},
   "outputs": [],
   "source": [
    "in_seoul = ['성균관대학교','세종대학교','성신여자대학교','연세대학교','동덕여자대학교',\n",
    "           '한성대학교','성공회대학교','중앙대학교','이화여자대학교','서울여자대학교',\n",
    "           '서울과학기술대학교']\n",
    "in_gyeonggi = ['수원대학교','인천대학교','경기대학교','성결대학교','용인대학교','협성대학교','한국산업기술대학교']\n",
    "in_jibang = ['신라대학교','한밭대학교','전주대학교','제주대학교','세명대학교','상지대학교',\n",
    "            '선문대학교','호원대학교','한림대학교','목포대학교','동아대학교','군산대학교','동의대학교',\n",
    "            '호남대학교','광주대학교','서원대학교','동서대학교','한일장신대학교','한세대학교',\n",
    "            '경주대학교','서울신학대학교','송원대학교','부산디지털대학교']\n",
    "\n",
    "X_train['출신대학_서울'] =  X_train['출신대학'].isin(in_seoul)\n",
    "X_train['출신대학_경기'] =  X_train['출신대학'].isin(in_gyeonggi)\n",
    "X_train['출신대학_지방'] =  X_train['출신대학'].isin(in_jibang)\n",
    "\n",
    "\n",
    "in_seoult = ['성균관대학교','세종대학교','성신여자대학교','연세대학교','동덕여자대학교',\n",
    "           '한성대학교','성공회대학교','중앙대학교','이화여자대학교','서울여자대학교',\n",
    "           '서울과학기술대학교']\n",
    "in_gyeonggit = ['수원대학교','인천대학교','경기대학교','성결대학교','용인대학교','협성대학교','한국산업기술대학교']\n",
    "in_jibangt = ['신라대학교','한밭대학교','전주대학교','제주대학교','세명대학교','상지대학교',\n",
    "            '선문대학교','호원대학교','한림대학교','목포대학교','동아대학교','군산대학교','동의대학교',\n",
    "            '호남대학교','광주대학교','서원대학교','동서대학교','한일장신대학교','한세대학교',\n",
    "            '경주대학교','서울신학대학교','송원대학교','부산디지털대학교','남부대학교']\n",
    "\n",
    "X_test['출신대학_서울'] =  X_test['출신대학'].isin(in_seoul)\n",
    "X_test['출신대학_경기'] =  X_test['출신대학'].isin(in_gyeonggi)\n",
    "X_test['출신대학_지방'] =  X_test['출신대학'].isin(in_jibang)"
   ]
  },
  {
   "cell_type": "code",
   "execution_count": 259,
   "id": "bf02c3e0",
   "metadata": {},
   "outputs": [],
   "source": [
    "X_train['직종'] = X_train['직종'].apply(lambda x:  x if x in (X_train.직종.unique()) else '기타 직종'  )\n",
    "\n",
    "X_test['직종'] = X_test['직종'].apply(lambda x:  x if x in (X_train.직종.unique()) else '기타 직종'  )\n",
    "\n",
    "job_score = dict(X_train.groupby('직종')['대학성적'].mean())\n",
    "\n",
    "X_train['직종별대학성적평균'] = X_train['직종'].apply(lambda x: job_score[x])\n",
    "X_test['직종별대학성적평균'] = X_test['직종'].apply(lambda x: job_score[x])\n",
    "\n",
    "job_score = dict(X_train.groupby('직종')['대학성적'].median())\n",
    "\n",
    "X_train['직종별대학성적최빈값'] = X_train['직종'].apply(lambda x: job_score[x])\n",
    "X_test['직종별대학성적최빈값'] = X_test['직종'].apply(lambda x: job_score[x])\n",
    "\n",
    "job_score = X_train.groupby('직종')['대학성적'].sum()\n",
    "\n",
    "X_train['직종별대학성적합'] = X_train['직종'].apply(lambda x: job_score[x])\n",
    "X_test['직종별대학성적합'] = X_test['직종'].apply(lambda x: job_score[x])\n",
    "\n",
    "job_score = X_train.groupby('직종')['대학성적'].std().fillna(0)\n",
    "\n",
    "X_train['직종별대학성적표준편차'] = X_train['직종'].apply(lambda x: job_score[x])\n",
    "X_test['직종별대학성적표준편차'] = X_test['직종'].apply(lambda x: job_score[x])\n",
    "\n",
    "job_score = X_train.groupby('직종')['대학성적'].min()\n",
    "\n",
    "X_train['직종별대학성적최소값'] = X_train['직종'].apply(lambda x: job_score[x])\n",
    "X_test['직종별대학성적최소값'] = X_test['직종'].apply(lambda x: job_score[x])\n",
    "\n",
    "job_score = X_train.groupby('직종')['대학성적'].max()\n",
    "\n",
    "X_train['직종별대학성적최대값'] = X_train['직종'].apply(lambda x: job_score[x])\n",
    "X_test['직종별대학성적최대값'] = X_test['직종'].apply(lambda x: job_score[x])\n",
    "\n",
    "\n",
    "detail_job_score = X_train.groupby('직종')['근무경력'].mean()\n",
    "\n",
    "X_train['직종별근무경력평균'] = X_train['직종'].apply(lambda x: detail_job_score[x])\n",
    "X_test['직종별근무경력평균'] = X_test['직종'].apply(lambda x: detail_job_score[x])\n",
    "\n",
    "detail_job_score = X_train.groupby('직종')['근무경력'].median()\n",
    "\n",
    "X_train['직종별근무경력최빈값'] = X_train['직종'].apply(lambda x: detail_job_score[x])\n",
    "X_test['직종별근무경력최빈값'] = X_test['직종'].apply(lambda x: detail_job_score[x])\n",
    "\n",
    "detail_job_score = X_train.groupby('직종')['근무경력'].sum()\n",
    "\n",
    "X_train['직종별근무경력합'] = X_train['직종'].apply(lambda x: detail_job_score[x])\n",
    "X_test['직종별근무경력합'] = X_test['직종'].apply(lambda x: detail_job_score[x])\n",
    "\n",
    "detail_job_score = X_train.groupby('직종')['근무경력'].std().fillna(0)\n",
    "\n",
    "X_train['직종별근무경력표준편차'] = X_train['직종'].apply(lambda x: detail_job_score[x])\n",
    "X_test['직종별근무경력표준편차'] = X_test['직종'].apply(lambda x: detail_job_score[x])\n",
    "\n",
    "detail_job_score = X_train.groupby('직종')['근무경력'].min()\n",
    "\n",
    "X_train['직종별근무경력최소값'] = X_train['직종'].apply(lambda x: detail_job_score[x])\n",
    "X_test['직종별근무경력최소값'] = X_test['직종'].apply(lambda x: detail_job_score[x])\n",
    "\n",
    "detail_job_score = X_train.groupby('직종')['대학성적'].max()\n",
    "\n",
    "X_train['직종별대학성적최대값'] = X_train['직종'].apply(lambda x: detail_job_score[x])\n",
    "X_test['직종별대학성적최대값'] = X_test['직종'].apply(lambda x: detail_job_score[x])\n",
    "\n",
    "## 세부직종\n",
    "\n",
    "X_train.세부직종.nunique()\n",
    "\n",
    "X_test.세부직종.nunique()\n",
    "\n",
    "X_train['세부직종'] = X_train['세부직종'].apply(lambda x:  x if x in (X_train.세부직종.unique()) else '기타'  )\n",
    "\n",
    "X_test['세부직종'] = X_test['세부직종'].apply(lambda x:  x if x in (X_train.세부직종.unique()) else '기타'  )\n",
    "\n",
    "detail_job_score = X_train.groupby('세부직종')['대학성적'].mean()\n",
    "\n",
    "X_train['세부직종별대학성적평균'] = X_train['세부직종'].apply(lambda x: detail_job_score[x])\n",
    "X_test['세부직종별대학성적평균'] = X_test['세부직종'].apply(lambda x: detail_job_score[x])\n",
    "\n",
    "detail_job_score = X_train.groupby('세부직종')['대학성적'].median() \n",
    "\n",
    "X_train['세부직종별대학성적최빈값'] = X_train['세부직종'].apply(lambda x: detail_job_score[x])\n",
    "X_test['세부직종별대학성적최빈값'] = X_test['세부직종'].apply(lambda x: detail_job_score[x])\n",
    "\n",
    "detail_job_score = X_train.groupby('세부직종')['대학성적'].sum()\n",
    "\n",
    "X_train['세부직종별대학성적합'] = X_train['세부직종'].apply(lambda x: detail_job_score[x])\n",
    "X_test['세부직종별대학성적합'] = X_test['세부직종'].apply(lambda x: detail_job_score[x])\n",
    "\n",
    "detail_job_score = X_train.groupby('세부직종')['대학성적'].std().fillna(0)\n",
    "\n",
    "X_train['세부직종별대학성적표준편차'] = X_train['세부직종'].apply(lambda x: detail_job_score[x])\n",
    "X_test['세부직종별대학성적표준편차'] = X_test['세부직종'].apply(lambda x: detail_job_score[x])\n",
    "\n",
    "detail_job_score = X_train.groupby('세부직종')['대학성적'].min()\n",
    "\n",
    "X_train['세부직종별대학성적최소값'] = X_train['세부직종'].apply(lambda x: detail_job_score[x])\n",
    "X_test['세부직종별대학성적최소값'] = X_test['세부직종'].apply(lambda x: detail_job_score[x])\n",
    "\n",
    "detail_job_score = X_train.groupby('세부직종')['대학성적'].max()\n",
    "\n",
    "X_train['세부직종별대학성적최대값'] = X_train['세부직종'].apply(lambda x: detail_job_score[x])\n",
    "X_test['세부직종별대학성적최대값'] = X_test['세부직종'].apply(lambda x: detail_job_score[x])\n",
    "\n",
    "detail_job_score = X_train.groupby('세부직종')['근무경력'].mean()\n",
    "\n",
    "X_train['세부직종별근무경력평균'] = X_train['세부직종'].apply(lambda x: detail_job_score[x])\n",
    "X_test['세부직종별근무경력평균'] = X_test['세부직종'].apply(lambda x: detail_job_score[x])\n",
    "\n",
    "detail_job_score = X_train.groupby('세부직종')['근무경력'].median()\n",
    "\n",
    "X_train['세부직종별근무경력최빈값'] = X_train['세부직종'].apply(lambda x: detail_job_score[x])\n",
    "X_test['세부직종별근무경력최빈값'] = X_test['세부직종'].apply(lambda x: detail_job_score[x])\n",
    "\n",
    "detail_job_score = X_train.groupby('세부직종')['근무경력'].sum()\n",
    "\n",
    "X_train['세부직종별근무경력합'] = X_train['세부직종'].apply(lambda x: detail_job_score[x])\n",
    "X_test['세부직종별근무경력합'] = X_test['세부직종'].apply(lambda x: detail_job_score[x])\n",
    "\n",
    "detail_job_score = X_train.groupby('세부직종')['근무경력'].std().fillna(0)\n",
    "\n",
    "X_train['세부직종별근무경력표준편차'] = X_train['세부직종'].apply(lambda x: detail_job_score[x])\n",
    "X_test['세부직종별근무경력표준편차'] = X_test['세부직종'].apply(lambda x: detail_job_score[x])\n",
    "\n",
    "detail_job_score = X_train.groupby('세부직종')['근무경력'].min()\n",
    "\n",
    "X_train['세부직종별근무경력최소값'] = X_train['세부직종'].apply(lambda x: detail_job_score[x])\n",
    "X_test['세부직종별근무경력최소값'] = X_test['세부직종'].apply(lambda x: detail_job_score[x])\n",
    "\n",
    "detail_job_score = X_train.groupby('세부직종')['근무경력'].max()\n",
    "\n",
    "X_train['세부직종별근무경력최대값'] = X_train['세부직종'].apply(lambda x: detail_job_score[x])\n",
    "X_test['세부직종별근무경력최대값'] = X_test['세부직종'].apply(lambda x: detail_job_score[x])"
   ]
  },
  {
   "cell_type": "code",
   "execution_count": 260,
   "id": "2d94c603",
   "metadata": {},
   "outputs": [],
   "source": [
    "X_train['어학시험'] = X_train['어학시험'].apply(lambda x:  x if x in (X_train.어학시험.unique()) else '기타'  )\n",
    "\n",
    "X_test['어학시험'] = X_test['어학시험'].apply(lambda x:  x if x in (X_train.어학시험.unique()) else '기타'  )\n",
    "\n",
    "language_score = X_train.groupby('어학시험')['대학성적'].mean()\n",
    "\n",
    "X_train['어학시험별대학성적평균'] = X_train['어학시험'].apply(lambda x:language_score[x])\n",
    "X_test['어학시험별대학성적평균'] = X_test['어학시험'].apply(lambda x: language_score[x]) \n",
    "\n",
    "language_score = X_train.groupby('어학시험')['대학성적'].median()\n",
    "\n",
    "X_train['어학시험별대학성적최빈값'] = X_train['어학시험'].apply(lambda x:language_score[x])\n",
    "X_test['어학시험별대학성적최빈값'] = X_test['어학시험'].apply(lambda x: language_score[x])\n",
    "\n",
    "language_score = X_train.groupby('어학시험')['대학성적'].sum()\n",
    "\n",
    "X_train['어학시험별대학성적합'] = X_train['어학시험'].apply(lambda x:language_score[x])\n",
    "X_test['어학시험별대학성적합'] = X_test['어학시험'].apply(lambda x: language_score[x])\n",
    "\n",
    "language_score = X_train.groupby('어학시험')['대학성적'].std().fillna(0)\n",
    "\n",
    "X_train['어학시험별대학성적표준편차'] = X_train['어학시험'].apply(lambda x:language_score[x])\n",
    "X_test['어학시험별대학성적표준편차'] = X_test['어학시험'].apply(lambda x: language_score[x])\n",
    "\n",
    "language_score = X_train.groupby('어학시험')['대학성적'].min()\n",
    "\n",
    "X_train['어학시험별대학성적최소값'] = X_train['어학시험'].apply(lambda x:language_score[x])\n",
    "X_test['어학시험별대학성적최소값'] = X_test['어학시험'].apply(lambda x: language_score[x])\n",
    "\n",
    "language_score = X_train.groupby('어학시험')['대학성적'].max()\n",
    "\n",
    "X_train['어학시험별대학성적최대값'] = X_train['어학시험'].apply(lambda x:language_score[x])\n",
    "X_test['어학시험별대학성적최대값'] = X_test['어학시험'].apply(lambda x: language_score[x])\n",
    "\n",
    "\n",
    "detail_job_score = X_train.groupby('어학시험')['근무경력'].mean()\n",
    "\n",
    "X_train['어학시험별근무경력평균'] = X_train['어학시험'].apply(lambda x: detail_job_score[x])\n",
    "X_test['어학시험별근무경력평균'] = X_test['어학시험'].apply(lambda x: detail_job_score[x])\n",
    "\n",
    "detail_job_score = X_train.groupby('어학시험')['근무경력'].median()\n",
    "\n",
    "X_train['어학시험별근무경력최빈값'] = X_train['어학시험'].apply(lambda x: detail_job_score[x])\n",
    "X_test['어학시험별근무경력최빈값'] = X_test['어학시험'].apply(lambda x: detail_job_score[x])\n",
    "\n",
    "detail_job_score = X_train.groupby('어학시험')['근무경력'].sum()\n",
    "\n",
    "X_train['어학시험별근무경력합'] = X_train['어학시험'].apply(lambda x: detail_job_score[x])\n",
    "X_test['어학시험별근무경력합'] = X_test['어학시험'].apply(lambda x: detail_job_score[x])\n",
    "\n",
    "detail_job_score = X_train.groupby('어학시험')['근무경력'].std().fillna(0)\n",
    "\n",
    "X_train['어학시험별근무경력표준편차'] = X_train['어학시험'].apply(lambda x: detail_job_score[x])\n",
    "X_test['어학시험별근무경력표준편차'] = X_test['어학시험'].apply(lambda x: detail_job_score[x])\n",
    "\n",
    "detail_job_score = X_train.groupby('어학시험')['근무경력'].min()\n",
    "\n",
    "X_train['어학시험별근무경력최소값'] = X_train['어학시험'].apply(lambda x: detail_job_score[x])\n",
    "X_test['어학시험별근무경력최소값'] = X_test['어학시험'].apply(lambda x: detail_job_score[x])\n",
    "\n",
    "detail_job_score = X_train.groupby('어학시험')['근무경력'].max()\n",
    "\n",
    "X_train['어학시험별근무경력최대값'] = X_train['어학시험'].apply(lambda x: detail_job_score[x])\n",
    "X_test['어학시험별근무경력최대값'] = X_test['어학시험'].apply(lambda x: detail_job_score[x])"
   ]
  },
  {
   "cell_type": "markdown",
   "id": "bec73045",
   "metadata": {},
   "source": [
    "# 서울근무"
   ]
  },
  {
   "cell_type": "code",
   "execution_count": 261,
   "id": "d88fb72e",
   "metadata": {},
   "outputs": [],
   "source": [
    "서울근무 = []\n",
    "for i in X_train['근무지역'] :\n",
    "    if '서울' in i :\n",
    "        서울근무.append('YES')\n",
    "    else :\n",
    "        서울근무.append('NO')\n",
    "X_train['서울근무'] = 서울근무"
   ]
  },
  {
   "cell_type": "code",
   "execution_count": 262,
   "id": "62ff7a82",
   "metadata": {},
   "outputs": [],
   "source": [
    "서울근무 = []\n",
    "for i in X_test['근무지역'] :\n",
    "    if '서울' in i :\n",
    "        서울근무.append('YES')\n",
    "    else :\n",
    "        서울근무.append('NO')\n",
    "X_test['서울근무'] = 서울근무"
   ]
  },
  {
   "cell_type": "markdown",
   "id": "7c3e557c",
   "metadata": {},
   "source": [
    "# @J2 제곱항 피처 추가ver"
   ]
  },
  {
   "cell_type": "code",
   "execution_count": 263,
   "id": "26bf19c8",
   "metadata": {},
   "outputs": [],
   "source": [
    "X_train['근무경력^2'] = np.square(X_train['근무경력'])\n",
    "X_test['근무경력^2'] = np.square(X_test['근무경력'])\n",
    "\n",
    "X_train['직무태그글자수범위별^2'] = np.square(X_train['직무태그글자수범위별'])\n",
    "X_test['직무태그글자수범위별^2'] = np.square(X_test['직무태그글자수범위별'])\n",
    "\n",
    "X_train['직무태그_직무수^2'] = np.square(X_train['직무태그_직무수'])\n",
    "X_test['직무태그_직무수^2'] = np.square(X_test['직무태그_직무수'])\n",
    "\n",
    "X_train['출신대학별 근무경력sum^2'] = np.square(X_train['출신대학별 근무경력sum'])\n",
    "X_test['출신대학별 근무경력sum^2'] = np.square(X_test['출신대학별 근무경력sum'])"
   ]
  },
  {
   "cell_type": "code",
   "execution_count": 264,
   "id": "e6ef4c96",
   "metadata": {},
   "outputs": [
    {
     "data": {
      "text/plain": [
       "(11048, 146)"
      ]
     },
     "execution_count": 264,
     "metadata": {},
     "output_type": "execute_result"
    }
   ],
   "source": [
    "X_test.shape"
   ]
  },
  {
   "cell_type": "markdown",
   "id": "0aa2df4e",
   "metadata": {},
   "source": [
    "# 출신대학*대학성적"
   ]
  },
  {
   "cell_type": "code",
   "execution_count": 265,
   "id": "55f533b2",
   "metadata": {},
   "outputs": [],
   "source": [
    "top_rank = ['성균관대학교', '연세대학교', '중앙대학교', '이화여자대학교']\n",
    "mid_rank = ['세종대학교', '성신여자대학교']\n",
    "low_rank = ['한성대학교', '동덕여자대학교', '서울여자대학교', '서울과학기술대학교']\n",
    "province = ['제주대학교', '인천대학교', '군산대학교', '한국산업기술대학교']\n",
    "etc= ['수원대학교', '전주대학교', '세명대학교', '신라대학교', '상지대학교', '한밭대학교', '경기대학교', '선문대학교', '성공회대학교', '호원대학교', '한림대학교', '목포대학교', '동아대학교', '동의대학교', '성결대학교', '호남대학교', '광주대학교', '서원대학교', '동서대학교', '한일장신대학교', '한세대학교', '용인대학교', '경주대학교', '협성대학교', '서울신학대학교', '송원대학교', '부산디지털대학교','남부대학교','기타']\n",
    "\n",
    "\n",
    "university = []\n",
    "for i in X_train['출신대학']:\n",
    "    if i in top_rank:\n",
    "        university.append(5)\n",
    "    elif i in mid_rank:\n",
    "        university.append(4)\n",
    "    elif i in low_rank:\n",
    "        university.append(3)\n",
    "    elif i in province:\n",
    "        university.append(2)\n",
    "    elif i in etc:\n",
    "        university.append(1)\n",
    "        \n",
    "X_train['출신대학수치'] = university\n",
    "\n",
    "university = []\n",
    "for i in X_test['출신대학']:\n",
    "    if i in top_rank:\n",
    "        university.append(5)\n",
    "    elif i in mid_rank:\n",
    "        university.append(4)\n",
    "    elif i in low_rank:\n",
    "        university.append(3)\n",
    "    elif i in province:\n",
    "        university.append(2)\n",
    "    elif i in etc:\n",
    "        university.append(1) \n",
    "        \n",
    "X_test['출신대학수치'] = university\n",
    "\n",
    "a = X_train['출신대학수치'] * X_train['대학성적']\n",
    "X_train['출신대학*대학성적'] = a\n",
    "a = X_test['출신대학수치'] * X_test['대학성적']\n",
    "X_test['출신대학*대학성적'] = a\n",
    "\n",
    "X_train = X_train.drop(['출신대학수치'],axis=1)\n",
    "X_test = X_test.drop(['출신대학수치'], axis=1)"
   ]
  },
  {
   "cell_type": "markdown",
   "id": "08450e17",
   "metadata": {},
   "source": [
    "# 근무형태"
   ]
  },
  {
   "cell_type": "code",
   "execution_count": 266,
   "id": "f2b8f7fd",
   "metadata": {},
   "outputs": [],
   "source": [
    "X_train['근무형태_계해정'] = X_train['근무형태']\n",
    "X_train['근무형태_계정해'] = X_train['근무형태']\n",
    "X_train['근무형태_정계해'] = X_train['근무형태']\n",
    "X_train['근무형태_정해계'] = X_train['근무형태']\n",
    "X_train['근무형태_해정계'] = X_train['근무형태']\n",
    "X_train['근무형태_해계정'] = X_train['근무형태']"
   ]
  },
  {
   "cell_type": "code",
   "execution_count": 267,
   "id": "4073a8ac",
   "metadata": {},
   "outputs": [],
   "source": [
    "X_test['근무형태_계해정'] = X_test['근무형태']\n",
    "X_test['근무형태_계정해'] = X_test['근무형태']\n",
    "X_test['근무형태_정계해'] = X_test['근무형태']\n",
    "X_test['근무형태_정해계'] = X_test['근무형태']\n",
    "X_test['근무형태_해정계'] = X_test['근무형태']\n",
    "X_test['근무형태_해계정'] = X_test['근무형태']"
   ]
  },
  {
   "cell_type": "code",
   "execution_count": 268,
   "id": "87334736",
   "metadata": {},
   "outputs": [],
   "source": [
    "#계약직(774), 해외취업(205), 정규직(15416)\n",
    "X_train['근무형태_계해정'][X_train['근무형태_계해정'].str.contains('계약직|인턴|파견직|병역특례')] = '계약직'\n",
    "X_train['근무형태_계해정'][X_train['근무형태_계해정'].str.contains('해외취업')] = '해외취업'\n",
    "X_train['근무형태_계해정'][X_train['근무형태_계해정'].str.contains('정규직')] = '정규직'\n",
    "\n",
    "X_test['근무형태_계해정'][X_test['근무형태_계해정'].str.contains('계약직|인턴|파견직|병역특례')] = '계약직'\n",
    "X_test['근무형태_계해정'][X_test['근무형태_계해정'].str.contains('해외취업')] = '해외취업'\n",
    "X_test['근무형태_계해정'][X_test['근무형태_계해정'].str.contains('정규직')] = '정규직'"
   ]
  },
  {
   "cell_type": "code",
   "execution_count": 269,
   "id": "20453dda",
   "metadata": {},
   "outputs": [],
   "source": [
    "#계약직(774), 정규직(15615), 해외취업(6)\n",
    "X_train['근무형태_계정해'][X_train['근무형태_계정해'].str.contains('계약직|인턴|파견직|병역특례')] = '계약직'\n",
    "X_train['근무형태_계정해'][X_train['근무형태_계정해'].str.contains('정규직')] = '정규직'\n",
    "X_train['근무형태_계정해'][X_train['근무형태_계정해'].str.contains('해외취업')] = '해외취업'\n",
    "\n",
    "X_test['근무형태_계정해'][X_test['근무형태_계정해'].str.contains('계약직|인턴|파견직|병역특례')] = '계약직'\n",
    "X_test['근무형태_계정해'][X_test['근무형태_계정해'].str.contains('정규직')] = '정규직'\n",
    "X_test['근무형태_계정해'][X_test['근무형태_계정해'].str.contains('해외취업')] = '해외취업'"
   ]
  },
  {
   "cell_type": "code",
   "execution_count": 270,
   "id": "e7843aac",
   "metadata": {},
   "outputs": [],
   "source": [
    "#정규직(16307), 계약직(82), 해외취업(6)\n",
    "X_train['근무형태_정계해'][X_train['근무형태_정계해'].str.contains('정규직')] = '정규직'\n",
    "X_train['근무형태_정계해'][X_train['근무형태_정계해'].str.contains('계약직|인턴|파견직|병역특례')] = '계약직'\n",
    "X_train['근무형태_정계해'][X_train['근무형태_정계해'].str.contains('해외취업')] = '해외취업'\n",
    "\n",
    "X_test['근무형태_정계해'][X_test['근무형태_정계해'].str.contains('정규직')] = '정규직'\n",
    "X_test['근무형태_정계해'][X_test['근무형태_정계해'].str.contains('계약직|인턴|파견직|병역특례')] = '계약직'\n",
    "X_test['근무형태_정계해'][X_test['근무형태_정계해'].str.contains('해외취업')] = '해외취업'"
   ]
  },
  {
   "cell_type": "code",
   "execution_count": 271,
   "id": "f70c2ed7",
   "metadata": {},
   "outputs": [],
   "source": [
    "#정규직(16307), 해외취업(12), 계약직(76)\n",
    "X_train['근무형태_정해계'][X_train['근무형태_정해계'].str.contains('정규직')] = '정규직'\n",
    "X_train['근무형태_정해계'][X_train['근무형태_정해계'].str.contains('계약직|인턴|파견직|병역특례')] = '계약직'\n",
    "X_train['근무형태_정해계'][X_train['근무형태_정해계'].str.contains('해외취업')] = '해외취업'\n",
    "\n",
    "X_test['근무형태_정해계'][X_test['근무형태_정해계'].str.contains('정규직')] = '정규직'\n",
    "X_test['근무형태_정해계'][X_test['근무형태_정해계'].str.contains('계약직|인턴|파견직|병역특례')] = '계약직'\n",
    "X_test['근무형태_정해계'][X_test['근무형태_정해계'].str.contains('해외취업')] = '해외취업'"
   ]
  },
  {
   "cell_type": "code",
   "execution_count": 272,
   "id": "da3df363",
   "metadata": {},
   "outputs": [],
   "source": [
    "#해외취업(350), 정규직(15969), 계약직(76)\n",
    "X_train['근무형태_해정계'][X_train['근무형태_해정계'].str.contains('해외취업')] = '해외취업'\n",
    "X_train['근무형태_해정계'][X_train['근무형태_해정계'].str.contains('정규직')] = '정규직'\n",
    "X_train['근무형태_해정계'][X_train['근무형태_해정계'].str.contains('계약직|인턴|파견직|병역특례')] = '계약직'\n",
    "\n",
    "X_test['근무형태_해정계'][X_test['근무형태_해정계'].str.contains('해외취업')] = '해외취업'\n",
    "X_test['근무형태_해정계'][X_test['근무형태_해정계'].str.contains('정규직')] = '정규직'\n",
    "X_test['근무형태_해정계'][X_test['근무형태_해정계'].str.contains('계약직|인턴|파견직|병역특례')] = '계약직'"
   ]
  },
  {
   "cell_type": "code",
   "execution_count": 273,
   "id": "120a931d",
   "metadata": {},
   "outputs": [],
   "source": [
    "#해외취업(350), 계약직(629), 정규직(15416)\n",
    "X_train['근무형태_해계정'][X_train['근무형태_해계정'].str.contains('해외취업')] = '해외취업'\n",
    "X_train['근무형태_해계정'][X_train['근무형태_해계정'].str.contains('계약직|인턴|파견직|병역특례')] = '계약직'\n",
    "X_train['근무형태_해계정'][X_train['근무형태_해계정'].str.contains('정규직')] = '정규직'\n",
    "\n",
    "X_test['근무형태_해계정'][X_test['근무형태_해계정'].str.contains('해외취업')] = '해외취업'\n",
    "X_test['근무형태_해계정'][X_test['근무형태_해계정'].str.contains('계약직|인턴|파견직|병역특례')] = '계약직'\n",
    "X_test['근무형태_해계정'][X_test['근무형태_해계정'].str.contains('정규직')] = '정규직'"
   ]
  },
  {
   "cell_type": "code",
   "execution_count": 274,
   "id": "c3157ad9",
   "metadata": {},
   "outputs": [],
   "source": [
    "X_train['근무형태_정계(해)'] = X_train['근무형태']\n",
    "X_train['근무형태_계(해)정'] = X_train['근무형태']"
   ]
  },
  {
   "cell_type": "code",
   "execution_count": 275,
   "id": "63ce5bd5",
   "metadata": {},
   "outputs": [],
   "source": [
    "X_test['근무형태_정계(해)'] = X_test['근무형태']\n",
    "X_test['근무형태_계(해)정'] = X_test['근무형태']"
   ]
  },
  {
   "cell_type": "code",
   "execution_count": 276,
   "id": "e0f60ca5",
   "metadata": {},
   "outputs": [],
   "source": [
    "#정규직(16307), 계약직(88 + 해외취업)\n",
    "X_train['근무형태_정계(해)'][X_train['근무형태_정계(해)'].str.contains('정규직')] = '정규직'\n",
    "X_train['근무형태_정계(해)'][X_train['근무형태_정계(해)'].str.contains('비정규직|계약직|해외취업|인턴|파견직|병역특례')] = '계약직'\n",
    "\n",
    "X_test['근무형태_정계(해)'][X_test['근무형태_정계(해)'].str.contains('정규직')] = '정규직'\n",
    "X_test['근무형태_정계(해)'][X_test['근무형태_정계(해)'].str.contains('비정규직|계약직|해외취업|인턴|파견직|병역특례')] = '계약직'"
   ]
  },
  {
   "cell_type": "code",
   "execution_count": 277,
   "id": "f4d721c4",
   "metadata": {},
   "outputs": [],
   "source": [
    "#계약직(10776 + 해외취업), 정규직(5619)\n",
    "X_train['근무형태_계(해)정'][X_train['근무형태_계(해)정'].str.contains('비정규직|계약직|해외취업|인턴|파견직|병역특례')] = '계약직'\n",
    "X_train['근무형태_계(해)정'][X_train['근무형태_계(해)정'].str.contains('정규직')] = '정규직'\n",
    "\n",
    "X_test['근무형태_계(해)정'][X_test['근무형태_계(해)정'].str.contains('비정규직|계약직|해외취업|인턴|파견직|병역특례')] = '계약직'\n",
    "X_test['근무형태_계(해)정'][X_test['근무형태_계(해)정'].str.contains('정규직')] = '정규직'"
   ]
  },
  {
   "cell_type": "code",
   "execution_count": 278,
   "id": "1d9e804f",
   "metadata": {},
   "outputs": [],
   "source": [
    "X_train['근무형태_정(해)계'] = X_train['근무형태']\n",
    "X_train['근무형태_계정(해)'] = X_train['근무형태']"
   ]
  },
  {
   "cell_type": "code",
   "execution_count": 279,
   "id": "36a1457c",
   "metadata": {},
   "outputs": [],
   "source": [
    "X_test['근무형태_정(해)계'] = X_test['근무형태']\n",
    "X_test['근무형태_계정(해)'] = X_test['근무형태']"
   ]
  },
  {
   "cell_type": "code",
   "execution_count": 280,
   "id": "b0e0bc20",
   "metadata": {},
   "outputs": [],
   "source": [
    "#정규직(16319 + 해외취업), 계약직(76)\n",
    "X_train['근무형태_정(해)계'][X_train['근무형태_정(해)계'].str.contains('정규직|해외취업')] = '정규직'\n",
    "X_train['근무형태_정(해)계'][X_train['근무형태_정(해)계'].str.contains('비정규직|계약직|인턴|파견직|병역특례')] = '계약직'\n",
    "\n",
    "X_test['근무형태_정(해)계'][X_test['근무형태_정(해)계'].str.contains('정규직|해외취업')] = '정규직'\n",
    "X_test['근무형태_정(해)계'][X_test['근무형태_정(해)계'].str.contains('비정규직|계약직|인턴|파견직|병역특례')] = '계약직'"
   ]
  },
  {
   "cell_type": "code",
   "execution_count": 281,
   "id": "ae086124",
   "metadata": {},
   "outputs": [],
   "source": [
    "#계약직(10571), 정규직(5824 + 해외취업)\n",
    "X_train['근무형태_계정(해)'][X_train['근무형태_계정(해)'].str.contains('비정규직|계약직|인턴|파견직|병역특례')] = '계약직'\n",
    "X_train['근무형태_계정(해)'][X_train['근무형태_계정(해)'].str.contains('정규직|해외취업')] = '정규직'\n",
    "\n",
    "X_test['근무형태_계정(해)'][X_test['근무형태_계정(해)'].str.contains('비정규직|계약직|인턴|파견직|병역특례')] = '계약직'\n",
    "X_test['근무형태_계정(해)'][X_test['근무형태_계정(해)'].str.contains('정규직|해외취업')] = '정규직'"
   ]
  },
  {
   "cell_type": "markdown",
   "id": "511c3ad4",
   "metadata": {},
   "source": [
    "# 근무형태"
   ]
  },
  {
   "cell_type": "code",
   "execution_count": 282,
   "id": "980365f9",
   "metadata": {},
   "outputs": [],
   "source": [
    "X_train['근무형태'].fillna('N', inplace=True)\n",
    "X_test['근무형태'].fillna('N', inplace=True)"
   ]
  },
  {
   "cell_type": "code",
   "execution_count": 283,
   "id": "b007f0b5",
   "metadata": {},
   "outputs": [],
   "source": [
    "c1 = X_train['근무형태'].str.split(',',expand=True).isnull().sum(axis=1) ==5\n",
    "c2 = X_train['근무형태'].str.split(',',expand=True)[0] =='정규직'\n",
    "\n",
    "c1_c2 = X_train.loc[(c1&c2),'근무형태'].index\n",
    "\n",
    "X_train['근무형태_단순화'] = X_train.index.isin(c1_c2)\n",
    "X_test['근무형태_단순화'] = X_test.index.isin(c1_c2)\n",
    "\n",
    "X_train['근무형태_단순화'] = X_train['근무형태_단순화'].apply(lambda x: '정규직' if x== True else '계약직')\n",
    "X_test['근무형태_단순화'] = X_test['근무형태_단순화'].apply(lambda x: '정규직' if x== True else '계약직')"
   ]
  },
  {
   "cell_type": "code",
   "execution_count": 284,
   "id": "4cac2bb3",
   "metadata": {},
   "outputs": [],
   "source": [
    "c1 = X_train.근무경력 >= 56\n",
    "c2 = X_train['근무형태'] == '정규직'\n",
    "\n",
    "c1_c2 = X_train.loc[c1&c2].index\n",
    "\n",
    "c1t = X_test.근무경력 >= 56\n",
    "c2t = X_test['근무형태'] == '정규직'\n",
    "\n",
    "c1t_c2t = X_test.loc[c1t&c2t].index\n",
    "\n",
    "X_train['베테랑정규직'] =  X_train.index.isin(c1_c2)\n",
    "X_test['베테랑정규직'] =  X_test.index.isin(c1t_c2t)"
   ]
  },
  {
   "cell_type": "markdown",
   "id": "f405fd80",
   "metadata": {},
   "source": [
    "# @J2 피처끼리의 합"
   ]
  },
  {
   "cell_type": "code",
   "execution_count": 285,
   "id": "815cc1df",
   "metadata": {},
   "outputs": [],
   "source": [
    "X_train['근무경력+직무태그글자수범위별']= X_train['근무경력']+X_train['직무태그글자수범위별']\n",
    "X_test['근무경력+직무태그글자수범위별']= X_test['근무경력']+X_test['직무태그글자수범위별']\n",
    "\n",
    "X_train['근무경력+직무태그_직무수']= X_train['근무경력']+X_train['직무태그_직무수']\n",
    "X_test['근무경력+직무태그_직무수']= X_test['근무경력']+X_test['직무태그_직무수']\n",
    "\n",
    "X_train['근무경력+직종수']= X_train['근무경력']+X_train['직종수']\n",
    "X_test['근무경력+직종수']= X_test['근무경력']+X_test['직종수']\n",
    "\n",
    "X_train['근무경력+세부직종수']= X_train['근무경력']+X_train['세부직종수']\n",
    "X_test['근무경력+세부직종수']= X_test['근무경력']+X_test['세부직종수']\n",
    "\n",
    "X_train['근무경력+직종별근무경력합']= X_train['근무경력']+X_train['직종별근무경력합']\n",
    "X_test['근무경력+직종별근무경력합']= X_test['근무경력']+X_test['직종별근무경력합']\n"
   ]
  },
  {
   "cell_type": "markdown",
   "id": "07937c87",
   "metadata": {},
   "source": [
    "# @J2 피처끼리의 곱"
   ]
  },
  {
   "cell_type": "code",
   "execution_count": 286,
   "id": "a8e8f5ac",
   "metadata": {},
   "outputs": [],
   "source": [
    "#<피처끼리의 곱>\n",
    "#근무경력*직무태그글자수범위별\n",
    "#근무경력*직무태그_직무수\n",
    "#근무경력*직종수\n",
    "#근무경력*세부직종수\n",
    "#직무태그글자수범위별*직무태그_직무수\n",
    "#직무태그글자수범위별*직종수\n",
    "#직무태그글자수범위별*세부직종수"
   ]
  },
  {
   "cell_type": "code",
   "execution_count": 287,
   "id": "131c033a",
   "metadata": {},
   "outputs": [],
   "source": [
    "X_train['근무경력*직무태그글자수범위별']= X_train['근무경력']*X_train['직무태그글자수범위별']\n",
    "X_test['근무경력*직무태그글자수범위별']= X_test['근무경력']*X_test['직무태그글자수범위별']\n",
    "\n",
    "X_train['근무경력*직무태그_직무수']= X_train['근무경력']*X_train['직무태그_직무수']\n",
    "X_test['근무경력*직무태그_직무수']= X_test['근무경력']*X_test['직무태그_직무수']\n",
    "\n",
    "X_train['근무경력*직종수']= X_train['근무경력']*X_train['직종수']\n",
    "X_test['근무경력*직종수']= X_test['근무경력']*X_test['직종수']\n",
    "\n",
    "X_train['근무경력*세부직종수']= X_train['근무경력']*X_train['세부직종수']\n",
    "X_test['근무경력*세부직종수']= X_test['근무경력']*X_test['세부직종수']\n",
    "\n",
    "X_train['직무태그_직무수*직무태그글자수범위별']= X_train['직무태그_직무수']*X_train['직무태그글자수범위별']\n",
    "X_test['직무태그_직무수*직무태그글자수범위별']= X_test['직무태그_직무수']*X_test['직무태그글자수범위별']\n",
    "\n",
    "X_train['직종수*직무태그글자수범위별']= X_train['직종수']*X_train['직무태그글자수범위별']\n",
    "X_test['직종수*직무태그글자수범위별']= X_test['직종수']*X_test['직무태그글자수범위별']\n",
    "\n",
    "X_train['세부직종수*직무태그글자수범위별']= X_train['세부직종수']*X_train['직무태그글자수범위별']\n",
    "X_test['세부직종수*직무태그글자수범위별']= X_test['세부직종수']*X_test['직무태그글자수범위별']"
   ]
  },
  {
   "cell_type": "markdown",
   "id": "ebe329a2",
   "metadata": {},
   "source": [
    "# @J2 Groupby 피처 추가"
   ]
  },
  {
   "cell_type": "code",
   "execution_count": 288,
   "id": "d88e4b5a",
   "metadata": {},
   "outputs": [],
   "source": [
    "#마지막근무형태별 근무경력mean.median.sum.var,std\n",
    "#마지막근무형태별 대학성적\n",
    "#근무지역별 근무경력\n",
    "#근무지역별 대학성적\n",
    "#직무태그별 근무경력\n",
    "\n",
    "#직무태그별 대학성적\n",
    "#출신대학_서울별 근무경력\n",
    "#출신대학_서울별 대학성적"
   ]
  },
  {
   "cell_type": "code",
   "execution_count": 289,
   "id": "fd76cb62",
   "metadata": {},
   "outputs": [],
   "source": [
    "X_train['마지막근무형태'] = 0\n",
    "for i,j in enumerate(X_train['근무형태']) :\n",
    "    X_train['근무형태'][i] = j.rstrip(', ')\n",
    "for i,j in enumerate(X_train['근무형태'].str.split(', ')):\n",
    "    X_train['마지막근무형태'][i] = j[-1]\n",
    "\n",
    "\n",
    "\n",
    "X_test['마지막근무형태'] = 0\n",
    "for i,j in enumerate(X_test['근무형태']) :\n",
    "    X_test['근무형태'][i] = j.rstrip(', ')\n",
    "for i,j in enumerate(X_test['근무형태'].str.split(', ')):\n",
    "    X_test['마지막근무형태'][i] = j[-1]"
   ]
  },
  {
   "cell_type": "code",
   "execution_count": 290,
   "id": "bff9c42e",
   "metadata": {},
   "outputs": [],
   "source": [
    "X_train=pd.merge(X_train, X_train.groupby('마지막근무형태')['근무경력'].mean().reset_index().rename(columns={'근무경력':'마지막근무형태별 근무경력mean'}), on = '마지막근무형태',how='left')\n",
    "X_test=pd.merge(X_test, X_test.groupby('마지막근무형태')['근무경력'].mean().reset_index().rename(columns={'근무경력':'마지막근무형태별 근무경력mean'}), on = '마지막근무형태',how='left')\n",
    "\n",
    "X_train=pd.merge(X_train, X_train.groupby('마지막근무형태')['근무경력'].median().reset_index().rename(columns={'근무경력':'마지막근무형태별 근무경력median'}), on = '마지막근무형태',how='left')\n",
    "X_test=pd.merge(X_test, X_test.groupby('마지막근무형태')['근무경력'].median().reset_index().rename(columns={'근무경력':'마지막근무형태별 근무경력median'}), on = '마지막근무형태',how='left')\n",
    "\n",
    "X_train=pd.merge(X_train, X_train.groupby('마지막근무형태')['근무경력'].sum().reset_index().rename(columns={'근무경력':'마지막근무형태별 근무경력sum'}), on = '마지막근무형태',how='left')\n",
    "X_test=pd.merge(X_test, X_test.groupby('마지막근무형태')['근무경력'].sum().reset_index().rename(columns={'근무경력':'마지막근무형태별 근무경력sum'}), on = '마지막근무형태',how='left')\n",
    "\n",
    "X_train=pd.merge(X_train, X_train.groupby('마지막근무형태')['근무경력'].var().reset_index().rename(columns={'근무경력':'마지막근무형태별 근무경력var'}), on = '마지막근무형태',how='left')\n",
    "X_test=pd.merge(X_test, X_test.groupby('마지막근무형태')['근무경력'].var().reset_index().rename(columns={'근무경력':'마지막근무형태별 근무경력var'}), on = '마지막근무형태',how='left')\n",
    "\n",
    "X_train=pd.merge(X_train, X_train.groupby('마지막근무형태')['근무경력'].std().reset_index().rename(columns={'근무경력':'마지막근무형태별 근무경력std'}), on = '마지막근무형태',how='left')\n",
    "X_test=pd.merge(X_test, X_test.groupby('마지막근무형태')['근무경력'].std().reset_index().rename(columns={'근무경력':'마지막근무형태별 근무경력std'}), on = '마지막근무형태',how='left')\n",
    "\n",
    "X_train=pd.merge(X_train, X_train.groupby('마지막근무형태')['근무경력'].min().reset_index().rename(columns={'근무경력':'마지막근무형태별 근무경력min'}), on = '마지막근무형태',how='left')\n",
    "X_test=pd.merge(X_test, X_test.groupby('마지막근무형태')['근무경력'].min().reset_index().rename(columns={'근무경력':'마지막근무형태별 근무경력min'}), on = '마지막근무형태',how='left')\n",
    "\n",
    "X_train=pd.merge(X_train, X_train.groupby('마지막근무형태')['근무경력'].max().reset_index().rename(columns={'근무경력':'마지막근무형태별 근무경력max'}), on = '마지막근무형태',how='left')\n",
    "X_test=pd.merge(X_test, X_test.groupby('마지막근무형태')['근무경력'].max().reset_index().rename(columns={'근무경력':'마지막근무형태별 근무경력max'}), on = '마지막근무형태',how='left')\n"
   ]
  },
  {
   "cell_type": "code",
   "execution_count": 291,
   "id": "d4fe7134",
   "metadata": {},
   "outputs": [],
   "source": [
    "X_train=pd.merge(X_train, X_train.groupby('마지막근무형태')['대학성적'].mean().reset_index().rename(columns={'대학성적':'마지막근무형태별 대학성적mean'}), on = '마지막근무형태',how='left')\n",
    "X_test=pd.merge(X_test, X_test.groupby('마지막근무형태')['대학성적'].mean().reset_index().rename(columns={'대학성적':'마지막근무형태별 대학성적mean'}), on = '마지막근무형태',how='left')\n",
    "\n",
    "X_train=pd.merge(X_train, X_train.groupby('마지막근무형태')['대학성적'].median().reset_index().rename(columns={'대학성적':'마지막근무형태별 대학성적median'}), on = '마지막근무형태',how='left')\n",
    "X_test=pd.merge(X_test, X_test.groupby('마지막근무형태')['대학성적'].median().reset_index().rename(columns={'대학성적':'마지막근무형태별 대학성적median'}), on = '마지막근무형태',how='left')\n",
    "\n",
    "X_train=pd.merge(X_train, X_train.groupby('마지막근무형태')['대학성적'].sum().reset_index().rename(columns={'대학성적':'마지막근무형태별 대학성적sum'}), on = '마지막근무형태',how='left')\n",
    "X_test=pd.merge(X_test, X_test.groupby('마지막근무형태')['대학성적'].sum().reset_index().rename(columns={'대학성적':'마지막근무형태별 대학성적sum'}), on = '마지막근무형태',how='left')\n",
    "\n",
    "X_train=pd.merge(X_train, X_train.groupby('마지막근무형태')['대학성적'].var().reset_index().rename(columns={'대학성적':'마지막근무형태별 대학성적var'}), on = '마지막근무형태',how='left')\n",
    "X_test=pd.merge(X_test, X_test.groupby('마지막근무형태')['대학성적'].var().reset_index().rename(columns={'대학성적':'마지막근무형태별 대학성적var'}), on = '마지막근무형태',how='left')\n",
    "\n",
    "X_train=pd.merge(X_train, X_train.groupby('마지막근무형태')['대학성적'].std().reset_index().rename(columns={'대학성적':'마지막근무형태별 대학성적std'}), on = '마지막근무형태',how='left')\n",
    "X_test=pd.merge(X_test, X_test.groupby('마지막근무형태')['대학성적'].std().reset_index().rename(columns={'대학성적':'마지막근무형태별 대학성적std'}), on = '마지막근무형태',how='left')\n",
    "\n",
    "X_train=pd.merge(X_train, X_train.groupby('마지막근무형태')['대학성적'].min().reset_index().rename(columns={'대학성적':'마지막근무형태별 대학성적min'}), on = '마지막근무형태',how='left')\n",
    "X_test=pd.merge(X_test, X_test.groupby('마지막근무형태')['대학성적'].min().reset_index().rename(columns={'대학성적':'마지막근무형태별 대학성적min'}), on = '마지막근무형태',how='left')\n",
    "\n",
    "X_train=pd.merge(X_train, X_train.groupby('마지막근무형태')['대학성적'].max().reset_index().rename(columns={'대학성적':'마지막근무형태별 대학성적max'}), on = '마지막근무형태',how='left')\n",
    "X_test=pd.merge(X_test, X_test.groupby('마지막근무형태')['대학성적'].max().reset_index().rename(columns={'대학성적':'마지막근무형태별 대학성적max'}), on = '마지막근무형태',how='left')"
   ]
  },
  {
   "cell_type": "code",
   "execution_count": 292,
   "id": "36224b59",
   "metadata": {},
   "outputs": [],
   "source": [
    "X_train=pd.merge(X_train, X_train.groupby('근무지역')['근무경력'].mean().reset_index().rename(columns={'근무경력':'근무지역별 근무경력mean'}), on = '근무지역',how='left')\n",
    "X_test=pd.merge(X_test, X_test.groupby('근무지역')['근무경력'].mean().reset_index().rename(columns={'근무경력':'근무지역별 근무경력mean'}), on = '근무지역',how='left')\n",
    "\n",
    "X_train=pd.merge(X_train, X_train.groupby('근무지역')['근무경력'].median().reset_index().rename(columns={'근무경력':'근무지역별 근무경력median'}), on = '근무지역',how='left')\n",
    "X_test=pd.merge(X_test, X_test.groupby('근무지역')['근무경력'].median().reset_index().rename(columns={'근무경력':'근무지역별 근무경력median'}), on = '근무지역',how='left')\n",
    "\n",
    "X_train=pd.merge(X_train, X_train.groupby('근무지역')['근무경력'].sum().reset_index().rename(columns={'근무경력':'근무지역별 근무경력sum'}), on = '근무지역',how='left')\n",
    "X_test=pd.merge(X_test, X_test.groupby('근무지역')['근무경력'].sum().reset_index().rename(columns={'근무경력':'근무지역별 근무경력sum'}), on = '근무지역',how='left')\n",
    "\n",
    "X_train=pd.merge(X_train, X_train.groupby('근무지역')['근무경력'].var().reset_index().rename(columns={'근무경력':'근무지역별 근무경력var'}), on = '근무지역',how='left')\n",
    "X_test=pd.merge(X_test, X_test.groupby('근무지역')['근무경력'].var().reset_index().rename(columns={'근무경력':'근무지역별 근무경력var'}), on = '근무지역',how='left')\n",
    "\n",
    "X_train=pd.merge(X_train, X_train.groupby('근무지역')['근무경력'].std().reset_index().rename(columns={'근무경력':'근무지역별 근무경력std'}), on = '근무지역',how='left')\n",
    "X_test=pd.merge(X_test, X_test.groupby('근무지역')['근무경력'].std().reset_index().rename(columns={'근무경력':'근무지역별 근무경력std'}), on = '근무지역',how='left')\n",
    "\n",
    "X_train=pd.merge(X_train, X_train.groupby('근무지역')['근무경력'].min().reset_index().rename(columns={'근무경력':'근무지역별 근무경력min'}), on = '근무지역',how='left')\n",
    "X_test=pd.merge(X_test, X_test.groupby('근무지역')['근무경력'].min().reset_index().rename(columns={'근무경력':'근무지역별 근무경력min'}), on = '근무지역',how='left')\n",
    "\n",
    "X_train=pd.merge(X_train, X_train.groupby('근무지역')['근무경력'].max().reset_index().rename(columns={'근무경력':'근무지역별 근무경력max'}), on = '근무지역',how='left')\n",
    "X_test=pd.merge(X_test, X_test.groupby('근무지역')['근무경력'].max().reset_index().rename(columns={'근무경력':'근무지역별 근무경력max'}), on = '근무지역',how='left')"
   ]
  },
  {
   "cell_type": "code",
   "execution_count": 293,
   "id": "3ad9eb0d",
   "metadata": {},
   "outputs": [],
   "source": [
    "X_train=pd.merge(X_train, X_train.groupby('근무지역')['대학성적'].mean().reset_index().rename(columns={'대학성적':'근무지역별 대학성적mean'}), on = '근무지역',how='left')\n",
    "X_test=pd.merge(X_test, X_test.groupby('근무지역')['대학성적'].mean().reset_index().rename(columns={'대학성적':'근무지역별 대학성적mean'}), on = '근무지역',how='left')\n",
    "\n",
    "X_train=pd.merge(X_train, X_train.groupby('근무지역')['대학성적'].median().reset_index().rename(columns={'대학성적':'근무지역별 대학성적median'}), on = '근무지역',how='left')\n",
    "X_test=pd.merge(X_test, X_test.groupby('근무지역')['대학성적'].median().reset_index().rename(columns={'대학성적':'근무지역별 대학성적median'}), on = '근무지역',how='left')\n",
    "\n",
    "X_train=pd.merge(X_train, X_train.groupby('근무지역')['대학성적'].sum().reset_index().rename(columns={'대학성적':'근무지역별 대학성적sum'}), on = '근무지역',how='left')\n",
    "X_test=pd.merge(X_test, X_test.groupby('근무지역')['대학성적'].sum().reset_index().rename(columns={'대학성적':'근무지역별 대학성적sum'}), on = '근무지역',how='left')\n",
    "\n",
    "X_train=pd.merge(X_train, X_train.groupby('근무지역')['대학성적'].var().reset_index().rename(columns={'대학성적':'근무지역별 대학성적var'}), on = '근무지역',how='left')\n",
    "X_test=pd.merge(X_test, X_test.groupby('근무지역')['대학성적'].var().reset_index().rename(columns={'대학성적':'근무지역별 대학성적var'}), on = '근무지역',how='left')\n",
    "\n",
    "X_train=pd.merge(X_train, X_train.groupby('근무지역')['대학성적'].std().reset_index().rename(columns={'대학성적':'근무지역별 대학성적std'}), on = '근무지역',how='left')\n",
    "X_test=pd.merge(X_test, X_test.groupby('근무지역')['대학성적'].std().reset_index().rename(columns={'대학성적':'근무지역별 대학성적std'}), on = '근무지역',how='left')\n",
    "\n",
    "X_train=pd.merge(X_train, X_train.groupby('근무지역')['대학성적'].min().reset_index().rename(columns={'대학성적':'근무지역별 대학성적min'}), on = '근무지역',how='left')\n",
    "X_test=pd.merge(X_test, X_test.groupby('근무지역')['대학성적'].min().reset_index().rename(columns={'대학성적':'근무지역별 대학성적min'}), on = '근무지역',how='left')\n",
    "\n",
    "X_train=pd.merge(X_train, X_train.groupby('근무지역')['대학성적'].max().reset_index().rename(columns={'대학성적':'근무지역별 대학성적max'}), on = '근무지역',how='left')\n",
    "X_test=pd.merge(X_test, X_test.groupby('근무지역')['대학성적'].max().reset_index().rename(columns={'대학성적':'근무지역별 대학성적max'}), on = '근무지역',how='left')"
   ]
  },
  {
   "cell_type": "code",
   "execution_count": 294,
   "id": "bd8e884f",
   "metadata": {},
   "outputs": [],
   "source": [
    "X_train=pd.merge(X_train, X_train.groupby('직무태그')['대학성적'].mean().reset_index().rename(columns={'대학성적':'직무태그별 대학성적mean'}), on = '직무태그',how='left')\n",
    "X_test=pd.merge(X_test, X_test.groupby('직무태그')['대학성적'].mean().reset_index().rename(columns={'대학성적':'직무태그별 대학성적mean'}), on = '직무태그',how='left')\n",
    "\n",
    "X_train=pd.merge(X_train, X_train.groupby('직무태그')['대학성적'].median().reset_index().rename(columns={'대학성적':'직무태그별 대학성적median'}), on = '직무태그',how='left')\n",
    "X_test=pd.merge(X_test, X_test.groupby('직무태그')['대학성적'].median().reset_index().rename(columns={'대학성적':'직무태그별 대학성적median'}), on = '직무태그',how='left')\n",
    "\n",
    "X_train=pd.merge(X_train, X_train.groupby('직무태그')['대학성적'].sum().reset_index().rename(columns={'대학성적':'직무태그별 대학성적sum'}), on = '직무태그',how='left')\n",
    "X_test=pd.merge(X_test, X_test.groupby('직무태그')['대학성적'].sum().reset_index().rename(columns={'대학성적':'직무태그별 대학성적sum'}), on = '직무태그',how='left')\n",
    "\n",
    "X_train=pd.merge(X_train, X_train.groupby('직무태그')['대학성적'].var().reset_index().rename(columns={'대학성적':'직무태그별 대학성적var'}), on = '직무태그',how='left')\n",
    "X_test=pd.merge(X_test, X_test.groupby('직무태그')['대학성적'].var().reset_index().rename(columns={'대학성적':'직무태그별 대학성적var'}), on = '직무태그',how='left')\n",
    "\n",
    "X_train=pd.merge(X_train, X_train.groupby('직무태그')['대학성적'].std().reset_index().rename(columns={'대학성적':'직무태그별 대학성적std'}), on = '직무태그',how='left')\n",
    "X_test=pd.merge(X_test, X_test.groupby('직무태그')['대학성적'].std().reset_index().rename(columns={'대학성적':'직무태그별 대학성적std'}), on = '직무태그',how='left')\n",
    "\n",
    "X_train=pd.merge(X_train, X_train.groupby('직무태그')['대학성적'].min().reset_index().rename(columns={'대학성적':'직무태그별 대학성적min'}), on = '직무태그',how='left')\n",
    "X_test=pd.merge(X_test, X_test.groupby('직무태그')['대학성적'].min().reset_index().rename(columns={'대학성적':'직무태그별 대학성적min'}), on = '직무태그',how='left')\n",
    "\n",
    "X_train=pd.merge(X_train, X_train.groupby('직무태그')['대학성적'].max().reset_index().rename(columns={'대학성적':'직무태그별 대학성적max'}), on = '직무태그',how='left')\n",
    "X_test=pd.merge(X_test, X_test.groupby('직무태그')['대학성적'].max().reset_index().rename(columns={'대학성적':'직무태그별 대학성적max'}), on = '직무태그',how='left')"
   ]
  },
  {
   "cell_type": "code",
   "execution_count": 295,
   "id": "9935b948",
   "metadata": {},
   "outputs": [
    {
     "data": {
      "text/plain": [
       "0         True\n",
       "1        False\n",
       "2        False\n",
       "3        False\n",
       "4        False\n",
       "         ...  \n",
       "16565    False\n",
       "16566     True\n",
       "16567    False\n",
       "16568     True\n",
       "16569    False\n",
       "Name: 출신대학_서울, Length: 16570, dtype: bool"
      ]
     },
     "execution_count": 295,
     "metadata": {},
     "output_type": "execute_result"
    }
   ],
   "source": [
    "X_train['출신대학_서울']"
   ]
  },
  {
   "cell_type": "code",
   "execution_count": 296,
   "id": "e0a12ee7",
   "metadata": {},
   "outputs": [],
   "source": [
    "#출신대학_서울별 근무경력\n",
    "\n",
    "X_train=pd.merge(X_train, X_train.groupby('출신대학_서울')['근무경력'].mean().reset_index().rename(columns={'근무경력':'출신대학_서울별 근무경력mean'}), on = '출신대학_서울',how='left')\n",
    "X_test=pd.merge(X_test, X_test.groupby('출신대학_서울')['근무경력'].mean().reset_index().rename(columns={'근무경력':'출신대학_서울별 근무경력mean'}), on = '출신대학_서울',how='left')\n",
    "\n",
    "X_train=pd.merge(X_train, X_train.groupby('출신대학_서울')['근무경력'].median().reset_index().rename(columns={'근무경력':'출신대학_서울별 근무경력median'}), on = '출신대학_서울',how='left')\n",
    "X_test=pd.merge(X_test, X_test.groupby('출신대학_서울')['근무경력'].median().reset_index().rename(columns={'근무경력':'출신대학_서울별 근무경력median'}), on = '출신대학_서울',how='left')\n",
    "\n",
    "X_train=pd.merge(X_train, X_train.groupby('출신대학_서울')['근무경력'].sum().reset_index().rename(columns={'근무경력':'출신대학_서울별 근무경력sum'}), on = '출신대학_서울',how='left')\n",
    "X_test=pd.merge(X_test, X_test.groupby('출신대학_서울')['근무경력'].sum().reset_index().rename(columns={'근무경력':'출신대학_서울별 근무경력sum'}), on = '출신대학_서울',how='left')\n",
    "\n",
    "X_train=pd.merge(X_train, X_train.groupby('출신대학_서울')['근무경력'].var().reset_index().rename(columns={'근무경력':'출신대학_서울별 근무경력var'}), on = '출신대학_서울',how='left')\n",
    "X_test=pd.merge(X_test, X_test.groupby('출신대학_서울')['근무경력'].var().reset_index().rename(columns={'근무경력':'출신대학_서울별 근무경력var'}), on = '출신대학_서울',how='left')\n",
    "\n",
    "X_train=pd.merge(X_train, X_train.groupby('출신대학_서울')['근무경력'].std().reset_index().rename(columns={'근무경력':'출신대학_서울별 근무경력std'}), on = '출신대학_서울',how='left')\n",
    "X_test=pd.merge(X_test, X_test.groupby('출신대학_서울')['근무경력'].std().reset_index().rename(columns={'근무경력':'출신대학_서울별 근무경력std'}), on = '출신대학_서울',how='left')\n",
    "\n",
    "X_train=pd.merge(X_train, X_train.groupby('출신대학_서울')['근무경력'].min().reset_index().rename(columns={'근무경력':'출신대학_서울별 근무경력min'}), on = '출신대학_서울',how='left')\n",
    "X_test=pd.merge(X_test, X_test.groupby('출신대학_서울')['근무경력'].min().reset_index().rename(columns={'근무경력':'출신대학_서울별 근무경력min'}), on = '출신대학_서울',how='left')\n",
    "\n",
    "X_train=pd.merge(X_train, X_train.groupby('출신대학_서울')['근무경력'].max().reset_index().rename(columns={'근무경력':'출신대학_서울별 근무경력max'}), on = '출신대학_서울',how='left')\n",
    "X_test=pd.merge(X_test, X_test.groupby('출신대학_서울')['근무경력'].max().reset_index().rename(columns={'근무경력':'출신대학_서울별 근무경력max'}), on = '출신대학_서울',how='left')"
   ]
  },
  {
   "cell_type": "code",
   "execution_count": 297,
   "id": "e1479090",
   "metadata": {},
   "outputs": [],
   "source": [
    "X_train=pd.merge(X_train, X_train.groupby('출신대학_서울')['대학성적'].mean().reset_index().rename(columns={'대학성적':'출신대학_서울별 대학성적mean'}), on = '출신대학_서울',how='left')\n",
    "X_test=pd.merge(X_test, X_test.groupby('출신대학_서울')['대학성적'].mean().reset_index().rename(columns={'대학성적':'출신대학_서울별 대학성적mean'}), on = '출신대학_서울',how='left')\n",
    "\n",
    "X_train=pd.merge(X_train, X_train.groupby('출신대학_서울')['대학성적'].median().reset_index().rename(columns={'대학성적':'출신대학_서울별 대학성적median'}), on = '출신대학_서울',how='left')\n",
    "X_test=pd.merge(X_test, X_test.groupby('출신대학_서울')['대학성적'].median().reset_index().rename(columns={'대학성적':'출신대학_서울별 대학성적median'}), on = '출신대학_서울',how='left')\n",
    "\n",
    "X_train=pd.merge(X_train, X_train.groupby('출신대학_서울')['대학성적'].sum().reset_index().rename(columns={'대학성적':'출신대학_서울별 대학성적sum'}), on = '출신대학_서울',how='left')\n",
    "X_test=pd.merge(X_test, X_test.groupby('출신대학_서울')['대학성적'].sum().reset_index().rename(columns={'대학성적':'출신대학_서울별 대학성적sum'}), on = '출신대학_서울',how='left')\n",
    "\n",
    "X_train=pd.merge(X_train, X_train.groupby('출신대학_서울')['대학성적'].var().reset_index().rename(columns={'대학성적':'출신대학_서울별 대학성적var'}), on = '출신대학_서울',how='left')\n",
    "X_test=pd.merge(X_test, X_test.groupby('출신대학_서울')['대학성적'].var().reset_index().rename(columns={'대학성적':'출신대학_서울별 대학성적var'}), on = '출신대학_서울',how='left')\n",
    "\n",
    "X_train=pd.merge(X_train, X_train.groupby('출신대학_서울')['대학성적'].std().reset_index().rename(columns={'대학성적':'출신대학_서울별 대학성적std'}), on = '출신대학_서울',how='left')\n",
    "X_test=pd.merge(X_test, X_test.groupby('출신대학_서울')['대학성적'].std().reset_index().rename(columns={'대학성적':'출신대학_서울별 대학성적std'}), on = '출신대학_서울',how='left')\n",
    "\n",
    "X_train=pd.merge(X_train, X_train.groupby('출신대학_서울')['대학성적'].min().reset_index().rename(columns={'대학성적':'출신대학_서울별 대학성적min'}), on = '출신대학_서울',how='left')\n",
    "X_test=pd.merge(X_test, X_test.groupby('출신대학_서울')['대학성적'].min().reset_index().rename(columns={'대학성적':'출신대학_서울별 대학성적min'}), on = '출신대학_서울',how='left')\n",
    "\n",
    "X_train=pd.merge(X_train, X_train.groupby('출신대학_서울')['대학성적'].max().reset_index().rename(columns={'대학성적':'출신대학_서울별 대학성적max'}), on = '출신대학_서울',how='left')\n",
    "X_test=pd.merge(X_test, X_test.groupby('출신대학_서울')['대학성적'].max().reset_index().rename(columns={'대학성적':'출신대학_서울별 대학성적max'}), on = '출신대학_서울',how='left')"
   ]
  },
  {
   "cell_type": "code",
   "execution_count": 298,
   "id": "7bd11a57",
   "metadata": {},
   "outputs": [
    {
     "data": {
      "text/plain": [
       "(16570, 219)"
      ]
     },
     "execution_count": 298,
     "metadata": {},
     "output_type": "execute_result"
    }
   ],
   "source": [
    "X_train.shape"
   ]
  },
  {
   "cell_type": "code",
   "execution_count": 299,
   "id": "a2800fb8",
   "metadata": {},
   "outputs": [
    {
     "data": {
      "text/plain": [
       "(11048, 219)"
      ]
     },
     "execution_count": 299,
     "metadata": {},
     "output_type": "execute_result"
    }
   ],
   "source": [
    "X_test.shape"
   ]
  },
  {
   "cell_type": "code",
   "execution_count": null,
   "id": "8d48f8df",
   "metadata": {},
   "outputs": [],
   "source": []
  },
  {
   "cell_type": "code",
   "execution_count": null,
   "id": "1a9cf16c",
   "metadata": {},
   "outputs": [],
   "source": []
  },
  {
   "cell_type": "code",
   "execution_count": null,
   "id": "22dfa992",
   "metadata": {},
   "outputs": [],
   "source": []
  },
  {
   "cell_type": "code",
   "execution_count": null,
   "id": "252f496d",
   "metadata": {},
   "outputs": [],
   "source": []
  },
  {
   "cell_type": "code",
   "execution_count": null,
   "id": "a1f2d80d",
   "metadata": {},
   "outputs": [],
   "source": []
  },
  {
   "cell_type": "code",
   "execution_count": 300,
   "id": "bb8b7a75",
   "metadata": {},
   "outputs": [],
   "source": [
    "def seg_worklength(x):\n",
    "    if 0.0 <= x < 24.0:\n",
    "        x = '0to2'\n",
    "    elif 24 <= x < 48:\n",
    "        x = '2to4'\n",
    "    elif 48 <= x < 72: \n",
    "        x = '4to6'\n",
    "    elif 72 <= x < 96:\n",
    "        x = '6to8'\n",
    "    elif 96 <= x < 120:\n",
    "        x = '8to10'\n",
    "    elif 120 <= x:\n",
    "        x = 'over10'\n",
    "    return x\n",
    "X_train['근무경력_세분화'] = X_train['근무경력'].apply(seg_worklength)\n",
    "X_test['근무경력_세분화'] =X_test['근무경력'].apply(seg_worklength)"
   ]
  },
  {
   "cell_type": "code",
   "execution_count": 301,
   "id": "4e4f670d",
   "metadata": {},
   "outputs": [],
   "source": [
    "korea = ['서울','부산', '경기', '전국', '기타', '전북', '충남', '광주', '인천', '대전', '경남','충북','울산', '경북', '강원','전남'\n",
    "        ,'대구','제주','광주']\n",
    "foreign = ['홍콩','미국','해외','중국','캐나다','인도네시아','일본','싱가포르','필리핀','대만','말레이시아','인도네시아','러시아','인도'\n",
    "          ,'프랑스','필리핀','말레이시아','방글라데시']\n",
    "world = korea + foreign\n",
    "\n",
    "f_f = X_train.근무지역.str.split(',',expand=True)[0].isin(foreign)\n",
    "s_f = X_train.근무지역.str.split(',',expand=True)[1].isin(foreign)\n",
    "t_f = X_train.근무지역.str.split(',',expand=True)[2].isin(foreign)\n",
    "\n",
    "c = (f_f | s_f | t_f)\n",
    "\n",
    "c_index = X_train.loc[c,'근무지역'].index\n",
    "\n",
    "X_train['해외근무지역'] =  (X_train.index).isin(c_index)\n",
    "\n",
    "f_f = X_test.근무지역.str.split(',',expand=True)[0].isin(foreign)\n",
    "s_f = X_test.근무지역.str.split(',',expand=True)[1].isin(foreign)\n",
    "t_f = X_test.근무지역.str.split(',',expand=True)[2].isin(foreign)\n",
    "\n",
    "c = (f_f | s_f | t_f)\n",
    "\n",
    "ct_index = X_test.loc[c,'근무지역'].index\n",
    "\n",
    "X_test['해외근무지역'] =  (X_test.index).isin(ct_index)\n",
    "\n",
    "X_train['해외근무지역'] = X_train['해외근무지역'].apply(lambda x: '유' if x== True else '무')\n",
    "X_test['해외근무지역'] = X_test['해외근무지역'].apply(lambda x: '유' if x== True else '무')"
   ]
  },
  {
   "cell_type": "code",
   "execution_count": null,
   "id": "76699dda",
   "metadata": {},
   "outputs": [],
   "source": []
  },
  {
   "cell_type": "code",
   "execution_count": null,
   "id": "146d40f1",
   "metadata": {},
   "outputs": [],
   "source": []
  },
  {
   "cell_type": "code",
   "execution_count": 302,
   "id": "f0f9694d",
   "metadata": {},
   "outputs": [],
   "source": [
    "def list_for_new_df(values,lists):\n",
    "    result = np.zeros_like(lists,dtype=int)\n",
    "    \n",
    "    for value in values: \n",
    "        try:\n",
    "            result_index = lists.index(value)\n",
    "        except:\n",
    "            continue\n",
    "        result[result_index] = 1\n",
    "    \n",
    "    return result"
   ]
  },
  {
   "cell_type": "code",
   "execution_count": 303,
   "id": "5cdcd95e",
   "metadata": {},
   "outputs": [],
   "source": [
    "# 근무지역 겹치는거 많음, 새롭게 만들어야함\n",
    "def region(x):\n",
    "    if x in ['서울']:\n",
    "        x = '수도권_서울'\n",
    "    elif x in ['경기']:\n",
    "        x = '수도권_경기'\n",
    "    elif x in ['인천']:\n",
    "        x = '수도권_인천'\n",
    "    elif x in ['강원']:\n",
    "        x = '강원'\n",
    "    elif x in ['경남','경북','대구','부산','울산']:\n",
    "        x = '영남'\n",
    "    elif x in ['광주','전남','전북']:\n",
    "        x = '호남'\n",
    "    elif x in ['충남','충북']:\n",
    "        x = '호서'\n",
    "    elif x in ['제주']:\n",
    "        x = '제주'\n",
    "    elif x in ['대만','러시아','말레이시아','방글라데시','싱가포르','인도','인도네시아','일본','중국','필리핀','홍콩']:\n",
    "        x = '해외_유라시아'\n",
    "    elif x in ['미국','캐나다']:\n",
    "        x = '해외_아메리카'\n",
    "    elif x in ['프랑스','해외']:\n",
    "        x = '해외_기타'\n",
    "    elif x == '':\n",
    "        x = ''\n",
    "    else: \n",
    "        x = '기타'\n",
    "    return x\n",
    "\n",
    "def new_region(x):\n",
    "    x = set(sorted(map(region,x.split(','))))\n",
    "    x.discard('')\n",
    "    return tuple(x)\n",
    "\n",
    "\n",
    "X_train['new_근무지역'] = X_train['근무지역'].apply(new_region)\n",
    "X_test['new_근무지역'] = X_test['근무지역'].apply(new_region)"
   ]
  },
  {
   "cell_type": "code",
   "execution_count": 304,
   "id": "402d2970",
   "metadata": {},
   "outputs": [],
   "source": [
    "X_train['근무지역_경험횟수'] = X_train['new_근무지역'].apply(lambda x: len(x))\n",
    "X_test['근무지역_경험횟수'] = X_test['new_근무지역'].apply(lambda x: len(x))"
   ]
  },
  {
   "cell_type": "code",
   "execution_count": 305,
   "id": "4ad45cac",
   "metadata": {},
   "outputs": [],
   "source": [
    "region = ['수도권_서울','수도권_경기','수도권_인천','강원','호남','호서','영남','제주',\n",
    "          '해외_유라시아','해외_아메리카','해외_기타','기타']\n",
    "\n",
    "X_train_region_list = []\n",
    "for values in X_train['new_근무지역'].values:\n",
    "    X_train_region = list_for_new_df(values,region)\n",
    "    X_train_region_list.append(X_train_region)\n",
    "\n",
    "X_test_region_list = []\n",
    "for values in X_test['new_근무지역'].values:\n",
    "    X_test_region = list_for_new_df(values,region)\n",
    "    X_test_region_list.append(X_test_region)\n",
    "    \n",
    "    \n",
    "columns = ['근무지역_수도권_서울','근무지역_수도권_경기','근무지역_수도권_인천','근무지역_강원','근무지역_호남',\n",
    "           '근무지역_호서','근무지역_영남','근무지역_제주',\n",
    "           '근무지역_해외_유라시아','근무지역_해외_아메리카','근무지역_해외_기타','근무지역_기타']\n",
    "\n",
    "X_train_region_df = pd.DataFrame((np.vstack(X_train_region_list)),columns = columns)\n",
    "X_test_region_df = pd.DataFrame((np.vstack(X_test_region_list)),columns = columns)\n",
    "\n",
    "X_train = pd.concat((X_train,X_train_region_df),axis=1)\n",
    "X_test = pd.concat((X_test,X_test_region_df),axis=1)\n",
    "\n",
    "del X_train_region_df\n",
    "del X_test_region_df"
   ]
  },
  {
   "cell_type": "code",
   "execution_count": null,
   "id": "d8b1ff3b",
   "metadata": {},
   "outputs": [],
   "source": []
  },
  {
   "cell_type": "code",
   "execution_count": null,
   "id": "96d77d10",
   "metadata": {},
   "outputs": [],
   "source": []
  },
  {
   "cell_type": "code",
   "execution_count": 306,
   "id": "144ef72b",
   "metadata": {},
   "outputs": [],
   "source": [
    "def distance_to_seoul(x):\n",
    "    closer_to_seoul = ['성균관대학교','한성대학교', '세종대학교', '성신여자대학교','연세대학교', '동덕여자대학교',\n",
    "                       '성공회대학교','중앙대학교','이화여자대학교','서울여자대학교','수원대학교','인천대학교',\n",
    "                       '경기대학교','성결대학교','용인대학교','협성대학교','한국산업기술대학교','서울신학대학교','서울과학기술대학교']\n",
    "    if x in closer_to_seoul:\n",
    "        x = 1\n",
    "    else:\n",
    "        x = 0\n",
    "    return x\n",
    "\n",
    "\n",
    "X_train['수도권대학교'] = X_train['출신대학'].apply(distance_to_seoul)\n",
    "X_test['수도권대학교'] = X_test['출신대학'].apply(distance_to_seoul)"
   ]
  },
  {
   "cell_type": "code",
   "execution_count": 307,
   "id": "44d28e6f",
   "metadata": {},
   "outputs": [],
   "source": [
    "X_train['대학지역']='기타'\n",
    "X_test['대학지역']='기타'\n",
    "\n",
    "X_train.loc[(X_train['출신대학']=='성균관대학교')|(X_train['출신대학']=='중앙대학교')\n",
    "           |(X_train['출신대학']=='세종대학교')|(X_train['출신대학']=='연세대학교')|(X_train['출신대학']=='한성대학교')\n",
    "           |(X_train['출신대학']=='성신여자대학교')|(X_train['출신대학']=='동덕여자대학교')|(X_train['출신대학']=='이화여자대학교')\n",
    "           |(X_train['출신대학']=='한림대학교')|(X_train['출신대학']=='서울여자대학교')|(X_train['출신대학']=='서울과학기술대학교')\n",
    "           |(X_train['출신대학']=='서울신학대학교')|(X_train['출신대학']=='성공회대학교'),'대학지역']='서울'\n",
    "\n",
    "X_train.loc[(X_train['출신대학']=='동아대학교')|(X_train['출신대학']=='동의대학교')\n",
    "           |(X_train['출신대학']=='신라대학교')|(X_train['출신대학']=='동의대학교')|(X_train['출신대학']=='경주대학교')\n",
    "          |(X_train['출신대학']=='부산디지털대학교')|(X_train['출신대학']=='동서대학교'),'대학지역']='영남'\n",
    "\n",
    "X_train.loc[(X_train['출신대학']=='수원대학교')\n",
    "           |(X_train['출신대학']=='경기대학교')|(X_train['출신대학']=='호원대학교')|(X_train['출신대학']=='용인대학교')\n",
    "          |(X_train['출신대학']=='협성대학교')|(X_train['출신대학']=='한국산업기술대학교')\n",
    "          |(X_train['출신대학']=='인천대학교')|(X_train['출신대학']=='성결대학교')|(X_train['출신대학']=='한세대학교'),'대학지역']='경기'\n",
    "\n",
    "X_train.loc[(X_train['출신대학']=='한밭대학교')|(X_train['출신대학']=='세명대학교')\n",
    "           |(X_train['출신대학']=='선문대학교')|(X_train['출신대학']=='서원대학교')\n",
    "          ,'대학지역']='호서'\n",
    "\n",
    "X_train.loc[(X_train['출신대학']=='전주대학교')|(X_train['출신대학']=='목포대학교')\n",
    "           |(X_train['출신대학']=='군산대학교')|(X_train['출신대학']=='호남대학교')|(X_train['출신대학']=='광주대학교')\n",
    "          |(X_train['출신대학']=='한일장신대학교')|(X_train['출신대학']=='송원대학교'),'대학지역']='호남'\n",
    "\n",
    "X_train.loc[(X_train['출신대학']=='제주대학교'),'대학지역']='제주'\n",
    "\n",
    "X_train.loc[(X_train['출신대학']=='상지대학교'),'대학지역']='강원'\n",
    "\n",
    "#X_test\n",
    "X_test.loc[(X_test['출신대학']=='성균관대학교')|(X_test['출신대학']=='중앙대학교')\n",
    "           |(X_test['출신대학']=='세종대학교')|(X_test['출신대학']=='연세대학교')|(X_test['출신대학']=='한성대학교')\n",
    "           |(X_test['출신대학']=='성신여자대학교')|(X_test['출신대학']=='동덕여자대학교')|(X_test['출신대학']=='이화여자대학교')\n",
    "           |(X_test['출신대학']=='한림대학교')|(X_test['출신대학']=='서울여자대학교')|(X_test['출신대학']=='서울과학기술대학교')\n",
    "           |(X_test['출신대학']=='서울신학대학교')|(X_test['출신대학']=='성공회대학교'),'대학지역']='서울'\n",
    "\n",
    "X_test.loc[(X_test['출신대학']=='동아대학교')|(X_test['출신대학']=='동의대학교')\n",
    "           |(X_test['출신대학']=='신라대학교')|(X_test['출신대학']=='동의대학교')|(X_test['출신대학']=='경주대학교')\n",
    "          |(X_test['출신대학']=='부산디지털대학교')|(X_test['출신대학']=='동서대학교'),'대학지역']='영남'\n",
    "\n",
    "X_test.loc[(X_test['출신대학']=='수원대학교')\n",
    "           |(X_test['출신대학']=='경기대학교')|(X_test['출신대학']=='호원대학교')|(X_test['출신대학']=='용인대학교')\n",
    "          |(X_test['출신대학']=='협성대학교')|(X_test['출신대학']=='한국산업기술대학교')\n",
    "          |(X_test['출신대학']=='인천대학교')|(X_test['출신대학']=='성결대학교')|(X_test['출신대학']=='한세대학교'),'대학지역']='경기'\n",
    "\n",
    "X_test.loc[(X_test['출신대학']=='한밭대학교')|(X_test['출신대학']=='세명대학교')\n",
    "           |(X_test['출신대학']=='선문대학교')|(X_test['출신대학']=='서원대학교')\n",
    "          ,'대학지역']='호서'\n",
    "\n",
    "X_test.loc[(X_test['출신대학']=='전주대학교')|(X_test['출신대학']=='목포대학교')\n",
    "           |(X_test['출신대학']=='군산대학교')|(X_test['출신대학']=='호남대학교')|(X_test['출신대학']=='광주대학교')\n",
    "          |(X_test['출신대학']=='한일장신대학교')|(X_test['출신대학']=='송원대학교'),'대학지역']='호남'\n",
    "\n",
    "X_test.loc[(X_test['출신대학']=='제주대학교'),'대학지역']='제주'\n",
    "\n",
    "X_test.loc[(X_test['출신대학']=='상지대학교'),'대학지역']='강원'"
   ]
  },
  {
   "cell_type": "code",
   "execution_count": 308,
   "id": "685e2ad2",
   "metadata": {},
   "outputs": [],
   "source": [
    "X_train['연고지'] = 0\n",
    "X_train.loc[(X_train['대학지역']=='서울')&(X_train['근무지역_수도권_서울']==1),'연고지']=1\n",
    "X_train.loc[(X_train['대학지역']=='경기')&(X_train['근무지역_수도권_경기']==1),'연고지']=1\n",
    "X_train.loc[(X_train['대학지역']=='영남')&(X_train['근무지역_영남']==1),'연고지']=1\n",
    "X_train.loc[(X_train['대학지역']=='호서')&(X_train['근무지역_호서']==1),'연고지']=1\n",
    "X_train.loc[(X_train['대학지역']=='호남')&(X_train['근무지역_호남']==1),'연고지']=1\n",
    "X_train.loc[(X_train['대학지역']=='강원')&(X_train['근무지역_강원']==1),'연고지']=1\n",
    "X_train.loc[(X_train['대학지역']=='제주')&(X_train['근무지역_제주']==1),'연고지']=1\n",
    "\n",
    "\n",
    "X_test['연고지'] = 0\n",
    "X_test.loc[(X_test['대학지역']=='서울')&(X_test['근무지역_수도권_서울']==1),'연고지']=1\n",
    "X_test.loc[(X_train['대학지역']=='경기')&(X_test['근무지역_수도권_경기']==1),'연고지']=1\n",
    "X_test.loc[(X_train['대학지역']=='영남')&(X_test['근무지역_영남']==1),'연고지']=1\n",
    "X_test.loc[(X_train['대학지역']=='호서')&(X_test['근무지역_호서']==1),'연고지']=1\n",
    "X_test.loc[(X_train['대학지역']=='호남')&(X_test['근무지역_호남']==1),'연고지']=1\n",
    "X_test.loc[(X_train['대학지역']=='강원')&(X_test['근무지역_강원']==1),'연고지']=1\n",
    "X_test.loc[(X_train['대학지역']=='제주')&(X_test['근무지역_제주']==1),'연고지']=1"
   ]
  },
  {
   "cell_type": "code",
   "execution_count": 309,
   "id": "d6d22f41",
   "metadata": {},
   "outputs": [],
   "source": [
    "X_train.loc[(X_train['출신대학'].str.contains('성균관대학교|세종대학교|성신여자대학교|연세대학교|동덕여자대학교|중앙대학교|이화여자대학교|서울과학기술대학교|서울여자대학교')),'명문대']=1\n",
    "X_train['명문대']=X_train['명문대'].fillna(0)\n",
    "\n",
    "X_test.loc[(X_test['출신대학'].str.contains('성균관대학교|세종대학교|성신여자대학교|연세대학교|동덕여자대학교|중앙대학교|이화여자대학교|서울과학기술대학교|서울여자대학교')),'명문대']=1\n",
    "X_test['명문대']=X_test['명문대'].fillna(0)\n",
    "\n"
   ]
  },
  {
   "cell_type": "code",
   "execution_count": 310,
   "id": "6596554e",
   "metadata": {},
   "outputs": [],
   "source": [
    "X = pd.concat([X_train, y_train], axis = 1)"
   ]
  },
  {
   "cell_type": "code",
   "execution_count": 311,
   "id": "90c908b9",
   "metadata": {},
   "outputs": [],
   "source": [
    "def merge_region_worklength(data,on):\n",
    "    right = X.groupby(on)[['근무경력']].mean()\n",
    "    right.loc[0] = 0.0\n",
    "    right.columns = [f\"{on}_경력평균\"]\n",
    "    result = pd.merge(data,right,on=on,how='left')\n",
    "    return result\n",
    "\n",
    "on_list = ['근무지역_수도권_서울','근무지역_수도권_경기','근무지역_수도권_인천','근무지역_강원','근무지역_호남',\n",
    "           '근무지역_호서','근무지역_영남','근무지역_제주',\n",
    "           '근무지역_해외_유라시아','근무지역_해외_아메리카','근무지역_해외_기타','근무지역_기타']\n",
    "\n",
    "\n",
    "#X_train merge\n",
    "for on in on_list:\n",
    "    X_train = merge_region_worklength(X_train,on)\n",
    "# X_test merge\n",
    "for on in on_list:\n",
    "    X_test = merge_region_worklength(X_test,on)"
   ]
  },
  {
   "cell_type": "code",
   "execution_count": 312,
   "id": "b54224c7",
   "metadata": {},
   "outputs": [],
   "source": [
    "region_worklength_mean_list = ['근무지역_수도권_서울_경력평균', '근무지역_수도권_경기_경력평균', '근무지역_수도권_인천_경력평균',\n",
    "       '근무지역_강원_경력평균', '근무지역_호남_경력평균', '근무지역_호서_경력평균', '근무지역_영남_경력평균',\n",
    "       '근무지역_제주_경력평균', '근무지역_해외_유라시아_경력평균', '근무지역_해외_아메리카_경력평균',\n",
    "       '근무지역_해외_기타_경력평균', '근무지역_기타_경력평균']"
   ]
  },
  {
   "cell_type": "code",
   "execution_count": 313,
   "id": "e54c619a",
   "metadata": {},
   "outputs": [],
   "source": [
    "X_train['근무지역_개별_경력평균'] = X_train[region_worklength_mean_list].sum(axis=1)/X_train['근무지역_경험횟수']\n",
    "X_test['근무지역_개별_경력평균'] = X_test[region_worklength_mean_list].sum(axis=1)/X_test['근무지역_경험횟수']\n"
   ]
  },
  {
   "cell_type": "markdown",
   "id": "f6b1bae8",
   "metadata": {},
   "source": [
    "# 데이터 내보내기"
   ]
  },
  {
   "cell_type": "code",
   "execution_count": 314,
   "id": "8568a168",
   "metadata": {},
   "outputs": [],
   "source": [
    "X_train.to_csv('X_train_candidate2_feature.csv',encoding='cp949', index=False)"
   ]
  },
  {
   "cell_type": "code",
   "execution_count": 315,
   "id": "791e60ca",
   "metadata": {},
   "outputs": [],
   "source": [
    "X_test.to_csv('X_test_candidate2_feature.csv',encoding='cp949', index=False)"
   ]
  },
  {
   "cell_type": "code",
   "execution_count": null,
   "id": "d0d76f4e",
   "metadata": {},
   "outputs": [],
   "source": []
  }
 ],
 "metadata": {
  "kernelspec": {
   "display_name": "Python 3 (ipykernel)",
   "language": "python",
   "name": "python3"
  },
  "language_info": {
   "codemirror_mode": {
    "name": "ipython",
    "version": 3
   },
   "file_extension": ".py",
   "mimetype": "text/x-python",
   "name": "python",
   "nbconvert_exporter": "python",
   "pygments_lexer": "ipython3",
   "version": "3.10.9"
  }
 },
 "nbformat": 4,
 "nbformat_minor": 5
}
