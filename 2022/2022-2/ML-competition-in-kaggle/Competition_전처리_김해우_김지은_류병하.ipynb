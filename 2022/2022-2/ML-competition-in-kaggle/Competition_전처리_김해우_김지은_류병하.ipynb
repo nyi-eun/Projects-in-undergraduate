{
 "cells": [
  {
   "cell_type": "code",
   "execution_count": 34,
   "id": "403656cf",
   "metadata": {},
   "outputs": [],
   "source": [
    "%matplotlib inline\n",
    "import warnings\n",
    "warnings.filterwarnings(\"ignore\")\n",
    "\n",
    "from sklearn.model_selection import train_test_split, KFold\n",
    "import plotly.express as px\n",
    "import pandas as pd\n",
    "import numpy as np\n",
    "import matplotlib.pyplot as plt\n",
    "import seaborn as sns\n",
    "from sklearn.pipeline import Pipeline\n",
    "from sklearn.compose import ColumnTransformer\n",
    "from sklearn.preprocessing import FunctionTransformer\n",
    "from sklearn.base import BaseEstimator, TransformerMixin\n",
    "from sklearn.impute import SimpleImputer\n",
    "from sklearn.preprocessing import PowerTransformer \n",
    "from sklearn.preprocessing import OrdinalEncoder, OneHotEncoder\n",
    "from sklearn.feature_selection import SelectPercentile\n",
    "from sklearn.model_selection import train_test_split, cross_val_score, cross_validate\n",
    "from sklearn.metrics import mean_squared_error\n",
    "from sklearn import set_config\n",
    "from lightgbm import LGBMRegressor\n",
    "import lightgbm as lgb\n",
    "import optuna\n",
    "from optuna.distributions import CategoricalDistribution, IntDistribution, FloatDistribution\n",
    "from optuna.integration import OptunaSearchCV, ShapleyImportanceEvaluator\n",
    "from optuna.integration.lightgbm import LightGBMTunerCV #lgbm 전용 tunner 가 존재\n",
    "from catboost import CatBoostRegressor\n",
    "from sklearn.linear_model import Ridge\n",
    "from sklearn.linear_model import RidgeClassifier\n",
    "from sklearn.decomposition import PCA\n",
    "from sklearn.linear_model import Lasso\n",
    "from sklearn.metrics import mean_squared_error\n",
    "from sklearn import model_selection\n",
    "from category_encoders import TargetEncoder\n",
    "from sklearn.preprocessing import StandardScaler, MinMaxScaler"
   ]
  },
  {
   "cell_type": "markdown",
   "id": "2a38e426",
   "metadata": {},
   "source": [
    "## 데이터 불러오기"
   ]
  },
  {
   "cell_type": "code",
   "execution_count": 35,
   "id": "c32f3da8",
   "metadata": {},
   "outputs": [],
   "source": [
    "X_train1 = pd.read_csv('X_train.csv', encoding='cp949')\n",
    "y_train1 = pd.read_csv('y_train.csv', encoding='cp949')"
   ]
  },
  {
   "cell_type": "code",
   "execution_count": 36,
   "id": "de37860d",
   "metadata": {},
   "outputs": [],
   "source": [
    "train=pd.merge(X_train1, y_train1, on='ID')"
   ]
  },
  {
   "cell_type": "code",
   "execution_count": 37,
   "id": "1f8f42e8",
   "metadata": {},
   "outputs": [],
   "source": [
    "X_train = pd.read_csv('X_train.csv', encoding='cp949').drop(columns='ID')\n",
    "y_train = pd.read_csv('y_train.csv', encoding='cp949').Salary\n",
    "\n",
    "X_test = pd.read_csv('X_test.csv', encoding='cp949')\n",
    "test_id = X_test.ID\n",
    "X_test = X_test.drop(columns='ID')"
   ]
  },
  {
   "cell_type": "markdown",
   "id": "944a6eb9",
   "metadata": {},
   "source": [
    "## 결측지 확인"
   ]
  },
  {
   "cell_type": "code",
   "execution_count": 38,
   "id": "630d0bda",
   "metadata": {},
   "outputs": [],
   "source": [
    "#'직무태그','근무지역','근무형태'"
   ]
  },
  {
   "cell_type": "markdown",
   "id": "d997e3f4",
   "metadata": {},
   "source": [
    "# 결측지 제거\n",
    "## 1) 직무태그  \n",
    "\n",
    "결측치 처리: 없음"
   ]
  },
  {
   "cell_type": "code",
   "execution_count": 39,
   "id": "676be00d",
   "metadata": {},
   "outputs": [],
   "source": [
    "X_train['직무태그']=X_train['직무태그'].fillna('없음')\n",
    "X_test['직무태그']=X_test['직무태그'].fillna('없음')"
   ]
  },
  {
   "cell_type": "markdown",
   "id": "e7fc2044",
   "metadata": {},
   "source": [
    "## 2) 근무형태  \n",
    "\n",
    "결측치: 계약직으로 대체  \n"
   ]
  },
  {
   "cell_type": "code",
   "execution_count": 40,
   "id": "e45cd6ef",
   "metadata": {},
   "outputs": [],
   "source": [
    "# 결측치 계약직으로 대체\n",
    "X_train['근무형태']=X_train['근무형태'].fillna('계약직')\n",
    "X_test['근무형태']=X_test['근무형태'].fillna('계약직')"
   ]
  },
  {
   "cell_type": "markdown",
   "id": "f31a4226",
   "metadata": {},
   "source": [
    "## 3) 어학시험\n",
    "\n",
    "어학시험  \n",
    "결측치: 불확실로 처리  \n",
    "피처 수정: 기타시험, 기타 -> 기타로 묶기  \n"
   ]
  },
  {
   "cell_type": "code",
   "execution_count": 41,
   "id": "2338020c",
   "metadata": {},
   "outputs": [],
   "source": [
    "X_train['어학시험']=X_train['어학시험'].fillna('미응시')\n",
    "X_test['어학시험']=X_test['어학시험'].fillna('미응시')"
   ]
  },
  {
   "cell_type": "markdown",
   "id": "fe5055a9",
   "metadata": {},
   "source": [
    "## 3) 대학성적  \n",
    "결측치: 중앙값 대체"
   ]
  },
  {
   "cell_type": "code",
   "execution_count": 42,
   "id": "b6d2af6b",
   "metadata": {},
   "outputs": [],
   "source": [
    "check = train.copy()\n",
    "check['대학성적'] = check['대학성적'].fillna('결측지')"
   ]
  },
  {
   "cell_type": "code",
   "execution_count": 43,
   "id": "432cba32",
   "metadata": {
    "scrolled": true
   },
   "outputs": [
    {
     "data": {
      "text/plain": [
       "대학성적\n",
       "0.0      2887.500000\n",
       "30.0     2600.000000\n",
       "40.0     2705.434783\n",
       "50.0     2658.419958\n",
       "60.0     2798.009650\n",
       "70.0     2835.310465\n",
       "80.0     2794.408840\n",
       "90.0     2759.366197\n",
       "100.0    2371.428571\n",
       "110.0    3834.375000\n",
       "결측지      2858.781726\n",
       "Name: Salary, dtype: float64"
      ]
     },
     "execution_count": 43,
     "metadata": {},
     "output_type": "execute_result"
    }
   ],
   "source": [
    "check.groupby('대학성적')['Salary'].mean()"
   ]
  },
  {
   "cell_type": "code",
   "execution_count": 44,
   "id": "54fd4603",
   "metadata": {},
   "outputs": [],
   "source": [
    "# 결측지의 target평균이 중앙값인 70과 유사하므로 중앙값으로 대체\n",
    "X_train['대학성적']= X_train['대학성적'].fillna(X_train['대학성적'].median())\n",
    "X_test['대학성적']= X_test['대학성적'].fillna(X_train['대학성적'].median())"
   ]
  },
  {
   "cell_type": "markdown",
   "id": "59dba906",
   "metadata": {},
   "source": [
    "## 최종확인"
   ]
  },
  {
   "cell_type": "code",
   "execution_count": 45,
   "id": "cf912186",
   "metadata": {},
   "outputs": [
    {
     "data": {
      "text/plain": [
       "0"
      ]
     },
     "execution_count": 45,
     "metadata": {},
     "output_type": "execute_result"
    }
   ],
   "source": [
    "X_train.isnull().sum().sum()"
   ]
  },
  {
   "cell_type": "code",
   "execution_count": 46,
   "id": "a7123f85",
   "metadata": {
    "scrolled": true
   },
   "outputs": [
    {
     "data": {
      "text/plain": [
       "0"
      ]
     },
     "execution_count": 46,
     "metadata": {},
     "output_type": "execute_result"
    }
   ],
   "source": [
    "X_test.isnull().sum().sum()"
   ]
  },
  {
   "cell_type": "markdown",
   "id": "f75250da",
   "metadata": {},
   "source": [
    "# 피처 전처리"
   ]
  },
  {
   "cell_type": "markdown",
   "id": "9c42a7a8",
   "metadata": {},
   "source": [
    "### 1) 직종"
   ]
  },
  {
   "cell_type": "code",
   "execution_count": 47,
   "id": "651aa773",
   "metadata": {},
   "outputs": [],
   "source": [
    "# 처리안함"
   ]
  },
  {
   "cell_type": "markdown",
   "id": "2850f809",
   "metadata": {},
   "source": [
    "### 2) 세부직종"
   ]
  },
  {
   "cell_type": "code",
   "execution_count": 48,
   "id": "011da0a8",
   "metadata": {
    "scrolled": true
   },
   "outputs": [
    {
     "data": {
      "text/plain": [
       "109"
      ]
     },
     "execution_count": 48,
     "metadata": {},
     "output_type": "execute_result"
    }
   ],
   "source": [
    "X_train['세부직종'].nunique()"
   ]
  },
  {
   "cell_type": "markdown",
   "id": "022fd8c1",
   "metadata": {},
   "source": [
    "### 3) 직무태그"
   ]
  },
  {
   "cell_type": "code",
   "execution_count": 49,
   "id": "1c85c62a",
   "metadata": {},
   "outputs": [],
   "source": [
    "# , 기준으로 나누기\n",
    "X_train['직무태그']= X_train['직무태그'].str.replace('·',',')\n",
    "X_test['직무태그']= X_test['직무태그'].str.replace('·',',')\n",
    "\n",
    "# X_train['직무태그']= X_train['직무태그'].str.replace('/',',')\n",
    "# X_test['직무태그']= X_test['직무태그'].str.replace('/',',')\n",
    "\n",
    "\n",
    "# X_train['직무태그']= X_train['직무태그'].str.replace('-',',')\n",
    "# X_test['직무태그']= X_test['직무태그'].str.replace('-',',')\n",
    "\n",
    "# X_train['직무태그']= X_train['직무태그'].str.replace('&',',')\n",
    "# X_test['직무태그']= X_test['직무태그'].str.replace('&',',')\n",
    "\n",
    "# X_train['직무태그']= X_train['직무태그'].str.replace('_',',')\n",
    "# X_test['직무태그']= X_test['직무태그'].str.replace('_',',')"
   ]
  },
  {
   "cell_type": "code",
   "execution_count": 50,
   "id": "26861788",
   "metadata": {},
   "outputs": [],
   "source": [
    "# 빈칸없애기\n",
    "X_train['직무태그']= X_train['직무태그'].str.replace(' ','')\n",
    "X_test['직무태그']= X_test['직무태그'].str.replace(' ','')"
   ]
  },
  {
   "cell_type": "markdown",
   "id": "a2478c3c",
   "metadata": {},
   "source": [
    "# 맨뒷글자 ,인경우 없애기\n",
    "a = []\n",
    "for i in X_train['직무태그']:\n",
    "    if i[-1] == ',':\n",
    "        a.append(i[:-1])\n",
    "    elif i[-1] == '.':\n",
    "        a.append(i[:-1])\n",
    "    elif i[0] == ',':\n",
    "        a.append(i[1:])\n",
    "    else:\n",
    "        a.append(i)\n",
    "    \n",
    "X_train['직무태그'] = a\n",
    "\n",
    "b = []\n",
    "for j in X_test['직무태그']:\n",
    "    if j[-1] == ',':\n",
    "        b.append(j[:-1])\n",
    "    elif j[-1] == '.':\n",
    "        b.append(j[:-1])\n",
    "    elif j[0] == ',':\n",
    "        b.append(j[1:])\n",
    "    else:\n",
    "        b.append(j)\n",
    "    \n",
    "X_test['직무태그'] = b"
   ]
  },
  {
   "cell_type": "markdown",
   "id": "69613f80",
   "metadata": {},
   "source": [
    "gik_lst = ['#53245','#49406']\n",
    "\n",
    "\n",
    "for i in gik_lst:\n",
    "    X_train.loc[X_train['직무태그'].str.contains(f'{i}'),'직무태그'] = '기타'\n",
    "    X_test.loc[X_test['직무태그'].str.contains(f'{i}'), '직무태그'] = '기타'\n",
    "    \n",
    "    \n",
    "    \n",
    "X_train['직무태그'].loc[X_train['직무태그'] == '기획MD'] = '기획md'\n",
    "X_train['직무태그'].loc[X_train['직무태그'] == '디지이너'] = '디자이너'\n",
    "X_train['직무태그'].loc[X_train['직무태그'] == '공무부'] = '공무원'\n",
    "X_train['직무태그'].loc[X_train['직무태그'] == '관리자'] = '관리직'\n",
    "X_train['직무태그'].loc[X_train['직무태그'] == '기술자'] = '기술직'\n",
    "X_train['직무태그'].loc[X_train['직무태그'] == '웹개발'] = '웹기획'\n",
    "X_train['직무태그'].loc[X_train['직무태그'] == '전산실'] = '전산직'\n",
    "X_train['직무태그'].loc[X_train['직무태그'] == '회계외'] = '회계사'\n",
    "\n",
    "X_train['직무태그'].loc[X_train['직무태그'] == '칼라리스트'] = '컬러리스트'\n",
    "X_train['직무태그'].loc[X_train['직무태그'] == '텔레마케터'] = '텔레마케팅'\n",
    "X_train['직무태그'].loc[X_train['직무태그'] == '프랜차이즈'] = '프렌차이즈'\n",
    "X_train['직무태그'].loc[X_train['직무태그'] == 'Salesadmin'] = 'SalesAdmin'\n",
    "X_train['직무태그'].loc[X_train['직무태그'] == '매니저'] = '메니져'\n",
    "\n",
    "\n",
    "\n",
    "\n",
    "\n",
    "X_test['직무태그'].loc[X_test['직무태그'] == '기획MD'] = '기획md'\n",
    "X_test['직무태그'].loc[X_test['직무태그'] == '디지이너'] = '디자이너'\n",
    "X_test['직무태그'].loc[X_test['직무태그'] == '공무부'] = '공무원'\n",
    "X_test['직무태그'].loc[X_test['직무태그'] == '관리자'] = '관리직'\n",
    "X_test['직무태그'].loc[X_test['직무태그'] == '기술자'] = '기술직'\n",
    "X_test['직무태그'].loc[X_test['직무태그'] == '웹개발'] = '웹기획'\n",
    "X_test['직무태그'].loc[X_test['직무태그'] == '전산실'] = '전산직'\n",
    "X_test['직무태그'].loc[X_test['직무태그'] == '회계외'] = '회계사'\n",
    "\n",
    "X_test['직무태그'].loc[X_test['직무태그'] == '칼라리스트'] = '컬러리스트'\n",
    "X_test['직무태그'].loc[X_test['직무태그'] == '텔레마케터'] = '텔레마케팅'\n",
    "X_test['직무태그'].loc[X_test['직무태그'] == '프랜차이즈'] = '프렌차이즈'\n",
    "X_test['직무태그'].loc[X_test['직무태그'] == 'Salesadmin'] = 'SalesAdmin'\n",
    "X_test['직무태그'].loc[X_test['직무태그'] == '매니저'] = '메니져'"
   ]
  },
  {
   "cell_type": "markdown",
   "id": "e9499dd1",
   "metadata": {},
   "source": [
    "gik_no = ['시원하게따사롭게','7277','영업,영없관리','없음','소리없이끈기있는...','생산관리분야에관한경력은없지만기회가있으면근무하고싶습니다',\n",
    "        '8483','2172','aaaa','패기.열정이있는젊은이!나를선택해주십시요!','ㅇㅇ','12ㅂㅈ', 'ㅁㅁ', 'ㄷ','회사의발전이곧나의발전이라생각하며열심히일하겠습니다.',\n",
    "        '여러모임에서의회장을역임한경험이큰발전의계기가될것입니다.','LGDisplay신공장기획및국내영업경력이력서입니다','자금조달,운용,집행및총무,인사업무경력자입니다.',\n",
    "         '능력있는전자구매자입니다.','열심히노력하는RF엔지니어입니다','서인호이력서입니다','준비된자세한상민입니다','이제3년차에접어든재무요원입니다...','난감동적인사람이다',\n",
    "         '포기는김장철에나쓰는말이다.','불가능그것은도전이라는이름앞에무너지는것이다.','TOEIC940,무역전공,신입,해외영업을하고싶습니다.','무','.','p','웹','일','1','법','C','??',\n",
    "        '금웅','금용','급여','성찰','성실','조선','중국','지원','희망','현지','429','멋쟁이','새출발','신동영','심응재','써비스','윤재임','jw134','alsl1'\n",
    "        '조주현','준비중','최영연','최희주','1052','1201','1878','7770','test','pc가능','박미선','보상과','중국통','변화무쌍','트레이너','11111','준비된비서',\n",
    "         '#NAME?','kj0121','cccccc','gun3733','70013867','bong9411','농산물Buyer','영업밖에모르는놈','21세기새로운도전','능력있는영업지원자','무엇이든할수있어요',\n",
    "        '소리없이끈기있는..','회계담당자...경리','회계의모든것은나에게로','사무,총부,인사....','회계,세무분야성실한인재',',영어,일본어,번역,통역','1금융권에서10년이상근무',\n",
    "         '성실하고능력있는웹디자이너','★언제나처음과같은마음으로★','김세미의해외영업직지원이력서','해외영업분야인재를찾고계십니까',\"반도체,공정eng'r,Engineer,진공\",'최선을다한나',\n",
    "         '제가필요로하는곳.','일러스트,,#53245;,포토,#49406;,드림위버,기획력',',','0','?','s','ㅇ','영','!!','6σ','11','임대호',',,,','207','310','간다잉','금융外','이진혁',\n",
    "         '3240','4831','9336','ho30','비전21','나의이력서','bar,까페','내가해결하라','최영철이력서','yesu153','뛰는영업관리자','leejs718','후회없는삶을살자','강력한서비스마인드','#49406;매니저',\n",
    "         ]\n",
    "          \n",
    "\n",
    "for i in X_train.loc[X_train['직무태그'].str.contains('니다'), '직무태그']:\n",
    "    gik_no.append(i)\n",
    "    \n",
    "for i in X_train.loc[X_train['직무태그'].str.contains('!'), '직무태그']:\n",
    "    gik_no.append(i)\n",
    "    \n",
    "\n",
    "X_train['직무태그'] = X_train['직무태그'].replace(gik_no, '기타')\n",
    "X_test['직무태그'] = X_test['직무태그'].replace(gik_no, '기타')"
   ]
  },
  {
   "cell_type": "markdown",
   "id": "63a7c5f4",
   "metadata": {},
   "source": [
    "X_train['직무태그'].nunique()"
   ]
  },
  {
   "cell_type": "markdown",
   "id": "98c38e9d",
   "metadata": {},
   "source": [
    "### 4) 근무경력"
   ]
  },
  {
   "cell_type": "code",
   "execution_count": 51,
   "id": "a4dbda83",
   "metadata": {},
   "outputs": [],
   "source": [
    "a = []\n",
    "X_train['근무경력_원본'] = X_train['근무경력'].copy()\n",
    "for i in X_train['근무경력']:\n",
    "    split = i.split(' ')\n",
    "    if len(split) == 2:\n",
    "        a.append(int(split[0][:-1])*12 + int(split[1][:-2]))\n",
    "    else: a.append(int(split[0][:-2]))\n",
    "\n",
    "X_train['근무경력'] = a\n",
    "\n",
    "b = []\n",
    "X_test['근무경력_원본'] = X_test['근무경력'].copy()\n",
    "for j in X_test['근무경력']:\n",
    "    split_2 = j.split(' ')\n",
    "    if len(split_2) == 2:\n",
    "        b.append(int(split_2[0][:-1])*12 + int(split_2[1][:-2]))\n",
    "    else: b.append(int(split_2[0][:-2]))\n",
    "\n",
    "X_test['근무경력'] = b"
   ]
  },
  {
   "cell_type": "markdown",
   "id": "2182406d",
   "metadata": {},
   "source": [
    "### 5) 근무형태"
   ]
  },
  {
   "cell_type": "code",
   "execution_count": 52,
   "id": "ffe06851",
   "metadata": {},
   "outputs": [],
   "source": [
    "# 근무형태 피처를 게약직, 정규직으로 이분화 하기전에 해외취업여부를 미리 뽑아내야되기 떄문에 피처만들기 단계에서 할 일을 미리해둠\n",
    "a = []\n",
    "for i in X_train['근무형태']:\n",
    "    if '해외취업' in i:\n",
    "        a.append('o')\n",
    "    else: a.append('x')\n",
    "\n",
    "X_train['해외취업여부'] = a\n",
    "\n",
    "b = []\n",
    "for j in X_test['근무형태']:\n",
    "    if '해외취업' in j:\n",
    "        b.append('o')\n",
    "    else: b.append('x')\n",
    "\n",
    "X_test['해외취업여부'] = b"
   ]
  },
  {
   "cell_type": "code",
   "execution_count": 53,
   "id": "d9882377",
   "metadata": {},
   "outputs": [],
   "source": [
    "# # 인턴이 포함된 데이터들의 타겟의 평균이 눈에띄게 낮기떄문에 인턴들을 먼저 계약직으로 분류\n",
    "# a = []\n",
    "# for i in X_train['근무형태']:\n",
    "#     if '인턴' in i:\n",
    "#         a.append('계약직')\n",
    "#     elif '정규직' in i:\n",
    "#         a.append('정규직')\n",
    "#     else: a.append('계약직')\n",
    "\n",
    "# X_train['근무형태'] = a\n",
    "\n",
    "# b = []\n",
    "# for j in X_test['근무형태']:\n",
    "#     if '인턴' in j:\n",
    "#         b.append('계약직')\n",
    "#     elif '정규직' in j:\n",
    "#         b.append('정규직')\n",
    "#     else: b.append('계약직')\n",
    "\n",
    "# X_test['근무형태'] = b"
   ]
  },
  {
   "cell_type": "markdown",
   "id": "31bd7224",
   "metadata": {},
   "source": [
    "### 6) 근무지역"
   ]
  },
  {
   "cell_type": "code",
   "execution_count": 54,
   "id": "b9a6711b",
   "metadata": {},
   "outputs": [],
   "source": [
    "X = pd.concat([X_train,X_test], ignore_index=True)"
   ]
  },
  {
   "cell_type": "code",
   "execution_count": 55,
   "id": "10175f81",
   "metadata": {},
   "outputs": [],
   "source": [
    "region_lst=[]\n",
    "for val in X['근무지역']:\n",
    "    region_lst.append(val.split(','))"
   ]
  },
  {
   "cell_type": "code",
   "execution_count": 56,
   "id": "5a94c0d9",
   "metadata": {},
   "outputs": [],
   "source": [
    "X['근무지역1'] = np.zeros(shape=(X.shape[0],), dtype=np.int8)\n",
    "X['근무지역2'] = np.zeros(shape=(X.shape[0],), dtype=np.int8)\n",
    "X['근무지역3'] = np.zeros(shape=(X.shape[0],), dtype=np.int8)"
   ]
  },
  {
   "cell_type": "code",
   "execution_count": 57,
   "id": "f7d7c8b1",
   "metadata": {},
   "outputs": [],
   "source": [
    "for k in range(0, len(region_lst)):\n",
    "    cnt = 0\n",
    "    X['근무지역1'][k] = region_lst[k][cnt]\n",
    "    cnt += 1\n",
    "    if region_lst[k][cnt] == '' and region_lst[k][cnt+1] == '':\n",
    "        X['근무지역2'][k] = X['근무지역1'][k]\n",
    "        X['근무지역3'][k] = X['근무지역1'][k]\n",
    "    elif region_lst[k][cnt+1] == '' and region_lst[k][cnt] != '':\n",
    "        X['근무지역2'][k] = X['근무지역1'][k]\n",
    "        X['근무지역3'][k] = X['근무지역2'][k]\n",
    "    else:\n",
    "        X['근무지역2'][k] = region_lst[k][cnt]\n",
    "        X['근무지역3'][k] = region_lst[k][cnt+1]"
   ]
  },
  {
   "cell_type": "code",
   "execution_count": 58,
   "id": "13d0c8d2",
   "metadata": {},
   "outputs": [],
   "source": [
    "#X.drop('근무지역', axis=1, inplace=True)"
   ]
  },
  {
   "cell_type": "code",
   "execution_count": 59,
   "id": "fe266fb1",
   "metadata": {},
   "outputs": [],
   "source": [
    "X_train = X.iloc[:X_train.shape[0],:].reset_index(drop=True)\n",
    "X_test = X.iloc[X_train.shape[0]:,:].reset_index(drop=True)"
   ]
  },
  {
   "cell_type": "markdown",
   "id": "667484d8",
   "metadata": {},
   "source": [
    "### 7) 출신대학"
   ]
  },
  {
   "cell_type": "markdown",
   "id": "a2c264ae",
   "metadata": {},
   "source": [
    "### 8) 대학전공"
   ]
  },
  {
   "cell_type": "code",
   "execution_count": 60,
   "id": "9895f53f",
   "metadata": {},
   "outputs": [],
   "source": [
    "#### 맨뒷글자가 '과' 인경우 '~~'학과 또는 '~~'과 이기때문에 '~~'와 같이 분류할 수 있다고 판단함\n",
    "a = []\n",
    "for i in X_train['대학전공']:\n",
    "    if i[-1] == '과':\n",
    "        a.append(i[:-1])\n",
    "    else:\n",
    "        a.append(i)\n",
    "    \n",
    "X_train['대학전공'] = a\n",
    "\n",
    "b = []\n",
    "for j in X_test['대학전공']:\n",
    "    if j[-1] == '과':\n",
    "        b.append(j[:-1])\n",
    "    else:\n",
    "        b.append(j)\n",
    "    \n",
    "X_test['대학전공'] = b"
   ]
  },
  {
   "cell_type": "code",
   "execution_count": 61,
   "id": "c52d8046",
   "metadata": {},
   "outputs": [],
   "source": [
    "#### 대학전공에 빈칸(스페이스)를 없앴습니다\n",
    "a = []\n",
    "for i in X_train['대학전공']:\n",
    "    a.append(i.replace(' ', ''))\n",
    "    \n",
    "X_train['대학전공'] = a    \n",
    "    \n",
    "\n",
    "b=[]    \n",
    "for i in X_test['대학전공']:\n",
    "    b.append(i.replace(' ', ''))\n",
    "    \n",
    "X_test['대학전공'] = b"
   ]
  },
  {
   "cell_type": "code",
   "execution_count": 62,
   "id": "b29c1498",
   "metadata": {},
   "outputs": [],
   "source": [
    "uni_lst = ['중국','일본','영어','국어','경영','경제', '행정','회계', '정보','컴퓨터','기계','전기','건축','수학', '통계','생명','생물',\n",
    "'전자','미술', '체육', '음악','교육','디자인','화학', '정치', '환경', '법','소프트웨어','철학', '의류', '불어','물리','동양화','무역','금속',\n",
    "'전산','사학','산업','토목','독어','식품','광고','재료','토목','제어계측','유전','도시공학','국제통상','심리','사회학','신소재','공예','사회학',\n",
    "'관광개발','멀티미디어','디지털컨텐츠','전파공학','국제관광','연극영화','문예창작','응용소재','사범대','문화컨테츠','지역사회과학','항공우주',\n",
    " '관광', '광통신','사회복지','도시','천문','E-','신문','자원','전파','가정','제어','고분자','아동','조형','동양어','지역','레저',\n",
    "'생활과학','스포츠','섬유','영상','연극','연예','건설','자연','조리','인터넷','해양','호텔','영미','지구','문예','자동차','태권도',\n",
    "'원예','유통','경호','운동','러시아','디지털','신학','메체','스페인','회화','네트워크','생산','무용','사회','민속','국제','가족',\n",
    "'프랑스','예술','텍스타일','역사','사진','문화재','서양','미디어','부동산','기악','보험','금융','마케팅','에너지','청소년','영양',\n",
    " '선교', '통신','소비자','건강','제약','낙농학','매체','유학','윤리','보육','격기','지도','병리','세라믹','조소','농','인류','재료',\n",
    "  '메카','유도','보건','조경','시각','성악','경찰','웹프로그램','게임','사범','복지','한국','도서','재무','상업','언론','시스템',\n",
    "'애니']\n",
    "\n",
    "\n",
    "for i in uni_lst:\n",
    "    X_train.loc[X_train['대학전공'].str.contains(f'{i}'),'대학전공'] = f'{i}'\n",
    "    X_test.loc[X_test['대학전공'].str.contains(f'{i}'), '대학전공'] = f'{i}'\n",
    "    \n",
    "#반복문으로 한번에 안되는 것들 따로 설정 \n",
    "\n",
    "X_train.loc[X_train['대학전공'].str.contains('중문'), '대학전공'] = '중국'\n",
    "X_train.loc[X_train['대학전공'].str.contains('Chinese'), '대학전공'] = '중국'\n",
    "X_train.loc[X_train['대학전공'].str.contains('중어'), '대학전공'] = '중국'\n",
    "X_train.loc[X_train['대학전공'].str.contains('일어'), '대학전공'] = '일본'\n",
    "X_train.loc[X_train['대학전공'].str.contains('일문학'), '대학전공'] = '일본'\n",
    "X_train.loc[X_train['대학전공'].str.contains('영문'), '대학전공'] = '영어'\n",
    "X_train.loc[X_train['대학전공'].str.contains('국문'), '대학전공'] = '국어'\n",
    "X_train.loc[X_train['대학전공'].str.contains('의상'),'대학전공'] = '의류'\n",
    "X_train.loc[X_train['대학전공'].str.contains('Management'),'대학전공'] = '경영'\n",
    "X_train.loc[X_train['대학전공'].str.contains('BUSINESSADMINISTRATION'),'대학전공'] = '경영'\n",
    "X_train.loc[X_train['대학전공'].str.contains('스포츠레져'),'대학전공'] = '스포츠레저'\n",
    "X_train.loc[X_train['대학전공'].str.contains('컴공'), '대학전공'] = '컴퓨터'\n",
    "X_train.loc[X_train['대학전공'].str.contains('e-'), '대학전공'] = 'E-'\n",
    "X_train.loc[X_train['대학전공'].str.contains('E비즈'), '대학전공'] = 'E-'\n",
    "X_train.loc[X_train['대학전공'].str.contains('e비즈'), '대학전공'] = 'E-'\n",
    "X_train.loc[X_train['대학전공'].str.contains('레져'), '대학전공'] = '레저'\n",
    "X_train.loc[X_train['대학전공'].str.contains('Chemistry'), '대학전공'] = '화학'\n",
    "X_train.loc[X_train['대학전공'].str.contains('Music'), '대학전공'] = '음악'\n",
    "X_train.loc[X_train['대학전공'].str.contains('HOTEL'), '대학전공'] = '호텔'\n",
    "X_train.loc[X_train['대학전공'].str.contains('패션'), '대학전공'] = '디자인'\n",
    "X_train.loc[X_train['대학전공'].str.contains('Design'), '대학전공'] = '디자인'\n",
    "X_train.loc[X_train['대학전공'].str.contains('물류'), '대학전공'] = '유통'\n",
    "X_train.loc[X_train['대학전공'].str.contains('의생활'), '대학전공'] = '의류'\n",
    "X_train.loc[X_train['대학전공'].str.contains('사하'), '대학전공'] = '역사'\n",
    "X_train.loc[X_train['대학전공'].str.contains('E비지'), '대학전공'] = 'E-'\n",
    "X_train.loc[X_train['대학전공'].str.contains('e비지'), '대학전공'] = 'E-'\n",
    "X_train.loc[X_train['대학전공'].str.contains('Englishlanguage&literature'), '대학전공'] = '영어'\n",
    "X_train.loc[X_train['대학전공'].str.contains('이비즈니스'), '대학전공'] = 'E-'\n",
    "X_train.loc[X_train['대학전공'].str.contains('이비즈니스학'), '대학전공'] = 'E-'\n",
    "X_train.loc[X_train['대학전공'].str.contains('이비지니스학'), '대학전공'] = 'E-'\n",
    "X_train.loc[X_train['대학전공'].str.contains('PublicAdministration'), '대학전공'] = '행정'\n",
    "X_train.loc[X_train['대학전공'].str.contains('노문학'), '대학전공'] = '러시아'\n",
    "X_train.loc[X_train['대학전공'].str.contains('노어'), '대학전공'] = '러시아'\n",
    "X_train.loc[X_train['대학전공'].str.contains('불문'), '대학전공'] = '프랑스'\n",
    "X_train.loc[X_train['대학전공'].str.contains('독문'), '대학전공'] = '독어'\n",
    "X_train.loc[X_train['대학전공'].str.contains('F-Horn'), '대학전공'] = '음악'\n",
    "X_train.loc[X_train['대학전공'].str.contains('소트웨어'), '대학전공'] = '소프트웨어'\n",
    "X_train.loc[X_train['대학전공'].str.contains('MaterialsEngineering'), '대학전공'] = '재료공학'\n",
    "X_train.loc[X_train['대학전공'].str.contains('InternationalTrade'), '대학전공'] = '무역'\n",
    "X_train.loc[X_train['대학전공'].str.contains('clothingandtextile'), '대학전공'] = '의류'\n",
    "\n",
    "\n",
    "\n",
    "X_test.loc[X_test['대학전공'].str.contains('중문'), '대학전공'] = '중국'\n",
    "X_test.loc[X_test['대학전공'].str.contains('Chinese'), '대학전공'] = '중국'\n",
    "X_test.loc[X_test['대학전공'].str.contains('중어'), '대학전공'] = '중국'\n",
    "X_test.loc[X_test['대학전공'].str.contains('일어'), '대학전공'] = '일본'\n",
    "X_test.loc[X_test['대학전공'].str.contains('일문학'), '대학전공'] = '일본'\n",
    "X_test.loc[X_test['대학전공'].str.contains('영문'), '대학전공'] = '영어'\n",
    "X_test.loc[X_test['대학전공'].str.contains('국문'), '대학전공'] = '국어'\n",
    "X_test.loc[X_test['대학전공'].str.contains('의상'),'대학전공'] = '의류'\n",
    "X_test.loc[X_test['대학전공'].str.contains('Management'),'대학전공'] = '경영'\n",
    "X_test.loc[X_test['대학전공'].str.contains('BUSINESSADMINISTRATION'),'대학전공'] = '경영'\n",
    "X_test.loc[X_test['대학전공'].str.contains('e-'), '대학전공'] = 'E-'\n",
    "X_test.loc[X_test['대학전공'].str.contains('E비즈니스'), '대학전공'] = 'E-'\n",
    "X_test.loc[X_test['대학전공'].str.contains('e비즈'), '대학전공'] = 'E-'\n",
    "X_test.loc[X_test['대학전공'].str.contains('레져'), '대학전공'] = '레저'\n",
    "X_test.loc[X_test['대학전공'].str.contains('Chemistry'), '대학전공'] = '화학'\n",
    "X_test.loc[X_test['대학전공'].str.contains('Music'), '대학전공'] = '음악'\n",
    "X_test.loc[X_test['대학전공'].str.contains('HOTEL'), '대학전공'] = '호텔'\n",
    "X_test.loc[X_test['대학전공'].str.contains('패션'), '대학전공'] = '디자인'\n",
    "X_test.loc[X_test['대학전공'].str.contains('Design'), '대학전공'] = '디자인'\n",
    "X_test.loc[X_test['대학전공'].str.contains('물류'), '대학전공'] = '유통'\n",
    "X_test.loc[X_test['대학전공'].str.contains('의생활'), '대학전공'] = '의류'\n",
    "X_test.loc[X_test['대학전공'].str.contains('사하'), '대학전공'] = '역사'\n",
    "X_test.loc[X_test['대학전공'].str.contains('E비지'), '대학전공'] = 'E-'\n",
    "X_test.loc[X_test['대학전공'].str.contains('e비지'), '대학전공'] = 'E-'\n",
    "X_test.loc[X_test['대학전공'].str.contains('Englishlanguage&literature'), '대학전공'] = '영어'\n",
    "X_test.loc[X_test['대학전공'].str.contains('이비즈니스'), '대학전공'] = 'E-'\n",
    "X_test.loc[X_test['대학전공'].str.contains('이비즈니스학'), '대학전공'] = 'E-'\n",
    "X_test.loc[X_test['대학전공'].str.contains('이비지니스학'), '대학전공'] = 'E-'\n",
    "X_test.loc[X_test['대학전공'].str.contains('PublicAdministration'), '대학전공'] = '행정'\n",
    "X_test.loc[X_test['대학전공'].str.contains('노문학'), '대학전공'] = '러시아'\n",
    "X_test.loc[X_test['대학전공'].str.contains('노어'), '대학전공'] = '러시아'\n",
    "X_test.loc[X_test['대학전공'].str.contains('불문'), '대학전공'] = '프랑스'\n",
    "X_test.loc[X_test['대학전공'].str.contains('독문'), '대학전공'] = '독어'\n",
    "X_test.loc[X_test['대학전공'].str.contains('F-Horn'), '대학전공'] = '음악'\n",
    "X_test.loc[X_test['대학전공'].str.contains('소트웨어'), '대학전공'] = '소프트웨어'\n",
    "X_test.loc[X_test['대학전공'].str.contains('MaterialsEngineering'), '대학전공'] = '재료공학'\n",
    "X_test.loc[X_test['대학전공'].str.contains('InternationalTrade'), '대학전공'] = '무역'\n",
    "X_test.loc[X_test['대학전공'].str.contains('clothingandtextile'), '대학전공'] = '의류'"
   ]
  },
  {
   "cell_type": "code",
   "execution_count": 63,
   "id": "cb2bb316",
   "metadata": {},
   "outputs": [],
   "source": [
    "### unique에 오타로 판단되는 부분과 전공으로 판단되지 않는 부분을 '오타'로 대체했습니다.\n",
    "ss = ['1', '졸업','전공','토&#47791공학', 'e-businees학', '산', '영','멀티미디어학부(인터넷응요)','InternationalSummerProgram',\n",
    "      '어학연수','ㅇ','ㅇㅇ', '조리외식졍영','사','철철','토옥','철','새왈과학부','외식사업','영','문화컨테츠',\n",
    "      '사체','eh', '전공', 'dddddd', '1', '3.03', 'ghj','주거솬경학','회힉공학','Theatre','경역학','체욱학','문화제보존학','건충공학'\n",
    "     ,'기게공학','&#49887;품공학','law','수원대학교3학년편입후졸업','ㅁㅇㄻㅈㄷㄹ','physics','없음','MIS','관공통역','수원대학교',\n",
    "     'SocialHumanMovementandperformance','관좡학','library&info.science','환격공학','CommunicationConsulting','핼정학','마이컴',\n",
    "     '웨이트트레이닝','이공계열중퇴','화확공학']\n",
    "\n",
    "X_train = X_train.replace(ss, '기타')\n",
    "X_test = X_test.replace(ss, '기타')\n"
   ]
  },
  {
   "cell_type": "markdown",
   "id": "67b31dd3",
   "metadata": {},
   "source": [
    "### 9) 어학시험"
   ]
  },
  {
   "cell_type": "code",
   "execution_count": 64,
   "id": "77f7312d",
   "metadata": {},
   "outputs": [],
   "source": [
    "# ' '값을 가지는 데이터들을 결측지 즉 미응시로 대체하려 했으나 그 값들의 타겟의 평균의 매우 높아 불확실로 따로 분류 \n",
    "X_train['어학시험'].replace(' ', '불확실', inplace=True)\n",
    "X_test['어학시험'].replace(' ', '불확실', inplace=True)"
   ]
  },
  {
   "cell_type": "code",
   "execution_count": 65,
   "id": "7eefaf27",
   "metadata": {},
   "outputs": [],
   "source": [
    "# 기타시험과 기타를 같이 분류\n",
    "X_train['어학시험'].replace('기타시험','기타',inplace=True)\n",
    "X_train['어학시험'].replace('기타시험','기타',inplace=True)"
   ]
  },
  {
   "cell_type": "code",
   "execution_count": 66,
   "id": "4f0caac1",
   "metadata": {},
   "outputs": [
    {
     "data": {
      "text/plain": [
       "(16570, 16)"
      ]
     },
     "execution_count": 66,
     "metadata": {},
     "output_type": "execute_result"
    }
   ],
   "source": [
    "X_train.shape"
   ]
  },
  {
   "cell_type": "code",
   "execution_count": 67,
   "id": "44ea32c9",
   "metadata": {},
   "outputs": [
    {
     "data": {
      "text/plain": [
       "(11048, 16)"
      ]
     },
     "execution_count": 67,
     "metadata": {},
     "output_type": "execute_result"
    }
   ],
   "source": [
    "X_test.shape"
   ]
  },
  {
   "cell_type": "markdown",
   "id": "dea2389e",
   "metadata": {},
   "source": [
    "### 10) 자격증"
   ]
  },
  {
   "cell_type": "markdown",
   "id": "ccf89368",
   "metadata": {},
   "source": [
    "### 11) 대학성적"
   ]
  },
  {
   "cell_type": "markdown",
   "id": "ee842c07",
   "metadata": {},
   "source": [
    "## csv파일로 내보내기"
   ]
  },
  {
   "cell_type": "code",
   "execution_count": 68,
   "id": "e105f6a8",
   "metadata": {},
   "outputs": [],
   "source": [
    "X_train.to_csv('X_train_candidate1.csv', index=False)"
   ]
  },
  {
   "cell_type": "code",
   "execution_count": 69,
   "id": "db0d049d",
   "metadata": {},
   "outputs": [],
   "source": [
    "X_test.to_csv('X_test_candidate1.csv', index=False)"
   ]
  },
  {
   "cell_type": "code",
   "execution_count": null,
   "id": "c7910000",
   "metadata": {},
   "outputs": [],
   "source": []
  }
 ],
 "metadata": {
  "kernelspec": {
   "display_name": "Python 3 (ipykernel)",
   "language": "python",
   "name": "python3"
  },
  "language_info": {
   "codemirror_mode": {
    "name": "ipython",
    "version": 3
   },
   "file_extension": ".py",
   "mimetype": "text/x-python",
   "name": "python",
   "nbconvert_exporter": "python",
   "pygments_lexer": "ipython3",
   "version": "3.10.9"
  }
 },
 "nbformat": 4,
 "nbformat_minor": 5
}
