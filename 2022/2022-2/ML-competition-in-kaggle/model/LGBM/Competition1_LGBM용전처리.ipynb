{
 "cells": [
  {
   "cell_type": "code",
   "execution_count": 1,
   "id": "2413ac20",
   "metadata": {},
   "outputs": [],
   "source": [
    "%matplotlib inline\n",
    "import warnings\n",
    "warnings.filterwarnings(\"ignore\")\n",
    "\n",
    "from sklearn.model_selection import train_test_split, KFold\n",
    "import plotly.express as px\n",
    "import pandas as pd\n",
    "import numpy as np\n",
    "import matplotlib.pyplot as plt\n",
    "import seaborn as sns\n",
    "from sklearn.pipeline import Pipeline\n",
    "from sklearn.compose import ColumnTransformer\n",
    "from sklearn.preprocessing import FunctionTransformer\n",
    "from sklearn.base import BaseEstimator, TransformerMixin\n",
    "from sklearn.impute import SimpleImputer\n",
    "from sklearn.preprocessing import PowerTransformer \n",
    "from sklearn.preprocessing import OrdinalEncoder, OneHotEncoder\n",
    "from sklearn.feature_selection import SelectPercentile\n",
    "from sklearn.model_selection import train_test_split, cross_val_score, cross_validate\n",
    "from sklearn.metrics import mean_squared_error\n",
    "from sklearn import set_config\n",
    "from lightgbm import LGBMRegressor\n",
    "import lightgbm as lgb\n",
    "import optuna\n",
    "from optuna.distributions import CategoricalDistribution, IntDistribution, FloatDistribution\n",
    "from optuna.integration import OptunaSearchCV, ShapleyImportanceEvaluator\n",
    "from optuna.integration.lightgbm import LightGBMTunerCV #lgbm 전용 tunner 가 존재\n",
    "from catboost import CatBoostRegressor\n",
    "from sklearn.linear_model import Ridge\n",
    "from sklearn.linear_model import RidgeClassifier\n",
    "from sklearn.decomposition import PCA\n",
    "from sklearn.linear_model import Lasso\n",
    "from sklearn.metrics import mean_squared_error\n",
    "from sklearn import model_selection\n",
    "from category_encoders import TargetEncoder\n",
    "from sklearn.preprocessing import StandardScaler, MinMaxScaler"
   ]
  },
  {
   "cell_type": "markdown",
   "id": "63a2042b",
   "metadata": {},
   "source": [
    "## 데이터 불러오기"
   ]
  },
  {
   "cell_type": "code",
   "execution_count": 2,
   "id": "4685701d",
   "metadata": {},
   "outputs": [],
   "source": [
    "X_train1 = pd.read_csv('X_train.csv', encoding='cp949')\n",
    "y_train1 = pd.read_csv('y_train.csv', encoding='cp949')"
   ]
  },
  {
   "cell_type": "code",
   "execution_count": 3,
   "id": "5fcae184",
   "metadata": {},
   "outputs": [],
   "source": [
    "train=pd.merge(X_train1, y_train1, on='ID')"
   ]
  },
  {
   "cell_type": "code",
   "execution_count": 4,
   "id": "c9d8a667",
   "metadata": {},
   "outputs": [],
   "source": [
    "X_train = pd.read_csv('X_train.csv', encoding='cp949').drop(columns='ID')\n",
    "y_train = pd.read_csv('y_train.csv', encoding='cp949').Salary\n",
    "\n",
    "X_test = pd.read_csv('X_test.csv', encoding='cp949')\n",
    "test_id = X_test.ID\n",
    "X_test = X_test.drop(columns='ID')"
   ]
  },
  {
   "cell_type": "markdown",
   "id": "1b588a9c",
   "metadata": {},
   "source": [
    "## 결측지 확인"
   ]
  },
  {
   "cell_type": "code",
   "execution_count": 5,
   "id": "615e638e",
   "metadata": {},
   "outputs": [
    {
     "data": {
      "text/plain": [
       "직종          0\n",
       "세부직종        0\n",
       "직무태그     2515\n",
       "근무경력        0\n",
       "근무형태     9909\n",
       "근무지역        0\n",
       "출신대학        0\n",
       "대학전공        0\n",
       "어학시험    11582\n",
       "자격증         0\n",
       "대학성적     1970\n",
       "dtype: int64"
      ]
     },
     "execution_count": 5,
     "metadata": {},
     "output_type": "execute_result"
    }
   ],
   "source": [
    "X_train.isnull().sum()"
   ]
  },
  {
   "cell_type": "code",
   "execution_count": 6,
   "id": "6f496729",
   "metadata": {},
   "outputs": [],
   "source": [
    "#'직무태그','근무지역','근무형태'"
   ]
  },
  {
   "cell_type": "markdown",
   "id": "bffb625b",
   "metadata": {},
   "source": [
    "# 결측지 제거\n",
    "## 1) 직무태그  \n",
    "\n",
    "결측치 처리: 세부직종에 있는 값으로 대체함"
   ]
  },
  {
   "cell_type": "code",
   "execution_count": 7,
   "id": "d5e722e6",
   "metadata": {},
   "outputs": [],
   "source": [
    "X_train['직무태그']=X_train['직무태그'].fillna('없음')\n",
    "X_test['직무태그']=X_test['직무태그'].fillna('없음')"
   ]
  },
  {
   "cell_type": "markdown",
   "id": "8af28e46",
   "metadata": {},
   "source": [
    "## 2) 근무형태  \n",
    "\n",
    "결측치: 계약직으로 대체  \n"
   ]
  },
  {
   "cell_type": "code",
   "execution_count": 8,
   "id": "5bd2c59e",
   "metadata": {},
   "outputs": [],
   "source": [
    "# 결측치 계약직으로 대체\n",
    "X_train['근무형태']=X_train['근무형태'].fillna('계약직')\n",
    "X_test['근무형태']=X_test['근무형태'].fillna('계약직')"
   ]
  },
  {
   "cell_type": "markdown",
   "id": "79ec8ba3",
   "metadata": {},
   "source": [
    "## 3) 어학시험\n",
    "\n",
    "어학시험  \n",
    "결측치: 불확실로 처리  \n",
    "피처 수정: 기타시험, 기타 -> 기타로 묶기  \n"
   ]
  },
  {
   "cell_type": "code",
   "execution_count": 9,
   "id": "f21f4194",
   "metadata": {},
   "outputs": [],
   "source": [
    "X_train['어학시험']=X_train['어학시험'].fillna('미응시')\n",
    "X_test['어학시험']=X_test['어학시험'].fillna('미응시')"
   ]
  },
  {
   "cell_type": "markdown",
   "id": "0a0d3e62",
   "metadata": {},
   "source": [
    "## 3) 대학성적  \n",
    "결측치: 중앙값 대체"
   ]
  },
  {
   "cell_type": "code",
   "execution_count": 10,
   "id": "38b55f54",
   "metadata": {},
   "outputs": [],
   "source": [
    "check = train.copy()\n",
    "check['대학성적'] = check['대학성적'].fillna('결측지')"
   ]
  },
  {
   "cell_type": "code",
   "execution_count": 11,
   "id": "c317705c",
   "metadata": {
    "scrolled": true
   },
   "outputs": [
    {
     "data": {
      "text/plain": [
       "대학성적\n",
       "0.0      2887.500000\n",
       "30.0     2600.000000\n",
       "40.0     2705.434783\n",
       "50.0     2658.419958\n",
       "60.0     2798.009650\n",
       "70.0     2835.310465\n",
       "80.0     2794.408840\n",
       "90.0     2759.366197\n",
       "100.0    2371.428571\n",
       "110.0    3834.375000\n",
       "결측지      2858.781726\n",
       "Name: Salary, dtype: float64"
      ]
     },
     "execution_count": 11,
     "metadata": {},
     "output_type": "execute_result"
    }
   ],
   "source": [
    "check.groupby('대학성적')['Salary'].mean()"
   ]
  },
  {
   "cell_type": "code",
   "execution_count": 12,
   "id": "a1724126",
   "metadata": {},
   "outputs": [],
   "source": [
    "# 결측지의 target평균이 중앙값인 70과 유사하므로 중앙값으로 대체\n",
    "X_train['대학성적']= X_train['대학성적'].fillna(X_train['대학성적'].median())\n",
    "X_test['대학성적']= X_test['대학성적'].fillna(X_train['대학성적'].median())"
   ]
  },
  {
   "cell_type": "markdown",
   "id": "f4436328",
   "metadata": {},
   "source": [
    "## 최종확인"
   ]
  },
  {
   "cell_type": "code",
   "execution_count": 13,
   "id": "17f0538e",
   "metadata": {},
   "outputs": [
    {
     "data": {
      "text/plain": [
       "0"
      ]
     },
     "execution_count": 13,
     "metadata": {},
     "output_type": "execute_result"
    }
   ],
   "source": [
    "X_train.isnull().sum().sum()"
   ]
  },
  {
   "cell_type": "code",
   "execution_count": 14,
   "id": "67a3b0b0",
   "metadata": {
    "scrolled": true
   },
   "outputs": [
    {
     "data": {
      "text/plain": [
       "0"
      ]
     },
     "execution_count": 14,
     "metadata": {},
     "output_type": "execute_result"
    }
   ],
   "source": [
    "X_test.isnull().sum().sum()"
   ]
  },
  {
   "cell_type": "markdown",
   "id": "f34cae05",
   "metadata": {},
   "source": [
    "# 피처 전처리"
   ]
  },
  {
   "cell_type": "markdown",
   "id": "8df39512",
   "metadata": {},
   "source": [
    "### 1) 직종"
   ]
  },
  {
   "cell_type": "code",
   "execution_count": 15,
   "id": "ded092ca",
   "metadata": {},
   "outputs": [],
   "source": [
    "# 처리안함"
   ]
  },
  {
   "cell_type": "markdown",
   "id": "03ee167f",
   "metadata": {},
   "source": [
    "### 2) 세부직종"
   ]
  },
  {
   "cell_type": "code",
   "execution_count": 16,
   "id": "70376d54",
   "metadata": {
    "scrolled": true
   },
   "outputs": [
    {
     "data": {
      "text/plain": [
       "109"
      ]
     },
     "execution_count": 16,
     "metadata": {},
     "output_type": "execute_result"
    }
   ],
   "source": [
    "X_train['세부직종'].nunique()"
   ]
  },
  {
   "cell_type": "markdown",
   "id": "124bc322",
   "metadata": {},
   "source": [
    "### 3) 직무태그"
   ]
  },
  {
   "cell_type": "markdown",
   "id": "992427cd",
   "metadata": {},
   "source": [
    "X_train['직무태그']= X_train['직무태그'].str.replace('·',',')\n",
    "X_test['직무태그']= X_test['직무태그'].str.replace('·',',')"
   ]
  },
  {
   "cell_type": "markdown",
   "id": "c76594f4",
   "metadata": {},
   "source": [
    "# ,기준으로나누기\n",
    "X_train['직무태그']= X_train['직무태그'].str.replace(' ','')\n",
    "X_test['직무태그']= X_test['직무태그'].str.replace(' ','')"
   ]
  },
  {
   "cell_type": "markdown",
   "id": "00664873",
   "metadata": {},
   "source": [
    "### 4) 근무경력"
   ]
  },
  {
   "cell_type": "code",
   "execution_count": 17,
   "id": "98947d55",
   "metadata": {},
   "outputs": [],
   "source": [
    "a = []\n",
    "X_train['근무경력_원본'] = X_train['근무경력'].copy()\n",
    "for i in X_train['근무경력']:\n",
    "    split = i.split(' ')\n",
    "    if len(split) == 2:\n",
    "        a.append(int(split[0][:-1])*12 + int(split[1][:-2]))\n",
    "    else: a.append(int(split[0][:-2]))\n",
    "\n",
    "X_train['근무경력'] = a\n",
    "\n",
    "b = []\n",
    "X_test['근무경력_원본'] = X_test['근무경력'].copy()\n",
    "for j in X_test['근무경력']:\n",
    "    split_2 = j.split(' ')\n",
    "    if len(split_2) == 2:\n",
    "        b.append(int(split_2[0][:-1])*12 + int(split_2[1][:-2]))\n",
    "    else: b.append(int(split_2[0][:-2]))\n",
    "\n",
    "X_test['근무경력'] = b"
   ]
  },
  {
   "cell_type": "markdown",
   "id": "af0e4025",
   "metadata": {},
   "source": [
    "### 5) 근무형태"
   ]
  },
  {
   "cell_type": "code",
   "execution_count": 18,
   "id": "c4a6e002",
   "metadata": {},
   "outputs": [],
   "source": [
    "# 근무형태 피처를 게약직, 정규직으로 이분화 하기전에 해외취업여부를 미리 뽑아내야되기 떄문에 피처만들기 단계에서 할 일을 미리해둠\n",
    "a = []\n",
    "for i in X_train['근무형태']:\n",
    "    if '해외취업' in i:\n",
    "        a.append('o')\n",
    "    else: a.append('x')\n",
    "\n",
    "X_train['해외취업여부'] = a\n",
    "\n",
    "b = []\n",
    "for j in X_test['근무형태']:\n",
    "    if '해외취업' in j:\n",
    "        b.append('o')\n",
    "    else: b.append('x')\n",
    "\n",
    "X_test['해외취업여부'] = b"
   ]
  },
  {
   "cell_type": "code",
   "execution_count": 19,
   "id": "8a0c07b0",
   "metadata": {},
   "outputs": [],
   "source": [
    "# 인턴이 포함된 데이터들의 타겟의 평균이 눈에띄게 낮기떄문에 인턴들을 먼저 계약직으로 분류\n",
    "a = []\n",
    "for i in X_train['근무형태']:\n",
    "    if '인턴' in i:\n",
    "        a.append('계약직')\n",
    "    elif '정규직' in i:\n",
    "        a.append('정규직')\n",
    "    else: a.append('계약직')\n",
    "\n",
    "X_train['근무형태_kaka'] = a\n",
    "\n",
    "b = []\n",
    "for j in X_test['근무형태']:\n",
    "    if '인턴' in j:\n",
    "        b.append('계약직')\n",
    "    elif '정규직' in j:\n",
    "        b.append('정규직')\n",
    "    else: b.append('계약직')\n",
    "\n",
    "X_test['근무형태_kaka'] = b"
   ]
  },
  {
   "cell_type": "markdown",
   "id": "7a9d0d5f",
   "metadata": {},
   "source": [
    "### 6) 근무지역"
   ]
  },
  {
   "cell_type": "code",
   "execution_count": 20,
   "id": "f244fbc9",
   "metadata": {},
   "outputs": [],
   "source": [
    "X = pd.concat([X_train,X_test], ignore_index=True)"
   ]
  },
  {
   "cell_type": "code",
   "execution_count": 21,
   "id": "f60955ec",
   "metadata": {},
   "outputs": [],
   "source": [
    "region_lst=[]\n",
    "for val in X['근무지역']:\n",
    "    region_lst.append(val.split(','))"
   ]
  },
  {
   "cell_type": "code",
   "execution_count": 22,
   "id": "d0b38d41",
   "metadata": {},
   "outputs": [],
   "source": [
    "X['근무지역1'] = np.zeros(shape=(X.shape[0],), dtype=np.int8)\n",
    "X['근무지역2'] = np.zeros(shape=(X.shape[0],), dtype=np.int8)\n",
    "X['근무지역3'] = np.zeros(shape=(X.shape[0],), dtype=np.int8)"
   ]
  },
  {
   "cell_type": "code",
   "execution_count": 23,
   "id": "7a6f4c24",
   "metadata": {},
   "outputs": [],
   "source": [
    "for k in range(0, len(region_lst)):\n",
    "    cnt = 0\n",
    "    X['근무지역1'][k] = region_lst[k][cnt]\n",
    "    cnt += 1\n",
    "    if region_lst[k][cnt] == '' and region_lst[k][cnt+1] == '':\n",
    "        X['근무지역2'][k] = X['근무지역1'][k]\n",
    "        X['근무지역3'][k] = X['근무지역1'][k]\n",
    "    elif region_lst[k][cnt+1] == '' and region_lst[k][cnt] != '':\n",
    "        X['근무지역2'][k] = X['근무지역1'][k]\n",
    "        X['근무지역3'][k] = X['근무지역2'][k]\n",
    "    else:\n",
    "        X['근무지역2'][k] = region_lst[k][cnt]\n",
    "        X['근무지역3'][k] = region_lst[k][cnt+1]"
   ]
  },
  {
   "cell_type": "code",
   "execution_count": 24,
   "id": "c564fa65",
   "metadata": {},
   "outputs": [],
   "source": [
    "X_train = X.iloc[:X_train.shape[0],:].reset_index(drop=True)\n",
    "X_test = X.iloc[X_train.shape[0]:,:].reset_index(drop=True)"
   ]
  },
  {
   "cell_type": "markdown",
   "id": "1395358d",
   "metadata": {},
   "source": [
    "### 7) 출신대학"
   ]
  },
  {
   "cell_type": "markdown",
   "id": "06327592",
   "metadata": {},
   "source": [
    "### 8) 대학전공"
   ]
  },
  {
   "cell_type": "code",
   "execution_count": 25,
   "id": "305e22c7",
   "metadata": {},
   "outputs": [],
   "source": [
    "#### 맨뒷글자가 '과' 인경우 '~~'학과 또는 '~~'과 이기때문에 '~~'와 같이 분류할 수 있다고 판단함\n",
    "a = []\n",
    "for i in X_train['대학전공']:\n",
    "    if i[-1] == '과':\n",
    "        a.append(i[:-1])\n",
    "    else:\n",
    "        a.append(i)\n",
    "    \n",
    "X_train['대학전공'] = a\n",
    "\n",
    "b = []\n",
    "for j in X_test['대학전공']:\n",
    "    if j[-1] == '과':\n",
    "        b.append(j[:-1])\n",
    "    else:\n",
    "        b.append(j)\n",
    "    \n",
    "X_test['대학전공'] = b"
   ]
  },
  {
   "cell_type": "code",
   "execution_count": 26,
   "id": "6743e922",
   "metadata": {},
   "outputs": [],
   "source": [
    "#### 대학전공에 빈칸(스페이스)를 없앴습니다\n",
    "a = []\n",
    "for i in X_train['대학전공']:\n",
    "    a.append(i.replace(' ', ''))\n",
    "    \n",
    "X_train['대학전공'] = a    \n",
    "    \n",
    "\n",
    "b=[]    \n",
    "for i in X_test['대학전공']:\n",
    "    b.append(i.replace(' ', ''))\n",
    "    \n",
    "X_test['대학전공'] = b"
   ]
  },
  {
   "cell_type": "code",
   "execution_count": 27,
   "id": "6a30d041",
   "metadata": {},
   "outputs": [],
   "source": [
    "uni_lst = ['중국','일본','영어','국어','경영','경제', '행정','회계', '정보','컴퓨터','기계','전기','건축','수학', '통계','생명','생물',\n",
    "'전자','미술', '체육', '음악','교육','디자인','화학', '정치', '환경', '법','소프트웨어','철학', '의류', '불어','물리','동양화','무역','금속',\n",
    "'전산','사학','산업','토목','독어','식품','광고','재료','토목','제어계측','유전','도시공학','국제통상','심리','사회학','신소재','공예','사회학',\n",
    "'관광개발','멀티미디어','디지털컨텐츠','전파공학','국제관광','연극영화','문예창작','응용소재','사범대','문화컨테츠','지역사회과학','항공우주',\n",
    " '관광', '광통신','사회복지','도시','천문','E-','신문','자원','전파','가정','제어','고분자','아동','조형','동양어','지역','레저',\n",
    "'생활과학','스포츠','섬유','영상','연극','연예','건설','자연','조리','인터넷','해양','호텔','영미','지구','문예','자동차','태권도',\n",
    "'원예','유통','경호','운동','러시아','디지털','신학','메체','스페인','회화','네트워크','생산','무용','사회','민속','국제','가족',\n",
    "'프랑스','예술','텍스타일','역사','사진','문화재','서양','미디어','부동산','기악','보험','금융','마케팅','에너지','청소년','영양',\n",
    " '선교', '통신','소비자','건강','제약','낙농학','매체','유학','윤리','보육','격기','지도','병리','세라믹','조소','농','인류','재료',\n",
    "  '메카','유도','보건','조경','시각','성악','경찰','웹프로그램','게임','사범','복지','한국','도서','재무','상업','언론','시스템',\n",
    "'애니']\n",
    "\n",
    "\n",
    "for i in uni_lst:\n",
    "    X_train.loc[X_train['대학전공'].str.contains(f'{i}'),'대학전공'] = f'{i}'\n",
    "    X_test.loc[X_test['대학전공'].str.contains(f'{i}'), '대학전공'] = f'{i}'\n",
    "    \n",
    "#반복문으로 한번에 안되는 것들 따로 설정 \n",
    "\n",
    "X_train.loc[X_train['대학전공'].str.contains('중문'), '대학전공'] = '중국'\n",
    "X_train.loc[X_train['대학전공'].str.contains('Chinese'), '대학전공'] = '중국'\n",
    "X_train.loc[X_train['대학전공'].str.contains('중어'), '대학전공'] = '중국'\n",
    "X_train.loc[X_train['대학전공'].str.contains('일어'), '대학전공'] = '일본'\n",
    "X_train.loc[X_train['대학전공'].str.contains('일문학'), '대학전공'] = '일본'\n",
    "X_train.loc[X_train['대학전공'].str.contains('영문'), '대학전공'] = '영어'\n",
    "X_train.loc[X_train['대학전공'].str.contains('국문'), '대학전공'] = '국어'\n",
    "X_train.loc[X_train['대학전공'].str.contains('의상'),'대학전공'] = '의류'\n",
    "X_train.loc[X_train['대학전공'].str.contains('Management'),'대학전공'] = '경영'\n",
    "X_train.loc[X_train['대학전공'].str.contains('BUSINESSADMINISTRATION'),'대학전공'] = '경영'\n",
    "X_train.loc[X_train['대학전공'].str.contains('스포츠레져'),'대학전공'] = '스포츠레저'\n",
    "X_train.loc[X_train['대학전공'].str.contains('컴공'), '대학전공'] = '컴퓨터'\n",
    "X_train.loc[X_train['대학전공'].str.contains('e-'), '대학전공'] = 'E-'\n",
    "X_train.loc[X_train['대학전공'].str.contains('E비즈'), '대학전공'] = 'E-'\n",
    "X_train.loc[X_train['대학전공'].str.contains('e비즈'), '대학전공'] = 'E-'\n",
    "X_train.loc[X_train['대학전공'].str.contains('레져'), '대학전공'] = '레저'\n",
    "X_train.loc[X_train['대학전공'].str.contains('Chemistry'), '대학전공'] = '화학'\n",
    "X_train.loc[X_train['대학전공'].str.contains('Music'), '대학전공'] = '음악'\n",
    "X_train.loc[X_train['대학전공'].str.contains('HOTEL'), '대학전공'] = '호텔'\n",
    "X_train.loc[X_train['대학전공'].str.contains('패션'), '대학전공'] = '디자인'\n",
    "X_train.loc[X_train['대학전공'].str.contains('Design'), '대학전공'] = '디자인'\n",
    "X_train.loc[X_train['대학전공'].str.contains('물류'), '대학전공'] = '유통'\n",
    "X_train.loc[X_train['대학전공'].str.contains('의생활'), '대학전공'] = '의류'\n",
    "X_train.loc[X_train['대학전공'].str.contains('사하'), '대학전공'] = '역사'\n",
    "X_train.loc[X_train['대학전공'].str.contains('E비지'), '대학전공'] = 'E-'\n",
    "X_train.loc[X_train['대학전공'].str.contains('e비지'), '대학전공'] = 'E-'\n",
    "X_train.loc[X_train['대학전공'].str.contains('Englishlanguage&literature'), '대학전공'] = '영어'\n",
    "X_train.loc[X_train['대학전공'].str.contains('이비즈니스'), '대학전공'] = 'E-'\n",
    "X_train.loc[X_train['대학전공'].str.contains('이비즈니스학'), '대학전공'] = 'E-'\n",
    "X_train.loc[X_train['대학전공'].str.contains('이비지니스학'), '대학전공'] = 'E-'\n",
    "X_train.loc[X_train['대학전공'].str.contains('PublicAdministration'), '대학전공'] = '행정'\n",
    "X_train.loc[X_train['대학전공'].str.contains('노문학'), '대학전공'] = '러시아'\n",
    "X_train.loc[X_train['대학전공'].str.contains('노어'), '대학전공'] = '러시아'\n",
    "X_train.loc[X_train['대학전공'].str.contains('불문'), '대학전공'] = '프랑스'\n",
    "X_train.loc[X_train['대학전공'].str.contains('독문'), '대학전공'] = '독어'\n",
    "X_train.loc[X_train['대학전공'].str.contains('F-Horn'), '대학전공'] = '음악'\n",
    "X_train.loc[X_train['대학전공'].str.contains('소트웨어'), '대학전공'] = '소프트웨어'\n",
    "X_train.loc[X_train['대학전공'].str.contains('MaterialsEngineering'), '대학전공'] = '재료공학'\n",
    "X_train.loc[X_train['대학전공'].str.contains('InternationalTrade'), '대학전공'] = '무역'\n",
    "X_train.loc[X_train['대학전공'].str.contains('clothingandtextile'), '대학전공'] = '의류'\n",
    "\n",
    "\n",
    "\n",
    "X_test.loc[X_test['대학전공'].str.contains('중문'), '대학전공'] = '중국'\n",
    "X_test.loc[X_test['대학전공'].str.contains('Chinese'), '대학전공'] = '중국'\n",
    "X_test.loc[X_test['대학전공'].str.contains('중어'), '대학전공'] = '중국'\n",
    "X_test.loc[X_test['대학전공'].str.contains('일어'), '대학전공'] = '일본'\n",
    "X_test.loc[X_test['대학전공'].str.contains('일문학'), '대학전공'] = '일본'\n",
    "X_test.loc[X_test['대학전공'].str.contains('영문'), '대학전공'] = '영어'\n",
    "X_test.loc[X_test['대학전공'].str.contains('국문'), '대학전공'] = '국어'\n",
    "X_test.loc[X_test['대학전공'].str.contains('의상'),'대학전공'] = '의류'\n",
    "X_test.loc[X_test['대학전공'].str.contains('Management'),'대학전공'] = '경영'\n",
    "X_test.loc[X_test['대학전공'].str.contains('BUSINESSADMINISTRATION'),'대학전공'] = '경영'\n",
    "X_test.loc[X_test['대학전공'].str.contains('e-'), '대학전공'] = 'E-'\n",
    "X_test.loc[X_test['대학전공'].str.contains('E비즈니스'), '대학전공'] = 'E-'\n",
    "X_test.loc[X_test['대학전공'].str.contains('e비즈'), '대학전공'] = 'E-'\n",
    "X_test.loc[X_test['대학전공'].str.contains('레져'), '대학전공'] = '레저'\n",
    "X_test.loc[X_test['대학전공'].str.contains('Chemistry'), '대학전공'] = '화학'\n",
    "X_test.loc[X_test['대학전공'].str.contains('Music'), '대학전공'] = '음악'\n",
    "X_test.loc[X_test['대학전공'].str.contains('HOTEL'), '대학전공'] = '호텔'\n",
    "X_test.loc[X_test['대학전공'].str.contains('패션'), '대학전공'] = '디자인'\n",
    "X_test.loc[X_test['대학전공'].str.contains('Design'), '대학전공'] = '디자인'\n",
    "X_test.loc[X_test['대학전공'].str.contains('물류'), '대학전공'] = '유통'\n",
    "X_test.loc[X_test['대학전공'].str.contains('의생활'), '대학전공'] = '의류'\n",
    "X_test.loc[X_test['대학전공'].str.contains('사하'), '대학전공'] = '역사'\n",
    "X_test.loc[X_test['대학전공'].str.contains('E비지'), '대학전공'] = 'E-'\n",
    "X_test.loc[X_test['대학전공'].str.contains('e비지'), '대학전공'] = 'E-'\n",
    "X_test.loc[X_test['대학전공'].str.contains('Englishlanguage&literature'), '대학전공'] = '영어'\n",
    "X_test.loc[X_test['대학전공'].str.contains('이비즈니스'), '대학전공'] = 'E-'\n",
    "X_test.loc[X_test['대학전공'].str.contains('이비즈니스학'), '대학전공'] = 'E-'\n",
    "X_test.loc[X_test['대학전공'].str.contains('이비지니스학'), '대학전공'] = 'E-'\n",
    "X_test.loc[X_test['대학전공'].str.contains('PublicAdministration'), '대학전공'] = '행정'\n",
    "X_test.loc[X_test['대학전공'].str.contains('노문학'), '대학전공'] = '러시아'\n",
    "X_test.loc[X_test['대학전공'].str.contains('노어'), '대학전공'] = '러시아'\n",
    "X_test.loc[X_test['대학전공'].str.contains('불문'), '대학전공'] = '프랑스'\n",
    "X_test.loc[X_test['대학전공'].str.contains('독문'), '대학전공'] = '독어'\n",
    "X_test.loc[X_test['대학전공'].str.contains('F-Horn'), '대학전공'] = '음악'\n",
    "X_test.loc[X_test['대학전공'].str.contains('소트웨어'), '대학전공'] = '소프트웨어'\n",
    "X_test.loc[X_test['대학전공'].str.contains('MaterialsEngineering'), '대학전공'] = '재료공학'\n",
    "X_test.loc[X_test['대학전공'].str.contains('InternationalTrade'), '대학전공'] = '무역'\n",
    "X_test.loc[X_test['대학전공'].str.contains('clothingandtextile'), '대학전공'] = '의류'"
   ]
  },
  {
   "cell_type": "code",
   "execution_count": 28,
   "id": "8e169871",
   "metadata": {},
   "outputs": [],
   "source": [
    "### unique에 오타로 판단되는 부분과 전공으로 판단되지 않는 부분을 '오타'로 대체했습니다.\n",
    "ss = ['1', '졸업','전공','토&#47791공학', 'e-businees학', '산', '영','멀티미디어학부(인터넷응요)','InternationalSummerProgram',\n",
    "      '어학연수','ㅇ','ㅇㅇ', '조리외식졍영','사','철철','토옥','철','새왈과학부','외식사업','영','문화컨테츠',\n",
    "      '사체','eh', '전공', 'dddddd', '1', '3.03', 'ghj','주거솬경학','회힉공학','Theatre','경역학','체욱학','문화제보존학','건충공학'\n",
    "     ,'기게공학','&#49887;품공학','law','수원대학교3학년편입후졸업','ㅁㅇㄻㅈㄷㄹ','physics','없음','MIS','관공통역','수원대학교',\n",
    "     'SocialHumanMovementandperformance','관좡학','library&info.science','환격공학','CommunicationConsulting','핼정학','마이컴',\n",
    "     '웨이트트레이닝','이공계열중퇴','화확공학']\n",
    "\n",
    "X_train = X_train.replace(ss, '기타')\n",
    "X_test = X_test.replace(ss, '기타')\n"
   ]
  },
  {
   "cell_type": "markdown",
   "id": "3a77e9c6",
   "metadata": {},
   "source": [
    "### 9) 어학시험"
   ]
  },
  {
   "cell_type": "code",
   "execution_count": 29,
   "id": "f529ae5c",
   "metadata": {},
   "outputs": [],
   "source": [
    "# ' '값을 가지는 데이터들을 결측지 즉 미응시로 대체하려 했으나 그 값들의 타겟의 평균의 매우 높아 불확실로 따로 분류 \n",
    "X_train['어학시험'].replace(' ', '불확실', inplace=True)\n",
    "X_test['어학시험'].replace(' ', '불확실', inplace=True)"
   ]
  },
  {
   "cell_type": "code",
   "execution_count": 30,
   "id": "4280acc7",
   "metadata": {},
   "outputs": [],
   "source": [
    "# 기타시험과 기타를 같이 분류\n",
    "X_train['어학시험'].replace('기타시험','기타',inplace=True)\n",
    "X_train['어학시험'].replace('기타시험','기타',inplace=True)"
   ]
  },
  {
   "cell_type": "code",
   "execution_count": 31,
   "id": "728f6903",
   "metadata": {},
   "outputs": [
    {
     "data": {
      "text/plain": [
       "(16570, 17)"
      ]
     },
     "execution_count": 31,
     "metadata": {},
     "output_type": "execute_result"
    }
   ],
   "source": [
    "X_train.shape"
   ]
  },
  {
   "cell_type": "code",
   "execution_count": 32,
   "id": "d401caab",
   "metadata": {},
   "outputs": [
    {
     "data": {
      "text/plain": [
       "(11048, 17)"
      ]
     },
     "execution_count": 32,
     "metadata": {},
     "output_type": "execute_result"
    }
   ],
   "source": [
    "X_test.shape"
   ]
  },
  {
   "cell_type": "markdown",
   "id": "0b1fb66c",
   "metadata": {},
   "source": [
    "### 10) 자격증"
   ]
  },
  {
   "cell_type": "markdown",
   "id": "df2e8105",
   "metadata": {},
   "source": [
    "### 11) 대학성적"
   ]
  },
  {
   "cell_type": "markdown",
   "id": "369099c8",
   "metadata": {},
   "source": [
    "## csv파일로 내보내기"
   ]
  },
  {
   "cell_type": "code",
   "execution_count": 33,
   "id": "055f2914",
   "metadata": {},
   "outputs": [],
   "source": [
    "X_train.to_csv('X_train_1124해협지.csv', index=False)"
   ]
  },
  {
   "cell_type": "code",
   "execution_count": 34,
   "id": "5e384dca",
   "metadata": {},
   "outputs": [],
   "source": [
    "X_test.to_csv('X_test_1124해협지.csv', index=False)"
   ]
  },
  {
   "cell_type": "code",
   "execution_count": null,
   "id": "961d061a",
   "metadata": {},
   "outputs": [],
   "source": []
  }
 ],
 "metadata": {
  "kernelspec": {
   "display_name": "Python 3",
   "language": "python",
   "name": "python3"
  },
  "language_info": {
   "codemirror_mode": {
    "name": "ipython",
    "version": 3
   },
   "file_extension": ".py",
   "mimetype": "text/x-python",
   "name": "python",
   "nbconvert_exporter": "python",
   "pygments_lexer": "ipython3",
   "version": "3.8.5"
  }
 },
 "nbformat": 4,
 "nbformat_minor": 5
}
