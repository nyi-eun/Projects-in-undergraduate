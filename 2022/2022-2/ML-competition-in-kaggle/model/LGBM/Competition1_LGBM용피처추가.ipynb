{
 "cells": [
  {
   "cell_type": "markdown",
   "id": "18bc7092",
   "metadata": {},
   "source": [
    "# 데이터 불러오기"
   ]
  },
  {
   "cell_type": "code",
   "execution_count": 1,
   "id": "b412c094",
   "metadata": {},
   "outputs": [],
   "source": [
    "%matplotlib inline\n",
    "import warnings\n",
    "warnings.filterwarnings(\"ignore\")\n",
    "\n",
    "from sklearn.model_selection import train_test_split, KFold\n",
    "import plotly.express as px\n",
    "import pandas as pd\n",
    "import numpy as np\n",
    "import matplotlib.pyplot as plt\n",
    "import seaborn as sns\n",
    "from sklearn.pipeline import Pipeline\n",
    "from sklearn.compose import ColumnTransformer\n",
    "from sklearn.preprocessing import FunctionTransformer\n",
    "from sklearn.base import BaseEstimator, TransformerMixin\n",
    "from sklearn.impute import SimpleImputer\n",
    "from sklearn.preprocessing import PowerTransformer \n",
    "from sklearn.preprocessing import OrdinalEncoder, OneHotEncoder\n",
    "from sklearn.feature_selection import SelectPercentile\n",
    "from sklearn.model_selection import train_test_split, cross_val_score, cross_validate\n",
    "from sklearn.metrics import mean_squared_error\n",
    "from sklearn import set_config\n",
    "from lightgbm import LGBMRegressor\n",
    "import lightgbm as lgb\n",
    "import optuna\n",
    "from optuna.distributions import CategoricalDistribution, IntDistribution, FloatDistribution\n",
    "from optuna.integration import OptunaSearchCV, ShapleyImportanceEvaluator\n",
    "from optuna.integration.lightgbm import LightGBMTunerCV #lgbm 전용 tunner 가 존재\n",
    "from catboost import CatBoostRegressor\n",
    "from sklearn.linear_model import Ridge\n",
    "from sklearn.linear_model import RidgeClassifier\n",
    "from sklearn.decomposition import PCA\n",
    "from sklearn.linear_model import Lasso\n",
    "from sklearn.metrics import mean_squared_error\n",
    "from sklearn import model_selection\n",
    "from category_encoders import TargetEncoder\n",
    "from sklearn.preprocessing import StandardScaler, MinMaxScaler\n",
    "import klib\n",
    "plt.rc('font', family='NanumGothic')\n",
    "plt.rcParams['axes.unicode_minus'] = False"
   ]
  },
  {
   "cell_type": "code",
   "execution_count": 2,
   "id": "abf1426d",
   "metadata": {},
   "outputs": [],
   "source": [
    "X_train = pd.read_csv('X_train_1124해협지.csv')\n",
    "y_train = pd.read_csv('y_train.csv').drop(columns=['ID'])\n",
    "X_test = pd.read_csv('X_test_1124해협지.csv')"
   ]
  },
  {
   "cell_type": "markdown",
   "id": "ae48031f",
   "metadata": {},
   "source": [
    "## 피처추가"
   ]
  },
  {
   "cell_type": "markdown",
   "id": "3b1f0d42",
   "metadata": {},
   "source": [
    "### 1) 직무태그 글자수 생성"
   ]
  },
  {
   "cell_type": "code",
   "execution_count": 3,
   "id": "07707bfd",
   "metadata": {},
   "outputs": [],
   "source": [
    "X_train = X_train.fillna('')\n",
    "X_test = X_test.fillna('')"
   ]
  },
  {
   "cell_type": "code",
   "execution_count": 4,
   "id": "e0fb9cc8",
   "metadata": {},
   "outputs": [],
   "source": [
    "a = []\n",
    "for i in X_train['직무태그']:\n",
    "        a.append(len(i))\n",
    "        \n",
    "X_train['직무태그글자수'] = a"
   ]
  },
  {
   "cell_type": "code",
   "execution_count": 5,
   "id": "691f7b84",
   "metadata": {},
   "outputs": [],
   "source": [
    "b = []\n",
    "for j in X_test['직무태그']:\n",
    "        b.append(len(j))\n",
    "        \n",
    "X_test['직무태그글자수'] = b"
   ]
  },
  {
   "cell_type": "code",
   "execution_count": 6,
   "id": "0aeea933",
   "metadata": {},
   "outputs": [],
   "source": [
    "a = []\n",
    "for i in X_train['직무태그글자수']:\n",
    "    if 10 > i >= 0:\n",
    "        a.append(10)\n",
    "    elif 20 > i >= 10:\n",
    "        a.append(20)\n",
    "    elif 30 > i >= 20:\n",
    "        a.append(30)\n",
    "    elif 40 > i >= 30:\n",
    "        a.append(40)\n",
    "    elif 50 > i >= 40:\n",
    "        a.append(50)\n",
    "    elif 60 > i >= 50:\n",
    "        a.append(60)\n",
    "    elif 70 > i >= 60:\n",
    "        a.append(70)\n",
    "    else:\n",
    "        a.append(80)\n",
    "\n",
    "X_train['직무태그글자수범위별'] = a\n",
    "#X_train = X_train.drop(columns = '직무태그글자수')\n",
    "\n",
    "b = []\n",
    "for i in X_test['직무태그글자수']:\n",
    "    if 10 > i >= 0:\n",
    "        b.append(10)\n",
    "    elif 20 > i >= 10:\n",
    "        b.append(20)\n",
    "    elif 30 > i >= 20:\n",
    "        b.append(30)\n",
    "    elif 40 > i >= 30:\n",
    "        b.append(40)\n",
    "    elif 50 > i >= 40:\n",
    "        b.append(50)\n",
    "    elif 60 > i >= 50:\n",
    "        b.append(60)\n",
    "    elif 70 > i >= 60:\n",
    "        b.append(70)\n",
    "    else:\n",
    "        b.append(80)\n",
    "\n",
    "X_test['직무태그글자수범위별'] = b\n",
    "#X_test = X_test.drop(columns = '직무태그글자수')"
   ]
  },
  {
   "cell_type": "markdown",
   "id": "89bcfe3b",
   "metadata": {},
   "source": [
    "### 2) 근무지역 소분류, 대분류 추가"
   ]
  },
  {
   "cell_type": "code",
   "execution_count": 7,
   "id": "bd1ee19d",
   "metadata": {},
   "outputs": [],
   "source": [
    "X_train['근무지역_소분류'] = X_train['근무지역'].copy()\n",
    "X_test['근무지역_소분류'] = X_test['근무지역'].copy()"
   ]
  },
  {
   "cell_type": "code",
   "execution_count": 8,
   "id": "af5da1ba",
   "metadata": {},
   "outputs": [],
   "source": [
    "X_train['근무지역_소분류'][X_train['근무지역_소분류'].str.contains\n",
    "                ('해외|미국|중국|러시아|일본|캐나다|필리핀|인도|싱가포르|대만|말레이시아|프랑스|홍콩')] = '해외'\n",
    "\n",
    "X_train['근무지역_소분류'][X_train['근무지역_소분류'] == '전국,,'] = '전국'\n",
    "X_train['근무지역_소분류'][X_train['근무지역_소분류'] == '전국,전국,'] = '전국'\n",
    "X_train['근무지역_소분류'][X_train['근무지역_소분류'] == '전국,전국,전국'] = '전국'\n",
    "\n",
    "X_train['근무지역_소분류'][X_train['근무지역_소분류'].str.split(',').str[0] == '서울'] = '서울'\n",
    "X_train['근무지역_소분류'][X_train['근무지역_소분류'].str.split(',').str[0] == '경기'] = '경기'\n",
    "X_train['근무지역_소분류'][X_train['근무지역_소분류'].str.split(',').str[0] == '인천'] = '인천'\n",
    "X_train['근무지역_소분류'][X_train['근무지역_소분류'].str.split(',').str[0] == '부산'] = '부산'\n",
    "X_train['근무지역_소분류'][X_train['근무지역_소분류'].str.split(',').str[0] == '대전'] = '대전'\n",
    "X_train['근무지역_소분류'][X_train['근무지역_소분류'].str.split(',').str[0] == '광주'] = '광주'\n",
    "X_train['근무지역_소분류'][X_train['근무지역_소분류'].str.split(',').str[0] == '충남'] = '충남'\n",
    "X_train['근무지역_소분류'][X_train['근무지역_소분류'].str.split(',').str[0] == '경남'] = '경남'\n",
    "X_train['근무지역_소분류'][X_train['근무지역_소분류'].str.split(',').str[0] == '전북'] = '전북'\n",
    "X_train['근무지역_소분류'][X_train['근무지역_소분류'].str.split(',').str[0] == '충북'] = '충북'\n",
    "X_train['근무지역_소분류'][X_train['근무지역_소분류'].str.split(',').str[0] == '제주'] = '제주'\n",
    "X_train['근무지역_소분류'][X_train['근무지역_소분류'].str.split(',').str[0] == '경북'] = '경북'\n",
    "X_train['근무지역_소분류'][X_train['근무지역_소분류'].str.split(',').str[0] == '강원'] = '강원'\n",
    "X_train['근무지역_소분류'][X_train['근무지역_소분류'].str.split(',').str[0] == '울산'] = '울산'\n",
    "X_train['근무지역_소분류'][X_train['근무지역_소분류'].str.split(',').str[0] == '전남'] = '전남'\n",
    "X_train['근무지역_소분류'][X_train['근무지역_소분류'].str.split(',').str[0] == '대구'] = '대구'\n",
    "X_train['근무지역_소분류'][X_train['근무지역_소분류'].str.split(',').str[0] == '전북'] = '전북'\n",
    "\n",
    "X_train['근무지역_소분류'][X_train['근무지역_소분류'].str.contains\n",
    "                ('기타')] = '기타'"
   ]
  },
  {
   "cell_type": "code",
   "execution_count": 9,
   "id": "6e4603ed",
   "metadata": {},
   "outputs": [],
   "source": [
    "X_test['근무지역_소분류'][X_test['근무지역_소분류'].str.contains\n",
    "                ('해외|미국|중국|러시아|일본|캐나다|필리핀|인도|싱가포르|대만|말레이시아|프랑스|홍콩')] = '해외'\n",
    "\n",
    "X_test['근무지역_소분류'][X_test['근무지역_소분류'] == '전국,,'] = '전국'\n",
    "X_test['근무지역_소분류'][X_test['근무지역_소분류'] == '전국,전국,'] = '전국'\n",
    "X_test['근무지역_소분류'][X_test['근무지역_소분류'] == '전국,전국,전국'] = '전국'\n",
    "\n",
    "X_test['근무지역_소분류'][X_test['근무지역_소분류'].str.split(',').str[0] == '서울'] = '서울'\n",
    "X_test['근무지역_소분류'][X_test['근무지역_소분류'].str.split(',').str[0] == '경기'] = '경기'\n",
    "X_test['근무지역_소분류'][X_test['근무지역_소분류'].str.split(',').str[0] == '인천'] = '인천'\n",
    "X_test['근무지역_소분류'][X_test['근무지역_소분류'].str.split(',').str[0] == '부산'] = '부산'\n",
    "X_test['근무지역_소분류'][X_test['근무지역_소분류'].str.split(',').str[0] == '대전'] = '대전'\n",
    "X_test['근무지역_소분류'][X_test['근무지역_소분류'].str.split(',').str[0] == '광주'] = '광주'\n",
    "X_test['근무지역_소분류'][X_test['근무지역_소분류'].str.split(',').str[0] == '충남'] = '충남'\n",
    "X_test['근무지역_소분류'][X_test['근무지역_소분류'].str.split(',').str[0] == '경남'] = '경남'\n",
    "X_test['근무지역_소분류'][X_test['근무지역_소분류'].str.split(',').str[0] == '전북'] = '전북'\n",
    "X_test['근무지역_소분류'][X_test['근무지역_소분류'].str.split(',').str[0] == '충북'] = '충북'\n",
    "X_test['근무지역_소분류'][X_test['근무지역_소분류'].str.split(',').str[0] == '제주'] = '제주'\n",
    "X_test['근무지역_소분류'][X_test['근무지역_소분류'].str.split(',').str[0] == '경북'] = '경북'\n",
    "X_test['근무지역_소분류'][X_test['근무지역_소분류'].str.split(',').str[0] == '강원'] = '강원'\n",
    "X_test['근무지역_소분류'][X_test['근무지역_소분류'].str.split(',').str[0] == '울산'] = '울산'\n",
    "X_test['근무지역_소분류'][X_test['근무지역_소분류'].str.split(',').str[0] == '전남'] = '전남'\n",
    "X_test['근무지역_소분류'][X_test['근무지역_소분류'].str.split(',').str[0] == '대구'] = '대구'\n",
    "X_test['근무지역_소분류'][X_test['근무지역_소분류'].str.split(',').str[0] == '전북'] = '전북'\n",
    "\n",
    "X_test['근무지역_소분류'][X_test['근무지역_소분류'].str.contains\n",
    "                ('기타')] = '기타'"
   ]
  },
  {
   "cell_type": "code",
   "execution_count": 10,
   "id": "9d93baa2",
   "metadata": {},
   "outputs": [],
   "source": [
    "X_train['근무지역_대분류'] = X_train['근무지역_소분류'].copy()\n",
    "X_test['근무지역_대분류'] = X_test['근무지역_소분류'].copy()"
   ]
  },
  {
   "cell_type": "code",
   "execution_count": 11,
   "id": "833b69f3",
   "metadata": {},
   "outputs": [],
   "source": [
    "X_train['근무지역_대분류'][X_train['근무지역_대분류'].str.contains('서울|인천|경기')] = '수도권'\n",
    "X_train['근무지역_대분류'][~X_train['근무지역_대분류'].str.contains('수도권|해외|전국')] = '비수도권'\n",
    "\n",
    "X_test['근무지역_대분류'][X_test['근무지역_대분류'].str.contains('서울|인천|경기')] = '수도권'\n",
    "X_test['근무지역_대분류'][~X_test['근무지역_대분류'].str.contains('수도권|해외|전국')] = '비수도권'"
   ]
  },
  {
   "cell_type": "markdown",
   "id": "0bfc9064",
   "metadata": {},
   "source": [
    "## 3) 근무경력 유무"
   ]
  },
  {
   "cell_type": "code",
   "execution_count": 12,
   "id": "59b2c774",
   "metadata": {},
   "outputs": [],
   "source": [
    "X_train['경력유무'] = X_train['근무경력'].apply(lambda x: 'X' if (-1<x<24) else 'O')\n",
    "X_test['경력유무'] = X_test['근무경력'].apply(lambda x: 'X' if (-1<x<24) else \"O\")"
   ]
  },
  {
   "cell_type": "markdown",
   "id": "8a3526b2",
   "metadata": {},
   "source": [
    "## 4) 인서울여부"
   ]
  },
  {
   "cell_type": "code",
   "execution_count": 13,
   "id": "6ac76484",
   "metadata": {},
   "outputs": [],
   "source": [
    "in_seoul_lst = ['성균관대학교', '중앙대학교', '세종대학교', '연세대학교', '이화여자대학교']\n",
    "\n",
    "X_train['인서울여부'] = X_train['출신대학'].map(lambda x: '0' if x in in_seoul_lst else '1')\n",
    "\n",
    "X_test['인서울여부'] = X_test['출신대학'].map(lambda x: '0' if x in in_seoul_lst else '1')"
   ]
  },
  {
   "cell_type": "markdown",
   "id": "a8042de4",
   "metadata": {},
   "source": [
    "## 5) 직무태그_직무수"
   ]
  },
  {
   "cell_type": "code",
   "execution_count": 14,
   "id": "a1c6ab1f",
   "metadata": {},
   "outputs": [],
   "source": [
    "X_train['직무태그_직무수']= X_train['직무태그'].apply(lambda x: len(x.split(',')))\n",
    "X_test['직무태그_직무수']= X_test['직무태그'].apply(lambda x: len(x.split(',')))"
   ]
  },
  {
   "cell_type": "markdown",
   "id": "69b9618c",
   "metadata": {},
   "source": [
    "## 6) 직종_직종수"
   ]
  },
  {
   "cell_type": "code",
   "execution_count": 15,
   "id": "c38a7882",
   "metadata": {},
   "outputs": [],
   "source": [
    "X_train['직종수']= X_train['직종'].apply(lambda x: len(x.split('·')))\n",
    "X_test['직종수']= X_test['직종'].apply(lambda x: len(x.split('·')))"
   ]
  },
  {
   "cell_type": "markdown",
   "id": "c1857c2b",
   "metadata": {},
   "source": [
    "## 7) 세부직종_세부직종수"
   ]
  },
  {
   "cell_type": "code",
   "execution_count": 16,
   "id": "c12b10c7",
   "metadata": {},
   "outputs": [],
   "source": [
    "X_train['세부직종수']= X_train['직종'].apply(lambda x: len(x.split('·')))\n",
    "X_test['세부직종수']= X_test['직종'].apply(lambda x: len(x.split('·')))"
   ]
  },
  {
   "cell_type": "markdown",
   "id": "9f89e3f8",
   "metadata": {},
   "source": [
    "## 8) 근무경력X대학성적"
   ]
  },
  {
   "cell_type": "code",
   "execution_count": 17,
   "id": "dd00559f",
   "metadata": {},
   "outputs": [],
   "source": [
    "X_train['근무경력_x_대학성적'] = X_train['근무경력'] * X_train['대학성적']\n",
    "X_test['근무경력_x_대학성적'] = X_test['근무경력'] * X_test['대학성적']"
   ]
  },
  {
   "cell_type": "markdown",
   "id": "7dbe80fb",
   "metadata": {},
   "source": [
    "## 9) 대학교X대학성적"
   ]
  },
  {
   "cell_type": "code",
   "execution_count": 18,
   "id": "fbad1588",
   "metadata": {},
   "outputs": [],
   "source": [
    "top_rank = ['성균관대학교', '연세대학교', '중앙대학교', '이화여자대학교']\n",
    "mid_rank = ['세종대학교', '성신여자대학교']\n",
    "low_rank = ['한성대학교', '동덕여자대학교', '서울여자대학교', '서울과학기술대학교']\n",
    "province = ['제주대학교', '인천대학교', '군산대학교', '한국산업기술대학교']\n",
    "etc= ['수원대학교', '전주대학교', '세명대학교', '신라대학교', '상지대학교', '한밭대학교', '경기대학교', '선문대학교', '성공회대학교', '호원대학교', '한림대학교', '목포대학교', '동아대학교', '동의대학교', '성결대학교', '호남대학교', '광주대학교', '서원대학교', '동서대학교', '한일장신대학교', '한세대학교', '용인대학교', '경주대학교', '협성대학교', '서울신학대학교', '송원대학교', '부산디지털대학교','남부대학교','기타']\n",
    "\n",
    "\n",
    "university = []\n",
    "for i in X_train['출신대학']:\n",
    "    if i in top_rank:\n",
    "        university.append(5)\n",
    "    elif i in mid_rank:\n",
    "        university.append(4)\n",
    "    elif i in low_rank:\n",
    "        university.append(3)\n",
    "    elif i in province:\n",
    "        university.append(2)\n",
    "    elif i in etc:\n",
    "        university.append(1)\n",
    "        \n",
    "X_train['출신대학수치'] = university\n",
    "\n",
    "university = []\n",
    "for i in X_test['출신대학']:\n",
    "    if i in top_rank:\n",
    "        university.append(5)\n",
    "    elif i in mid_rank:\n",
    "        university.append(4)\n",
    "    elif i in low_rank:\n",
    "        university.append(3)\n",
    "    elif i in province:\n",
    "        university.append(2)\n",
    "    elif i in etc:\n",
    "        university.append(1) \n",
    "        \n",
    "X_test['출신대학수치'] = university\n",
    "\n",
    "a = X_train['출신대학수치'] * X_train['대학성적']\n",
    "X_train['출신대학*대학성적'] = a\n",
    "a = X_test['출신대학수치'] * X_test['대학성적']\n",
    "X_test['출신대학*대학성적'] = a"
   ]
  },
  {
   "cell_type": "markdown",
   "id": "b54fb73a",
   "metadata": {},
   "source": [
    "## 10) 세부직종 blank 없애기"
   ]
  },
  {
   "cell_type": "code",
   "execution_count": 19,
   "id": "fcf3e0bc",
   "metadata": {},
   "outputs": [],
   "source": [
    "#blank 없애기 + 세부직종 전처리\n",
    "X_train['세부직종'] = X_train['세부직종'].replace('기타 기술·과학·산업','기타기술·과학·산업')\n",
    "X_train['세부직종'] = X_train['세부직종'].replace('기타 경영·기획·회계·사무','기타경영·기획·회계·사무')\n",
    "X_train['세부직종'] = X_train['세부직종'].replace('기타 전문·교육·자격','기타전문·교육·자격')\n",
    "X_train['세부직종'] = X_train['세부직종'].replace('기타 통신·모바일','기타통신·모바일')\n",
    "X_train['세부직종'] = X_train['세부직종'].replace('기타 디자인','기타디자인')\n",
    "X_train['세부직종'] = X_train['세부직종'].replace('기타 건설·기계·전기·전자','기타건설·기계·전기·전자')\n",
    "X_train['세부직종'] = X_train['세부직종'].replace('기타 영업·판매·TM','기타영업·판매·TM')\n",
    "X_train['세부직종'] = X_train['세부직종'].replace('기타 재료·화학·섬유·의복','기타재료·화학·섬유·의복')\n",
    "X_train['세부직종'] = X_train['세부직종'].replace('기타 IT·게임','기타IT·게임')\n",
    "X_train['세부직종'] = X_train['세부직종'].replace('데이터베이스 전문직','데이터베이스전문직')\n",
    "\n",
    "X_test['세부직종'] = X_test['세부직종'].replace('기타 기술·과학·산업','기타기술·과학·산업')\n",
    "X_test['세부직종'] = X_test['세부직종'].replace('기타 경영·기획·회계·사무','기타경영·기획·회계·사무')\n",
    "X_test['세부직종'] = X_test['세부직종'].replace('기타 전문·교육·자격','기타전문·교육·자격')\n",
    "X_test['세부직종'] = X_test['세부직종'].replace('기타 통신·모바일','기타통신·모바일')\n",
    "X_test['세부직종'] = X_test['세부직종'].replace('기타 디자인','기타디자인')\n",
    "X_test['세부직종'] = X_test['세부직종'].replace('기타 건설·기계·전기·전자','기타건설·기계·전기·전자')\n",
    "X_test['세부직종'] = X_test['세부직종'].replace('기타 영업·판매·TM','기타영업·판매·TM')\n",
    "X_test['세부직종'] = X_test['세부직종'].replace('기타 재료·화학·섬유·의복','기타재료·화학·섬유·의복')\n",
    "X_test['세부직종'] = X_test['세부직종'].replace('기타 IT·게임','기타IT·게임')\n",
    "X_test['세부직종'] = X_test['세부직종'].replace('데이터베이스 전문직','데이터베이스전문직')\n",
    "\n",
    "X_train['세부직종'] = X_train['세부직종'].replace('게임기획','게임디자인')\n",
    "X_train['세부직종'] = X_train['세부직종'].replace('게임운영·테스터','게임프로그래머')\n",
    "X_train['세부직종'] = X_train['세부직종'].replace('기타영업·판매·TM','텔레마케팅(인/아웃바운드TM)')\n",
    "X_train['세부직종'] = X_train['세부직종'].replace('텔레마케팅(인/아웃바운드TM)','텔레마케팅')\n",
    "X_test['세부직종'] = X_test['세부직종'].replace('텔레마케팅(인/아웃바운드TM)','텔레마케팅')\n",
    "X_train['세부직종'] = X_train['세부직종'].replace('농림어업','기타')\n",
    "X_train['세부직종'] = X_train['세부직종'].replace('모바일디자인','모바일프로그래머')\n",
    "X_train['세부직종'] = X_train['세부직종'].replace('보험·연금','보험영업')\n",
    "X_train['세부직종'] = X_train['세부직종'].replace('유비쿼터스·와이브로·WCDMA','기타')\n",
    "X_train['세부직종'] = X_train['세부직종'].replace('정비·검사·수리·AS','컴퓨터·PC수리')\n",
    "X_train['세부직종'] = X_train['세부직종'].replace('조리·제빵·제과','식품가공')"
   ]
  },
  {
   "cell_type": "markdown",
   "id": "8f67131e",
   "metadata": {},
   "source": [
    "## 11) 세부직종별_필수직무유무"
   ]
  },
  {
   "cell_type": "code",
   "execution_count": 20,
   "id": "e4525bf1",
   "metadata": {},
   "outputs": [],
   "source": [
    "# 키워드의 수를 세어 딕셔내리 형태로 넣어주는 함수 \n",
    "def get_counts(seq): \n",
    "    counts = {}\n",
    "    for x in seq:\n",
    "        if x in counts:\n",
    "            counts[x] += 1\n",
    "        else:\n",
    "            counts[x] = 1\n",
    "    return counts"
   ]
  },
  {
   "cell_type": "code",
   "execution_count": 21,
   "id": "e5e3955c",
   "metadata": {},
   "outputs": [],
   "source": [
    "세부직종_lst = list(X_train['세부직종'].unique())"
   ]
  },
  {
   "cell_type": "code",
   "execution_count": 22,
   "id": "b4d8a5f4",
   "metadata": {
    "scrolled": true
   },
   "outputs": [
    {
     "data": {
      "text/plain": [
       "['영상·음향·사진·카메라',\n",
       " '사무·총무·법무',\n",
       " '하드웨어설계·개발·관리',\n",
       " '기술영업',\n",
       " '기타기술·과학·산업',\n",
       " '응용프로그래머(Unix,Linux,Java)',\n",
       " '경영·기획·전략',\n",
       " '해외영업',\n",
       " '경리·회계',\n",
       " '마케팅·마케팅기획',\n",
       " '웹디자인',\n",
       " '영업·영업기획',\n",
       " '비서·인포메이션·수행·안내',\n",
       " '에너지·환경',\n",
       " '호텔·숙박·여행',\n",
       " '서버·네트워크·보안',\n",
       " '시스템분석·설계·컨설턴트·ERP',\n",
       " '영업관리·영업지원',\n",
       " '전기·전자·제어',\n",
       " '무역·수출입·운송사무',\n",
       " '웹프로그래머',\n",
       " '외국어·번역·통역',\n",
       " '인사·노무·교육·인재개발',\n",
       " '광고·홍보',\n",
       " '건설·토목·건축설비',\n",
       " '텔레마케팅',\n",
       " '기계·기계설계·기계설비',\n",
       " '물류·유통관리',\n",
       " '섬유·의복',\n",
       " '교육·교사·교수·강사',\n",
       " '의류·패션·잡화디자인',\n",
       " '구매·자재사무',\n",
       " '생산관리·품질관리·품질보증',\n",
       " '웹마스터',\n",
       " '식품가공',\n",
       " '법률·법무·특허·상표',\n",
       " '웹기획·웹마케팅·PM',\n",
       " '제약·의약',\n",
       " 'CAD·CAM',\n",
       " '기타경영·기획·회계·사무',\n",
       " '제품·산업디자인',\n",
       " '그래픽디자인·CG',\n",
       " '신문·방송·잡지기자',\n",
       " '판매·매장관리·캐셔·프런트',\n",
       " '연구개발·R&D',\n",
       " '경영분석·컨설팅·M&A',\n",
       " '기타전문·교육·자격',\n",
       " '출판·편집디자인',\n",
       " '전산사무·전산관리',\n",
       " '기타통신·모바일',\n",
       " '금융·증권·투자',\n",
       " '네트워크·LAN',\n",
       " '동영상·멀티미디어(영상·음향)',\n",
       " '금속·금형·요업·재료·열처리',\n",
       " '생명공학·유전공학',\n",
       " '부동산·경매·감정평가',\n",
       " '화학·화공',\n",
       " '기타',\n",
       " '운영·Helpdesk·컨텐츠관리',\n",
       " '컴퓨터·IT·디자인강사',\n",
       " '정보검색·정보제공',\n",
       " '제조·생산 단순노무',\n",
       " '경비·보안·건물관리·미화',\n",
       " '캐릭터·애니메이션',\n",
       " '상담·고객지원',\n",
       " '시스템프로그래머',\n",
       " '데이터베이스전문직',\n",
       " '모바일프로그래머',\n",
       " '기타디자인',\n",
       " '운전·운송·택배·배송',\n",
       " '반도체·디스플레이·광학',\n",
       " '인테리어·공간디자인',\n",
       " '이벤트·도우미·나레이터',\n",
       " '사회복지·종교',\n",
       " '코디네이터·헤어·분장',\n",
       " '사서·문서관리',\n",
       " '모바일기획',\n",
       " '세무사·회계사·관세사',\n",
       " '재무·IR·자금·감사',\n",
       " '게임프로그래머',\n",
       " '무선·위성·이동통신',\n",
       " '조선·우주·항공',\n",
       " '인문·사회·자연과학 연구',\n",
       " '기타건설·기계·전기·전자',\n",
       " '컴퓨터·PC수리',\n",
       " '정밀공학·광학',\n",
       " '조사분석·리서치·통계',\n",
       " '사무보조·OA·업무보조',\n",
       " '목재·가구·제지',\n",
       " '안전·시설관리',\n",
       " '게임디자인',\n",
       " '오락·스포츠',\n",
       " '보건·의료',\n",
       " '기타재료·화학·섬유·의복',\n",
       " '보험영업',\n",
       " '기타IT·게임',\n",
       " '연예·공연기획·매니저',\n",
       " '광고·시각디자인',\n",
       " 'PD·연출·제작',\n",
       " '정보통신연구·가설']"
      ]
     },
     "execution_count": 22,
     "metadata": {},
     "output_type": "execute_result"
    }
   ],
   "source": [
    "세부직종_lst"
   ]
  },
  {
   "cell_type": "code",
   "execution_count": 23,
   "id": "17afb2d3",
   "metadata": {},
   "outputs": [],
   "source": [
    "for i in 세부직종_lst:\n",
    "    globals()[f'{i}_sum'] = X_train[X_train['세부직종'] == i]['직무태그'].sum().split(',')\n",
    "    globals()[f'{i}_count'] = get_counts(globals()[f'{i}_sum'])\n",
    "    globals()[f'{i}_count'] = sorted(globals()[f'{i}_count'].items(), key=lambda x: x[1], reverse=True)\n",
    "    \n",
    "for i in 세부직종_lst:\n",
    "    globals()[f'{i}_essential'] = []\n",
    "    for j in globals()[f'{i}_count'][:5]:\n",
    "        globals()[f'{i}_essential'].append(j[0])"
   ]
  },
  {
   "cell_type": "code",
   "execution_count": 24,
   "id": "8f930a47",
   "metadata": {},
   "outputs": [],
   "source": [
    "essential = []\n",
    "\n",
    "def essentials(x):\n",
    "    tag = x['세부직종']\n",
    "    try : \n",
    "        if len(set(x['직무태그'].split(',')) & set(globals()[f'{tag}_essential'])) != 0:\n",
    "            essential.append(1)\n",
    "        else:\n",
    "            essential.append(0)\n",
    "    except KeyError:\n",
    "        essential.append(0)\n",
    "        \n",
    "\n",
    "X_train.apply(essentials,axis=1)\n",
    "X_train['세부직종별_필수직무유무'] = essential\n",
    "\n",
    "essential = []\n",
    "X_test.apply(essentials,axis=1)\n",
    "X_test['세부직종별_필수직무유무'] = essential"
   ]
  },
  {
   "cell_type": "markdown",
   "id": "a10e9ade",
   "metadata": {},
   "source": [
    "## 12) 숙련도"
   ]
  },
  {
   "cell_type": "code",
   "execution_count": 25,
   "id": "2aa96870",
   "metadata": {},
   "outputs": [],
   "source": [
    "X_train['숙련도'] = X_train['근무경력'].apply(lambda x:'경력없음' \n",
    "                          if x==0 else '하' if x<=3 else '중' if x<=6 else '상')\n",
    "\n",
    "X_test['숙련도'] = X_test['근무경력'].apply(lambda x:'경력없음' \n",
    "                          if x==0 else '하' if x<=3 else '중' if x<=6 else '상')"
   ]
  },
  {
   "cell_type": "markdown",
   "id": "a093e293",
   "metadata": {},
   "source": [
    "## 13) 직무태그_직무수 + 근무경력"
   ]
  },
  {
   "cell_type": "code",
   "execution_count": 26,
   "id": "e893a1c3",
   "metadata": {},
   "outputs": [],
   "source": [
    "X_train['직무태그_직무수 + 근무경력_x']=X_train['직무태그_직무수']*X_train['근무경력']\n",
    "X_test['직무태그_직무수 + 근무경력_x']=X_test['직무태그_직무수']*X_test['근무경력']"
   ]
  },
  {
   "cell_type": "markdown",
   "id": "e7b4bddc",
   "metadata": {},
   "source": [
    "## 14) 세부직종별 근무경력, 직무태그_직무수"
   ]
  },
  {
   "cell_type": "code",
   "execution_count": 27,
   "id": "5399f67f",
   "metadata": {},
   "outputs": [],
   "source": [
    "X_train=pd.merge(X_train, X_train.groupby('세부직종')['근무경력'].mean().reset_index().rename(columns={'근무경력':'세부직종별 근무경력mean'}), on = '세부직종',how='left')\n",
    "X_test=pd.merge(X_test, X_test.groupby('세부직종')['근무경력'].mean().reset_index().rename(columns={'근무경력':'세부직종별 근무경력mean'}), on = '세부직종',how='left')\n",
    "\n",
    "X_train=pd.merge(X_train, X_train.groupby('세부직종')['근무경력'].median().reset_index().rename(columns={'근무경력':'세부직종별 근무경력median'}), on = '세부직종',how='left')\n",
    "X_test=pd.merge(X_test, X_test.groupby('세부직종')['근무경력'].median().reset_index().rename(columns={'근무경력':'세부직종별 근무경력median'}), on = '세부직종',how='left')\n",
    "\n",
    "X_train=pd.merge(X_train,X_train.groupby('세부직종')['근무경력'].var().reset_index().rename(columns={'근무경력':'세부직종별 근무경력var'}), on = '세부직종',how='left')\n",
    "X_test=pd.merge(X_test, X_test.groupby('세부직종')['근무경력'].var().reset_index().rename(columns={'근무경력':'세부직종별 근무경력var'}), on = '세부직종',how='left')\n",
    "\n",
    "X_train=pd.merge(X_train, X_train.groupby('세부직종')['근무경력'].std().reset_index().rename(columns={'근무경력':'세부직종별 근무경력std'}), on = '세부직종',how='left')\n",
    "X_test=pd.merge(X_test, X_test.groupby('세부직종')['근무경력'].std().reset_index().rename(columns={'근무경력':'세부직종별 근무경력std'}), on = '세부직종',how='left')\n",
    "\n",
    "X_train=pd.merge(X_train, X_train.groupby('세부직종')['근무경력'].sum().reset_index().rename(columns={'근무경력':'세부직종별 근무경력sum'}), on = '세부직종',how='left')\n",
    "X_test=pd.merge(X_test, X_test.groupby('세부직종')['근무경력'].sum().reset_index().rename(columns={'근무경력':'세부직종별 근무경력sum'}), on = '세부직종',how='left')\n",
    "\n",
    "X_train=pd.merge(X_train, X_train.groupby('세부직종')['근무경력'].min().reset_index().rename(columns={'근무경력':'세부직종별 근무경력min'}), on = '세부직종',how='left')\n",
    "X_test=pd.merge(X_test, X_test.groupby('세부직종')['근무경력'].min().reset_index().rename(columns={'근무경력':'세부직종별 근무경력min'}), on = '세부직종',how='left')\n",
    "\n",
    "X_train=pd.merge(X_train, X_train.groupby('세부직종')['근무경력'].max().reset_index().rename(columns={'근무경력':'세부직종별 근무경력max'}), on = '세부직종',how='left')\n",
    "X_test=pd.merge(X_test, X_test.groupby('세부직종')['근무경력'].max().reset_index().rename(columns={'근무경력':'세부직종별 근무경력max'}), on = '세부직종',how='left')"
   ]
  },
  {
   "cell_type": "markdown",
   "id": "de3c1fbc",
   "metadata": {},
   "source": [
    "## 15) 세부직종별 직무태그_직무수"
   ]
  },
  {
   "cell_type": "code",
   "execution_count": 28,
   "id": "58f53c8b",
   "metadata": {},
   "outputs": [],
   "source": [
    "X_train=pd.merge(X_train, X_train.groupby('세부직종')['직무태그_직무수'].mean().reset_index().rename(columns={'직무태그_직무수':'세부직종별 직무태그_직무수mean'}), on = '세부직종',how='left')\n",
    "X_test=pd.merge(X_test, X_test.groupby('세부직종')['직무태그_직무수'].mean().reset_index().rename(columns={'직무태그_직무수':'세부직종별 직무태그_직무수mean'}), on = '세부직종',how='left')\n",
    "\n",
    "X_train=pd.merge(X_train, X_train.groupby('세부직종')['직무태그_직무수'].median().reset_index().rename(columns={'직무태그_직무수':'세부직종별 직무태그_직무수median'}), on = '세부직종',how='left')\n",
    "X_test=pd.merge(X_test, X_test.groupby('세부직종')['직무태그_직무수'].median().reset_index().rename(columns={'직무태그_직무수':'세부직종별 직무태그_직무수median'}), on = '세부직종',how='left')\n",
    "\n",
    "X_train=pd.merge(X_train, X_train.groupby('세부직종')['직무태그_직무수'].var().reset_index().rename(columns={'직무태그_직무수':'세부직종별 직무태그_직무수var'}), on = '세부직종',how='left')\n",
    "X_test=pd.merge(X_test, X_test.groupby('세부직종')['직무태그_직무수'].var().reset_index().rename(columns={'직무태그_직무수':'세부직종별 직무태그_직무수var'}), on = '세부직종',how='left')\n",
    "\n",
    "X_train=pd.merge(X_train, X_train.groupby('세부직종')['직무태그_직무수'].std().reset_index().rename(columns={'직무태그_직무수':'세부직종별 직무태그_직무수std'}), on = '세부직종',how='left')\n",
    "X_test=pd.merge(X_test, X_test.groupby('세부직종')['직무태그_직무수'].std().reset_index().rename(columns={'직무태그_직무수':'세부직종별 직무태그_직무수std'}), on = '세부직종',how='left')\n",
    "\n",
    "X_train=pd.merge(X_train, X_train.groupby('세부직종')['직무태그_직무수'].sum().reset_index().rename(columns={'직무태그_직무수':'세부직종별 직무태그_직무수sum'}), on = '세부직종',how='left')\n",
    "X_test=pd.merge(X_test, X_test.groupby('세부직종')['직무태그_직무수'].sum().reset_index().rename(columns={'직무태그_직무수':'세부직종별 직무태그_직무수sum'}), on = '세부직종',how='left')\n",
    "\n",
    "X_train=pd.merge(X_train, X_train.groupby('세부직종')['직무태그_직무수'].min().reset_index().rename(columns={'직무태그_직무수':'세부직종별 직무태그_직무수min'}), on = '세부직종',how='left')\n",
    "X_test=pd.merge(X_test, X_test.groupby('세부직종')['직무태그_직무수'].max().reset_index().rename(columns={'직무태그_직무수':'세부직종별 직무태그_직무수min'}), on = '세부직종',how='left')\n",
    "\n",
    "X_train=pd.merge(X_train, X_train.groupby('세부직종')['직무태그_직무수'].max().reset_index().rename(columns={'직무태그_직무수':'세부직종별 직무태그_직무수max'}), on = '세부직종',how='left')\n",
    "X_test=pd.merge(X_test, X_test.groupby('세부직종')['직무태그_직무수'].max().reset_index().rename(columns={'직무태그_직무수':'세부직종별 직무태그_직무수max'}), on = '세부직종',how='left')"
   ]
  },
  {
   "cell_type": "markdown",
   "id": "5e51a948",
   "metadata": {},
   "source": [
    "## 16) 출신대학별 근무경력,대학성적"
   ]
  },
  {
   "cell_type": "code",
   "execution_count": 29,
   "id": "fb94528e",
   "metadata": {},
   "outputs": [],
   "source": [
    "X_train=pd.merge(X_train, X_train.groupby('출신대학')['근무경력'].mean().reset_index().rename(columns={'근무경력':'출신대학별 근무경력mean'}), on = '출신대학',how='left')\n",
    "X_test=pd.merge(X_test, X_test.groupby('출신대학')['근무경력'].mean().reset_index().rename(columns={'근무경력':'출신대학별 근무경력mean'}), on = '출신대학',how='left')\n",
    "\n",
    "X_train=pd.merge(X_train, X_train.groupby('출신대학')['근무경력'].sum().reset_index().rename(columns={'근무경력':'출신대학별 근무경력sum'}), on = '출신대학',how='left')\n",
    "X_test=pd.merge(X_test, X_test.groupby('출신대학')['근무경력'].sum().reset_index().rename(columns={'근무경력':'출신대학별 근무경력sum'}), on = '출신대학',how='left')\n",
    "\n",
    "\n",
    "X_train=pd.merge(X_train, X_train.groupby('출신대학')['근무경력'].median().reset_index().rename(columns={'근무경력':'출신대학별 근무경력median'}), on = '출신대학',how='left')\n",
    "X_test=pd.merge(X_test, X_test.groupby('출신대학')['근무경력'].median().reset_index().rename(columns={'근무경력':'출신대학별 근무경력median'}), on = '출신대학',how='left')\n",
    "\n",
    "X_train=pd.merge(X_train, X_train.groupby('출신대학')['근무경력'].var().reset_index().rename(columns={'근무경력':'출신대학별 근무경력var'}), on = '출신대학',how='left')\n",
    "X_test=pd.merge(X_test, X_test.groupby('출신대학')['근무경력'].var().reset_index().rename(columns={'근무경력':'출신대학별 근무경력var'}), on = '출신대학',how='left')\n",
    "\n",
    "X_train=pd.merge(X_train, X_train.groupby('출신대학')['근무경력'].std().reset_index().rename(columns={'근무경력':'출신대학별 근무경력std'}), on = '출신대학',how='left')\n",
    "X_test=pd.merge(X_test, X_test.groupby('출신대학')['근무경력'].std().reset_index().rename(columns={'근무경력':'출신대학별 근무경력std'}), on = '출신대학',how='left')\n",
    "\n",
    "X_train=pd.merge(X_train, X_train.groupby('출신대학')['근무경력'].min().reset_index().rename(columns={'근무경력':'출신대학별 근무경력min'}), on = '출신대학',how='left')\n",
    "X_test=pd.merge(X_test, X_test.groupby('출신대학')['근무경력'].min().reset_index().rename(columns={'근무경력':'출신대학별 근무경력min'}), on = '출신대학',how='left')\n",
    "\n",
    "X_train=pd.merge(X_train, X_train.groupby('출신대학')['근무경력'].max().reset_index().rename(columns={'근무경력':'출신대학별 근무경력max'}), on = '출신대학',how='left')\n",
    "X_test=pd.merge(X_test, X_test.groupby('출신대학')['근무경력'].max().reset_index().rename(columns={'근무경력':'출신대학별 근무경력max'}), on = '출신대학',how='left')"
   ]
  },
  {
   "cell_type": "code",
   "execution_count": 30,
   "id": "631ab921",
   "metadata": {},
   "outputs": [],
   "source": [
    "X_train=pd.merge(X_train, X_train.groupby('출신대학')['대학성적'].mean().reset_index().rename(columns={'대학성적':'출신대학별 대학성적mean'}), on = '출신대학',how='left')\n",
    "X_test=pd.merge(X_test, X_test.groupby('출신대학')['대학성적'].mean().reset_index().rename(columns={'대학성적':'출신대학별 대학성적mean'}), on = '출신대학',how='left')\n",
    "\n",
    "X_train=pd.merge(X_train, X_train.groupby('출신대학')['대학성적'].median().reset_index().rename(columns={'대학성적':'출신대학별 대학성적median'}), on = '출신대학',how='left')\n",
    "X_test=pd.merge(X_test, X_test.groupby('출신대학')['대학성적'].median().reset_index().rename(columns={'대학성적':'출신대학별 대학성적median'}), on = '출신대학',how='left')\n",
    "\n",
    "X_train=pd.merge(X_train, X_train.groupby('출신대학')['대학성적'].var().reset_index().rename(columns={'대학성적':'출신대학별 대학성적var'}), on = '출신대학',how='left')\n",
    "X_test=pd.merge(X_test, X_test.groupby('출신대학')['대학성적'].var().reset_index().rename(columns={'대학성적':'출신대학별 대학성적var'}), on = '출신대학',how='left')\n",
    "\n",
    "X_train=pd.merge(X_train, X_train.groupby('출신대학')['대학성적'].std().reset_index().rename(columns={'대학성적':'출신대학별 대학성적std'}), on = '출신대학',how='left')\n",
    "X_test=pd.merge(X_test, X_test.groupby('출신대학')['대학성적'].std().reset_index().rename(columns={'대학성적':'출신대학별 대학성적std'}), on = '출신대학',how='left')\n",
    "\n",
    "X_train=pd.merge(X_train, X_train.groupby('출신대학')['대학성적'].sum().reset_index().rename(columns={'대학성적':'출신대학별 대학성적sum'}), on = '출신대학',how='left')\n",
    "X_test=pd.merge(X_test, X_test.groupby('출신대학')['대학성적'].sum().reset_index().rename(columns={'대학성적':'출신대학별 대학성적sum'}), on = '출신대학',how='left')\n",
    "\n",
    "X_train=pd.merge(X_train, X_train.groupby('출신대학')['대학성적'].min().reset_index().rename(columns={'대학성적':'출신대학별 대학성적min'}), on = '출신대학',how='left')\n",
    "X_test=pd.merge(X_test, X_test.groupby('출신대학')['대학성적'].min().reset_index().rename(columns={'대학성적':'출신대학별 대학성적min'}), on = '출신대학',how='left')\n",
    "\n",
    "X_train=pd.merge(X_train, X_train.groupby('출신대학')['대학성적'].max().reset_index().rename(columns={'대학성적':'출신대학별 대학성적max'}), on = '출신대학',how='left')\n",
    "X_test=pd.merge(X_test, X_test.groupby('출신대학')['대학성적'].max().reset_index().rename(columns={'대학성적':'출신대학별 대학성적max'}), on = '출신대학',how='left')"
   ]
  },
  {
   "cell_type": "markdown",
   "id": "64ac21c7",
   "metadata": {},
   "source": [
    "## 17) 근무형태별 근무경력,대학성적,출신대학수치"
   ]
  },
  {
   "cell_type": "code",
   "execution_count": 31,
   "id": "69606370",
   "metadata": {},
   "outputs": [],
   "source": [
    "X_train=pd.merge(X_train, X_train.groupby('근무형태')['근무경력'].mean().reset_index().rename(columns={'근무경력':'근무형태별 근무경력mean'}), on = '근무형태',how='left')\n",
    "X_test=pd.merge(X_test, X_test.groupby('근무형태')['근무경력'].mean().reset_index().rename(columns={'근무경력':'근무형태별 근무경력mean'}), on = '근무형태',how='left')\n",
    "\n",
    "X_train=pd.merge(X_train, X_train.groupby('근무형태')['근무경력'].median().reset_index().rename(columns={'근무경력':'근무형태별 근무경력median'}), on = '근무형태',how='left')\n",
    "X_test=pd.merge(X_test, X_test.groupby('근무형태')['근무경력'].median().reset_index().rename(columns={'근무경력':'근무형태별 근무경력median'}), on = '근무형태',how='left')\n",
    "\n",
    "X_train=pd.merge(X_train, X_train.groupby('근무형태')['근무경력'].var().reset_index().rename(columns={'근무경력':'근무형태별 근무경력var'}), on = '근무형태',how='left')\n",
    "X_test=pd.merge(X_test, X_test.groupby('근무형태')['근무경력'].var().reset_index().rename(columns={'근무경력':'근무형태별 근무경력var'}), on = '근무형태',how='left')\n",
    "\n",
    "X_train=pd.merge(X_train, X_train.groupby('근무형태')['근무경력'].std().reset_index().rename(columns={'근무경력':'근무형태별 근무경력std'}), on = '근무형태',how='left')\n",
    "X_test=pd.merge(X_test, X_test.groupby('근무형태')['근무경력'].std().reset_index().rename(columns={'근무경력':'근무형태별 근무경력std'}), on = '근무형태',how='left')\n",
    "\n",
    "X_train=pd.merge(X_train, X_train.groupby('근무형태')['근무경력'].sum().reset_index().rename(columns={'근무경력':'근무형태별 근무경력sum'}), on = '근무형태',how='left')\n",
    "X_test=pd.merge(X_test, X_test.groupby('근무형태')['근무경력'].sum().reset_index().rename(columns={'근무경력':'근무형태별 근무경력sum'}), on = '근무형태',how='left')\n",
    "\n",
    "X_train=pd.merge(X_train, X_train.groupby('근무형태')['근무경력'].min().reset_index().rename(columns={'근무경력':'근무형태별 근무경력min'}), on = '근무형태',how='left')\n",
    "X_test=pd.merge(X_test, X_test.groupby('근무형태')['근무경력'].min().reset_index().rename(columns={'근무경력':'근무형태별 근무경력min'}), on = '근무형태',how='left')\n",
    "\n",
    "X_train=pd.merge(X_train, X_train.groupby('근무형태')['근무경력'].max().reset_index().rename(columns={'근무경력':'근무형태별 근무경력max'}), on = '근무형태',how='left')\n",
    "X_test=pd.merge(X_test, X_test.groupby('근무형태')['근무경력'].max().reset_index().rename(columns={'근무경력':'근무형태별 근무경력max'}), on = '근무형태',how='left')\n"
   ]
  },
  {
   "cell_type": "code",
   "execution_count": 32,
   "id": "366bc2f3",
   "metadata": {},
   "outputs": [],
   "source": [
    "X_train=pd.merge(X_train, X_train.groupby('근무형태')['대학성적'].mean().reset_index().rename(columns={'대학성적':'근무형태별 대학성적mean'}), on = '근무형태',how='left')\n",
    "X_test=pd.merge(X_test, X_test.groupby('근무형태')['대학성적'].mean().reset_index().rename(columns={'대학성적':'근무형태별 대학성적mean'}), on = '근무형태',how='left')\n",
    "\n",
    "X_train=pd.merge(X_train, X_train.groupby('근무형태')['대학성적'].median().reset_index().rename(columns={'대학성적':'근무형태별 대학성적median'}), on = '근무형태',how='left')\n",
    "X_test=pd.merge(X_test, X_test.groupby('근무형태')['대학성적'].median().reset_index().rename(columns={'대학성적':'근무형태별 대학성적median'}), on = '근무형태',how='left')\n",
    "\n",
    "X_train=pd.merge(X_train, X_train.groupby('근무형태')['대학성적'].var().reset_index().rename(columns={'대학성적':'근무형태별 대학성적var'}), on = '근무형태',how='left')\n",
    "X_test=pd.merge(X_test, X_test.groupby('근무형태')['대학성적'].var().reset_index().rename(columns={'대학성적':'근무형태별 대학성적var'}), on = '근무형태',how='left')\n",
    "\n",
    "X_train=pd.merge(X_train, X_train.groupby('근무형태')['대학성적'].std().reset_index().rename(columns={'대학성적':'근무형태별 대학성적std'}), on = '근무형태',how='left')\n",
    "X_test=pd.merge(X_test, X_test.groupby('근무형태')['대학성적'].std().reset_index().rename(columns={'대학성적':'근무형태별 대학성적std'}), on = '근무형태',how='left')\n",
    "\n",
    "X_train=pd.merge(X_train, X_train.groupby('근무형태')['대학성적'].sum().reset_index().rename(columns={'대학성적':'근무형태별 대학성적sum'}), on = '근무형태',how='left')\n",
    "X_test=pd.merge(X_test, X_test.groupby('근무형태')['대학성적'].sum().reset_index().rename(columns={'대학성적':'근무형태별 대학성적sum'}), on = '근무형태',how='left')\n",
    "\n",
    "X_train=pd.merge(X_train, X_train.groupby('근무형태')['대학성적'].min().reset_index().rename(columns={'대학성적':'근무형태별 대학성적min'}), on = '근무형태',how='left')\n",
    "X_test=pd.merge(X_test, X_test.groupby('근무형태')['대학성적'].min().reset_index().rename(columns={'대학성적':'근무형태별 대학성적min'}), on = '근무형태',how='left')\n",
    "\n",
    "X_train=pd.merge(X_train, X_train.groupby('근무형태')['대학성적'].max().reset_index().rename(columns={'대학성적':'근무형태별 대학성적max'}), on = '근무형태',how='left')\n",
    "X_test=pd.merge(X_test, X_test.groupby('근무형태')['대학성적'].max().reset_index().rename(columns={'대학성적':'근무형태별 대학성적max'}), on = '근무형태',how='left')"
   ]
  },
  {
   "cell_type": "code",
   "execution_count": 33,
   "id": "4743fd52",
   "metadata": {},
   "outputs": [],
   "source": [
    "X_train=pd.merge(X_train, X_train.groupby('근무형태')['출신대학수치'].mean().reset_index().rename(columns={'출신대학수치':'근무형태별 출신대학수치mean'}), on = '근무형태',how='left')\n",
    "X_test=pd.merge(X_test, X_test.groupby('근무형태')['출신대학수치'].mean().reset_index().rename(columns={'출신대학수치':'근무형태별 출신대학수치mean'}), on = '근무형태',how='left')\n",
    "\n",
    "X_train=pd.merge(X_train, X_train.groupby('근무형태')['출신대학수치'].median().reset_index().rename(columns={'출신대학수치':'근무형태별 출신대학수치median'}), on = '근무형태',how='left')\n",
    "X_test=pd.merge(X_test, X_test.groupby('근무형태')['출신대학수치'].median().reset_index().rename(columns={'출신대학수치':'근무형태별 출신대학수치median'}), on = '근무형태',how='left')\n",
    "\n",
    "X_train=pd.merge(X_train, X_train.groupby('근무형태')['출신대학수치'].sum().reset_index().rename(columns={'출신대학수치':'근무형태별 출신대학수치sum'}), on = '근무형태',how='left')\n",
    "X_test=pd.merge(X_test, X_test.groupby('근무형태')['출신대학수치'].sum().reset_index().rename(columns={'출신대학수치':'근무형태별 출신대학수치sum'}), on = '근무형태',how='left')\n",
    "\n",
    "X_train=pd.merge(X_train, X_train.groupby('근무형태')['출신대학수치'].var().reset_index().rename(columns={'출신대학수치':'근무형태별 출신대학수치var'}), on = '근무형태',how='left')\n",
    "X_test=pd.merge(X_test, X_test.groupby('근무형태')['출신대학수치'].var().reset_index().rename(columns={'출신대학수치':'근무형태별 출신대학수치var'}), on = '근무형태',how='left')\n",
    "\n",
    "X_train=pd.merge(X_train, X_train.groupby('근무형태')['출신대학수치'].std().reset_index().rename(columns={'출신대학수치':'근무형태별 출신대학수치std'}), on = '근무형태',how='left')\n",
    "X_test=pd.merge(X_test, X_test.groupby('근무형태')['출신대학수치'].std().reset_index().rename(columns={'출신대학수치':'근무형태별 출신대학수치std'}), on = '근무형태',how='left')\n",
    "\n",
    "X_train=pd.merge(X_train, X_train.groupby('근무형태')['출신대학수치'].min().reset_index().rename(columns={'출신대학수치':'근무형태별 출신대학수치min'}), on = '근무형태',how='left')\n",
    "X_test=pd.merge(X_test, X_test.groupby('근무형태')['출신대학수치'].min().reset_index().rename(columns={'출신대학수치':'근무형태별 출신대학수치min'}), on = '근무형태',how='left')\n",
    "\n",
    "X_train=pd.merge(X_train, X_train.groupby('근무형태')['출신대학수치'].max().reset_index().rename(columns={'출신대학수치':'근무형태별 출신대학수치max'}), on = '근무형태',how='left')\n",
    "X_test=pd.merge(X_test, X_test.groupby('근무형태')['출신대학수치'].max().reset_index().rename(columns={'출신대학수치':'근무형태별 출신대학수치max'}), on = '근무형태',how='left')"
   ]
  },
  {
   "cell_type": "markdown",
   "id": "836ae945",
   "metadata": {},
   "source": [
    "## 18) 대학전공별 근무경력, 대학성적, 출신대학수치"
   ]
  },
  {
   "cell_type": "code",
   "execution_count": 34,
   "id": "9c4db0a3",
   "metadata": {},
   "outputs": [],
   "source": [
    "X_train=pd.merge(X_train, X_train.groupby('대학전공')['근무경력'].mean().reset_index().rename(columns={'근무경력':'대학전공별 근무경력mean'}), on = '대학전공',how='left')\n",
    "X_test=pd.merge(X_test, X_test.groupby('대학전공')['근무경력'].mean().reset_index().rename(columns={'근무경력':'대학전공별 근무경력mean'}), on = '대학전공',how='left')\n",
    "\n",
    "X_train=pd.merge(X_train, X_train.groupby('대학전공')['근무경력'].median().reset_index().rename(columns={'근무경력':'대학전공별 근무경력median'}), on = '대학전공',how='left')\n",
    "X_test=pd.merge(X_test, X_test.groupby('대학전공')['근무경력'].median().reset_index().rename(columns={'근무경력':'대학전공별 근무경력median'}), on = '대학전공',how='left')\n",
    "\n",
    "X_train=pd.merge(X_train, X_train.groupby('대학전공')['근무경력'].var().reset_index().rename(columns={'근무경력':'대학전공별 근무경력var'}), on = '대학전공',how='left')\n",
    "X_test=pd.merge(X_test, X_test.groupby('대학전공')['근무경력'].var().reset_index().rename(columns={'근무경력':'대학전공별 근무경력var'}), on = '대학전공',how='left')\n",
    "\n",
    "X_train=pd.merge(X_train, X_train.groupby('대학전공')['근무경력'].std().reset_index().rename(columns={'근무경력':'대학전공별 근무경력std'}), on = '대학전공',how='left')\n",
    "X_test=pd.merge(X_test, X_test.groupby('대학전공')['근무경력'].std().reset_index().rename(columns={'근무경력':'대학전공별 근무경력std'}), on = '대학전공',how='left')\n",
    "\n",
    "X_train=pd.merge(X_train, X_train.groupby('대학전공')['근무경력'].sum().reset_index().rename(columns={'근무경력':'대학전공별 근무경력sum'}), on = '대학전공',how='left')\n",
    "X_test=pd.merge(X_test, X_test.groupby('대학전공')['근무경력'].sum().reset_index().rename(columns={'근무경력':'대학전공별 근무경력sum'}), on = '대학전공',how='left')\n",
    "\n",
    "X_train=pd.merge(X_train, X_train.groupby('대학전공')['근무경력'].min().reset_index().rename(columns={'근무경력':'대학전공별 근무경력min'}), on = '대학전공',how='left')\n",
    "X_test=pd.merge(X_test, X_test.groupby('대학전공')['근무경력'].min().reset_index().rename(columns={'근무경력':'대학전공별 근무경력min'}), on = '대학전공',how='left')\n",
    "\n",
    "X_train=pd.merge(X_train, X_train.groupby('대학전공')['근무경력'].max().reset_index().rename(columns={'근무경력':'대학전공별 근무경력max'}), on = '대학전공',how='left')\n",
    "X_test=pd.merge(X_test, X_test.groupby('대학전공')['근무경력'].max().reset_index().rename(columns={'근무경력':'대학전공별 근무경력max'}), on = '대학전공',how='left')"
   ]
  },
  {
   "cell_type": "code",
   "execution_count": 35,
   "id": "1f392d89",
   "metadata": {},
   "outputs": [],
   "source": [
    "X_train=pd.merge(X_train, X_train.groupby('대학전공')['대학성적'].mean().reset_index().rename(columns={'대학성적':'대학전공별 대학성적mean'}), on = '대학전공',how='left')\n",
    "X_test=pd.merge(X_test, X_test.groupby('대학전공')['대학성적'].mean().reset_index().rename(columns={'대학성적':'대학전공별 대학성적mean'}), on = '대학전공',how='left')\n",
    "\n",
    "X_train=pd.merge(X_train, X_train.groupby('대학전공')['대학성적'].median().reset_index().rename(columns={'대학성적':'대학전공별 대학성적median'}), on = '대학전공',how='left')\n",
    "X_test=pd.merge(X_test, X_test.groupby('대학전공')['대학성적'].median().reset_index().rename(columns={'대학성적':'대학전공별 대학성적median'}), on = '대학전공',how='left')\n",
    "\n",
    "X_train=pd.merge(X_train, X_train.groupby('대학전공')['대학성적'].var().reset_index().rename(columns={'대학성적':'대학전공별 대학성적var'}), on = '대학전공',how='left')\n",
    "X_test=pd.merge(X_test, X_test.groupby('대학전공')['대학성적'].var().reset_index().rename(columns={'대학성적':'대학전공별 대학성적var'}), on = '대학전공',how='left')\n",
    "\n",
    "X_train=pd.merge(X_train, X_train.groupby('대학전공')['대학성적'].std().reset_index().rename(columns={'대학성적':'대학전공별 대학성적std'}), on = '대학전공',how='left')\n",
    "X_test=pd.merge(X_test, X_test.groupby('대학전공')['대학성적'].std().reset_index().rename(columns={'대학성적':'대학전공별 대학성적std'}), on = '대학전공',how='left')\n",
    "\n",
    "X_train=pd.merge(X_train, X_train.groupby('대학전공')['대학성적'].sum().reset_index().rename(columns={'대학성적':'대학전공별 대학성적sum'}), on = '대학전공',how='left')\n",
    "X_test=pd.merge(X_test, X_test.groupby('대학전공')['대학성적'].sum().reset_index().rename(columns={'대학성적':'대학전공별 대학성적sum'}), on = '대학전공',how='left')\n",
    "\n",
    "X_train=pd.merge(X_train, X_train.groupby('대학전공')['대학성적'].min().reset_index().rename(columns={'대학성적':'대학전공별 대학성적min'}), on = '대학전공',how='left')\n",
    "X_test=pd.merge(X_test, X_test.groupby('대학전공')['대학성적'].min().reset_index().rename(columns={'대학성적':'대학전공별 대학성적min'}), on = '대학전공',how='left')\n",
    "\n",
    "X_train=pd.merge(X_train, X_train.groupby('대학전공')['대학성적'].max().reset_index().rename(columns={'대학성적':'대학전공별 대학성적max'}), on = '대학전공',how='left')\n",
    "X_test=pd.merge(X_test, X_test.groupby('대학전공')['대학성적'].max().reset_index().rename(columns={'대학성적':'대학전공별 대학성적max'}), on = '대학전공',how='left')"
   ]
  },
  {
   "cell_type": "code",
   "execution_count": 36,
   "id": "899b2e70",
   "metadata": {},
   "outputs": [],
   "source": [
    "X_train=pd.merge(X_train, X_train.groupby('대학전공')['출신대학수치'].mean().reset_index().rename(columns={'출신대학수치':'대학전공별 출신대학수치mean'}), on = '대학전공',how='left')\n",
    "X_test=pd.merge(X_test, X_test.groupby('대학전공')['출신대학수치'].mean().reset_index().rename(columns={'출신대학수치':'대학전공별 출신대학수치mean'}), on = '대학전공',how='left')\n",
    "\n",
    "X_train=pd.merge(X_train, X_train.groupby('대학전공')['출신대학수치'].median().reset_index().rename(columns={'출신대학수치':'대학전공별 출신대학수치median'}), on = '대학전공',how='left')\n",
    "X_test=pd.merge(X_test, X_test.groupby('대학전공')['출신대학수치'].median().reset_index().rename(columns={'출신대학수치':'대학전공별 출신대학수치median'}), on = '대학전공',how='left')\n",
    "\n",
    "X_train=pd.merge(X_train, X_train.groupby('대학전공')['출신대학수치'].sum().reset_index().rename(columns={'출신대학수치':'대학전공별 출신대학수치sum'}), on = '대학전공',how='left')\n",
    "X_test=pd.merge(X_test, X_test.groupby('대학전공')['출신대학수치'].sum().reset_index().rename(columns={'출신대학수치':'대학전공별 출신대학수치sum'}), on = '대학전공',how='left')\n",
    "\n",
    "X_train=pd.merge(X_train, X_train.groupby('대학전공')['출신대학수치'].var().reset_index().rename(columns={'출신대학수치':'대학전공별 출신대학수치var'}), on = '대학전공',how='left')\n",
    "X_test=pd.merge(X_test, X_test.groupby('대학전공')['출신대학수치'].var().reset_index().rename(columns={'출신대학수치':'대학전공별 출신대학수치var'}), on = '대학전공',how='left')\n",
    "\n",
    "X_train=pd.merge(X_train, X_train.groupby('대학전공')['출신대학수치'].std().reset_index().rename(columns={'출신대학수치':'대학전공별 출신대학수치std'}), on = '대학전공',how='left')\n",
    "X_test=pd.merge(X_test, X_test.groupby('대학전공')['출신대학수치'].std().reset_index().rename(columns={'출신대학수치':'대학전공별 출신대학수치std'}), on = '대학전공',how='left')\n",
    "\n",
    "X_train=pd.merge(X_train, X_train.groupby('대학전공')['출신대학수치'].min().reset_index().rename(columns={'출신대학수치':'대학전공별 출신대학수치min'}), on = '대학전공',how='left')\n",
    "X_test=pd.merge(X_test, X_test.groupby('대학전공')['출신대학수치'].min().reset_index().rename(columns={'출신대학수치':'대학전공별 출신대학수치min'}), on = '대학전공',how='left')\n",
    "\n",
    "X_train=pd.merge(X_train, X_train.groupby('대학전공')['출신대학수치'].max().reset_index().rename(columns={'출신대학수치':'대학전공별 출신대학수치max'}), on = '대학전공',how='left')\n",
    "X_test=pd.merge(X_test, X_test.groupby('대학전공')['출신대학수치'].max().reset_index().rename(columns={'출신대학수치':'대학전공별 출신대학수치max'}), on = '대학전공',how='left')"
   ]
  },
  {
   "cell_type": "markdown",
   "id": "99a9f7f5",
   "metadata": {},
   "source": [
    "## 19) 직무태그별 근무경력, 대학성적, 출신대학수치"
   ]
  },
  {
   "cell_type": "code",
   "execution_count": 37,
   "id": "a1f19513",
   "metadata": {},
   "outputs": [],
   "source": [
    "X_train=pd.merge(X_train, X_train.groupby('직무태그')['근무경력'].mean().reset_index().rename(columns={'근무경력':'직무태그별 근무경력mean'}), on = '직무태그',how='left')\n",
    "X_test=pd.merge(X_test, X_test.groupby('직무태그')['근무경력'].mean().reset_index().rename(columns={'근무경력':'직무태그별 근무경력mean'}), on = '직무태그',how='left')\n",
    "\n",
    "X_train=pd.merge(X_train, X_train.groupby('직무태그')['근무경력'].median().reset_index().rename(columns={'근무경력':'직무태그별 근무경력median'}), on = '직무태그',how='left')\n",
    "X_test=pd.merge(X_test, X_test.groupby('직무태그')['근무경력'].median().reset_index().rename(columns={'근무경력':'직무태그별 근무경력median'}), on = '직무태그',how='left')\n",
    "\n",
    "X_train=pd.merge(X_train, X_train.groupby('직무태그')['근무경력'].var().reset_index().rename(columns={'근무경력':'직무태그별 근무경력var'}), on = '직무태그',how='left')\n",
    "X_test=pd.merge(X_test, X_test.groupby('직무태그')['근무경력'].var().reset_index().rename(columns={'근무경력':'직무태그별 근무경력var'}), on = '직무태그',how='left')\n",
    "\n",
    "X_train=pd.merge(X_train, X_train.groupby('직무태그')['근무경력'].std().reset_index().rename(columns={'근무경력':'직무태그별 근무경력std'}), on = '직무태그',how='left')\n",
    "X_test=pd.merge(X_test, X_test.groupby('직무태그')['근무경력'].std().reset_index().rename(columns={'근무경력':'직무태그별 근무경력std'}), on = '직무태그',how='left')\n",
    "\n",
    "X_train=pd.merge(X_train, X_train.groupby('직무태그')['근무경력'].sum().reset_index().rename(columns={'근무경력':'직무태그별 근무경력sum'}), on = '직무태그',how='left')\n",
    "X_test=pd.merge(X_test, X_test.groupby('직무태그')['근무경력'].sum().reset_index().rename(columns={'근무경력':'직무태그별 근무경력sum'}), on = '직무태그',how='left')\n",
    "\n",
    "X_train=pd.merge(X_train, X_train.groupby('직무태그')['근무경력'].min().reset_index().rename(columns={'근무경력':'직무태그별 근무경력min'}), on = '직무태그',how='left')\n",
    "X_test=pd.merge(X_test, X_test.groupby('직무태그')['근무경력'].min().reset_index().rename(columns={'근무경력':'직무태그별 근무경력min'}), on = '직무태그',how='left')\n",
    "\n",
    "X_train=pd.merge(X_train, X_train.groupby('직무태그')['근무경력'].max().reset_index().rename(columns={'근무경력':'직무태그별 근무경력max'}), on = '직무태그',how='left')\n",
    "X_test=pd.merge(X_test, X_test.groupby('직무태그')['근무경력'].max().reset_index().rename(columns={'근무경력':'직무태그별 근무경력max'}), on = '직무태그',how='left')"
   ]
  },
  {
   "cell_type": "code",
   "execution_count": 38,
   "id": "2e896aac",
   "metadata": {},
   "outputs": [],
   "source": [
    "X_train=pd.merge(X_train, X_train.groupby('직무태그')['출신대학수치'].mean().reset_index().rename(columns={'출신대학수치':'직무태그별 출신대학수치mean'}), on = '직무태그',how='left')\n",
    "X_test=pd.merge(X_test, X_test.groupby('직무태그')['출신대학수치'].mean().reset_index().rename(columns={'출신대학수치':'직무태그별 출신대학수치mean'}), on = '직무태그',how='left')\n",
    "\n",
    "X_train=pd.merge(X_train, X_train.groupby('직무태그')['출신대학수치'].median().reset_index().rename(columns={'출신대학수치':'직무태그별 출신대학수치median'}), on = '직무태그',how='left')\n",
    "X_test=pd.merge(X_test, X_test.groupby('직무태그')['출신대학수치'].median().reset_index().rename(columns={'출신대학수치':'직무태그별 출신대학수치median'}), on = '직무태그',how='left')\n",
    "\n",
    "X_train=pd.merge(X_train, X_train.groupby('직무태그')['출신대학수치'].sum().reset_index().rename(columns={'출신대학수치':'직무태그별 출신대학수치sum'}), on = '직무태그',how='left')\n",
    "X_test=pd.merge(X_test, X_test.groupby('직무태그')['출신대학수치'].sum().reset_index().rename(columns={'출신대학수치':'직무태그별 출신대학수치sum'}), on = '직무태그',how='left')\n",
    "\n",
    "X_train=pd.merge(X_train, X_train.groupby('직무태그')['출신대학수치'].var().reset_index().rename(columns={'출신대학수치':'직무태그별 출신대학수치var'}), on = '직무태그',how='left')\n",
    "X_test=pd.merge(X_test, X_test.groupby('직무태그')['출신대학수치'].var().reset_index().rename(columns={'출신대학수치':'직무태그별 출신대학수치var'}), on = '직무태그',how='left')\n",
    "\n",
    "X_train=pd.merge(X_train, X_train.groupby('직무태그')['출신대학수치'].std().reset_index().rename(columns={'출신대학수치':'직무태그별 출신대학수치std'}), on = '직무태그',how='left')\n",
    "X_test=pd.merge(X_test, X_test.groupby('직무태그')['출신대학수치'].std().reset_index().rename(columns={'출신대학수치':'직무태그별 출신대학수치std'}), on = '직무태그',how='left')\n",
    "\n",
    "X_train=pd.merge(X_train, X_train.groupby('직무태그')['출신대학수치'].min().reset_index().rename(columns={'출신대학수치':'직무태그별 출신대학수치min'}), on = '직무태그',how='left')\n",
    "X_test=pd.merge(X_test, X_test.groupby('직무태그')['출신대학수치'].min().reset_index().rename(columns={'출신대학수치':'직무태그별 출신대학수치min'}), on = '직무태그',how='left')\n",
    "\n",
    "X_train=pd.merge(X_train, X_train.groupby('직무태그')['출신대학수치'].max().reset_index().rename(columns={'출신대학수치':'직무태그별 출신대학수치max'}), on = '직무태그',how='left')\n",
    "X_test=pd.merge(X_test, X_test.groupby('직무태그')['출신대학수치'].max().reset_index().rename(columns={'출신대학수치':'직무태그별 출신대학수치max'}), on = '직무태그',how='left')"
   ]
  },
  {
   "cell_type": "code",
   "execution_count": null,
   "id": "16cd77f1",
   "metadata": {},
   "outputs": [],
   "source": []
  },
  {
   "cell_type": "markdown",
   "id": "c130cc73",
   "metadata": {},
   "source": [
    "## 20) 출신대학+전공"
   ]
  },
  {
   "cell_type": "code",
   "execution_count": 39,
   "id": "6a57e024",
   "metadata": {},
   "outputs": [],
   "source": [
    "X_train['대학+전공'] = X_train['출신대학'] + X_train['대학전공']\n",
    "X_test['대학+전공'] = X_test['출신대학'] + X_test['대학전공']"
   ]
  },
  {
   "cell_type": "markdown",
   "id": "5b2c7626",
   "metadata": {},
   "source": [
    "## 21) 근무형태 + 직종"
   ]
  },
  {
   "cell_type": "code",
   "execution_count": 40,
   "id": "e87ce0c4",
   "metadata": {},
   "outputs": [],
   "source": [
    "X_train['근무형태+직종'] = X_train['근무형태']+X_train['직종']\n",
    "X_test['근무형태+직종'] = X_test['근무형태']+X_test['직종']"
   ]
  },
  {
   "cell_type": "markdown",
   "id": "13bab16b",
   "metadata": {},
   "source": [
    "## 22) 세부직종 + 출신대학"
   ]
  },
  {
   "cell_type": "code",
   "execution_count": 41,
   "id": "762c0b4d",
   "metadata": {},
   "outputs": [],
   "source": [
    "X_train['세부직종+출신대학'] = X_train['세부직종']+X_train['출신대학']\n",
    "X_test['세부직종+출신대학'] = X_test['세부직종']+X_test['출신대학']"
   ]
  },
  {
   "cell_type": "markdown",
   "id": "b9593336",
   "metadata": {},
   "source": [
    "## 23) 세부직종 + 대학전공"
   ]
  },
  {
   "cell_type": "code",
   "execution_count": 42,
   "id": "521184c4",
   "metadata": {},
   "outputs": [],
   "source": [
    "X_train['세부직종+대학전공'] = X_train['세부직종']+X_train['대학전공']\n",
    "X_test['세부직종+대학전공'] = X_test['세부직종']+X_test['대학전공']"
   ]
  },
  {
   "cell_type": "markdown",
   "id": "d3b37ffa",
   "metadata": {},
   "source": [
    "## 24) 출신대학 + 대학전공"
   ]
  },
  {
   "cell_type": "code",
   "execution_count": 43,
   "id": "101cb400",
   "metadata": {},
   "outputs": [],
   "source": [
    "X_train['대학전공+출신대학'] = X_train['대학전공']+X_train['출신대학']\n",
    "X_test['대학전공+출신대학'] = X_test['대학전공']+X_test['출신대학']"
   ]
  },
  {
   "cell_type": "markdown",
   "id": "c94ef1ee",
   "metadata": {},
   "source": [
    "## 25) 직무태그1(맨 앞에 있는 태그만 추출)"
   ]
  },
  {
   "cell_type": "code",
   "execution_count": 44,
   "id": "4d8ff4eb",
   "metadata": {},
   "outputs": [],
   "source": [
    "a = []\n",
    "for i in X_train['직무태그']:\n",
    "    a.append(i.split(',')[0])\n",
    "    \n",
    "X_train['직무태그1']= a"
   ]
  },
  {
   "cell_type": "code",
   "execution_count": 45,
   "id": "d91da6b3",
   "metadata": {},
   "outputs": [],
   "source": [
    "b = []\n",
    "for i in X_test['직무태그']:\n",
    "    b.append(i.split(',')[0])\n",
    "\n",
    "X_test['직무태그1']= b"
   ]
  },
  {
   "cell_type": "markdown",
   "id": "d1ad5a6c",
   "metadata": {},
   "source": [
    "## 26) 직종, 및 세부직종별 평균,중앙값, 합, 표준편차, 최솟값, 최댓값"
   ]
  },
  {
   "cell_type": "code",
   "execution_count": 46,
   "id": "ca88ac81",
   "metadata": {},
   "outputs": [],
   "source": [
    "X_train['직종'] = X_train['직종'].apply(lambda x:  x if x in (X_train.직종.unique()) else '기타 직종'  )\n",
    "\n",
    "X_test['직종'] = X_test['직종'].apply(lambda x:  x if x in (X_train.직종.unique()) else '기타 직종'  )\n",
    "\n",
    "job_score = dict(X_train.groupby('직종')['대학성적'].mean())\n",
    "\n",
    "X_train['직종별대학성적평균'] = X_train['직종'].apply(lambda x: job_score[x])\n",
    "X_test['직종별대학성적평균'] = X_test['직종'].apply(lambda x: job_score[x])\n",
    "\n",
    "job_score = dict(X_train.groupby('직종')['대학성적'].median())\n",
    "\n",
    "X_train['직종별대학성적최빈값'] = X_train['직종'].apply(lambda x: job_score[x])\n",
    "X_test['직종별대학성적최빈값'] = X_test['직종'].apply(lambda x: job_score[x])\n",
    "\n",
    "job_score = X_train.groupby('직종')['대학성적'].sum()\n",
    "\n",
    "X_train['직종별대학성적합'] = X_train['직종'].apply(lambda x: job_score[x])\n",
    "X_test['직종별대학성적합'] = X_test['직종'].apply(lambda x: job_score[x])\n",
    "\n",
    "job_score = X_train.groupby('직종')['대학성적'].std().fillna(0)\n",
    "\n",
    "X_train['직종별대학성적표준편차'] = X_train['직종'].apply(lambda x: job_score[x])\n",
    "X_test['직종별대학성적표준편차'] = X_test['직종'].apply(lambda x: job_score[x])\n",
    "\n",
    "job_score = X_train.groupby('직종')['대학성적'].min()\n",
    "\n",
    "X_train['직종별대학성적최소값'] = X_train['직종'].apply(lambda x: job_score[x])\n",
    "X_test['직종별대학성적최소값'] = X_test['직종'].apply(lambda x: job_score[x])\n",
    "\n",
    "job_score = X_train.groupby('직종')['대학성적'].max()\n",
    "\n",
    "X_train['직종별대학성적최대값'] = X_train['직종'].apply(lambda x: job_score[x])\n",
    "X_test['직종별대학성적최대값'] = X_test['직종'].apply(lambda x: job_score[x])\n",
    "\n",
    "\n",
    "detail_job_score = X_train.groupby('직종')['근무경력'].mean()\n",
    "\n",
    "X_train['직종별근무경력평균'] = X_train['직종'].apply(lambda x: detail_job_score[x])\n",
    "X_test['직종별근무경력평균'] = X_test['직종'].apply(lambda x: detail_job_score[x])\n",
    "\n",
    "detail_job_score = X_train.groupby('직종')['근무경력'].median()\n",
    "\n",
    "X_train['직종별근무경력최빈값'] = X_train['직종'].apply(lambda x: detail_job_score[x])\n",
    "X_test['직종별근무경력최빈값'] = X_test['직종'].apply(lambda x: detail_job_score[x])\n",
    "\n",
    "detail_job_score = X_train.groupby('직종')['근무경력'].sum()\n",
    "\n",
    "X_train['직종별근무경력합'] = X_train['직종'].apply(lambda x: detail_job_score[x])\n",
    "X_test['직종별근무경력합'] = X_test['직종'].apply(lambda x: detail_job_score[x])\n",
    "\n",
    "detail_job_score = X_train.groupby('직종')['근무경력'].std().fillna(0)\n",
    "\n",
    "X_train['직종별근무경력표준편차'] = X_train['직종'].apply(lambda x: detail_job_score[x])\n",
    "X_test['직종별근무경력표준편차'] = X_test['직종'].apply(lambda x: detail_job_score[x])\n",
    "\n",
    "detail_job_score = X_train.groupby('직종')['근무경력'].min()\n",
    "\n",
    "X_train['직종별근무경력최소값'] = X_train['직종'].apply(lambda x: detail_job_score[x])\n",
    "X_test['직종별근무경력최소값'] = X_test['직종'].apply(lambda x: detail_job_score[x])\n",
    "\n",
    "detail_job_score = X_train.groupby('직종')['대학성적'].max()\n",
    "\n",
    "X_train['직종별대학성적최대값'] = X_train['직종'].apply(lambda x: detail_job_score[x])\n",
    "X_test['직종별대학성적최대값'] = X_test['직종'].apply(lambda x: detail_job_score[x])\n",
    "\n",
    "## 세부직종\n",
    "\n",
    "X_train.세부직종.nunique()\n",
    "\n",
    "X_test.세부직종.nunique()\n",
    "\n",
    "X_train['세부직종'] = X_train['세부직종'].apply(lambda x:  x if x in (X_train.세부직종.unique()) else '기타'  )\n",
    "\n",
    "X_test['세부직종'] = X_test['세부직종'].apply(lambda x:  x if x in (X_train.세부직종.unique()) else '기타'  )\n",
    "\n",
    "detail_job_score = X_train.groupby('세부직종')['대학성적'].mean()\n",
    "\n",
    "X_train['세부직종별대학성적평균'] = X_train['세부직종'].apply(lambda x: detail_job_score[x])\n",
    "X_test['세부직종별대학성적평균'] = X_test['세부직종'].apply(lambda x: detail_job_score[x])\n",
    "\n",
    "detail_job_score = X_train.groupby('세부직종')['대학성적'].median() \n",
    "\n",
    "X_train['세부직종별대학성적최빈값'] = X_train['세부직종'].apply(lambda x: detail_job_score[x])\n",
    "X_test['세부직종별대학성적최빈값'] = X_test['세부직종'].apply(lambda x: detail_job_score[x])\n",
    "\n",
    "detail_job_score = X_train.groupby('세부직종')['대학성적'].sum()\n",
    "\n",
    "X_train['세부직종별대학성적합'] = X_train['세부직종'].apply(lambda x: detail_job_score[x])\n",
    "X_test['세부직종별대학성적합'] = X_test['세부직종'].apply(lambda x: detail_job_score[x])\n",
    "\n",
    "detail_job_score = X_train.groupby('세부직종')['대학성적'].std().fillna(0)\n",
    "\n",
    "X_train['세부직종별대학성적표준편차'] = X_train['세부직종'].apply(lambda x: detail_job_score[x])\n",
    "X_test['세부직종별대학성적표준편차'] = X_test['세부직종'].apply(lambda x: detail_job_score[x])\n",
    "\n",
    "detail_job_score = X_train.groupby('세부직종')['대학성적'].min()\n",
    "\n",
    "X_train['세부직종별대학성적최소값'] = X_train['세부직종'].apply(lambda x: detail_job_score[x])\n",
    "X_test['세부직종별대학성적최소값'] = X_test['세부직종'].apply(lambda x: detail_job_score[x])\n",
    "\n",
    "detail_job_score = X_train.groupby('세부직종')['대학성적'].max()\n",
    "\n",
    "X_train['세부직종별대학성적최대값'] = X_train['세부직종'].apply(lambda x: detail_job_score[x])\n",
    "X_test['세부직종별대학성적최대값'] = X_test['세부직종'].apply(lambda x: detail_job_score[x])\n",
    "\n",
    "detail_job_score = X_train.groupby('세부직종')['근무경력'].mean()\n",
    "\n",
    "X_train['세부직종별근무경력평균'] = X_train['세부직종'].apply(lambda x: detail_job_score[x])\n",
    "X_test['세부직종별근무경력평균'] = X_test['세부직종'].apply(lambda x: detail_job_score[x])\n",
    "\n",
    "detail_job_score = X_train.groupby('세부직종')['근무경력'].median()\n",
    "\n",
    "X_train['세부직종별근무경력최빈값'] = X_train['세부직종'].apply(lambda x: detail_job_score[x])\n",
    "X_test['세부직종별근무경력최빈값'] = X_test['세부직종'].apply(lambda x: detail_job_score[x])\n",
    "\n",
    "detail_job_score = X_train.groupby('세부직종')['근무경력'].sum()\n",
    "\n",
    "X_train['세부직종별근무경력합'] = X_train['세부직종'].apply(lambda x: detail_job_score[x])\n",
    "X_test['세부직종별근무경력합'] = X_test['세부직종'].apply(lambda x: detail_job_score[x])\n",
    "\n",
    "detail_job_score = X_train.groupby('세부직종')['근무경력'].std().fillna(0)\n",
    "\n",
    "X_train['세부직종별근무경력표준편차'] = X_train['세부직종'].apply(lambda x: detail_job_score[x])\n",
    "X_test['세부직종별근무경력표준편차'] = X_test['세부직종'].apply(lambda x: detail_job_score[x])\n",
    "\n",
    "detail_job_score = X_train.groupby('세부직종')['근무경력'].min()\n",
    "\n",
    "X_train['세부직종별근무경력최소값'] = X_train['세부직종'].apply(lambda x: detail_job_score[x])\n",
    "X_test['세부직종별근무경력최소값'] = X_test['세부직종'].apply(lambda x: detail_job_score[x])\n",
    "\n",
    "detail_job_score = X_train.groupby('세부직종')['근무경력'].max()\n",
    "\n",
    "X_train['세부직종별근무경력최대값'] = X_train['세부직종'].apply(lambda x: detail_job_score[x])\n",
    "X_test['세부직종별근무경력최대값'] = X_test['세부직종'].apply(lambda x: detail_job_score[x])"
   ]
  },
  {
   "cell_type": "markdown",
   "id": "8326110a",
   "metadata": {},
   "source": [
    "## 27) 수정해서 보냈삼"
   ]
  },
  {
   "cell_type": "markdown",
   "id": "625d0fdb",
   "metadata": {},
   "source": [
    "## 27) 어학시험별 대학성적,근무경력 평균, 중앙값, 합, 표준편차, 최소, 최대,"
   ]
  },
  {
   "cell_type": "code",
   "execution_count": 47,
   "id": "d2eb38bb",
   "metadata": {},
   "outputs": [],
   "source": [
    "X_train['어학시험'] = X_train['어학시험'].apply(lambda x:  x if x in (X_train.어학시험.unique()) else '기타'  )\n",
    "\n",
    "X_test['어학시험'] = X_test['어학시험'].apply(lambda x:  x if x in (X_train.어학시험.unique()) else '기타'  )\n",
    "\n",
    "language_score = X_train.groupby('어학시험')['대학성적'].mean()\n",
    "\n",
    "X_train['어학시험별대학성적평균'] = X_train['어학시험'].apply(lambda x:language_score[x])\n",
    "X_test['어학시험별대학성적평균'] = X_test['어학시험'].apply(lambda x: language_score[x]) \n",
    "\n",
    "language_score = X_train.groupby('어학시험')['대학성적'].median()\n",
    "\n",
    "X_train['어학시험별대학성적최빈값'] = X_train['어학시험'].apply(lambda x:language_score[x])\n",
    "X_test['어학시험별대학성적최빈값'] = X_test['어학시험'].apply(lambda x: language_score[x])\n",
    "\n",
    "language_score = X_train.groupby('어학시험')['대학성적'].sum()\n",
    "\n",
    "X_train['어학시험별대학성적합'] = X_train['어학시험'].apply(lambda x:language_score[x])\n",
    "X_test['어학시험별대학성적합'] = X_test['어학시험'].apply(lambda x: language_score[x])\n",
    "\n",
    "language_score = X_train.groupby('어학시험')['대학성적'].std().fillna(0)\n",
    "\n",
    "X_train['어학시험별대학성적표준편차'] = X_train['어학시험'].apply(lambda x:language_score[x])\n",
    "X_test['어학시험별대학성적표준편차'] = X_test['어학시험'].apply(lambda x: language_score[x])\n",
    "\n",
    "language_score = X_train.groupby('어학시험')['대학성적'].min()\n",
    "\n",
    "X_train['어학시험별대학성적최소값'] = X_train['어학시험'].apply(lambda x:language_score[x])\n",
    "X_test['어학시험별대학성적최소값'] = X_test['어학시험'].apply(lambda x: language_score[x])\n",
    "\n",
    "language_score = X_train.groupby('어학시험')['대학성적'].max()\n",
    "\n",
    "X_train['어학시험별대학성적최대값'] = X_train['어학시험'].apply(lambda x:language_score[x])\n",
    "X_test['어학시험별대학성적최대값'] = X_test['어학시험'].apply(lambda x: language_score[x])\n",
    "\n",
    "\n",
    "detail_job_score = X_train.groupby('어학시험')['근무경력'].mean()\n",
    "\n",
    "X_train['어학시험별근무경력평균'] = X_train['어학시험'].apply(lambda x: detail_job_score[x])\n",
    "X_test['어학시험별근무경력평균'] = X_test['어학시험'].apply(lambda x: detail_job_score[x])\n",
    "\n",
    "detail_job_score = X_train.groupby('어학시험')['근무경력'].median()\n",
    "\n",
    "X_train['어학시험별근무경력최빈값'] = X_train['어학시험'].apply(lambda x: detail_job_score[x])\n",
    "X_test['어학시험별근무경력최빈값'] = X_test['어학시험'].apply(lambda x: detail_job_score[x])\n",
    "\n",
    "detail_job_score = X_train.groupby('어학시험')['근무경력'].sum()\n",
    "\n",
    "X_train['어학시험별근무경력합'] = X_train['어학시험'].apply(lambda x: detail_job_score[x])\n",
    "X_test['어학시험별근무경력합'] = X_test['어학시험'].apply(lambda x: detail_job_score[x])\n",
    "\n",
    "detail_job_score = X_train.groupby('어학시험')['근무경력'].std().fillna(0)\n",
    "\n",
    "X_train['어학시험별근무경력표준편차'] = X_train['어학시험'].apply(lambda x: detail_job_score[x])\n",
    "X_test['어학시험별근무경력표준편차'] = X_test['어학시험'].apply(lambda x: detail_job_score[x])\n",
    "\n",
    "detail_job_score = X_train.groupby('어학시험')['근무경력'].min()\n",
    "\n",
    "X_train['어학시험별근무경력최소값'] = X_train['어학시험'].apply(lambda x: detail_job_score[x])\n",
    "X_test['어학시험별근무경력최소값'] = X_test['어학시험'].apply(lambda x: detail_job_score[x])\n",
    "\n",
    "detail_job_score = X_train.groupby('어학시험')['근무경력'].max()\n",
    "\n",
    "X_train['어학시험별근무경력최대값'] = X_train['어학시험'].apply(lambda x: detail_job_score[x])\n",
    "X_test['어학시험별근무경력최대값'] = X_test['어학시험'].apply(lambda x: detail_job_score[x])"
   ]
  },
  {
   "cell_type": "markdown",
   "id": "214810b0",
   "metadata": {},
   "source": [
    "## 28) 서울근무"
   ]
  },
  {
   "cell_type": "code",
   "execution_count": 48,
   "id": "a3b5bc8b",
   "metadata": {},
   "outputs": [],
   "source": [
    "서울근무 = []\n",
    "for i in X_train['근무지역'] :\n",
    "    if '서울' in i :\n",
    "        서울근무.append('YES')\n",
    "    else :\n",
    "        서울근무.append('NO')\n",
    "X_train['서울근무'] = 서울근무"
   ]
  },
  {
   "cell_type": "code",
   "execution_count": 49,
   "id": "ac36218d",
   "metadata": {},
   "outputs": [],
   "source": [
    "서울근무 = []\n",
    "for i in X_test['근무지역'] :\n",
    "    if '서울' in i :\n",
    "        서울근무.append('YES')\n",
    "    else :\n",
    "        서울근무.append('NO')\n",
    "X_test['서울근무'] = 서울근무"
   ]
  },
  {
   "cell_type": "markdown",
   "id": "d92035ff",
   "metadata": {},
   "source": [
    "## 29) 피처의 제곱"
   ]
  },
  {
   "cell_type": "code",
   "execution_count": 50,
   "id": "7b0f0246",
   "metadata": {},
   "outputs": [],
   "source": [
    "X_train['근무경력^2'] = np.square(X_train['근무경력'])\n",
    "X_test['근무경력^2'] = np.square(X_test['근무경력'])\n",
    "\n",
    "X_train['직무태그글자수범위별^2'] = np.square(X_train['직무태그글자수범위별'])\n",
    "X_test['직무태그글자수범위별^2'] = np.square(X_test['직무태그글자수범위별'])\n",
    "\n",
    "X_train['직무태그_직무수^2'] = np.square(X_train['직무태그_직무수'])\n",
    "X_test['직무태그_직무수^2'] = np.square(X_test['직무태그_직무수'])\n",
    "\n",
    "X_train['출신대학별 근무경력sum^2'] = np.square(X_train['출신대학별 근무경력sum'])\n",
    "X_test['출신대학별 근무경력sum^2'] = np.square(X_test['출신대학별 근무경력sum'])"
   ]
  },
  {
   "cell_type": "code",
   "execution_count": 51,
   "id": "acbb6882",
   "metadata": {},
   "outputs": [
    {
     "data": {
      "text/plain": [
       "(11048, 162)"
      ]
     },
     "execution_count": 51,
     "metadata": {},
     "output_type": "execute_result"
    }
   ],
   "source": [
    "X_test.shape"
   ]
  },
  {
   "cell_type": "markdown",
   "id": "91c588c5",
   "metadata": {},
   "source": [
    "## 30) 출신대학*대학성적"
   ]
  },
  {
   "cell_type": "code",
   "execution_count": 52,
   "id": "9d5a034e",
   "metadata": {},
   "outputs": [],
   "source": [
    "top_rank = ['성균관대학교', '연세대학교', '중앙대학교', '이화여자대학교']\n",
    "mid_rank = ['세종대학교', '성신여자대학교']\n",
    "low_rank = ['한성대학교', '동덕여자대학교', '서울여자대학교', '서울과학기술대학교']\n",
    "province = ['제주대학교', '인천대학교', '군산대학교', '한국산업기술대학교']\n",
    "etc= ['수원대학교', '전주대학교', '세명대학교', '신라대학교', '상지대학교', '한밭대학교', '경기대학교', '선문대학교', '성공회대학교', '호원대학교', '한림대학교', '목포대학교', '동아대학교', '동의대학교', '성결대학교', '호남대학교', '광주대학교', '서원대학교', '동서대학교', '한일장신대학교', '한세대학교', '용인대학교', '경주대학교', '협성대학교', '서울신학대학교', '송원대학교', '부산디지털대학교','남부대학교','기타']\n",
    "\n",
    "\n",
    "university = []\n",
    "for i in X_train['출신대학']:\n",
    "    if i in top_rank:\n",
    "        university.append(5)\n",
    "    elif i in mid_rank:\n",
    "        university.append(4)\n",
    "    elif i in low_rank:\n",
    "        university.append(3)\n",
    "    elif i in province:\n",
    "        university.append(2)\n",
    "    elif i in etc:\n",
    "        university.append(1)\n",
    "        \n",
    "X_train['출신대학수치'] = university\n",
    "\n",
    "university = []\n",
    "for i in X_test['출신대학']:\n",
    "    if i in top_rank:\n",
    "        university.append(5)\n",
    "    elif i in mid_rank:\n",
    "        university.append(4)\n",
    "    elif i in low_rank:\n",
    "        university.append(3)\n",
    "    elif i in province:\n",
    "        university.append(2)\n",
    "    elif i in etc:\n",
    "        university.append(1) \n",
    "        \n",
    "X_test['출신대학수치'] = university\n",
    "\n",
    "a = X_train['출신대학수치'] * X_train['대학성적']\n",
    "X_train['출신대학*대학성적'] = a\n",
    "a = X_test['출신대학수치'] * X_test['대학성적']\n",
    "X_test['출신대학*대학성적'] = a\n"
   ]
  },
  {
   "cell_type": "code",
   "execution_count": null,
   "id": "6da94743",
   "metadata": {},
   "outputs": [],
   "source": []
  },
  {
   "cell_type": "markdown",
   "id": "5ba4c515",
   "metadata": {},
   "source": [
    "## 31) 근무형태"
   ]
  },
  {
   "cell_type": "code",
   "execution_count": 53,
   "id": "a9981c21",
   "metadata": {},
   "outputs": [],
   "source": [
    "X_train['근무형태_계해정'] = X_train['근무형태']\n",
    "X_train['근무형태_계정해'] = X_train['근무형태']\n",
    "X_train['근무형태_정계해'] = X_train['근무형태']\n",
    "X_train['근무형태_정해계'] = X_train['근무형태']\n",
    "X_train['근무형태_해정계'] = X_train['근무형태']\n",
    "X_train['근무형태_해계정'] = X_train['근무형태']"
   ]
  },
  {
   "cell_type": "code",
   "execution_count": 54,
   "id": "683d2ad8",
   "metadata": {},
   "outputs": [],
   "source": [
    "X_test['근무형태_계해정'] = X_test['근무형태']\n",
    "X_test['근무형태_계정해'] = X_test['근무형태']\n",
    "X_test['근무형태_정계해'] = X_test['근무형태']\n",
    "X_test['근무형태_정해계'] = X_test['근무형태']\n",
    "X_test['근무형태_해정계'] = X_test['근무형태']\n",
    "X_test['근무형태_해계정'] = X_test['근무형태']"
   ]
  },
  {
   "cell_type": "code",
   "execution_count": 55,
   "id": "4cf48a4c",
   "metadata": {},
   "outputs": [],
   "source": [
    "#계약직(774), 해외취업(205), 정규직(15416)\n",
    "X_train['근무형태_계해정'][X_train['근무형태_계해정'].str.contains('계약직|인턴|파견직|병역특례')] = '계약직'\n",
    "X_train['근무형태_계해정'][X_train['근무형태_계해정'].str.contains('해외취업')] = '해외취업'\n",
    "X_train['근무형태_계해정'][X_train['근무형태_계해정'].str.contains('정규직')] = '정규직'\n",
    "\n",
    "X_test['근무형태_계해정'][X_test['근무형태_계해정'].str.contains('계약직|인턴|파견직|병역특례')] = '계약직'\n",
    "X_test['근무형태_계해정'][X_test['근무형태_계해정'].str.contains('해외취업')] = '해외취업'\n",
    "X_test['근무형태_계해정'][X_test['근무형태_계해정'].str.contains('정규직')] = '정규직'"
   ]
  },
  {
   "cell_type": "code",
   "execution_count": 56,
   "id": "4dbffc8e",
   "metadata": {},
   "outputs": [],
   "source": [
    "#계약직(774), 정규직(15615), 해외취업(6)\n",
    "X_train['근무형태_계정해'][X_train['근무형태_계정해'].str.contains('계약직|인턴|파견직|병역특례')] = '계약직'\n",
    "X_train['근무형태_계정해'][X_train['근무형태_계정해'].str.contains('정규직')] = '정규직'\n",
    "X_train['근무형태_계정해'][X_train['근무형태_계정해'].str.contains('해외취업')] = '해외취업'\n",
    "\n",
    "X_test['근무형태_계정해'][X_test['근무형태_계정해'].str.contains('계약직|인턴|파견직|병역특례')] = '계약직'\n",
    "X_test['근무형태_계정해'][X_test['근무형태_계정해'].str.contains('정규직')] = '정규직'\n",
    "X_test['근무형태_계정해'][X_test['근무형태_계정해'].str.contains('해외취업')] = '해외취업'"
   ]
  },
  {
   "cell_type": "code",
   "execution_count": 57,
   "id": "8863ab9c",
   "metadata": {},
   "outputs": [],
   "source": [
    "#정규직(16307), 계약직(82), 해외취업(6)\n",
    "X_train['근무형태_정계해'][X_train['근무형태_정계해'].str.contains('정규직')] = '정규직'\n",
    "X_train['근무형태_정계해'][X_train['근무형태_정계해'].str.contains('계약직|인턴|파견직|병역특례')] = '계약직'\n",
    "X_train['근무형태_정계해'][X_train['근무형태_정계해'].str.contains('해외취업')] = '해외취업'\n",
    "\n",
    "X_test['근무형태_정계해'][X_test['근무형태_정계해'].str.contains('정규직')] = '정규직'\n",
    "X_test['근무형태_정계해'][X_test['근무형태_정계해'].str.contains('계약직|인턴|파견직|병역특례')] = '계약직'\n",
    "X_test['근무형태_정계해'][X_test['근무형태_정계해'].str.contains('해외취업')] = '해외취업'"
   ]
  },
  {
   "cell_type": "code",
   "execution_count": 58,
   "id": "59b4fe32",
   "metadata": {},
   "outputs": [],
   "source": [
    "#정규직(16307), 해외취업(12), 계약직(76)\n",
    "X_train['근무형태_정해계'][X_train['근무형태_정해계'].str.contains('정규직')] = '정규직'\n",
    "X_train['근무형태_정해계'][X_train['근무형태_정해계'].str.contains('계약직|인턴|파견직|병역특례')] = '계약직'\n",
    "X_train['근무형태_정해계'][X_train['근무형태_정해계'].str.contains('해외취업')] = '해외취업'\n",
    "\n",
    "X_test['근무형태_정해계'][X_test['근무형태_정해계'].str.contains('정규직')] = '정규직'\n",
    "X_test['근무형태_정해계'][X_test['근무형태_정해계'].str.contains('계약직|인턴|파견직|병역특례')] = '계약직'\n",
    "X_test['근무형태_정해계'][X_test['근무형태_정해계'].str.contains('해외취업')] = '해외취업'"
   ]
  },
  {
   "cell_type": "code",
   "execution_count": 59,
   "id": "93436bf2",
   "metadata": {},
   "outputs": [],
   "source": [
    "#해외취업(350), 정규직(15969), 계약직(76)\n",
    "X_train['근무형태_해정계'][X_train['근무형태_해정계'].str.contains('해외취업')] = '해외취업'\n",
    "X_train['근무형태_해정계'][X_train['근무형태_해정계'].str.contains('정규직')] = '정규직'\n",
    "X_train['근무형태_해정계'][X_train['근무형태_해정계'].str.contains('계약직|인턴|파견직|병역특례')] = '계약직'\n",
    "\n",
    "X_test['근무형태_해정계'][X_test['근무형태_해정계'].str.contains('해외취업')] = '해외취업'\n",
    "X_test['근무형태_해정계'][X_test['근무형태_해정계'].str.contains('정규직')] = '정규직'\n",
    "X_test['근무형태_해정계'][X_test['근무형태_해정계'].str.contains('계약직|인턴|파견직|병역특례')] = '계약직'"
   ]
  },
  {
   "cell_type": "code",
   "execution_count": 60,
   "id": "f1a9db12",
   "metadata": {},
   "outputs": [],
   "source": [
    "#해외취업(350), 계약직(629), 정규직(15416)\n",
    "X_train['근무형태_해계정'][X_train['근무형태_해계정'].str.contains('해외취업')] = '해외취업'\n",
    "X_train['근무형태_해계정'][X_train['근무형태_해계정'].str.contains('계약직|인턴|파견직|병역특례')] = '계약직'\n",
    "X_train['근무형태_해계정'][X_train['근무형태_해계정'].str.contains('정규직')] = '정규직'\n",
    "\n",
    "X_test['근무형태_해계정'][X_test['근무형태_해계정'].str.contains('해외취업')] = '해외취업'\n",
    "X_test['근무형태_해계정'][X_test['근무형태_해계정'].str.contains('계약직|인턴|파견직|병역특례')] = '계약직'\n",
    "X_test['근무형태_해계정'][X_test['근무형태_해계정'].str.contains('정규직')] = '정규직'"
   ]
  },
  {
   "cell_type": "code",
   "execution_count": 61,
   "id": "42741211",
   "metadata": {},
   "outputs": [],
   "source": [
    "X_train['근무형태_정계(해)'] = X_train['근무형태']\n",
    "X_train['근무형태_계(해)정'] = X_train['근무형태']"
   ]
  },
  {
   "cell_type": "code",
   "execution_count": 62,
   "id": "6740f4ca",
   "metadata": {},
   "outputs": [],
   "source": [
    "X_test['근무형태_정계(해)'] = X_test['근무형태']\n",
    "X_test['근무형태_계(해)정'] = X_test['근무형태']"
   ]
  },
  {
   "cell_type": "code",
   "execution_count": 63,
   "id": "b3c64fda",
   "metadata": {},
   "outputs": [],
   "source": [
    "#정규직(16307), 계약직(88 + 해외취업)\n",
    "X_train['근무형태_정계(해)'][X_train['근무형태_정계(해)'].str.contains('정규직')] = '정규직'\n",
    "X_train['근무형태_정계(해)'][X_train['근무형태_정계(해)'].str.contains('비정규직|계약직|해외취업|인턴|파견직|병역특례')] = '계약직'\n",
    "\n",
    "X_test['근무형태_정계(해)'][X_test['근무형태_정계(해)'].str.contains('정규직')] = '정규직'\n",
    "X_test['근무형태_정계(해)'][X_test['근무형태_정계(해)'].str.contains('비정규직|계약직|해외취업|인턴|파견직|병역특례')] = '계약직'"
   ]
  },
  {
   "cell_type": "code",
   "execution_count": 64,
   "id": "1521f260",
   "metadata": {},
   "outputs": [],
   "source": [
    "#계약직(10776 + 해외취업), 정규직(5619)\n",
    "X_train['근무형태_계(해)정'][X_train['근무형태_계(해)정'].str.contains('비정규직|계약직|해외취업|인턴|파견직|병역특례')] = '계약직'\n",
    "X_train['근무형태_계(해)정'][X_train['근무형태_계(해)정'].str.contains('정규직')] = '정규직'\n",
    "\n",
    "X_test['근무형태_계(해)정'][X_test['근무형태_계(해)정'].str.contains('비정규직|계약직|해외취업|인턴|파견직|병역특례')] = '계약직'\n",
    "X_test['근무형태_계(해)정'][X_test['근무형태_계(해)정'].str.contains('정규직')] = '정규직'"
   ]
  },
  {
   "cell_type": "code",
   "execution_count": 65,
   "id": "4fa0df1a",
   "metadata": {},
   "outputs": [],
   "source": [
    "X_train['근무형태_정(해)계'] = X_train['근무형태']\n",
    "X_train['근무형태_계정(해)'] = X_train['근무형태']"
   ]
  },
  {
   "cell_type": "code",
   "execution_count": 66,
   "id": "617a8a53",
   "metadata": {},
   "outputs": [],
   "source": [
    "X_test['근무형태_정(해)계'] = X_test['근무형태']\n",
    "X_test['근무형태_계정(해)'] = X_test['근무형태']"
   ]
  },
  {
   "cell_type": "code",
   "execution_count": 67,
   "id": "06fd61a2",
   "metadata": {},
   "outputs": [],
   "source": [
    "#정규직(16319 + 해외취업), 계약직(76)\n",
    "X_train['근무형태_정(해)계'][X_train['근무형태_정(해)계'].str.contains('정규직|해외취업')] = '정규직'\n",
    "X_train['근무형태_정(해)계'][X_train['근무형태_정(해)계'].str.contains('비정규직|계약직|인턴|파견직|병역특례')] = '계약직'\n",
    "\n",
    "X_test['근무형태_정(해)계'][X_test['근무형태_정(해)계'].str.contains('정규직|해외취업')] = '정규직'\n",
    "X_test['근무형태_정(해)계'][X_test['근무형태_정(해)계'].str.contains('비정규직|계약직|인턴|파견직|병역특례')] = '계약직'"
   ]
  },
  {
   "cell_type": "code",
   "execution_count": 68,
   "id": "cb4fbe89",
   "metadata": {},
   "outputs": [],
   "source": [
    "#계약직(10571), 정규직(5824 + 해외취업)\n",
    "X_train['근무형태_계정(해)'][X_train['근무형태_계정(해)'].str.contains('비정규직|계약직|인턴|파견직|병역특례')] = '계약직'\n",
    "X_train['근무형태_계정(해)'][X_train['근무형태_계정(해)'].str.contains('정규직|해외취업')] = '정규직'\n",
    "\n",
    "X_test['근무형태_계정(해)'][X_test['근무형태_계정(해)'].str.contains('비정규직|계약직|인턴|파견직|병역특례')] = '계약직'\n",
    "X_test['근무형태_계정(해)'][X_test['근무형태_계정(해)'].str.contains('정규직|해외취업')] = '정규직'"
   ]
  },
  {
   "cell_type": "markdown",
   "id": "771975f9",
   "metadata": {},
   "source": [
    "## 32) 근무형태_단순화 및 베테랑정규직"
   ]
  },
  {
   "cell_type": "code",
   "execution_count": 69,
   "id": "8971751f",
   "metadata": {},
   "outputs": [],
   "source": [
    "X_train['근무형태'].fillna('N', inplace=True)\n",
    "X_test['근무형태'].fillna('N', inplace=True)"
   ]
  },
  {
   "cell_type": "code",
   "execution_count": 70,
   "id": "3b5fe971",
   "metadata": {},
   "outputs": [],
   "source": [
    "c1 = X_train['근무형태'].str.split(',',expand=True).isnull().sum(axis=1) ==5\n",
    "c2 = X_train['근무형태'].str.split(',',expand=True)[0] =='정규직'\n",
    "\n",
    "c1_c2 = X_train.loc[(c1&c2),'근무형태'].index\n",
    "\n",
    "X_train['근무형태_단순화'] = X_train.index.isin(c1_c2)\n",
    "X_test['근무형태_단순화'] = X_test.index.isin(c1_c2)\n",
    "\n",
    "X_train['근무형태_단순화'] = X_train['근무형태_단순화'].apply(lambda x: '정규직' if x== True else '계약직')\n",
    "X_test['근무형태_단순화'] = X_test['근무형태_단순화'].apply(lambda x: '정규직' if x== True else '계약직')"
   ]
  },
  {
   "cell_type": "code",
   "execution_count": 71,
   "id": "5c12872b",
   "metadata": {},
   "outputs": [],
   "source": [
    "c1 = X_train.근무경력 >= 56\n",
    "c2 = X_train['근무형태'] == '정규직'\n",
    "\n",
    "c1_c2 = X_train.loc[c1&c2].index\n",
    "\n",
    "c1t = X_test.근무경력 >= 56\n",
    "c2t = X_test['근무형태'] == '정규직'\n",
    "\n",
    "c1t_c2t = X_test.loc[c1t&c2t].index\n",
    "\n",
    "X_train['베테랑정규직'] =  X_train.index.isin(c1_c2)\n",
    "X_test['베테랑정규직'] =  X_test.index.isin(c1t_c2t)"
   ]
  },
  {
   "cell_type": "markdown",
   "id": "7c2464a7",
   "metadata": {},
   "source": [
    "## 33) 피처끼리의 합"
   ]
  },
  {
   "cell_type": "code",
   "execution_count": 72,
   "id": "a3f8e2ec",
   "metadata": {},
   "outputs": [],
   "source": [
    "X_train['근무경력+직무태그글자수범위별']= X_train['근무경력']+X_train['직무태그글자수범위별']\n",
    "X_test['근무경력+직무태그글자수범위별']= X_test['근무경력']+X_test['직무태그글자수범위별']\n",
    "\n",
    "X_train['근무경력+직무태그_직무수']= X_train['근무경력']+X_train['직무태그_직무수']\n",
    "X_test['근무경력+직무태그_직무수']= X_test['근무경력']+X_test['직무태그_직무수']\n",
    "\n",
    "X_train['근무경력+직종수']= X_train['근무경력']+X_train['직종수']\n",
    "X_test['근무경력+직종수']= X_test['근무경력']+X_test['직종수']\n",
    "\n",
    "X_train['근무경력+세부직종수']= X_train['근무경력']+X_train['세부직종수']\n",
    "X_test['근무경력+세부직종수']= X_test['근무경력']+X_test['세부직종수']\n",
    "\n",
    "X_train['근무경력+직종별근무경력합']= X_train['근무경력']+X_train['직종별근무경력합']\n",
    "X_test['근무경력+직종별근무경력합']= X_test['근무경력']+X_test['직종별근무경력합']\n"
   ]
  },
  {
   "cell_type": "markdown",
   "id": "ca6c58f7",
   "metadata": {},
   "source": [
    "## 34) 피처끼리의 곱"
   ]
  },
  {
   "cell_type": "code",
   "execution_count": 73,
   "id": "6d597a1d",
   "metadata": {},
   "outputs": [],
   "source": [
    "X_train['근무경력*직무태그글자수범위별']= X_train['근무경력']*X_train['직무태그글자수범위별']\n",
    "X_test['근무경력*직무태그글자수범위별']= X_test['근무경력']*X_test['직무태그글자수범위별']\n",
    "\n",
    "X_train['근무경력*직무태그_직무수']= X_train['근무경력']*X_train['직무태그_직무수']\n",
    "X_test['근무경력*직무태그_직무수']= X_test['근무경력']*X_test['직무태그_직무수']\n",
    "\n",
    "X_train['근무경력*직종수']= X_train['근무경력']*X_train['직종수']\n",
    "X_test['근무경력*직종수']= X_test['근무경력']*X_test['직종수']\n",
    "\n",
    "X_train['근무경력*세부직종수']= X_train['근무경력']*X_train['세부직종수']\n",
    "X_test['근무경력*세부직종수']= X_test['근무경력']*X_test['세부직종수']\n",
    "\n",
    "X_train['직무태그_직무수*직무태그글자수범위별']= X_train['직무태그_직무수']*X_train['직무태그글자수범위별']\n",
    "X_test['직무태그_직무수*직무태그글자수범위별']= X_test['직무태그_직무수']*X_test['직무태그글자수범위별']\n",
    "\n",
    "X_train['직종수*직무태그글자수범위별']= X_train['직종수']*X_train['직무태그글자수범위별']\n",
    "X_test['직종수*직무태그글자수범위별']= X_test['직종수']*X_test['직무태그글자수범위별']\n",
    "\n",
    "X_train['세부직종수*직무태그글자수범위별']= X_train['세부직종수']*X_train['직무태그글자수범위별']\n",
    "X_test['세부직종수*직무태그글자수범위별']= X_test['세부직종수']*X_test['직무태그글자수범위별']"
   ]
  },
  {
   "cell_type": "markdown",
   "id": "6c522954",
   "metadata": {},
   "source": [
    "## 35) 마지막근무형태,근무지역,직무태그,출신대학별 근무경력, 대학성적"
   ]
  },
  {
   "cell_type": "code",
   "execution_count": 74,
   "id": "d329d5b2",
   "metadata": {},
   "outputs": [],
   "source": [
    "X_train=pd.merge(X_train, X_train.groupby('근무지역')['근무경력'].mean().reset_index().rename(columns={'근무경력':'근무지역별 근무경력mean'}), on = '근무지역',how='left')\n",
    "X_test=pd.merge(X_test, X_test.groupby('근무지역')['근무경력'].mean().reset_index().rename(columns={'근무경력':'근무지역별 근무경력mean'}), on = '근무지역',how='left')\n",
    "\n",
    "X_train=pd.merge(X_train, X_train.groupby('근무지역')['근무경력'].median().reset_index().rename(columns={'근무경력':'근무지역별 근무경력median'}), on = '근무지역',how='left')\n",
    "X_test=pd.merge(X_test, X_test.groupby('근무지역')['근무경력'].median().reset_index().rename(columns={'근무경력':'근무지역별 근무경력median'}), on = '근무지역',how='left')\n",
    "\n",
    "X_train=pd.merge(X_train, X_train.groupby('근무지역')['근무경력'].sum().reset_index().rename(columns={'근무경력':'근무지역별 근무경력sum'}), on = '근무지역',how='left')\n",
    "X_test=pd.merge(X_test, X_test.groupby('근무지역')['근무경력'].sum().reset_index().rename(columns={'근무경력':'근무지역별 근무경력sum'}), on = '근무지역',how='left')\n",
    "\n",
    "X_train=pd.merge(X_train, X_train.groupby('근무지역')['근무경력'].var().reset_index().rename(columns={'근무경력':'근무지역별 근무경력var'}), on = '근무지역',how='left')\n",
    "X_test=pd.merge(X_test, X_test.groupby('근무지역')['근무경력'].var().reset_index().rename(columns={'근무경력':'근무지역별 근무경력var'}), on = '근무지역',how='left')\n",
    "\n",
    "X_train=pd.merge(X_train, X_train.groupby('근무지역')['근무경력'].std().reset_index().rename(columns={'근무경력':'근무지역별 근무경력std'}), on = '근무지역',how='left')\n",
    "X_test=pd.merge(X_test, X_test.groupby('근무지역')['근무경력'].std().reset_index().rename(columns={'근무경력':'근무지역별 근무경력std'}), on = '근무지역',how='left')\n",
    "\n",
    "X_train=pd.merge(X_train, X_train.groupby('근무지역')['근무경력'].min().reset_index().rename(columns={'근무경력':'근무지역별 근무경력min'}), on = '근무지역',how='left')\n",
    "X_test=pd.merge(X_test, X_test.groupby('근무지역')['근무경력'].min().reset_index().rename(columns={'근무경력':'근무지역별 근무경력min'}), on = '근무지역',how='left')\n",
    "\n",
    "X_train=pd.merge(X_train, X_train.groupby('근무지역')['근무경력'].max().reset_index().rename(columns={'근무경력':'근무지역별 근무경력max'}), on = '근무지역',how='left')\n",
    "X_test=pd.merge(X_test, X_test.groupby('근무지역')['근무경력'].max().reset_index().rename(columns={'근무경력':'근무지역별 근무경력max'}), on = '근무지역',how='left')"
   ]
  },
  {
   "cell_type": "code",
   "execution_count": 75,
   "id": "f5e56e23",
   "metadata": {},
   "outputs": [],
   "source": [
    "X_train=pd.merge(X_train, X_train.groupby('근무지역')['대학성적'].mean().reset_index().rename(columns={'대학성적':'근무지역별 대학성적mean'}), on = '근무지역',how='left')\n",
    "X_test=pd.merge(X_test, X_test.groupby('근무지역')['대학성적'].mean().reset_index().rename(columns={'대학성적':'근무지역별 대학성적mean'}), on = '근무지역',how='left')\n",
    "\n",
    "X_train=pd.merge(X_train, X_train.groupby('근무지역')['대학성적'].median().reset_index().rename(columns={'대학성적':'근무지역별 대학성적median'}), on = '근무지역',how='left')\n",
    "X_test=pd.merge(X_test, X_test.groupby('근무지역')['대학성적'].median().reset_index().rename(columns={'대학성적':'근무지역별 대학성적median'}), on = '근무지역',how='left')\n",
    "\n",
    "X_train=pd.merge(X_train, X_train.groupby('근무지역')['대학성적'].sum().reset_index().rename(columns={'대학성적':'근무지역별 대학성적sum'}), on = '근무지역',how='left')\n",
    "X_test=pd.merge(X_test, X_test.groupby('근무지역')['대학성적'].sum().reset_index().rename(columns={'대학성적':'근무지역별 대학성적sum'}), on = '근무지역',how='left')\n",
    "\n",
    "X_train=pd.merge(X_train, X_train.groupby('근무지역')['대학성적'].var().reset_index().rename(columns={'대학성적':'근무지역별 대학성적var'}), on = '근무지역',how='left')\n",
    "X_test=pd.merge(X_test, X_test.groupby('근무지역')['대학성적'].var().reset_index().rename(columns={'대학성적':'근무지역별 대학성적var'}), on = '근무지역',how='left')\n",
    "\n",
    "X_train=pd.merge(X_train, X_train.groupby('근무지역')['대학성적'].std().reset_index().rename(columns={'대학성적':'근무지역별 대학성적std'}), on = '근무지역',how='left')\n",
    "X_test=pd.merge(X_test, X_test.groupby('근무지역')['대학성적'].std().reset_index().rename(columns={'대학성적':'근무지역별 대학성적std'}), on = '근무지역',how='left')\n",
    "\n",
    "X_train=pd.merge(X_train, X_train.groupby('근무지역')['대학성적'].min().reset_index().rename(columns={'대학성적':'근무지역별 대학성적min'}), on = '근무지역',how='left')\n",
    "X_test=pd.merge(X_test, X_test.groupby('근무지역')['대학성적'].min().reset_index().rename(columns={'대학성적':'근무지역별 대학성적min'}), on = '근무지역',how='left')\n",
    "\n",
    "X_train=pd.merge(X_train, X_train.groupby('근무지역')['대학성적'].max().reset_index().rename(columns={'대학성적':'근무지역별 대학성적max'}), on = '근무지역',how='left')\n",
    "X_test=pd.merge(X_test, X_test.groupby('근무지역')['대학성적'].max().reset_index().rename(columns={'대학성적':'근무지역별 대학성적max'}), on = '근무지역',how='left')"
   ]
  },
  {
   "cell_type": "code",
   "execution_count": 76,
   "id": "30b6b548",
   "metadata": {},
   "outputs": [],
   "source": [
    "X_train=pd.merge(X_train, X_train.groupby('직무태그')['대학성적'].mean().reset_index().rename(columns={'대학성적':'직무태그별 대학성적mean'}), on = '직무태그',how='left')\n",
    "X_test=pd.merge(X_test, X_test.groupby('직무태그')['대학성적'].mean().reset_index().rename(columns={'대학성적':'직무태그별 대학성적mean'}), on = '직무태그',how='left')\n",
    "\n",
    "X_train=pd.merge(X_train, X_train.groupby('직무태그')['대학성적'].median().reset_index().rename(columns={'대학성적':'직무태그별 대학성적median'}), on = '직무태그',how='left')\n",
    "X_test=pd.merge(X_test, X_test.groupby('직무태그')['대학성적'].median().reset_index().rename(columns={'대학성적':'직무태그별 대학성적median'}), on = '직무태그',how='left')\n",
    "\n",
    "X_train=pd.merge(X_train, X_train.groupby('직무태그')['대학성적'].sum().reset_index().rename(columns={'대학성적':'직무태그별 대학성적sum'}), on = '직무태그',how='left')\n",
    "X_test=pd.merge(X_test, X_test.groupby('직무태그')['대학성적'].sum().reset_index().rename(columns={'대학성적':'직무태그별 대학성적sum'}), on = '직무태그',how='left')\n",
    "\n",
    "X_train=pd.merge(X_train, X_train.groupby('직무태그')['대학성적'].var().reset_index().rename(columns={'대학성적':'직무태그별 대학성적var'}), on = '직무태그',how='left')\n",
    "X_test=pd.merge(X_test, X_test.groupby('직무태그')['대학성적'].var().reset_index().rename(columns={'대학성적':'직무태그별 대학성적var'}), on = '직무태그',how='left')\n",
    "\n",
    "X_train=pd.merge(X_train, X_train.groupby('직무태그')['대학성적'].std().reset_index().rename(columns={'대학성적':'직무태그별 대학성적std'}), on = '직무태그',how='left')\n",
    "X_test=pd.merge(X_test, X_test.groupby('직무태그')['대학성적'].std().reset_index().rename(columns={'대학성적':'직무태그별 대학성적std'}), on = '직무태그',how='left')\n",
    "\n",
    "X_train=pd.merge(X_train, X_train.groupby('직무태그')['대학성적'].min().reset_index().rename(columns={'대학성적':'직무태그별 대학성적min'}), on = '직무태그',how='left')\n",
    "X_test=pd.merge(X_test, X_test.groupby('직무태그')['대학성적'].min().reset_index().rename(columns={'대학성적':'직무태그별 대학성적min'}), on = '직무태그',how='left')\n",
    "\n",
    "X_train=pd.merge(X_train, X_train.groupby('직무태그')['대학성적'].max().reset_index().rename(columns={'대학성적':'직무태그별 대학성적max'}), on = '직무태그',how='left')\n",
    "X_test=pd.merge(X_test, X_test.groupby('직무태그')['대학성적'].max().reset_index().rename(columns={'대학성적':'직무태그별 대학성적max'}), on = '직무태그',how='left')"
   ]
  },
  {
   "cell_type": "markdown",
   "id": "2c1c3ce2",
   "metadata": {},
   "source": [
    "## 36)근무경력_세분화"
   ]
  },
  {
   "cell_type": "code",
   "execution_count": 77,
   "id": "619ff447",
   "metadata": {},
   "outputs": [],
   "source": [
    "def seg_worklength(x):\n",
    "    if 0.0 <= x < 24.0:\n",
    "        x = '0to2'\n",
    "    elif 24 <= x < 48:\n",
    "        x = '2to4'\n",
    "    elif 48 <= x < 72: \n",
    "        x = '4to6'\n",
    "    elif 72 <= x < 96:\n",
    "        x = '6to8'\n",
    "    elif 96 <= x < 120:\n",
    "        x = '8to10'\n",
    "    elif 120 <= x:\n",
    "        x = 'over10'\n",
    "    return x\n",
    "X_train['근무경력_세분화'] = X_train['근무경력'].apply(seg_worklength)\n",
    "X_test['근무경력_세분화'] =X_test['근무경력'].apply(seg_worklength)"
   ]
  },
  {
   "cell_type": "markdown",
   "id": "fd4a846a",
   "metadata": {},
   "source": [
    "## 37) 해외근무지역"
   ]
  },
  {
   "cell_type": "code",
   "execution_count": 78,
   "id": "d807c894",
   "metadata": {},
   "outputs": [],
   "source": [
    "korea = ['서울','부산', '경기', '전국', '기타', '전북', '충남', '광주', '인천', '대전', '경남','충북','울산', '경북', '강원','전남'\n",
    "        ,'대구','제주','광주']\n",
    "foreign = ['홍콩','미국','해외','중국','캐나다','인도네시아','일본','싱가포르','필리핀','대만','말레이시아','인도네시아','러시아','인도'\n",
    "          ,'프랑스','필리핀','말레이시아','방글라데시']\n",
    "world = korea + foreign\n",
    "\n",
    "f_f = X_train.근무지역.str.split(',',expand=True)[0].isin(foreign)\n",
    "s_f = X_train.근무지역.str.split(',',expand=True)[1].isin(foreign)\n",
    "t_f = X_train.근무지역.str.split(',',expand=True)[2].isin(foreign)\n",
    "\n",
    "c = (f_f | s_f | t_f)\n",
    "\n",
    "c_index = X_train.loc[c,'근무지역'].index\n",
    "\n",
    "X_train['해외근무지역'] =  (X_train.index).isin(c_index)\n",
    "\n",
    "f_f = X_test.근무지역.str.split(',',expand=True)[0].isin(foreign)\n",
    "s_f = X_test.근무지역.str.split(',',expand=True)[1].isin(foreign)\n",
    "t_f = X_test.근무지역.str.split(',',expand=True)[2].isin(foreign)\n",
    "\n",
    "c = (f_f | s_f | t_f)\n",
    "\n",
    "ct_index = X_test.loc[c,'근무지역'].index\n",
    "\n",
    "X_test['해외근무지역'] =  (X_test.index).isin(ct_index)\n",
    "\n",
    "X_train['해외근무지역'] = X_train['해외근무지역'].apply(lambda x: '유' if x== True else '무')\n",
    "X_test['해외근무지역'] = X_test['해외근무지역'].apply(lambda x: '유' if x== True else '무')"
   ]
  },
  {
   "cell_type": "markdown",
   "id": "9ff81f66",
   "metadata": {},
   "source": [
    "## 38) new_ 근무지역"
   ]
  },
  {
   "cell_type": "code",
   "execution_count": 79,
   "id": "8f4afabe",
   "metadata": {},
   "outputs": [],
   "source": [
    "def list_for_new_df(values,lists):\n",
    "    result = np.zeros_like(lists,dtype=int)\n",
    "    \n",
    "    for value in values: \n",
    "        try:\n",
    "            result_index = lists.index(value)\n",
    "        except:\n",
    "            continue\n",
    "        result[result_index] = 1\n",
    "    \n",
    "    return result"
   ]
  },
  {
   "cell_type": "code",
   "execution_count": 80,
   "id": "6dc915ed",
   "metadata": {},
   "outputs": [],
   "source": [
    "# 근무지역 겹치는거 많음, 새롭게 만들어야함\n",
    "def region(x):\n",
    "    if x in ['서울']:\n",
    "        x = '수도권_서울'\n",
    "    elif x in ['경기']:\n",
    "        x = '수도권_경기'\n",
    "    elif x in ['인천']:\n",
    "        x = '수도권_인천'\n",
    "    elif x in ['강원']:\n",
    "        x = '강원'\n",
    "    elif x in ['경남','경북','대구','부산','울산']:\n",
    "        x = '영남'\n",
    "    elif x in ['광주','전남','전북']:\n",
    "        x = '호남'\n",
    "    elif x in ['충남','충북']:\n",
    "        x = '호서'\n",
    "    elif x in ['제주']:\n",
    "        x = '제주'\n",
    "    elif x in ['대만','러시아','말레이시아','방글라데시','싱가포르','인도','인도네시아','일본','중국','필리핀','홍콩']:\n",
    "        x = '해외_유라시아'\n",
    "    elif x in ['미국','캐나다']:\n",
    "        x = '해외_아메리카'\n",
    "    elif x in ['프랑스','해외']:\n",
    "        x = '해외_기타'\n",
    "    elif x == '':\n",
    "        x = ''\n",
    "    else: \n",
    "        x = '기타'\n",
    "    return x\n",
    "\n",
    "def new_region(x):\n",
    "    x = set(sorted(map(region,x.split(','))))\n",
    "    x.discard('')\n",
    "    return tuple(x)\n",
    "\n",
    "\n",
    "X_train['new_근무지역'] = X_train['근무지역'].apply(new_region)\n",
    "X_test['new_근무지역'] = X_test['근무지역'].apply(new_region)"
   ]
  },
  {
   "cell_type": "markdown",
   "id": "81071fdd",
   "metadata": {},
   "source": [
    "## 39) 근무지역_경험횟수"
   ]
  },
  {
   "cell_type": "code",
   "execution_count": 81,
   "id": "967f60ea",
   "metadata": {},
   "outputs": [],
   "source": [
    "X_train['근무지역_경험횟수'] = X_train['new_근무지역'].apply(lambda x: len(x))\n",
    "X_test['근무지역_경험횟수'] = X_test['new_근무지역'].apply(lambda x: len(x))"
   ]
  },
  {
   "cell_type": "markdown",
   "id": "6f689ef0",
   "metadata": {},
   "source": [
    "## 40) 근무지역 관련 피처 생성"
   ]
  },
  {
   "cell_type": "code",
   "execution_count": 82,
   "id": "4a249d35",
   "metadata": {},
   "outputs": [],
   "source": [
    "region = ['수도권_서울','수도권_경기','수도권_인천','강원','호남','호서','영남','제주',\n",
    "          '해외_유라시아','해외_아메리카','해외_기타','기타']\n",
    "\n",
    "X_train_region_list = []\n",
    "for values in X_train['new_근무지역'].values:\n",
    "    X_train_region = list_for_new_df(values,region)\n",
    "    X_train_region_list.append(X_train_region)\n",
    "\n",
    "X_test_region_list = []\n",
    "for values in X_test['new_근무지역'].values:\n",
    "    X_test_region = list_for_new_df(values,region)\n",
    "    X_test_region_list.append(X_test_region)\n",
    "    \n",
    "    \n",
    "columns = ['근무지역_수도권_서울','근무지역_수도권_경기','근무지역_수도권_인천','근무지역_강원','근무지역_호남',\n",
    "           '근무지역_호서','근무지역_영남','근무지역_제주',\n",
    "           '근무지역_해외_유라시아','근무지역_해외_아메리카','근무지역_해외_기타','근무지역_기타']\n",
    "\n",
    "X_train_region_df = pd.DataFrame((np.vstack(X_train_region_list)),columns = columns)\n",
    "X_test_region_df = pd.DataFrame((np.vstack(X_test_region_list)),columns = columns)\n",
    "\n",
    "X_train = pd.concat((X_train,X_train_region_df),axis=1)\n",
    "X_test = pd.concat((X_test,X_test_region_df),axis=1)\n",
    "\n",
    "del X_train_region_df\n",
    "del X_test_region_df"
   ]
  },
  {
   "cell_type": "markdown",
   "id": "6111175c",
   "metadata": {},
   "source": [
    "## 41) 수도권 대학교"
   ]
  },
  {
   "cell_type": "code",
   "execution_count": 83,
   "id": "9d7cbffd",
   "metadata": {},
   "outputs": [],
   "source": [
    "def distance_to_seoul(x):\n",
    "    closer_to_seoul = ['성균관대학교','한성대학교', '세종대학교', '성신여자대학교','연세대학교', '동덕여자대학교',\n",
    "                       '성공회대학교','중앙대학교','이화여자대학교','서울여자대학교','수원대학교','인천대학교',\n",
    "                       '경기대학교','성결대학교','용인대학교','협성대학교','한국산업기술대학교','서울신학대학교','서울과학기술대학교']\n",
    "    if x in closer_to_seoul:\n",
    "        x = 1\n",
    "    else:\n",
    "        x = 0\n",
    "    return x\n",
    "\n",
    "\n",
    "X_train['수도권대학교'] = X_train['출신대학'].apply(distance_to_seoul)\n",
    "X_test['수도권대학교'] = X_test['출신대학'].apply(distance_to_seoul)"
   ]
  },
  {
   "cell_type": "code",
   "execution_count": 84,
   "id": "9a01af1d",
   "metadata": {},
   "outputs": [],
   "source": [
    "X_train['대학지역']='기타'\n",
    "X_test['대학지역']='기타'\n",
    "\n",
    "X_train.loc[(X_train['출신대학']=='성균관대학교')|(X_train['출신대학']=='중앙대학교')\n",
    "           |(X_train['출신대학']=='세종대학교')|(X_train['출신대학']=='연세대학교')|(X_train['출신대학']=='한성대학교')\n",
    "           |(X_train['출신대학']=='성신여자대학교')|(X_train['출신대학']=='동덕여자대학교')|(X_train['출신대학']=='이화여자대학교')\n",
    "           |(X_train['출신대학']=='한림대학교')|(X_train['출신대학']=='서울여자대학교')|(X_train['출신대학']=='서울과학기술대학교')\n",
    "           |(X_train['출신대학']=='서울신학대학교')|(X_train['출신대학']=='성공회대학교'),'대학지역']='서울'\n",
    "\n",
    "X_train.loc[(X_train['출신대학']=='동아대학교')|(X_train['출신대학']=='동의대학교')\n",
    "           |(X_train['출신대학']=='신라대학교')|(X_train['출신대학']=='동의대학교')|(X_train['출신대학']=='경주대학교')\n",
    "          |(X_train['출신대학']=='부산디지털대학교')|(X_train['출신대학']=='동서대학교'),'대학지역']='영남'\n",
    "\n",
    "X_train.loc[(X_train['출신대학']=='수원대학교')\n",
    "           |(X_train['출신대학']=='경기대학교')|(X_train['출신대학']=='호원대학교')|(X_train['출신대학']=='용인대학교')\n",
    "          |(X_train['출신대학']=='협성대학교')|(X_train['출신대학']=='한국산업기술대학교')\n",
    "          |(X_train['출신대학']=='인천대학교')|(X_train['출신대학']=='성결대학교')|(X_train['출신대학']=='한세대학교'),'대학지역']='경기'\n",
    "\n",
    "X_train.loc[(X_train['출신대학']=='한밭대학교')|(X_train['출신대학']=='세명대학교')\n",
    "           |(X_train['출신대학']=='선문대학교')|(X_train['출신대학']=='서원대학교')\n",
    "          ,'대학지역']='호서'\n",
    "\n",
    "X_train.loc[(X_train['출신대학']=='전주대학교')|(X_train['출신대학']=='목포대학교')\n",
    "           |(X_train['출신대학']=='군산대학교')|(X_train['출신대학']=='호남대학교')|(X_train['출신대학']=='광주대학교')\n",
    "          |(X_train['출신대학']=='한일장신대학교')|(X_train['출신대학']=='송원대학교'),'대학지역']='호남'\n",
    "\n",
    "X_train.loc[(X_train['출신대학']=='제주대학교'),'대학지역']='제주'\n",
    "\n",
    "X_train.loc[(X_train['출신대학']=='상지대학교'),'대학지역']='강원'\n",
    "\n",
    "#X_test\n",
    "X_test.loc[(X_test['출신대학']=='성균관대학교')|(X_test['출신대학']=='중앙대학교')\n",
    "           |(X_test['출신대학']=='세종대학교')|(X_test['출신대학']=='연세대학교')|(X_test['출신대학']=='한성대학교')\n",
    "           |(X_test['출신대학']=='성신여자대학교')|(X_test['출신대학']=='동덕여자대학교')|(X_test['출신대학']=='이화여자대학교')\n",
    "           |(X_test['출신대학']=='한림대학교')|(X_test['출신대학']=='서울여자대학교')|(X_test['출신대학']=='서울과학기술대학교')\n",
    "           |(X_test['출신대학']=='서울신학대학교')|(X_test['출신대학']=='성공회대학교'),'대학지역']='서울'\n",
    "\n",
    "X_test.loc[(X_test['출신대학']=='동아대학교')|(X_test['출신대학']=='동의대학교')\n",
    "           |(X_test['출신대학']=='신라대학교')|(X_test['출신대학']=='동의대학교')|(X_test['출신대학']=='경주대학교')\n",
    "          |(X_test['출신대학']=='부산디지털대학교')|(X_test['출신대학']=='동서대학교'),'대학지역']='영남'\n",
    "\n",
    "X_test.loc[(X_test['출신대학']=='수원대학교')\n",
    "           |(X_test['출신대학']=='경기대학교')|(X_test['출신대학']=='호원대학교')|(X_test['출신대학']=='용인대학교')\n",
    "          |(X_test['출신대학']=='협성대학교')|(X_test['출신대학']=='한국산업기술대학교')\n",
    "          |(X_test['출신대학']=='인천대학교')|(X_test['출신대학']=='성결대학교')|(X_test['출신대학']=='한세대학교'),'대학지역']='경기'\n",
    "\n",
    "X_test.loc[(X_test['출신대학']=='한밭대학교')|(X_test['출신대학']=='세명대학교')\n",
    "           |(X_test['출신대학']=='선문대학교')|(X_test['출신대학']=='서원대학교')\n",
    "          ,'대학지역']='호서'\n",
    "\n",
    "X_test.loc[(X_test['출신대학']=='전주대학교')|(X_test['출신대학']=='목포대학교')\n",
    "           |(X_test['출신대학']=='군산대학교')|(X_test['출신대학']=='호남대학교')|(X_test['출신대학']=='광주대학교')\n",
    "          |(X_test['출신대학']=='한일장신대학교')|(X_test['출신대학']=='송원대학교'),'대학지역']='호남'\n",
    "\n",
    "X_test.loc[(X_test['출신대학']=='제주대학교'),'대학지역']='제주'\n",
    "\n",
    "X_test.loc[(X_test['출신대학']=='상지대학교'),'대학지역']='강원'"
   ]
  },
  {
   "cell_type": "markdown",
   "id": "f25ccf65",
   "metadata": {},
   "source": [
    "## 42)연고직"
   ]
  },
  {
   "cell_type": "code",
   "execution_count": 85,
   "id": "59656c04",
   "metadata": {},
   "outputs": [],
   "source": [
    "X_train['연고지'] = 0\n",
    "X_train.loc[(X_train['대학지역']=='서울')&(X_train['근무지역_수도권_서울']==1),'연고지']=1\n",
    "X_train.loc[(X_train['대학지역']=='경기')&(X_train['근무지역_수도권_경기']==1),'연고지']=1\n",
    "X_train.loc[(X_train['대학지역']=='영남')&(X_train['근무지역_영남']==1),'연고지']=1\n",
    "X_train.loc[(X_train['대학지역']=='호서')&(X_train['근무지역_호서']==1),'연고지']=1\n",
    "X_train.loc[(X_train['대학지역']=='호남')&(X_train['근무지역_호남']==1),'연고지']=1\n",
    "X_train.loc[(X_train['대학지역']=='강원')&(X_train['근무지역_강원']==1),'연고지']=1\n",
    "X_train.loc[(X_train['대학지역']=='제주')&(X_train['근무지역_제주']==1),'연고지']=1\n",
    "\n",
    "\n",
    "X_test['연고지'] = 0\n",
    "X_test.loc[(X_test['대학지역']=='서울')&(X_test['근무지역_수도권_서울']==1),'연고지']=1\n",
    "X_test.loc[(X_train['대학지역']=='경기')&(X_test['근무지역_수도권_경기']==1),'연고지']=1\n",
    "X_test.loc[(X_train['대학지역']=='영남')&(X_test['근무지역_영남']==1),'연고지']=1\n",
    "X_test.loc[(X_train['대학지역']=='호서')&(X_test['근무지역_호서']==1),'연고지']=1\n",
    "X_test.loc[(X_train['대학지역']=='호남')&(X_test['근무지역_호남']==1),'연고지']=1\n",
    "X_test.loc[(X_train['대학지역']=='강원')&(X_test['근무지역_강원']==1),'연고지']=1\n",
    "X_test.loc[(X_train['대학지역']=='제주')&(X_test['근무지역_제주']==1),'연고지']=1"
   ]
  },
  {
   "cell_type": "markdown",
   "id": "634a3b9d",
   "metadata": {},
   "source": [
    "## 43) 명문대"
   ]
  },
  {
   "cell_type": "code",
   "execution_count": 86,
   "id": "92bad805",
   "metadata": {},
   "outputs": [],
   "source": [
    "X_train.loc[(X_train['출신대학'].str.contains('성균관대학교|세종대학교|성신여자대학교|연세대학교|동덕여자대학교|중앙대학교|이화여자대학교|서울과학기술대학교|서울여자대학교')),'명문대']=1\n",
    "X_train['명문대']=X_train['명문대'].fillna(0)\n",
    "\n",
    "X_test.loc[(X_test['출신대학'].str.contains('성균관대학교|세종대학교|성신여자대학교|연세대학교|동덕여자대학교|중앙대학교|이화여자대학교|서울과학기술대학교|서울여자대학교')),'명문대']=1\n",
    "X_test['명문대']=X_test['명문대'].fillna(0)"
   ]
  },
  {
   "cell_type": "code",
   "execution_count": 87,
   "id": "836ca5eb",
   "metadata": {},
   "outputs": [],
   "source": [
    "X = pd.concat([X_train, y_train], axis = 1)"
   ]
  },
  {
   "cell_type": "code",
   "execution_count": 88,
   "id": "1828b99c",
   "metadata": {},
   "outputs": [],
   "source": [
    "def merge_region_worklength(data,on):\n",
    "    right = X.groupby(on)[['근무경력']].mean()\n",
    "    right.loc[0] = 0.0\n",
    "    right.columns = [f\"{on}_경력평균\"]\n",
    "    result = pd.merge(data,right,on=on,how='left')\n",
    "    return result\n",
    "\n",
    "on_list = ['근무지역_수도권_서울','근무지역_수도권_경기','근무지역_수도권_인천','근무지역_강원','근무지역_호남',\n",
    "           '근무지역_호서','근무지역_영남','근무지역_제주',\n",
    "           '근무지역_해외_유라시아','근무지역_해외_아메리카','근무지역_해외_기타','근무지역_기타']\n",
    "\n",
    "\n",
    "#X_train merge\n",
    "for on in on_list:\n",
    "    X_train = merge_region_worklength(X_train,on)\n",
    "# X_test merge\n",
    "for on in on_list:\n",
    "    X_test = merge_region_worklength(X_test,on)"
   ]
  },
  {
   "cell_type": "code",
   "execution_count": 89,
   "id": "df26d531",
   "metadata": {},
   "outputs": [],
   "source": [
    "region_worklength_mean_list = ['근무지역_수도권_서울_경력평균', '근무지역_수도권_경기_경력평균', '근무지역_수도권_인천_경력평균',\n",
    "       '근무지역_강원_경력평균', '근무지역_호남_경력평균', '근무지역_호서_경력평균', '근무지역_영남_경력평균',\n",
    "       '근무지역_제주_경력평균', '근무지역_해외_유라시아_경력평균', '근무지역_해외_아메리카_경력평균',\n",
    "       '근무지역_해외_기타_경력평균', '근무지역_기타_경력평균']"
   ]
  },
  {
   "cell_type": "code",
   "execution_count": 90,
   "id": "d5363661",
   "metadata": {},
   "outputs": [],
   "source": [
    "X_train['근무지역_개별_경력평균'] = X_train[region_worklength_mean_list].sum(axis=1)/X_train['근무지역_경험횟수']\n",
    "X_test['근무지역_개별_경력평균'] = X_test[region_worklength_mean_list].sum(axis=1)/X_test['근무지역_경험횟수']"
   ]
  },
  {
   "cell_type": "markdown",
   "id": "bba7ac75",
   "metadata": {},
   "source": [
    "## 44) 근무지역1별 대학성적, 근무경력"
   ]
  },
  {
   "cell_type": "code",
   "execution_count": 91,
   "id": "3c32acb1",
   "metadata": {},
   "outputs": [],
   "source": [
    "X_train=pd.merge(X_train, X_train.groupby('근무지역1')['대학성적'].mean().reset_index().rename(columns={'대학성적':'근무지역1별 대학성적mean'}), on = '근무지역1',how='left')\n",
    "X_test=pd.merge(X_test, X_test.groupby('근무지역1')['대학성적'].mean().reset_index().rename(columns={'대학성적':'근무지역1별 대학성적mean'}), on = '근무지역1',how='left')\n",
    "\n",
    "X_train=pd.merge(X_train, X_train.groupby('근무지역1')['대학성적'].median().reset_index().rename(columns={'대학성적':'근무지역1별 대학성적median'}), on = '근무지역1',how='left')\n",
    "X_test=pd.merge(X_test, X_test.groupby('근무지역1')['대학성적'].median().reset_index().rename(columns={'대학성적':'근무지역1별 대학성적median'}), on = '근무지역1',how='left')\n",
    "\n",
    "X_train=pd.merge(X_train, X_train.groupby('근무지역1')['대학성적'].sum().reset_index().rename(columns={'대학성적':'근무지역1별 대학성적sum'}), on = '근무지역1',how='left')\n",
    "X_test=pd.merge(X_test, X_test.groupby('근무지역1')['대학성적'].sum().reset_index().rename(columns={'대학성적':'근무지역1별 대학성적sum'}), on = '근무지역1',how='left')\n",
    "\n",
    "X_train=pd.merge(X_train, X_train.groupby('근무지역1')['대학성적'].var().reset_index().rename(columns={'대학성적':'근무지역1별 대학성적var'}), on = '근무지역1',how='left')\n",
    "X_test=pd.merge(X_test, X_test.groupby('근무지역1')['대학성적'].var().reset_index().rename(columns={'대학성적':'근무지역1별 대학성적var'}), on = '근무지역1',how='left')\n",
    "\n",
    "X_train=pd.merge(X_train, X_train.groupby('근무지역1')['대학성적'].std().reset_index().rename(columns={'대학성적':'근무지역1별 대학성적std'}), on = '근무지역1',how='left')\n",
    "X_test=pd.merge(X_test, X_test.groupby('근무지역1')['대학성적'].std().reset_index().rename(columns={'대학성적':'근무지역1별 대학성적std'}), on = '근무지역1',how='left')\n",
    "\n",
    "X_train=pd.merge(X_train, X_train.groupby('근무지역1')['대학성적'].min().reset_index().rename(columns={'대학성적':'근무지역1별 대학성적min'}), on = '근무지역1',how='left')\n",
    "X_test=pd.merge(X_test, X_test.groupby('근무지역1')['대학성적'].min().reset_index().rename(columns={'대학성적':'근무지역1별 대학성적min'}), on = '근무지역1',how='left')\n",
    "\n",
    "X_train=pd.merge(X_train, X_train.groupby('근무지역1')['대학성적'].max().reset_index().rename(columns={'대학성적':'근무지역1별 대학성적max'}), on = '근무지역1',how='left')\n",
    "X_test=pd.merge(X_test, X_test.groupby('근무지역1')['대학성적'].max().reset_index().rename(columns={'대학성적':'근무지역1별 대학성적max'}), on = '근무지역1',how='left')"
   ]
  },
  {
   "cell_type": "code",
   "execution_count": 92,
   "id": "8cf01a9a",
   "metadata": {},
   "outputs": [],
   "source": [
    "X_train=pd.merge(X_train, X_train.groupby('근무지역1')['근무경력'].mean().reset_index().rename(columns={'근무경력':'근무지역1별 근무경력mean'}), on = '근무지역1',how='left')\n",
    "X_test=pd.merge(X_test, X_test.groupby('근무지역1')['근무경력'].mean().reset_index().rename(columns={'근무경력':'근무지역1별 근무경력mean'}), on = '근무지역1',how='left')\n",
    "\n",
    "X_train=pd.merge(X_train, X_train.groupby('근무지역1')['근무경력'].sum().reset_index().rename(columns={'근무경력':'근무지역1별 근무경력sum'}), on = '근무지역1',how='left')\n",
    "X_test=pd.merge(X_test, X_test.groupby('근무지역1')['근무경력'].sum().reset_index().rename(columns={'근무경력':'근무지역1별 근무경력sum'}), on = '근무지역1',how='left')\n",
    "\n",
    "\n",
    "X_train=pd.merge(X_train, X_train.groupby('근무지역1')['근무경력'].median().reset_index().rename(columns={'근무경력':'근무지역1별 근무경력median'}), on = '근무지역1',how='left')\n",
    "X_test=pd.merge(X_test, X_test.groupby('근무지역1')['근무경력'].median().reset_index().rename(columns={'근무경력':'근무지역1별 근무경력median'}), on = '근무지역1',how='left')\n",
    "\n",
    "X_train=pd.merge(X_train, X_train.groupby('근무지역1')['근무경력'].var().reset_index().rename(columns={'근무경력':'근무지역1별 근무경력var'}), on = '근무지역1',how='left')\n",
    "X_test=pd.merge(X_test, X_test.groupby('근무지역1')['근무경력'].var().reset_index().rename(columns={'근무경력':'근무지역1별 근무경력var'}), on = '근무지역1',how='left')\n",
    "\n",
    "X_train=pd.merge(X_train, X_train.groupby('근무지역1')['근무경력'].std().reset_index().rename(columns={'근무경력':'근무지역1별 근무경력std'}), on = '근무지역1',how='left')\n",
    "X_test=pd.merge(X_test, X_test.groupby('근무지역1')['근무경력'].std().reset_index().rename(columns={'근무경력':'근무지역1별 근무경력std'}), on = '근무지역1',how='left')\n",
    "\n",
    "X_train=pd.merge(X_train, X_train.groupby('근무지역1')['근무경력'].min().reset_index().rename(columns={'근무경력':'근무지역1별 근무경력min'}), on = '근무지역1',how='left')\n",
    "X_test=pd.merge(X_test, X_test.groupby('근무지역1')['근무경력'].min().reset_index().rename(columns={'근무경력':'근무지역1별 근무경력min'}), on = '근무지역1',how='left')\n",
    "\n",
    "X_train=pd.merge(X_train, X_train.groupby('근무지역1')['근무경력'].max().reset_index().rename(columns={'근무경력':'근무지역1별 근무경력max'}), on = '근무지역1',how='left')\n",
    "X_test=pd.merge(X_test, X_test.groupby('근무지역1')['근무경력'].max().reset_index().rename(columns={'근무경력':'근무지역1별 근무경력max'}), on = '근무지역1',how='left')"
   ]
  },
  {
   "cell_type": "markdown",
   "id": "a966048b",
   "metadata": {},
   "source": [
    "## 45) 숙련도별 대학성적, 근무경력"
   ]
  },
  {
   "cell_type": "code",
   "execution_count": 93,
   "id": "7335e0ce",
   "metadata": {},
   "outputs": [],
   "source": [
    "X_train=pd.merge(X_train, X_train.groupby('숙련도')['대학성적'].mean().reset_index().rename(columns={'대학성적':'숙련도별 대학성적mean'}), on = '숙련도',how='left')\n",
    "X_test=pd.merge(X_test, X_test.groupby('숙련도')['대학성적'].mean().reset_index().rename(columns={'대학성적':'숙련도별 대학성적mean'}), on = '숙련도',how='left')\n",
    "\n",
    "X_train=pd.merge(X_train, X_train.groupby('숙련도')['대학성적'].median().reset_index().rename(columns={'대학성적':'숙련도별 대학성적median'}), on = '숙련도',how='left')\n",
    "X_test=pd.merge(X_test, X_test.groupby('숙련도')['대학성적'].median().reset_index().rename(columns={'대학성적':'숙련도별 대학성적median'}), on = '숙련도',how='left')\n",
    "\n",
    "X_train=pd.merge(X_train, X_train.groupby('숙련도')['대학성적'].sum().reset_index().rename(columns={'대학성적':'숙련도별 대학성적sum'}), on = '숙련도',how='left')\n",
    "X_test=pd.merge(X_test, X_test.groupby('숙련도')['대학성적'].sum().reset_index().rename(columns={'대학성적':'숙련도별 대학성적sum'}), on = '숙련도',how='left')\n",
    "\n",
    "X_train=pd.merge(X_train, X_train.groupby('숙련도')['대학성적'].var().reset_index().rename(columns={'대학성적':'숙련도별 대학성적var'}), on = '숙련도',how='left')\n",
    "X_test=pd.merge(X_test, X_test.groupby('숙련도')['대학성적'].var().reset_index().rename(columns={'대학성적':'숙련도별 대학성적var'}), on = '숙련도',how='left')\n",
    "\n",
    "X_train=pd.merge(X_train, X_train.groupby('숙련도')['대학성적'].std().reset_index().rename(columns={'대학성적':'숙련도별 대학성적std'}), on = '숙련도',how='left')\n",
    "X_test=pd.merge(X_test, X_test.groupby('숙련도')['대학성적'].std().reset_index().rename(columns={'대학성적':'숙련도별 대학성적std'}), on = '숙련도',how='left')\n",
    "\n",
    "X_train=pd.merge(X_train, X_train.groupby('숙련도')['대학성적'].min().reset_index().rename(columns={'대학성적':'숙련도별 대학성적min'}), on = '숙련도',how='left')\n",
    "X_test=pd.merge(X_test, X_test.groupby('숙련도')['대학성적'].min().reset_index().rename(columns={'대학성적':'숙련도별 대학성적min'}), on = '숙련도',how='left')\n",
    "\n",
    "X_train=pd.merge(X_train, X_train.groupby('숙련도')['대학성적'].max().reset_index().rename(columns={'대학성적':'숙련도별 대학성적max'}), on = '숙련도',how='left')\n",
    "X_test=pd.merge(X_test, X_test.groupby('숙련도')['대학성적'].max().reset_index().rename(columns={'대학성적':'숙련도별 대학성적max'}), on = '숙련도',how='left')"
   ]
  },
  {
   "cell_type": "code",
   "execution_count": 94,
   "id": "bf995615",
   "metadata": {},
   "outputs": [],
   "source": [
    "X_train=pd.merge(X_train, X_train.groupby('숙련도')['근무경력'].mean().reset_index().rename(columns={'근무경력':'숙련도별 근무경력mean'}), on = '숙련도',how='left')\n",
    "X_test=pd.merge(X_test, X_test.groupby('숙련도')['근무경력'].mean().reset_index().rename(columns={'근무경력':'숙련도별 근무경력mean'}), on = '숙련도',how='left')\n",
    "\n",
    "X_train=pd.merge(X_train, X_train.groupby('숙련도')['근무경력'].sum().reset_index().rename(columns={'근무경력':'숙련도별 근무경력sum'}), on = '숙련도',how='left')\n",
    "X_test=pd.merge(X_test, X_test.groupby('숙련도')['근무경력'].sum().reset_index().rename(columns={'근무경력':'숙련도별 근무경력sum'}), on = '숙련도',how='left')\n",
    "\n",
    "X_train=pd.merge(X_train, X_train.groupby('숙련도')['근무경력'].median().reset_index().rename(columns={'근무경력':'숙련도별 근무경력median'}), on = '숙련도',how='left')\n",
    "X_test=pd.merge(X_test, X_test.groupby('숙련도')['근무경력'].median().reset_index().rename(columns={'근무경력':'숙련도별 근무경력median'}), on = '숙련도',how='left')\n",
    "\n",
    "X_train=pd.merge(X_train, X_train.groupby('숙련도')['근무경력'].var().reset_index().rename(columns={'근무경력':'숙련도별 근무경력var'}), on = '숙련도',how='left')\n",
    "X_test=pd.merge(X_test, X_test.groupby('숙련도')['근무경력'].var().reset_index().rename(columns={'근무경력':'숙련도별 근무경력var'}), on = '숙련도',how='left')\n",
    "\n",
    "X_train=pd.merge(X_train, X_train.groupby('숙련도')['근무경력'].std().reset_index().rename(columns={'근무경력':'숙련도별 근무경력std'}), on = '숙련도',how='left')\n",
    "X_test=pd.merge(X_test, X_test.groupby('숙련도')['근무경력'].std().reset_index().rename(columns={'근무경력':'숙련도별 근무경력std'}), on = '숙련도',how='left')\n",
    "\n",
    "X_train=pd.merge(X_train, X_train.groupby('숙련도')['근무경력'].min().reset_index().rename(columns={'근무경력':'숙련도별 근무경력min'}), on = '숙련도',how='left')\n",
    "X_test=pd.merge(X_test, X_test.groupby('숙련도')['근무경력'].min().reset_index().rename(columns={'근무경력':'숙련도별 근무경력min'}), on = '숙련도',how='left')\n",
    "\n",
    "X_train=pd.merge(X_train, X_train.groupby('숙련도')['근무경력'].max().reset_index().rename(columns={'근무경력':'숙련도별 근무경력max'}), on = '숙련도',how='left')\n",
    "X_test=pd.merge(X_test, X_test.groupby('숙련도')['근무경력'].max().reset_index().rename(columns={'근무경력':'숙련도별 근무경력max'}), on = '숙련도',how='left')"
   ]
  },
  {
   "cell_type": "markdown",
   "id": "73e83269",
   "metadata": {},
   "source": [
    "## 46) 숙련도별 대학성적 , 근무경력,출신대학수치"
   ]
  },
  {
   "cell_type": "code",
   "execution_count": 95,
   "id": "ed7418b5",
   "metadata": {},
   "outputs": [],
   "source": [
    "X_train=pd.merge(X_train, X_train.groupby('근무경력_세분화')['대학성적'].mean().reset_index().rename(columns={'대학성적':'근무경력_세분화별 대학성적mean'}), on = '근무경력_세분화',how='left')\n",
    "X_test=pd.merge(X_test, X_test.groupby('근무경력_세분화')['대학성적'].mean().reset_index().rename(columns={'대학성적':'근무경력_세분화별 대학성적mean'}), on = '근무경력_세분화',how='left')\n",
    "\n",
    "X_train=pd.merge(X_train, X_train.groupby('근무경력_세분화')['대학성적'].median().reset_index().rename(columns={'대학성적':'근무경력_세분화별 대학성적median'}), on = '근무경력_세분화',how='left')\n",
    "X_test=pd.merge(X_test, X_test.groupby('근무경력_세분화')['대학성적'].median().reset_index().rename(columns={'대학성적':'근무경력_세분화별 대학성적median'}), on = '근무경력_세분화',how='left')\n",
    "\n",
    "X_train=pd.merge(X_train, X_train.groupby('근무경력_세분화')['대학성적'].sum().reset_index().rename(columns={'대학성적':'근무경력_세분화별 대학성적sum'}), on = '근무경력_세분화',how='left')\n",
    "X_test=pd.merge(X_test, X_test.groupby('근무경력_세분화')['대학성적'].sum().reset_index().rename(columns={'대학성적':'근무경력_세분화별 대학성적sum'}), on = '근무경력_세분화',how='left')\n",
    "\n",
    "X_train=pd.merge(X_train, X_train.groupby('근무경력_세분화')['대학성적'].var().reset_index().rename(columns={'대학성적':'근무경력_세분화별 대학성적var'}), on = '근무경력_세분화',how='left')\n",
    "X_test=pd.merge(X_test, X_test.groupby('근무경력_세분화')['대학성적'].var().reset_index().rename(columns={'대학성적':'근무경력_세분화별 대학성적var'}), on = '근무경력_세분화',how='left')\n",
    "\n",
    "X_train=pd.merge(X_train, X_train.groupby('근무경력_세분화')['대학성적'].std().reset_index().rename(columns={'대학성적':'근무경력_세분화별 대학성적std'}), on = '근무경력_세분화',how='left')\n",
    "X_test=pd.merge(X_test, X_test.groupby('근무경력_세분화')['대학성적'].std().reset_index().rename(columns={'대학성적':'근무경력_세분화별 대학성적std'}), on = '근무경력_세분화',how='left')\n",
    "\n",
    "X_train=pd.merge(X_train, X_train.groupby('근무경력_세분화')['대학성적'].min().reset_index().rename(columns={'대학성적':'근무경력_세분화별 대학성적min'}), on = '근무경력_세분화',how='left')\n",
    "X_test=pd.merge(X_test, X_test.groupby('근무경력_세분화')['대학성적'].min().reset_index().rename(columns={'대학성적':'근무경력_세분화별 대학성적min'}), on = '근무경력_세분화',how='left')\n",
    "\n",
    "X_train=pd.merge(X_train, X_train.groupby('근무경력_세분화')['대학성적'].max().reset_index().rename(columns={'대학성적':'근무경력_세분화별 대학성적max'}), on = '근무경력_세분화',how='left')\n",
    "X_test=pd.merge(X_test, X_test.groupby('근무경력_세분화')['대학성적'].max().reset_index().rename(columns={'대학성적':'근무경력_세분화별 대학성적max'}), on = '근무경력_세분화',how='left')"
   ]
  },
  {
   "cell_type": "code",
   "execution_count": 96,
   "id": "78d6c24a",
   "metadata": {},
   "outputs": [],
   "source": [
    "X_train=pd.merge(X_train, X_train.groupby('근무경력_세분화')['근무경력'].mean().reset_index().rename(columns={'근무경력':'근무경력_세분화별 근무경력mean'}), on = '근무경력_세분화',how='left')\n",
    "X_test=pd.merge(X_test, X_test.groupby('근무경력_세분화')['근무경력'].mean().reset_index().rename(columns={'근무경력':'근무경력_세분화별 근무경력mean'}), on = '근무경력_세분화',how='left')\n",
    "\n",
    "X_train=pd.merge(X_train, X_train.groupby('근무경력_세분화')['근무경력'].sum().reset_index().rename(columns={'근무경력':'근무경력_세분화별 근무경력sum'}), on = '근무경력_세분화',how='left')\n",
    "X_test=pd.merge(X_test, X_test.groupby('근무경력_세분화')['근무경력'].sum().reset_index().rename(columns={'근무경력':'근무경력_세분화별 근무경력sum'}), on = '근무경력_세분화',how='left')\n",
    "\n",
    "X_train=pd.merge(X_train, X_train.groupby('근무경력_세분화')['근무경력'].median().reset_index().rename(columns={'근무경력':'근무경력_세분화별 근무경력median'}), on = '근무경력_세분화',how='left')\n",
    "X_test=pd.merge(X_test, X_test.groupby('근무경력_세분화')['근무경력'].median().reset_index().rename(columns={'근무경력':'근무경력_세분화별 근무경력median'}), on = '근무경력_세분화',how='left')\n",
    "\n",
    "X_train=pd.merge(X_train, X_train.groupby('근무경력_세분화')['근무경력'].var().reset_index().rename(columns={'근무경력':'근무경력_세분화별 근무경력var'}), on = '근무경력_세분화',how='left')\n",
    "X_test=pd.merge(X_test, X_test.groupby('근무경력_세분화')['근무경력'].var().reset_index().rename(columns={'근무경력':'근무경력_세분화별 근무경력var'}), on = '근무경력_세분화',how='left')\n",
    "\n",
    "X_train=pd.merge(X_train, X_train.groupby('근무경력_세분화')['근무경력'].std().reset_index().rename(columns={'근무경력':'근무경력_세분화별 근무경력std'}), on = '근무경력_세분화',how='left')\n",
    "X_test=pd.merge(X_test, X_test.groupby('근무경력_세분화')['근무경력'].std().reset_index().rename(columns={'근무경력':'근무경력_세분화별 근무경력std'}), on = '근무경력_세분화',how='left')\n",
    "\n",
    "X_train=pd.merge(X_train, X_train.groupby('근무경력_세분화')['근무경력'].min().reset_index().rename(columns={'근무경력':'근무경력_세분화별 근무경력min'}), on = '근무경력_세분화',how='left')\n",
    "X_test=pd.merge(X_test, X_test.groupby('근무경력_세분화')['근무경력'].min().reset_index().rename(columns={'근무경력':'근무경력_세분화별 근무경력min'}), on = '근무경력_세분화',how='left')\n",
    "\n",
    "X_train=pd.merge(X_train, X_train.groupby('근무경력_세분화')['근무경력'].max().reset_index().rename(columns={'근무경력':'근무경력_세분화별 근무경력max'}), on = '근무경력_세분화',how='left')\n",
    "X_test=pd.merge(X_test, X_test.groupby('근무경력_세분화')['근무경력'].max().reset_index().rename(columns={'근무경력':'근무경력_세분화별 근무경력max'}), on = '근무경력_세분화',how='left')"
   ]
  },
  {
   "cell_type": "code",
   "execution_count": 97,
   "id": "f00d33ba",
   "metadata": {},
   "outputs": [],
   "source": [
    "X_train=pd.merge(X_train, X_train.groupby('근무경력_세분화')['출신대학수치'].mean().reset_index().rename(columns={'출신대학수치':'근무경력_세분화별 출신대학수치mean'}), on = '근무경력_세분화',how='left')\n",
    "X_test=pd.merge(X_test, X_test.groupby('근무경력_세분화')['출신대학수치'].mean().reset_index().rename(columns={'출신대학수치':'근무경력_세분화별 출신대학수치mean'}), on = '근무경력_세분화',how='left')\n",
    "\n",
    "X_train=pd.merge(X_train, X_train.groupby('근무경력_세분화')['출신대학수치'].median().reset_index().rename(columns={'출신대학수치':'근무경력_세분화별 출신대학수치median'}), on = '근무경력_세분화',how='left')\n",
    "X_test=pd.merge(X_test, X_test.groupby('근무경력_세분화')['출신대학수치'].median().reset_index().rename(columns={'출신대학수치':'근무경력_세분화별 출신대학수치median'}), on = '근무경력_세분화',how='left')\n",
    "\n",
    "X_train=pd.merge(X_train, X_train.groupby('근무경력_세분화')['출신대학수치'].sum().reset_index().rename(columns={'출신대학수치':'근무경력_세분화별 출신대학수치sum'}), on = '근무경력_세분화',how='left')\n",
    "X_test=pd.merge(X_test, X_test.groupby('근무경력_세분화')['출신대학수치'].sum().reset_index().rename(columns={'출신대학수치':'근무경력_세분화별 출신대학수치sum'}), on = '근무경력_세분화',how='left')\n",
    "\n",
    "X_train=pd.merge(X_train, X_train.groupby('근무경력_세분화')['출신대학수치'].var().reset_index().rename(columns={'출신대학수치':'근무경력_세분화별 출신대학수치var'}), on = '근무경력_세분화',how='left')\n",
    "X_test=pd.merge(X_test, X_test.groupby('근무경력_세분화')['출신대학수치'].var().reset_index().rename(columns={'출신대학수치':'근무경력_세분화별 출신대학수치var'}), on = '근무경력_세분화',how='left')\n",
    "\n",
    "X_train=pd.merge(X_train, X_train.groupby('근무경력_세분화')['출신대학수치'].std().reset_index().rename(columns={'출신대학수치':'근무경력_세분화별 출신대학수치std'}), on = '근무경력_세분화',how='left')\n",
    "X_test=pd.merge(X_test, X_test.groupby('근무경력_세분화')['출신대학수치'].std().reset_index().rename(columns={'출신대학수치':'근무경력_세분화별 출신대학수치std'}), on = '근무경력_세분화',how='left')\n",
    "\n",
    "X_train=pd.merge(X_train, X_train.groupby('근무경력_세분화')['출신대학수치'].min().reset_index().rename(columns={'출신대학수치':'근무경력_세분화별 출신대학수치min'}), on = '근무경력_세분화',how='left')\n",
    "X_test=pd.merge(X_test, X_test.groupby('근무경력_세분화')['출신대학수치'].min().reset_index().rename(columns={'출신대학수치':'근무경력_세분화별 출신대학수치min'}), on = '근무경력_세분화',how='left')\n",
    "\n",
    "X_train=pd.merge(X_train, X_train.groupby('근무경력_세분화')['출신대학수치'].max().reset_index().rename(columns={'출신대학수치':'근무경력_세분화별 출신대학수치max'}), on = '근무경력_세분화',how='left')\n",
    "X_test=pd.merge(X_test, X_test.groupby('근무경력_세분화')['출신대학수치'].max().reset_index().rename(columns={'출신대학수치':'근무경력_세분화별 출신대학수치max'}), on = '근무경력_세분화',how='left')\n"
   ]
  },
  {
   "cell_type": "markdown",
   "id": "8b26af1d",
   "metadata": {},
   "source": [
    "## 47) ㅇㅇ별 출신대학수치"
   ]
  },
  {
   "cell_type": "code",
   "execution_count": 98,
   "id": "b62e6edd",
   "metadata": {},
   "outputs": [],
   "source": [
    "X_train=pd.merge(X_train, X_train.groupby('출신대학')['출신대학수치'].mean().reset_index().rename(columns={'출신대학수치':'출신대학별 출신대학수치mean'}), on = '출신대학',how='left')\n",
    "X_test=pd.merge(X_test, X_test.groupby('출신대학')['출신대학수치'].mean().reset_index().rename(columns={'출신대학수치':'출신대학별 출신대학수치mean'}), on = '출신대학',how='left')\n",
    "\n",
    "X_train=pd.merge(X_train, X_train.groupby('출신대학')['출신대학수치'].median().reset_index().rename(columns={'출신대학수치':'출신대학별 출신대학수치median'}), on = '출신대학',how='left')\n",
    "X_test=pd.merge(X_test, X_test.groupby('출신대학')['출신대학수치'].median().reset_index().rename(columns={'출신대학수치':'출신대학별 출신대학수치median'}), on = '출신대학',how='left')\n",
    "\n",
    "X_train=pd.merge(X_train, X_train.groupby('출신대학')['출신대학수치'].sum().reset_index().rename(columns={'출신대학수치':'출신대학별 출신대학수치sum'}), on = '출신대학',how='left')\n",
    "X_test=pd.merge(X_test, X_test.groupby('출신대학')['출신대학수치'].sum().reset_index().rename(columns={'출신대학수치':'출신대학별 출신대학수치sum'}), on = '출신대학',how='left')\n",
    "\n",
    "X_train=pd.merge(X_train, X_train.groupby('출신대학')['출신대학수치'].var().reset_index().rename(columns={'출신대학수치':'출신대학별 출신대학수치var'}), on = '출신대학',how='left')\n",
    "X_test=pd.merge(X_test, X_test.groupby('출신대학')['출신대학수치'].var().reset_index().rename(columns={'출신대학수치':'출신대학별 출신대학수치var'}), on = '출신대학',how='left')\n",
    "\n",
    "X_train=pd.merge(X_train, X_train.groupby('출신대학')['출신대학수치'].std().reset_index().rename(columns={'출신대학수치':'출신대학별 출신대학수치std'}), on = '출신대학',how='left')\n",
    "X_test=pd.merge(X_test, X_test.groupby('출신대학')['출신대학수치'].std().reset_index().rename(columns={'출신대학수치':'출신대학별 출신대학수치std'}), on = '출신대학',how='left')\n",
    "\n",
    "X_train=pd.merge(X_train, X_train.groupby('출신대학')['출신대학수치'].min().reset_index().rename(columns={'출신대학수치':'출신대학별 출신대학수치min'}), on = '출신대학',how='left')\n",
    "X_test=pd.merge(X_test, X_test.groupby('출신대학')['출신대학수치'].min().reset_index().rename(columns={'출신대학수치':'출신대학별 출신대학수치min'}), on = '출신대학',how='left')\n",
    "\n",
    "X_train=pd.merge(X_train, X_train.groupby('출신대학')['출신대학수치'].max().reset_index().rename(columns={'출신대학수치':'출신대학별 출신대학수치max'}), on = '출신대학',how='left')\n",
    "X_test=pd.merge(X_test, X_test.groupby('출신대학')['출신대학수치'].max().reset_index().rename(columns={'출신대학수치':'출신대학별 출신대학수치max'}), on = '출신대학',how='left')"
   ]
  },
  {
   "cell_type": "code",
   "execution_count": 99,
   "id": "7c4cf0b8",
   "metadata": {},
   "outputs": [],
   "source": [
    "X_train=pd.merge(X_train, X_train.groupby('근무지역')['출신대학수치'].mean().reset_index().rename(columns={'출신대학수치':'근무지역별 출신대학수치mean'}), on = '근무지역',how='left')\n",
    "X_test=pd.merge(X_test, X_test.groupby('근무지역')['출신대학수치'].mean().reset_index().rename(columns={'출신대학수치':'근무지역별 출신대학수치mean'}), on = '근무지역',how='left')\n",
    "\n",
    "X_train=pd.merge(X_train, X_train.groupby('근무지역')['출신대학수치'].median().reset_index().rename(columns={'출신대학수치':'근무지역별 출신대학수치median'}), on = '근무지역',how='left')\n",
    "X_test=pd.merge(X_test, X_test.groupby('근무지역')['출신대학수치'].median().reset_index().rename(columns={'출신대학수치':'근무지역별 출신대학수치median'}), on = '근무지역',how='left')\n",
    "\n",
    "X_train=pd.merge(X_train, X_train.groupby('근무지역')['출신대학수치'].sum().reset_index().rename(columns={'출신대학수치':'근무지역별 출신대학수치sum'}), on = '근무지역',how='left')\n",
    "X_test=pd.merge(X_test, X_test.groupby('근무지역')['출신대학수치'].sum().reset_index().rename(columns={'출신대학수치':'근무지역별 출신대학수치sum'}), on = '근무지역',how='left')\n",
    "\n",
    "X_train=pd.merge(X_train, X_train.groupby('근무지역')['출신대학수치'].var().reset_index().rename(columns={'출신대학수치':'근무지역별 출신대학수치var'}), on = '근무지역',how='left')\n",
    "X_test=pd.merge(X_test, X_test.groupby('근무지역')['출신대학수치'].var().reset_index().rename(columns={'출신대학수치':'근무지역별 출신대학수치var'}), on = '근무지역',how='left')\n",
    "\n",
    "X_train=pd.merge(X_train, X_train.groupby('근무지역')['출신대학수치'].std().reset_index().rename(columns={'출신대학수치':'근무지역별 출신대학수치std'}), on = '근무지역',how='left')\n",
    "X_test=pd.merge(X_test, X_test.groupby('근무지역')['출신대학수치'].std().reset_index().rename(columns={'출신대학수치':'근무지역별 출신대학수치std'}), on = '근무지역',how='left')\n",
    "\n",
    "X_train=pd.merge(X_train, X_train.groupby('근무지역')['출신대학수치'].min().reset_index().rename(columns={'출신대학수치':'근무지역별 출신대학수치min'}), on = '근무지역',how='left')\n",
    "X_test=pd.merge(X_test, X_test.groupby('근무지역')['출신대학수치'].min().reset_index().rename(columns={'출신대학수치':'근무지역별 출신대학수치min'}), on = '근무지역',how='left')\n",
    "\n",
    "X_train=pd.merge(X_train, X_train.groupby('근무지역')['출신대학수치'].max().reset_index().rename(columns={'출신대학수치':'근무지역별 출신대학수치max'}), on = '근무지역',how='left')\n",
    "X_test=pd.merge(X_test, X_test.groupby('근무지역')['출신대학수치'].max().reset_index().rename(columns={'출신대학수치':'근무지역별 출신대학수치max'}), on = '근무지역',how='left')"
   ]
  },
  {
   "cell_type": "code",
   "execution_count": 100,
   "id": "1ab4558e",
   "metadata": {},
   "outputs": [],
   "source": [
    "X_train=pd.merge(X_train, X_train.groupby('근무지역1')['출신대학수치'].mean().reset_index().rename(columns={'출신대학수치':'근무지역1별 출신대학수치mean'}), on = '근무지역1',how='left')\n",
    "X_test=pd.merge(X_test, X_test.groupby('근무지역1')['출신대학수치'].mean().reset_index().rename(columns={'출신대학수치':'근무지역1별 출신대학수치mean'}), on = '근무지역1',how='left')\n",
    "\n",
    "X_train=pd.merge(X_train, X_train.groupby('근무지역1')['출신대학수치'].median().reset_index().rename(columns={'출신대학수치':'근무지역1별 출신대학수치median'}), on = '근무지역1',how='left')\n",
    "X_test=pd.merge(X_test, X_test.groupby('근무지역1')['출신대학수치'].median().reset_index().rename(columns={'출신대학수치':'근무지역1별 출신대학수치median'}), on = '근무지역1',how='left')\n",
    "\n",
    "X_train=pd.merge(X_train, X_train.groupby('근무지역1')['출신대학수치'].sum().reset_index().rename(columns={'출신대학수치':'근무지역1별 출신대학수치sum'}), on = '근무지역1',how='left')\n",
    "X_test=pd.merge(X_test, X_test.groupby('근무지역1')['출신대학수치'].sum().reset_index().rename(columns={'출신대학수치':'근무지역1별 출신대학수치sum'}), on = '근무지역1',how='left')\n",
    "\n",
    "X_train=pd.merge(X_train, X_train.groupby('근무지역1')['출신대학수치'].var().reset_index().rename(columns={'출신대학수치':'근무지역1별 출신대학수치var'}), on = '근무지역1',how='left')\n",
    "X_test=pd.merge(X_test, X_test.groupby('근무지역1')['출신대학수치'].var().reset_index().rename(columns={'출신대학수치':'근무지역1별 출신대학수치var'}), on = '근무지역1',how='left')\n",
    "\n",
    "X_train=pd.merge(X_train, X_train.groupby('근무지역1')['출신대학수치'].std().reset_index().rename(columns={'출신대학수치':'근무지역1별 출신대학수치std'}), on = '근무지역1',how='left')\n",
    "X_test=pd.merge(X_test, X_test.groupby('근무지역1')['출신대학수치'].std().reset_index().rename(columns={'출신대학수치':'근무지역1별 출신대학수치std'}), on = '근무지역1',how='left')\n",
    "\n",
    "X_train=pd.merge(X_train, X_train.groupby('근무지역1')['출신대학수치'].min().reset_index().rename(columns={'출신대학수치':'근무지역1별 출신대학수치min'}), on = '근무지역1',how='left')\n",
    "X_test=pd.merge(X_test, X_test.groupby('근무지역1')['출신대학수치'].min().reset_index().rename(columns={'출신대학수치':'근무지역1별 출신대학수치min'}), on = '근무지역1',how='left')\n",
    "\n",
    "X_train=pd.merge(X_train, X_train.groupby('근무지역1')['출신대학수치'].max().reset_index().rename(columns={'출신대학수치':'근무지역1별 출신대학수치max'}), on = '근무지역1',how='left')\n",
    "X_test=pd.merge(X_test, X_test.groupby('근무지역1')['출신대학수치'].max().reset_index().rename(columns={'출신대학수치':'근무지역1별 출신대학수치max'}), on = '근무지역1',how='left')"
   ]
  },
  {
   "cell_type": "code",
   "execution_count": 101,
   "id": "e73a5008",
   "metadata": {},
   "outputs": [],
   "source": [
    "X_train=pd.merge(X_train, X_train.groupby('숙련도')['출신대학수치'].mean().reset_index().rename(columns={'출신대학수치':'숙련도별 출신대학수치mean'}), on = '숙련도',how='left')\n",
    "X_test=pd.merge(X_test, X_test.groupby('숙련도')['출신대학수치'].mean().reset_index().rename(columns={'출신대학수치':'숙련도별 출신대학수치mean'}), on = '숙련도',how='left')\n",
    "\n",
    "X_train=pd.merge(X_train, X_train.groupby('숙련도')['출신대학수치'].median().reset_index().rename(columns={'출신대학수치':'숙련도별 출신대학수치median'}), on = '숙련도',how='left')\n",
    "X_test=pd.merge(X_test, X_test.groupby('숙련도')['출신대학수치'].median().reset_index().rename(columns={'출신대학수치':'숙련도별 출신대학수치median'}), on = '숙련도',how='left')\n",
    "\n",
    "X_train=pd.merge(X_train, X_train.groupby('숙련도')['출신대학수치'].sum().reset_index().rename(columns={'출신대학수치':'숙련도별 출신대학수치sum'}), on = '숙련도',how='left')\n",
    "X_test=pd.merge(X_test, X_test.groupby('숙련도')['출신대학수치'].sum().reset_index().rename(columns={'출신대학수치':'숙련도별 출신대학수치sum'}), on = '숙련도',how='left')\n",
    "\n",
    "X_train=pd.merge(X_train, X_train.groupby('숙련도')['출신대학수치'].var().reset_index().rename(columns={'출신대학수치':'숙련도별 출신대학수치var'}), on = '숙련도',how='left')\n",
    "X_test=pd.merge(X_test, X_test.groupby('숙련도')['출신대학수치'].var().reset_index().rename(columns={'출신대학수치':'숙련도별 출신대학수치var'}), on = '숙련도',how='left')\n",
    "\n",
    "X_train=pd.merge(X_train, X_train.groupby('숙련도')['출신대학수치'].std().reset_index().rename(columns={'출신대학수치':'숙련도별 출신대학수치std'}), on = '숙련도',how='left')\n",
    "X_test=pd.merge(X_test, X_test.groupby('숙련도')['출신대학수치'].std().reset_index().rename(columns={'출신대학수치':'숙련도별 출신대학수치std'}), on = '숙련도',how='left')\n",
    "\n",
    "X_train=pd.merge(X_train, X_train.groupby('숙련도')['출신대학수치'].min().reset_index().rename(columns={'출신대학수치':'숙련도별 출신대학수치min'}), on = '숙련도',how='left')\n",
    "X_test=pd.merge(X_test, X_test.groupby('숙련도')['출신대학수치'].min().reset_index().rename(columns={'출신대학수치':'숙련도별 출신대학수치min'}), on = '숙련도',how='left')\n",
    "\n",
    "X_train=pd.merge(X_train, X_train.groupby('숙련도')['출신대학수치'].max().reset_index().rename(columns={'출신대학수치':'숙련도별 출신대학수치max'}), on = '숙련도',how='left')\n",
    "X_test=pd.merge(X_test, X_test.groupby('숙련도')['출신대학수치'].max().reset_index().rename(columns={'출신대학수치':'숙련도별 출신대학수치max'}), on = '숙련도',how='left')"
   ]
  },
  {
   "cell_type": "markdown",
   "id": "440649bb",
   "metadata": {},
   "source": [
    "## 48) 출신대학별 근무경력mean과 근무경력의 곱, 합, 뺄셈"
   ]
  },
  {
   "cell_type": "code",
   "execution_count": 102,
   "id": "0758a831",
   "metadata": {},
   "outputs": [],
   "source": [
    "X_train['출신대학별 근무경력mean*근무경력']=X_train['출신대학별 근무경력mean']*X_train['근무경력']\n",
    "X_test['출신대학별 근무경력mean*근무경력']=X_test['출신대학별 근무경력mean']*X_test['근무경력']\n",
    "\n",
    "X_train['출신대학별 근무경력mean+근무경력']=X_train['출신대학별 근무경력mean']+X_train['근무경력']\n",
    "X_test['출신대학별 근무경력mean+근무경력']=X_test['출신대학별 근무경력mean']+X_test['근무경력']\n",
    "\n",
    "X_train['출신대학별 근무경력mean-근무경력']=X_train['출신대학별 근무경력mean']-X_train['근무경력']\n",
    "X_test['출신대학별 근무경력mean-근무경력']=X_test['출신대학별 근무경력mean']-X_test['근무경력']"
   ]
  },
  {
   "cell_type": "markdown",
   "id": "85add183",
   "metadata": {},
   "source": [
    "## 49) 오타만 있는 피처 새로 생성"
   ]
  },
  {
   "cell_type": "code",
   "execution_count": 103,
   "id": "d35338f8",
   "metadata": {},
   "outputs": [],
   "source": [
    "ota_major = ['1', '졸업','전공','토&#47791공학', 'e-businees학', '산', '영','멀티미디어학부(인터넷응요)','InternationalSummerProgram',\n",
    "      '어학연수','ㅇ','ㅇㅇ', '조리외식졍영','사','철철','토옥','철','새왈과학부','외식사업','영','문화컨테츠',\n",
    "      '사체','eh', '전공', 'dddddd', '1', '3.03', 'ghj','주거솬경학','회힉공학','Theatre','경역학','체욱학','문화제보존학','건충공학'\n",
    "     ,'기게공학','&#49887;품공학','law','수원대학교3학년편입후졸업','ㅁㅇㄻㅈㄷㄹ','physics','없음','MIS','관공통역','수원대학교',\n",
    "     'SocialHumanMovementandperformance','관좡학','library&info.science','환격공학','CommunicationConsulting','핼정학','마이컴',\n",
    "     '웨이트트레이닝','이공계열중퇴','화확공학']\n",
    "\n",
    "bad_boy = []\n",
    "for i in X_train['대학전공']:\n",
    "    if i in ota_major:\n",
    "        bad_boy.append(0)\n",
    "    else:\n",
    "        bad_boy.append(1)\n",
    "\n",
    "X_train['bad_boy'] = bad_boy      \n",
    "\n",
    "bad_boy2 = []\n",
    "for i in X_test['대학전공']:\n",
    "    if i in ota_major:\n",
    "        bad_boy2.append(0)\n",
    "    else:\n",
    "        bad_boy2.append(1)\n",
    "        \n",
    "X_test['bad_boy'] = bad_boy2"
   ]
  },
  {
   "cell_type": "code",
   "execution_count": 104,
   "id": "2583e80c",
   "metadata": {},
   "outputs": [],
   "source": [
    "ota_tag = ['시원하게따사롭게','7277','영업,영없관리','없음','소리없이끈기있는...','생산관리분야에관한경력은없지만기회가있으면근무하고싶습니다',\n",
    "        '8483','2172','aaaa','패기.열정이있는젊은이!나를선택해주십시요!','ㅇㅇ','12ㅂㅈ', 'ㅁㅁ', 'ㄷ','회사의발전이곧나의발전이라생각하며열심히일하겠습니다.',\n",
    "        '여러모임에서의회장을역임한경험이큰발전의계기가될것입니다.','LGDisplay신공장기획및국내영업경력이력서입니다','자금조달,운용,집행및총무,인사업무경력자입니다.',\n",
    "         '능력있는전자구매자입니다.','열심히노력하는RF엔지니어입니다','서인호이력서입니다','준비된자세한상민입니다','이제3년차에접어든재무요원입니다...','난감동적인사람이다',\n",
    "         '포기는김장철에나쓰는말이다.','불가능그것은도전이라는이름앞에무너지는것이다.','TOEIC940,무역전공,신입,해외영업을하고싶습니다.','무','.','p','웹','일','1','법','C','??',\n",
    "        '금웅','금용','급여','성찰','성실','조선','중국','지원','희망','현지','429','멋쟁이','새출발','신동영','심응재','써비스','윤재임','jw134','alsl1'\n",
    "        '조주현','준비중','최영연','최희주','1052','1201','1878','7770','test','pc가능','박미선','보상과','중국통','변화무쌍','트레이너','11111','준비된비서',\n",
    "         '#NAME?','kj0121','cccccc','gun3733','70013867','bong9411','농산물Buyer','영업밖에모르는놈','21세기새로운도전','능력있는영업지원자','무엇이든할수있어요',\n",
    "        '소리없이끈기있는..','회계담당자...경리','회계의모든것은나에게로','사무,총부,인사....','회계,세무분야성실한인재',',영어,일본어,번역,통역','1금융권에서10년이상근무',\n",
    "         '성실하고능력있는웹디자이너','★언제나처음과같은마음으로★','김세미의해외영업직지원이력서','해외영업분야인재를찾고계십니까',\"반도체,공정eng'r,Engineer,진공\",'최선을다한나',\n",
    "         '제가필요로하는곳.','일러스트,,#53245;,포토,#49406;,드림위버,기획력',',','0','?','s','ㅇ','영','!!','6σ','11','임대호',',,,','207','310','간다잉','금융外','이진혁',\n",
    "         '3240','4831','9336','ho30','비전21','나의이력서','bar,까페','내가해결하라','최영철이력서','yesu153','뛰는영업관리자','leejs718','후회없는삶을살자','강력한서비스마인드','#49406;매니저',\n",
    "         ]\n",
    "\n",
    "\n",
    "bad_girl = []\n",
    "for i in X_train['직무태그']:\n",
    "    if i in ota_tag:\n",
    "        bad_girl.append(0)\n",
    "    else:\n",
    "        bad_girl.append(1)\n",
    "\n",
    "X_train['bad_girl'] = bad_girl      \n",
    "\n",
    "bad_girl2 = []\n",
    "for i in X_test['직무태그']:\n",
    "    if i in ota_tag:\n",
    "        bad_girl2.append(0)\n",
    "    else:\n",
    "        bad_girl2.append(1)\n",
    "        \n",
    "X_test['bad_girl'] = bad_girl2  "
   ]
  },
  {
   "cell_type": "markdown",
   "id": "b8f06f45",
   "metadata": {},
   "source": [
    "# 데이터 내보내기"
   ]
  },
  {
   "cell_type": "code",
   "execution_count": 105,
   "id": "14df71fc",
   "metadata": {},
   "outputs": [],
   "source": [
    "X_train.to_csv('X_train_피처추가1124지협지0357.csv',encoding='cp949', index=False)"
   ]
  },
  {
   "cell_type": "code",
   "execution_count": 106,
   "id": "0fc7d330",
   "metadata": {},
   "outputs": [],
   "source": [
    "X_test.to_csv('X_test_피처추가1124지협지0357.csv',encoding='cp949', index=False)"
   ]
  }
 ],
 "metadata": {
  "kernelspec": {
   "display_name": "Python 3",
   "language": "python",
   "name": "python3"
  },
  "language_info": {
   "codemirror_mode": {
    "name": "ipython",
    "version": 3
   },
   "file_extension": ".py",
   "mimetype": "text/x-python",
   "name": "python",
   "nbconvert_exporter": "python",
   "pygments_lexer": "ipython3",
   "version": "3.8.5"
  }
 },
 "nbformat": 4,
 "nbformat_minor": 5
}
