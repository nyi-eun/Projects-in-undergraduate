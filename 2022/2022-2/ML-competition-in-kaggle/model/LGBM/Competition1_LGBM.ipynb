{
 "cells": [
  {
   "cell_type": "code",
   "execution_count": 119,
   "id": "c4052e3d",
   "metadata": {
    "scrolled": true
   },
   "outputs": [
    {
     "name": "stdout",
     "output_type": "stream",
     "text": [
      "Requirement already satisfied: pandas==1.4.2 in c:\\users\\kim ji eun\\anaconda3\\lib\\site-packages (1.4.2)\n",
      "Requirement already satisfied: python-dateutil>=2.8.1 in c:\\users\\kim ji eun\\anaconda3\\lib\\site-packages (from pandas==1.4.2) (2.8.1)\n",
      "Requirement already satisfied: numpy>=1.18.5 in c:\\users\\kim ji eun\\anaconda3\\lib\\site-packages (from pandas==1.4.2) (1.23.3)\n",
      "Requirement already satisfied: pytz>=2020.1 in c:\\users\\kim ji eun\\anaconda3\\lib\\site-packages (from pandas==1.4.2) (2020.1)\n",
      "Requirement already satisfied: six>=1.5 in c:\\users\\kim ji eun\\anaconda3\\lib\\site-packages (from python-dateutil>=2.8.1->pandas==1.4.2) (1.15.0)\n"
     ]
    },
    {
     "name": "stderr",
     "output_type": "stream",
     "text": [
      "WARNING: There was an error checking the latest version of pip.\n"
     ]
    }
   ],
   "source": [
    "!pip install pandas==1.4.2"
   ]
  },
  {
   "cell_type": "code",
   "execution_count": 46,
   "id": "9a70da52",
   "metadata": {},
   "outputs": [],
   "source": [
    "LGBM_VERSION = 2.0   # submission 화일명에 사용\n",
    "NFOLDS = 15\n",
    "SEED = 0\n",
    "TIMEOUT = 180"
   ]
  },
  {
   "cell_type": "code",
   "execution_count": 133,
   "id": "6a940f21",
   "metadata": {},
   "outputs": [],
   "source": [
    "%matplotlib inline\n",
    "import warnings\n",
    "warnings.filterwarnings(\"ignore\")\n",
    "\n",
    "import pandas as pd\n",
    "import numpy as np\n",
    "import matplotlib.pyplot as plt\n",
    "import seaborn as sns\n",
    "from sklearn.pipeline import Pipeline\n",
    "from sklearn.compose import ColumnTransformer\n",
    "from sklearn.preprocessing import FunctionTransformer\n",
    "from sklearn.base import BaseEstimator, TransformerMixin\n",
    "from sklearn.impute import SimpleImputer\n",
    "from sklearn.preprocessing import PowerTransformer \n",
    "from sklearn.preprocessing import OrdinalEncoder\n",
    "from sklearn.decomposition import PCA\n",
    "from sklearn.feature_selection import SelectPercentile\n",
    "from sklearn.model_selection import train_test_split, cross_val_score, cross_validate, ShuffleSplit\n",
    "from sklearn.metrics import mean_squared_error\n",
    "from sklearn import set_config\n",
    "from sklearn.feature_extraction.text import CountVectorizer\n",
    "from sklearn.compose import TransformedTargetRegressor\n",
    "from sklearn.cluster import KMeans\n",
    "from lightgbm import LGBMRegressor\n",
    "import lightgbm as lgb\n",
    "from category_encoders import CatBoostEncoder\n",
    "import optuna\n",
    "from optuna.distributions import CategoricalDistribution, IntDistribution, FloatDistribution\n",
    "from optuna.integration import OptunaSearchCV\n",
    "from optuna.integration.lightgbm import LightGBMTunerCV\n",
    "from scipy.sparse import csr_matrix\n",
    "import re"
   ]
  },
  {
   "cell_type": "code",
   "execution_count": 134,
   "id": "18f5c3ab",
   "metadata": {},
   "outputs": [],
   "source": [
    "X_train = pd.read_csv('X_train_피처추가1124지협지0357.csv', encoding='cp949')#.drop(columns='ID')\n",
    "y_train = pd.read_csv('y_train.csv', encoding='cp949').Salary\n",
    "\n",
    "X_test = pd.read_csv('X_test_피처추가1124지협지0357.csv', encoding='cp949')\n",
    "\n",
    "X_test_1 = pd.read_csv('X_test.csv', encoding='cp949')\n",
    "test_id = X_test_1.ID"
   ]
  },
  {
   "cell_type": "code",
   "execution_count": 135,
   "id": "67a926aa",
   "metadata": {},
   "outputs": [],
   "source": [
    "for df in [X_train, X_test]:\n",
    "    numeric_features = df.dtypes[df.dtypes != \"object\"].index.tolist()\n",
    "\n",
    "    categorical_features = df.dtypes[df.dtypes == \"object\"].index.tolist()\n",
    "\n",
    "\n",
    "binary_features = ['직종','세부직종','근무지역']\n",
    "pca_features = ['직무태그']\n",
    "categorical_features = [x for x in categorical_features if x not in binary_features]\n",
    "categorical_features = [x for x in categorical_features if x not in pca_features]\n",
    "    \n",
    "\n",
    "X_train = X_train[numeric_features+categorical_features+binary_features+pca_features]  # 순서 주의!!!\n",
    "X_test = X_test[numeric_features+categorical_features+binary_features+pca_features]"
   ]
  },
  {
   "cell_type": "code",
   "execution_count": 136,
   "id": "bb067b50",
   "metadata": {},
   "outputs": [
    {
     "data": {
      "text/html": [
       "<style>#sk-b21b883d-79e3-4f55-ab10-a990a44c7b0c {color: black;background-color: white;}#sk-b21b883d-79e3-4f55-ab10-a990a44c7b0c pre{padding: 0;}#sk-b21b883d-79e3-4f55-ab10-a990a44c7b0c div.sk-toggleable {background-color: white;}#sk-b21b883d-79e3-4f55-ab10-a990a44c7b0c label.sk-toggleable__label {cursor: pointer;display: block;width: 100%;margin-bottom: 0;padding: 0.3em;box-sizing: border-box;text-align: center;}#sk-b21b883d-79e3-4f55-ab10-a990a44c7b0c div.sk-toggleable__content {max-height: 0;max-width: 0;overflow: hidden;text-align: left;background-color: #f0f8ff;}#sk-b21b883d-79e3-4f55-ab10-a990a44c7b0c div.sk-toggleable__content pre {margin: 0.2em;color: black;border-radius: 0.25em;background-color: #f0f8ff;}#sk-b21b883d-79e3-4f55-ab10-a990a44c7b0c input.sk-toggleable__control:checked~div.sk-toggleable__content {max-height: 200px;max-width: 100%;overflow: auto;}#sk-b21b883d-79e3-4f55-ab10-a990a44c7b0c div.sk-estimator input.sk-toggleable__control:checked~label.sk-toggleable__label {background-color: #d4ebff;}#sk-b21b883d-79e3-4f55-ab10-a990a44c7b0c div.sk-label input.sk-toggleable__control:checked~label.sk-toggleable__label {background-color: #d4ebff;}#sk-b21b883d-79e3-4f55-ab10-a990a44c7b0c input.sk-hidden--visually {border: 0;clip: rect(1px 1px 1px 1px);clip: rect(1px, 1px, 1px, 1px);height: 1px;margin: -1px;overflow: hidden;padding: 0;position: absolute;width: 1px;}#sk-b21b883d-79e3-4f55-ab10-a990a44c7b0c div.sk-estimator {font-family: monospace;background-color: #f0f8ff;border: 1px dotted black;border-radius: 0.25em;box-sizing: border-box;margin-bottom: 0.5em;}#sk-b21b883d-79e3-4f55-ab10-a990a44c7b0c div.sk-estimator:hover {background-color: #d4ebff;}#sk-b21b883d-79e3-4f55-ab10-a990a44c7b0c div.sk-parallel-item::after {content: \"\";width: 100%;border-bottom: 1px solid gray;flex-grow: 1;}#sk-b21b883d-79e3-4f55-ab10-a990a44c7b0c div.sk-label:hover label.sk-toggleable__label {background-color: #d4ebff;}#sk-b21b883d-79e3-4f55-ab10-a990a44c7b0c div.sk-serial::before {content: \"\";position: absolute;border-left: 1px solid gray;box-sizing: border-box;top: 2em;bottom: 0;left: 50%;}#sk-b21b883d-79e3-4f55-ab10-a990a44c7b0c div.sk-serial {display: flex;flex-direction: column;align-items: center;background-color: white;padding-right: 0.2em;padding-left: 0.2em;}#sk-b21b883d-79e3-4f55-ab10-a990a44c7b0c div.sk-item {z-index: 1;}#sk-b21b883d-79e3-4f55-ab10-a990a44c7b0c div.sk-parallel {display: flex;align-items: stretch;justify-content: center;background-color: white;}#sk-b21b883d-79e3-4f55-ab10-a990a44c7b0c div.sk-parallel::before {content: \"\";position: absolute;border-left: 1px solid gray;box-sizing: border-box;top: 2em;bottom: 0;left: 50%;}#sk-b21b883d-79e3-4f55-ab10-a990a44c7b0c div.sk-parallel-item {display: flex;flex-direction: column;position: relative;background-color: white;}#sk-b21b883d-79e3-4f55-ab10-a990a44c7b0c div.sk-parallel-item:first-child::after {align-self: flex-end;width: 50%;}#sk-b21b883d-79e3-4f55-ab10-a990a44c7b0c div.sk-parallel-item:last-child::after {align-self: flex-start;width: 50%;}#sk-b21b883d-79e3-4f55-ab10-a990a44c7b0c div.sk-parallel-item:only-child::after {width: 0;}#sk-b21b883d-79e3-4f55-ab10-a990a44c7b0c div.sk-dashed-wrapped {border: 1px dashed gray;margin: 0 0.4em 0.5em 0.4em;box-sizing: border-box;padding-bottom: 0.4em;background-color: white;position: relative;}#sk-b21b883d-79e3-4f55-ab10-a990a44c7b0c div.sk-label label {font-family: monospace;font-weight: bold;background-color: white;display: inline-block;line-height: 1.2em;}#sk-b21b883d-79e3-4f55-ab10-a990a44c7b0c div.sk-label-container {position: relative;z-index: 2;text-align: center;}#sk-b21b883d-79e3-4f55-ab10-a990a44c7b0c div.sk-container {display: inline-block;position: relative;}</style><div id=\"sk-b21b883d-79e3-4f55-ab10-a990a44c7b0c\" class\"sk-top-container\"><div class=\"sk-container\"><div class=\"sk-item sk-dashed-wrapped\"><div class=\"sk-label-container\"><div class=\"sk-label sk-toggleable\"><input class=\"sk-toggleable__control sk-hidden--visually\" id=\"a2df5ea0-3ebf-4bb4-b52a-949f22653397\" type=\"checkbox\" ><label class=\"sk-toggleable__label\" for=\"a2df5ea0-3ebf-4bb4-b52a-949f22653397\">Pipeline</label><div class=\"sk-toggleable__content\"><pre>Pipeline(steps=[('preprocessor',\n",
       "                 Pipeline(steps=[('column',\n",
       "                                  ColumnTransformer(transformers=[('num',\n",
       "                                                                   Pipeline(steps=[('imputer',\n",
       "                                                                                    SimpleImputer()),\n",
       "                                                                                   ('outlier',\n",
       "                                                                                    FunctionTransformer(func=<function remove_outlier at 0x0000018BB301A430>,\n",
       "                                                                                                        kw_args={'q': 0.05})),\n",
       "                                                                                   ('scaler',\n",
       "                                                                                    PowerTransformer())]),\n",
       "                                                                   ['근무경력',\n",
       "                                                                    '대학성적',\n",
       "                                                                    '직무태그글자수',\n",
       "                                                                    '직무태그글자수범위별',\n",
       "                                                                    '인서울여부',\n",
       "                                                                    '직무태그_직무수',\n",
       "                                                                    '직종수',\n",
       "                                                                    '세부직종수',\n",
       "                                                                    '근무경...\n",
       "                                                                                    FunctionTransformer(func=<function <lambda> at 0x0000018BB301A4C0>)),\n",
       "                                                                                   ('corpus',\n",
       "                                                                                    FunctionTransformer(func=<function <lambda> at 0x0000018BB301A040>)),\n",
       "                                                                                   ('BoW',\n",
       "                                                                                    CountVectorizer()),\n",
       "                                                                                   ('dense',\n",
       "                                                                                    FunctionTransformer(accept_sparse=True,\n",
       "                                                                                                        func=<function <lambda> at 0x0000018BA9CE3F70>)),\n",
       "                                                                                   ('pca',\n",
       "                                                                                    PCA(n_components=200))]),\n",
       "                                                                   '직무태그')])),\n",
       "                                 ('selector',\n",
       "                                  SelectPercentile(percentile=80))])),\n",
       "                ('classifier', LGBMRegressor(random_state=0))])</pre></div></div></div><div class=\"sk-serial\"><div class=\"sk-item\"><div class=\"sk-label-container\"><div class=\"sk-label sk-toggleable\"><input class=\"sk-toggleable__control sk-hidden--visually\" id=\"14e22df4-2d18-4d70-b9e2-5257bce55e06\" type=\"checkbox\" ><label class=\"sk-toggleable__label\" for=\"14e22df4-2d18-4d70-b9e2-5257bce55e06\">preprocessor: Pipeline</label><div class=\"sk-toggleable__content\"><pre>Pipeline(steps=[('column',\n",
       "                 ColumnTransformer(transformers=[('num',\n",
       "                                                  Pipeline(steps=[('imputer',\n",
       "                                                                   SimpleImputer()),\n",
       "                                                                  ('outlier',\n",
       "                                                                   FunctionTransformer(func=<function remove_outlier at 0x0000018BB301A430>,\n",
       "                                                                                       kw_args={'q': 0.05})),\n",
       "                                                                  ('scaler',\n",
       "                                                                   PowerTransformer())]),\n",
       "                                                  ['근무경력', '대학성적', '직무태그글자수',\n",
       "                                                   '직무태그글자수범위별', '인서울여부',\n",
       "                                                   '직무태그_직무수', '직종수', '세부직종수',\n",
       "                                                   '근무경력_x_대학성적', '출신대학수치',\n",
       "                                                   '출신대학*대학성적', '...\n",
       "                                                                   FunctionTransformer(func=<function <lambda> at 0x0000018BB301A4C0>)),\n",
       "                                                                  ('corpus',\n",
       "                                                                   FunctionTransformer(func=<function <lambda> at 0x0000018BB301A040>)),\n",
       "                                                                  ('BoW',\n",
       "                                                                   CountVectorizer()),\n",
       "                                                                  ('dense',\n",
       "                                                                   FunctionTransformer(accept_sparse=True,\n",
       "                                                                                       func=<function <lambda> at 0x0000018BA9CE3F70>)),\n",
       "                                                                  ('pca',\n",
       "                                                                   PCA(n_components=200))]),\n",
       "                                                  '직무태그')])),\n",
       "                ('selector', SelectPercentile(percentile=80))])</pre></div></div></div><div class=\"sk-serial\"><div class=\"sk-item sk-dashed-wrapped\"><div class=\"sk-label-container\"><div class=\"sk-label sk-toggleable\"><input class=\"sk-toggleable__control sk-hidden--visually\" id=\"a444fb1b-0e4d-4b74-b0c0-e278b9e596b4\" type=\"checkbox\" ><label class=\"sk-toggleable__label\" for=\"a444fb1b-0e4d-4b74-b0c0-e278b9e596b4\">column: ColumnTransformer</label><div class=\"sk-toggleable__content\"><pre>ColumnTransformer(transformers=[('num',\n",
       "                                 Pipeline(steps=[('imputer', SimpleImputer()),\n",
       "                                                 ('outlier',\n",
       "                                                  FunctionTransformer(func=<function remove_outlier at 0x0000018BB301A430>,\n",
       "                                                                      kw_args={'q': 0.05})),\n",
       "                                                 ('scaler',\n",
       "                                                  PowerTransformer())]),\n",
       "                                 ['근무경력', '대학성적', '직무태그글자수', '직무태그글자수범위별',\n",
       "                                  '인서울여부', '직무태그_직무수', '직종수', '세부직종수',\n",
       "                                  '근무경력_x_대학성적', '출신대학수치', '출신대학*대학성적',\n",
       "                                  '세부직종별_필수직무유무', '직무태그_직무수 + 근무...\n",
       "                                                 ('BoW', CountVectorizer())]),\n",
       "                                 '근무지역'),\n",
       "                                ('pca1',\n",
       "                                 Pipeline(steps=[('impuer',\n",
       "                                                  FunctionTransformer(func=<function <lambda> at 0x0000018BB301A4C0>)),\n",
       "                                                 ('corpus',\n",
       "                                                  FunctionTransformer(func=<function <lambda> at 0x0000018BB301A040>)),\n",
       "                                                 ('BoW', CountVectorizer()),\n",
       "                                                 ('dense',\n",
       "                                                  FunctionTransformer(accept_sparse=True,\n",
       "                                                                      func=<function <lambda> at 0x0000018BA9CE3F70>)),\n",
       "                                                 ('pca',\n",
       "                                                  PCA(n_components=200))]),\n",
       "                                 '직무태그')])</pre></div></div></div><div class=\"sk-parallel\"><div class=\"sk-parallel-item\"><div class=\"sk-item\"><div class=\"sk-label-container\"><div class=\"sk-label sk-toggleable\"><input class=\"sk-toggleable__control sk-hidden--visually\" id=\"a0f8a9c0-7b07-45cc-bcf0-5157e957d77f\" type=\"checkbox\" ><label class=\"sk-toggleable__label\" for=\"a0f8a9c0-7b07-45cc-bcf0-5157e957d77f\">num</label><div class=\"sk-toggleable__content\"><pre>['근무경력', '대학성적', '직무태그글자수', '직무태그글자수범위별', '인서울여부', '직무태그_직무수', '직종수', '세부직종수', '근무경력_x_대학성적', '출신대학수치', '출신대학*대학성적', '세부직종별_필수직무유무', '직무태그_직무수 + 근무경력_x', '세부직종별 근무경력mean', '세부직종별 근무경력median', '세부직종별 근무경력var', '세부직종별 근무경력std', '세부직종별 근무경력sum', '세부직종별 근무경력min', '세부직종별 근무경력max', '세부직종별 직무태그_직무수mean', '세부직종별 직무태그_직무수median', '세부직종별 직무태그_직무수var', '세부직종별 직무태그_직무수std', '세부직종별 직무태그_직무수sum', '세부직종별 직무태그_직무수min', '세부직종별 직무태그_직무수max', '출신대학별 근무경력mean', '출신대학별 근무경력sum', '출신대학별 근무경력median', '출신대학별 근무경력var', '출신대학별 근무경력std', '출신대학별 근무경력min', '출신대학별 근무경력max', '출신대학별 대학성적mean', '출신대학별 대학성적median', '출신대학별 대학성적var', '출신대학별 대학성적std', '출신대학별 대학성적sum', '출신대학별 대학성적min', '출신대학별 대학성적max', '근무형태별 근무경력mean', '근무형태별 근무경력median', '근무형태별 근무경력var', '근무형태별 근무경력std', '근무형태별 근무경력sum', '근무형태별 근무경력min', '근무형태별 근무경력max', '근무형태별 대학성적mean', '근무형태별 대학성적median', '근무형태별 대학성적var', '근무형태별 대학성적std', '근무형태별 대학성적sum', '근무형태별 대학성적min', '근무형태별 대학성적max', '근무형태별 출신대학수치mean', '근무형태별 출신대학수치median', '근무형태별 출신대학수치sum', '근무형태별 출신대학수치var', '근무형태별 출신대학수치std', '근무형태별 출신대학수치min', '근무형태별 출신대학수치max', '대학전공별 근무경력mean', '대학전공별 근무경력median', '대학전공별 근무경력var', '대학전공별 근무경력std', '대학전공별 근무경력sum', '대학전공별 근무경력min', '대학전공별 근무경력max', '대학전공별 대학성적mean', '대학전공별 대학성적median', '대학전공별 대학성적var', '대학전공별 대학성적std', '대학전공별 대학성적sum', '대학전공별 대학성적min', '대학전공별 대학성적max', '대학전공별 출신대학수치mean', '대학전공별 출신대학수치median', '대학전공별 출신대학수치sum', '대학전공별 출신대학수치var', '대학전공별 출신대학수치std', '대학전공별 출신대학수치min', '대학전공별 출신대학수치max', '직무태그별 근무경력mean', '직무태그별 근무경력median', '직무태그별 근무경력var', '직무태그별 근무경력std', '직무태그별 근무경력sum', '직무태그별 근무경력min', '직무태그별 근무경력max', '직무태그별 출신대학수치mean', '직무태그별 출신대학수치median', '직무태그별 출신대학수치sum', '직무태그별 출신대학수치var', '직무태그별 출신대학수치std', '직무태그별 출신대학수치min', '직무태그별 출신대학수치max', '직종별대학성적평균', '직종별대학성적최빈값', '직종별대학성적합', '직종별대학성적표준편차', '직종별대학성적최소값', '직종별대학성적최대값', '직종별근무경력평균', '직종별근무경력최빈값', '직종별근무경력합', '직종별근무경력표준편차', '직종별근무경력최소값', '세부직종별대학성적평균', '세부직종별대학성적최빈값', '세부직종별대학성적합', '세부직종별대학성적표준편차', '세부직종별대학성적최소값', '세부직종별대학성적최대값', '세부직종별근무경력평균', '세부직종별근무경력최빈값', '세부직종별근무경력합', '세부직종별근무경력표준편차', '세부직종별근무경력최소값', '세부직종별근무경력최대값', '어학시험별대학성적평균', '어학시험별대학성적최빈값', '어학시험별대학성적합', '어학시험별대학성적표준편차', '어학시험별대학성적최소값', '어학시험별대학성적최대값', '어학시험별근무경력평균', '어학시험별근무경력최빈값', '어학시험별근무경력합', '어학시험별근무경력표준편차', '어학시험별근무경력최소값', '어학시험별근무경력최대값', '근무경력^2', '직무태그글자수범위별^2', '직무태그_직무수^2', '출신대학별 근무경력sum^2', '베테랑정규직', '근무경력+직무태그글자수범위별', '근무경력+직무태그_직무수', '근무경력+직종수', '근무경력+세부직종수', '근무경력+직종별근무경력합', '근무경력*직무태그글자수범위별', '근무경력*직무태그_직무수', '근무경력*직종수', '근무경력*세부직종수', '직무태그_직무수*직무태그글자수범위별', '직종수*직무태그글자수범위별', '세부직종수*직무태그글자수범위별', '근무지역별 근무경력mean', '근무지역별 근무경력median', '근무지역별 근무경력sum', '근무지역별 근무경력var', '근무지역별 근무경력std', '근무지역별 근무경력min', '근무지역별 근무경력max', '근무지역별 대학성적mean', '근무지역별 대학성적median', '근무지역별 대학성적sum', '근무지역별 대학성적var', '근무지역별 대학성적std', '근무지역별 대학성적min', '근무지역별 대학성적max', '직무태그별 대학성적mean', '직무태그별 대학성적median', '직무태그별 대학성적sum', '직무태그별 대학성적var', '직무태그별 대학성적std', '직무태그별 대학성적min', '직무태그별 대학성적max', '근무지역_경험횟수', '근무지역_수도권_서울', '근무지역_수도권_경기', '근무지역_수도권_인천', '근무지역_강원', '근무지역_호남', '근무지역_호서', '근무지역_영남', '근무지역_제주', '근무지역_해외_유라시아', '근무지역_해외_아메리카', '근무지역_해외_기타', '근무지역_기타', '수도권대학교', '연고지', '명문대', '근무지역_수도권_서울_경력평균', '근무지역_수도권_경기_경력평균', '근무지역_수도권_인천_경력평균', '근무지역_강원_경력평균', '근무지역_호남_경력평균', '근무지역_호서_경력평균', '근무지역_영남_경력평균', '근무지역_제주_경력평균', '근무지역_해외_유라시아_경력평균', '근무지역_해외_아메리카_경력평균', '근무지역_해외_기타_경력평균', '근무지역_기타_경력평균', '근무지역_개별_경력평균', '근무지역1별 대학성적mean', '근무지역1별 대학성적median', '근무지역1별 대학성적sum', '근무지역1별 대학성적var', '근무지역1별 대학성적std', '근무지역1별 대학성적min', '근무지역1별 대학성적max', '근무지역1별 근무경력mean', '근무지역1별 근무경력sum', '근무지역1별 근무경력median', '근무지역1별 근무경력var', '근무지역1별 근무경력std', '근무지역1별 근무경력min', '근무지역1별 근무경력max', '숙련도별 대학성적mean', '숙련도별 대학성적median', '숙련도별 대학성적sum', '숙련도별 대학성적var', '숙련도별 대학성적std', '숙련도별 대학성적min', '숙련도별 대학성적max', '숙련도별 근무경력mean', '숙련도별 근무경력sum', '숙련도별 근무경력median', '숙련도별 근무경력var', '숙련도별 근무경력std', '숙련도별 근무경력min', '숙련도별 근무경력max', '근무경력_세분화별 대학성적mean', '근무경력_세분화별 대학성적median', '근무경력_세분화별 대학성적sum', '근무경력_세분화별 대학성적var', '근무경력_세분화별 대학성적std', '근무경력_세분화별 대학성적min', '근무경력_세분화별 대학성적max', '근무경력_세분화별 근무경력mean', '근무경력_세분화별 근무경력sum', '근무경력_세분화별 근무경력median', '근무경력_세분화별 근무경력var', '근무경력_세분화별 근무경력std', '근무경력_세분화별 근무경력min', '근무경력_세분화별 근무경력max', '근무경력_세분화별 출신대학수치mean', '근무경력_세분화별 출신대학수치median', '근무경력_세분화별 출신대학수치sum', '근무경력_세분화별 출신대학수치var', '근무경력_세분화별 출신대학수치std', '근무경력_세분화별 출신대학수치min', '근무경력_세분화별 출신대학수치max', '출신대학별 출신대학수치mean', '출신대학별 출신대학수치median', '출신대학별 출신대학수치sum', '출신대학별 출신대학수치var', '출신대학별 출신대학수치std', '출신대학별 출신대학수치min', '출신대학별 출신대학수치max', '근무지역별 출신대학수치mean', '근무지역별 출신대학수치median', '근무지역별 출신대학수치sum', '근무지역별 출신대학수치var', '근무지역별 출신대학수치std', '근무지역별 출신대학수치min', '근무지역별 출신대학수치max', '근무지역1별 출신대학수치mean', '근무지역1별 출신대학수치median', '근무지역1별 출신대학수치sum', '근무지역1별 출신대학수치var', '근무지역1별 출신대학수치std', '근무지역1별 출신대학수치min', '근무지역1별 출신대학수치max', '숙련도별 출신대학수치mean', '숙련도별 출신대학수치median', '숙련도별 출신대학수치sum', '숙련도별 출신대학수치var', '숙련도별 출신대학수치std', '숙련도별 출신대학수치min', '숙련도별 출신대학수치max', '출신대학별 근무경력mean*근무경력', '출신대학별 근무경력mean+근무경력', '출신대학별 근무경력mean-근무경력']</pre></div></div></div><div class=\"sk-serial\"><div class=\"sk-item\"><div class=\"sk-serial\"><div class=\"sk-item\"><div class=\"sk-estimator sk-toggleable\"><input class=\"sk-toggleable__control sk-hidden--visually\" id=\"30c276a9-426e-457e-afb0-50ebd3eff93c\" type=\"checkbox\" ><label class=\"sk-toggleable__label\" for=\"30c276a9-426e-457e-afb0-50ebd3eff93c\">SimpleImputer</label><div class=\"sk-toggleable__content\"><pre>SimpleImputer()</pre></div></div></div><div class=\"sk-item\"><div class=\"sk-estimator sk-toggleable\"><input class=\"sk-toggleable__control sk-hidden--visually\" id=\"cf9cd8e4-a85a-461c-9331-74e806da5828\" type=\"checkbox\" ><label class=\"sk-toggleable__label\" for=\"cf9cd8e4-a85a-461c-9331-74e806da5828\">FunctionTransformer</label><div class=\"sk-toggleable__content\"><pre>FunctionTransformer(func=<function remove_outlier at 0x0000018BB301A430>,\n",
       "                    kw_args={'q': 0.05})</pre></div></div></div><div class=\"sk-item\"><div class=\"sk-estimator sk-toggleable\"><input class=\"sk-toggleable__control sk-hidden--visually\" id=\"2686a051-bec8-472d-8d3c-d4ba404840bc\" type=\"checkbox\" ><label class=\"sk-toggleable__label\" for=\"2686a051-bec8-472d-8d3c-d4ba404840bc\">PowerTransformer</label><div class=\"sk-toggleable__content\"><pre>PowerTransformer()</pre></div></div></div></div></div></div></div></div><div class=\"sk-parallel-item\"><div class=\"sk-item\"><div class=\"sk-label-container\"><div class=\"sk-label sk-toggleable\"><input class=\"sk-toggleable__control sk-hidden--visually\" id=\"cf0e380b-6f5f-4f39-add6-bb28bf305962\" type=\"checkbox\" ><label class=\"sk-toggleable__label\" for=\"cf0e380b-6f5f-4f39-add6-bb28bf305962\">cat</label><div class=\"sk-toggleable__content\"><pre>['근무형태', '출신대학', '대학전공', '어학시험', '자격증', '근무경력_원본', '해외취업여부', '근무형태_kaka', '근무지역1', '근무지역2', '근무지역3', '근무지역_소분류', '근무지역_대분류', '경력유무', '숙련도', '대학+전공', '근무형태+직종', '세부직종+출신대학', '세부직종+대학전공', '대학전공+출신대학', '직무태그1', '서울근무', '근무형태_계해정', '근무형태_계정해', '근무형태_정계해', '근무형태_정해계', '근무형태_해정계', '근무형태_해계정', '근무형태_정계(해)', '근무형태_계(해)정', '근무형태_정(해)계', '근무형태_계정(해)', '근무형태_단순화', '근무경력_세분화', '해외근무지역', 'new_근무지역', '대학지역']</pre></div></div></div><div class=\"sk-serial\"><div class=\"sk-item\"><div class=\"sk-serial\"><div class=\"sk-item\"><div class=\"sk-estimator sk-toggleable\"><input class=\"sk-toggleable__control sk-hidden--visually\" id=\"5b7c1a7e-c292-437b-a691-1ac51acb015e\" type=\"checkbox\" ><label class=\"sk-toggleable__label\" for=\"5b7c1a7e-c292-437b-a691-1ac51acb015e\">SimpleImputer</label><div class=\"sk-toggleable__content\"><pre>SimpleImputer(strategy='most_frequent')</pre></div></div></div><div class=\"sk-item\"><div class=\"sk-estimator sk-toggleable\"><input class=\"sk-toggleable__control sk-hidden--visually\" id=\"5f4d7189-2f25-44f1-b1be-0c1fb9374bc2\" type=\"checkbox\" ><label class=\"sk-toggleable__label\" for=\"5f4d7189-2f25-44f1-b1be-0c1fb9374bc2\">OrdinalEncoder</label><div class=\"sk-toggleable__content\"><pre>OrdinalEncoder(dtype=<class 'int'>, handle_unknown='use_encoded_value',\n",
       "               unknown_value=-1)</pre></div></div></div></div></div></div></div></div><div class=\"sk-parallel-item\"><div class=\"sk-item\"><div class=\"sk-label-container\"><div class=\"sk-label sk-toggleable\"><input class=\"sk-toggleable__control sk-hidden--visually\" id=\"0ca56e16-e8a9-4994-8247-1333d79fa5d2\" type=\"checkbox\" ><label class=\"sk-toggleable__label\" for=\"0ca56e16-e8a9-4994-8247-1333d79fa5d2\">bin1</label><div class=\"sk-toggleable__content\"><pre>직종</pre></div></div></div><div class=\"sk-serial\"><div class=\"sk-item\"><div class=\"sk-serial\"><div class=\"sk-item\"><div class=\"sk-estimator sk-toggleable\"><input class=\"sk-toggleable__control sk-hidden--visually\" id=\"18b8a2f7-b4b8-43bc-89b1-d2809120d853\" type=\"checkbox\" ><label class=\"sk-toggleable__label\" for=\"18b8a2f7-b4b8-43bc-89b1-d2809120d853\">FunctionTransformer</label><div class=\"sk-toggleable__content\"><pre>FunctionTransformer(func=<function <lambda> at 0x0000018BB301A550>)</pre></div></div></div><div class=\"sk-item\"><div class=\"sk-estimator sk-toggleable\"><input class=\"sk-toggleable__control sk-hidden--visually\" id=\"da79b1f8-ef57-474e-8744-2214553f1c3f\" type=\"checkbox\" ><label class=\"sk-toggleable__label\" for=\"da79b1f8-ef57-474e-8744-2214553f1c3f\">CountVectorizer</label><div class=\"sk-toggleable__content\"><pre>CountVectorizer()</pre></div></div></div></div></div></div></div></div><div class=\"sk-parallel-item\"><div class=\"sk-item\"><div class=\"sk-label-container\"><div class=\"sk-label sk-toggleable\"><input class=\"sk-toggleable__control sk-hidden--visually\" id=\"284960ca-ef6b-432a-85a0-85613333f777\" type=\"checkbox\" ><label class=\"sk-toggleable__label\" for=\"284960ca-ef6b-432a-85a0-85613333f777\">bin2</label><div class=\"sk-toggleable__content\"><pre>세부직종</pre></div></div></div><div class=\"sk-serial\"><div class=\"sk-item\"><div class=\"sk-serial\"><div class=\"sk-item\"><div class=\"sk-estimator sk-toggleable\"><input class=\"sk-toggleable__control sk-hidden--visually\" id=\"a3bbfbdd-dcb0-4a0d-8029-d35110528dbc\" type=\"checkbox\" ><label class=\"sk-toggleable__label\" for=\"a3bbfbdd-dcb0-4a0d-8029-d35110528dbc\">FunctionTransformer</label><div class=\"sk-toggleable__content\"><pre>FunctionTransformer(func=<function <lambda> at 0x0000018BB301A550>)</pre></div></div></div><div class=\"sk-item\"><div class=\"sk-estimator sk-toggleable\"><input class=\"sk-toggleable__control sk-hidden--visually\" id=\"7515f0c9-a2f2-40a0-a96a-907b3093b94c\" type=\"checkbox\" ><label class=\"sk-toggleable__label\" for=\"7515f0c9-a2f2-40a0-a96a-907b3093b94c\">CountVectorizer</label><div class=\"sk-toggleable__content\"><pre>CountVectorizer()</pre></div></div></div></div></div></div></div></div><div class=\"sk-parallel-item\"><div class=\"sk-item\"><div class=\"sk-label-container\"><div class=\"sk-label sk-toggleable\"><input class=\"sk-toggleable__control sk-hidden--visually\" id=\"34a6dbcd-f303-43e0-bd6b-9ca8412bee60\" type=\"checkbox\" ><label class=\"sk-toggleable__label\" for=\"34a6dbcd-f303-43e0-bd6b-9ca8412bee60\">bin3</label><div class=\"sk-toggleable__content\"><pre>근무지역</pre></div></div></div><div class=\"sk-serial\"><div class=\"sk-item\"><div class=\"sk-serial\"><div class=\"sk-item\"><div class=\"sk-estimator sk-toggleable\"><input class=\"sk-toggleable__control sk-hidden--visually\" id=\"1381ac2a-dd82-46d9-98d9-b81ee5f72247\" type=\"checkbox\" ><label class=\"sk-toggleable__label\" for=\"1381ac2a-dd82-46d9-98d9-b81ee5f72247\">FunctionTransformer</label><div class=\"sk-toggleable__content\"><pre>FunctionTransformer(func=<function <lambda> at 0x0000018BB301A550>)</pre></div></div></div><div class=\"sk-item\"><div class=\"sk-estimator sk-toggleable\"><input class=\"sk-toggleable__control sk-hidden--visually\" id=\"2f7f0a2a-4b48-4954-87f3-5505f8af4970\" type=\"checkbox\" ><label class=\"sk-toggleable__label\" for=\"2f7f0a2a-4b48-4954-87f3-5505f8af4970\">CountVectorizer</label><div class=\"sk-toggleable__content\"><pre>CountVectorizer()</pre></div></div></div></div></div></div></div></div><div class=\"sk-parallel-item\"><div class=\"sk-item\"><div class=\"sk-label-container\"><div class=\"sk-label sk-toggleable\"><input class=\"sk-toggleable__control sk-hidden--visually\" id=\"51e8b656-5ccc-43dc-98c5-5099f05a21fb\" type=\"checkbox\" ><label class=\"sk-toggleable__label\" for=\"51e8b656-5ccc-43dc-98c5-5099f05a21fb\">pca1</label><div class=\"sk-toggleable__content\"><pre>직무태그</pre></div></div></div><div class=\"sk-serial\"><div class=\"sk-item\"><div class=\"sk-serial\"><div class=\"sk-item\"><div class=\"sk-estimator sk-toggleable\"><input class=\"sk-toggleable__control sk-hidden--visually\" id=\"16b8bc90-7350-4f2e-8393-de4f80c5202f\" type=\"checkbox\" ><label class=\"sk-toggleable__label\" for=\"16b8bc90-7350-4f2e-8393-de4f80c5202f\">FunctionTransformer</label><div class=\"sk-toggleable__content\"><pre>FunctionTransformer(func=<function <lambda> at 0x0000018BB301A4C0>)</pre></div></div></div><div class=\"sk-item\"><div class=\"sk-estimator sk-toggleable\"><input class=\"sk-toggleable__control sk-hidden--visually\" id=\"2bbef824-e61b-4b7e-90d3-277432479bd3\" type=\"checkbox\" ><label class=\"sk-toggleable__label\" for=\"2bbef824-e61b-4b7e-90d3-277432479bd3\">FunctionTransformer</label><div class=\"sk-toggleable__content\"><pre>FunctionTransformer(func=<function <lambda> at 0x0000018BB301A040>)</pre></div></div></div><div class=\"sk-item\"><div class=\"sk-estimator sk-toggleable\"><input class=\"sk-toggleable__control sk-hidden--visually\" id=\"041ce118-52a3-4bb7-ab33-c2b360d2fddc\" type=\"checkbox\" ><label class=\"sk-toggleable__label\" for=\"041ce118-52a3-4bb7-ab33-c2b360d2fddc\">CountVectorizer</label><div class=\"sk-toggleable__content\"><pre>CountVectorizer()</pre></div></div></div><div class=\"sk-item\"><div class=\"sk-estimator sk-toggleable\"><input class=\"sk-toggleable__control sk-hidden--visually\" id=\"91b86518-6cc6-4033-9eca-887580219dca\" type=\"checkbox\" ><label class=\"sk-toggleable__label\" for=\"91b86518-6cc6-4033-9eca-887580219dca\">FunctionTransformer</label><div class=\"sk-toggleable__content\"><pre>FunctionTransformer(accept_sparse=True,\n",
       "                    func=<function <lambda> at 0x0000018BA9CE3F70>)</pre></div></div></div><div class=\"sk-item\"><div class=\"sk-estimator sk-toggleable\"><input class=\"sk-toggleable__control sk-hidden--visually\" id=\"97277b0d-0946-468b-9de3-ea30af3da434\" type=\"checkbox\" ><label class=\"sk-toggleable__label\" for=\"97277b0d-0946-468b-9de3-ea30af3da434\">PCA</label><div class=\"sk-toggleable__content\"><pre>PCA(n_components=200)</pre></div></div></div></div></div></div></div></div></div></div><div class=\"sk-item\"><div class=\"sk-estimator sk-toggleable\"><input class=\"sk-toggleable__control sk-hidden--visually\" id=\"69de73b6-a350-4645-bc5c-5506b98923a5\" type=\"checkbox\" ><label class=\"sk-toggleable__label\" for=\"69de73b6-a350-4645-bc5c-5506b98923a5\">SelectPercentile</label><div class=\"sk-toggleable__content\"><pre>SelectPercentile(percentile=80)</pre></div></div></div></div></div><div class=\"sk-item\"><div class=\"sk-estimator sk-toggleable\"><input class=\"sk-toggleable__control sk-hidden--visually\" id=\"a31655d4-9a98-4255-ac06-796586639515\" type=\"checkbox\" ><label class=\"sk-toggleable__label\" for=\"a31655d4-9a98-4255-ac06-796586639515\">LGBMRegressor</label><div class=\"sk-toggleable__content\"><pre>LGBMRegressor(random_state=0)</pre></div></div></div></div></div></div></div>"
      ],
      "text/plain": [
       "Pipeline(steps=[('preprocessor',\n",
       "                 Pipeline(steps=[('column',\n",
       "                                  ColumnTransformer(transformers=[('num',\n",
       "                                                                   Pipeline(steps=[('imputer',\n",
       "                                                                                    SimpleImputer()),\n",
       "                                                                                   ('outlier',\n",
       "                                                                                    FunctionTransformer(func=<function remove_outlier at 0x0000018BB301A430>,\n",
       "                                                                                                        kw_args={'q': 0.05})),\n",
       "                                                                                   ('scaler',\n",
       "                                                                                    PowerTransformer())]),\n",
       "                                                                   ['근무경력',\n",
       "                                                                    '대학성적',\n",
       "                                                                    '직무태그글자수',\n",
       "                                                                    '직무태그글자수범위별',\n",
       "                                                                    '인서울여부',\n",
       "                                                                    '직무태그_직무수',\n",
       "                                                                    '직종수',\n",
       "                                                                    '세부직종수',\n",
       "                                                                    '근무경...\n",
       "                                                                                    FunctionTransformer(func=<function <lambda> at 0x0000018BB301A4C0>)),\n",
       "                                                                                   ('corpus',\n",
       "                                                                                    FunctionTransformer(func=<function <lambda> at 0x0000018BB301A040>)),\n",
       "                                                                                   ('BoW',\n",
       "                                                                                    CountVectorizer()),\n",
       "                                                                                   ('dense',\n",
       "                                                                                    FunctionTransformer(accept_sparse=True,\n",
       "                                                                                                        func=<function <lambda> at 0x0000018BA9CE3F70>)),\n",
       "                                                                                   ('pca',\n",
       "                                                                                    PCA(n_components=200))]),\n",
       "                                                                   '직무태그')])),\n",
       "                                 ('selector',\n",
       "                                  SelectPercentile(percentile=80))])),\n",
       "                ('classifier', LGBMRegressor(random_state=0))])"
      ]
     },
     "execution_count": 136,
     "metadata": {},
     "output_type": "execute_result"
    }
   ],
   "source": [
    "def remove_outlier(X, q=0.05):  \n",
    "    df = pd.DataFrame(X)\n",
    "    return df.apply(lambda x: x.clip(x.quantile(q), x.quantile(1-q)), axis=0).values\n",
    "\n",
    "numeric_transformer = Pipeline(\n",
    "    steps=[\n",
    "        (\"imputer\", SimpleImputer(strategy=\"mean\")),\n",
    "        (\"outlier\", FunctionTransformer(remove_outlier, kw_args={'q':0.05})), \n",
    "        (\"scaler\", PowerTransformer()),\n",
    "    ]\n",
    ")\n",
    "\n",
    "categorical_transformer = Pipeline(\n",
    "    steps=[\n",
    "        (\"imputer\", SimpleImputer(strategy=\"most_frequent\")), \n",
    "        (\"encoder\", OrdinalEncoder(handle_unknown='use_encoded_value', unknown_value=-1, dtype=int)),\n",
    "    ]\n",
    ")\n",
    "    \n",
    "binary_transformer = Pipeline(\n",
    "    steps=[\n",
    "        (\"corpus\", FunctionTransformer(lambda x: x.str.replace('·',',').str.split(',').str.join(\" \"))),\n",
    "        (\"BoW\", CountVectorizer()),\n",
    "    ]\n",
    ")\n",
    "\n",
    "pca_transformer = Pipeline(\n",
    "    steps=[\n",
    "        (\"impuer\", FunctionTransformer(lambda x: x.fillna('없음'))),      \n",
    "        (\"corpus\", FunctionTransformer(lambda x: x.str.replace('·',',').str.split(',').str.join(\" \"))),\n",
    "        (\"BoW\", CountVectorizer()),\n",
    "        (\"dense\", FunctionTransformer(lambda x: x.todense(), accept_sparse=True)),\n",
    "        (\"pca\", PCA(n_components=200)),\n",
    "    ]\n",
    ")\n",
    "\n",
    "column_transformer = ColumnTransformer(\n",
    "    transformers=[\n",
    "        (\"num\", numeric_transformer, numeric_features),\n",
    "        (\"cat\", categorical_transformer, categorical_features),\n",
    "        (\"bin1\", binary_transformer, binary_features[0]), \n",
    "        (\"bin2\", binary_transformer, binary_features[1]), \n",
    "        (\"bin3\", binary_transformer, binary_features[2]), \n",
    "        (\"pca1\", pca_transformer, pca_features[0]), \n",
    "   ]\n",
    ")\n",
    "\n",
    "preprocessor = Pipeline(\n",
    "    steps=[\n",
    "        (\"column\", column_transformer), \n",
    "        (\"selector\", SelectPercentile(percentile=80)),\n",
    "    ]\n",
    ")\n",
    "\n",
    "model = Pipeline(\n",
    "    steps=[\n",
    "        (\"preprocessor\", preprocessor), \n",
    "        (\"classifier\", LGBMRegressor(random_state=0)),\n",
    "    ]\n",
    ")\n",
    "\n",
    "set_config(display=\"diagram\")  # To view the text pipeline, change to display='text'.\n",
    "model"
   ]
  },
  {
   "cell_type": "code",
   "execution_count": 137,
   "id": "27c48e7d",
   "metadata": {},
   "outputs": [
    {
     "name": "stdout",
     "output_type": "stream",
     "text": [
      "Default LGBM CV scores:  [828.43910839 808.47241461 839.1477948  832.85869597 811.27329088\n",
      " 812.32549201 832.4977696  848.63100021 807.509188   831.39438638\n",
      " 794.51300938 817.83880383 834.96372962 811.6948762  834.38369015]\n",
      "Default LGBM CV mean = 823.19 with std = 154.29\n"
     ]
    }
   ],
   "source": [
    "sscv = ShuffleSplit(test_size=.3334, n_splits=NFOLDS, random_state=SEED) # Public LB 사이즈와 동일하게 평가데이터 사이즈 설정 \n",
    "scores = cross_val_score(model, X_train, y_train, scoring='neg_mean_squared_error', cv=sscv)\n",
    "\n",
    "print(\"Default LGBM CV scores: \", np.sqrt(-1*scores))\n",
    "print(\"Default LGBM CV mean = %.2f\" % np.sqrt(-1*scores.mean()), \"with std = %.2f\" % np.sqrt(scores.std()))"
   ]
  },
  {
   "cell_type": "code",
   "execution_count": 138,
   "id": "8a7e2441",
   "metadata": {},
   "outputs": [
    {
     "name": "stdout",
     "output_type": "stream",
     "text": [
      "Best params: {'preprocessor__column__num__imputer__strategy': 'mean', 'preprocessor__column__num__outlier__kw_args': {'q': 0.05}, 'preprocessor__column__pca1__pca__n_components': 100, 'preprocessor__selector__percentile': 90}\n",
      "Best score: 822.37\n",
      "Wall time: 3min 58s\n"
     ]
    }
   ],
   "source": [
    "%%time\n",
    "\n",
    "param_distributions = {\n",
    "    \"preprocessor__column__num__imputer__strategy\": CategoricalDistribution([\"mean\",\"median\"]),\n",
    "    \"preprocessor__column__num__outlier__kw_args\": CategoricalDistribution([{'q':0.01},{'q':0.05},{'q':0.1}]),\n",
    "    \"preprocessor__column__pca1__pca__n_components\": IntDistribution(100,500,step=100),  \n",
    "    \"preprocessor__selector__percentile\": IntDistribution(50,100,step=10),  \n",
    "}\n",
    "\n",
    "optuna_search = OptunaSearchCV(model, \n",
    "                               param_distributions, \n",
    "                               cv=sscv, scoring='neg_mean_squared_error', \n",
    "                               n_trials=20,\n",
    "                               timeout=TIMEOUT,   # 튜닝 허용 최대시간(초단위)\n",
    "                               study=optuna.create_study(sampler=optuna.samplers.TPESampler(seed=100), direction=\"maximize\"))\n",
    "\n",
    "optuna.logging.set_verbosity(optuna.logging.WARNING)\n",
    "optuna_search.fit(X_train, y_train)\n",
    "\n",
    "print(f\"Best params: {optuna_search.best_params_}\")\n",
    "print(\"Best score: %.2f\" % (-1*optuna_search.best_score_)**0.5)"
   ]
  },
  {
   "cell_type": "code",
   "execution_count": 139,
   "id": "910ec180",
   "metadata": {},
   "outputs": [],
   "source": [
    "# 최적값으로 파이프라인 재설정\n",
    "model.set_params(**optuna_search.best_params_)\n",
    "\n",
    "# 전처리 파이프라인만 수행\n",
    "X_train = preprocessor.fit_transform(X_train, y_train)\n",
    "X_test = preprocessor.transform(X_test)"
   ]
  },
  {
   "cell_type": "code",
   "execution_count": 140,
   "id": "9b0abd6c",
   "metadata": {},
   "outputs": [],
   "source": [
    "# X = pd.DataFrame(X_train)\n",
    "# Y = pd.DataFrame(y_train)\n",
    "# Xt = pd.DataFrame(X_test)"
   ]
  },
  {
   "cell_type": "code",
   "execution_count": 141,
   "id": "980ab0a8",
   "metadata": {
    "scrolled": true
   },
   "outputs": [],
   "source": [
    "# kmeans = KMeans(n_clusters=5, init='k-means++')\n",
    "# kmeans.fit_transform(X,Y)\n",
    "# kmeans.transform(Xt)\n",
    "\n",
    "# pre_X5 = kmeans.predict(X)\n",
    "# k_means_5 = pd.DataFrame(pre_X5)\n",
    "# X['cluster5'] = k_means_5 \n",
    "\n",
    "# pre_Xt5 = kmeans.predict(Xt)\n",
    "# k_means_t5 = pd.DataFrame(pre_Xt5)\n",
    "# Xt['cluster5'] = k_means_t5"
   ]
  },
  {
   "cell_type": "code",
   "execution_count": 142,
   "id": "71c20595",
   "metadata": {},
   "outputs": [],
   "source": [
    "# kmeans10 = KMeans(n_clusters=10, init='k-means++')\n",
    "# kmeans10.fit_transform(X,Y)\n",
    "# kmeans10.transform(Xt)\n",
    "\n",
    "# pre_X10 = kmeans10.predict(X)\n",
    "# k_means_10 = pd.DataFrame(pre_X10)\n",
    "# X['cluster10'] = k_means_10 \n",
    "\n",
    "# pre_Xt10 = kmeans10.predict(Xt)\n",
    "# k_means_t10 = pd.DataFrame(pre_Xt10)\n",
    "# Xt['cluster10'] = k_means_t10 "
   ]
  },
  {
   "cell_type": "code",
   "execution_count": 143,
   "id": "0bc29fde",
   "metadata": {},
   "outputs": [],
   "source": [
    "# kmeans15 = KMeans(n_clusters=15, init='k-means++')\n",
    "# kmeans15.fit_transform(X,Y)\n",
    "# kmeans15.transform(Xt)\n",
    "\n",
    "# pre_X15 = kmeans15.predict(X)\n",
    "# k_means_15 = pd.DataFrame(pre_X15)\n",
    "# X['cluster15'] = k_means_15 \n",
    "\n",
    "# pre_Xt15 = kmeans15.predict(Xt)\n",
    "# k_means_t15 = pd.DataFrame(pre_Xt15)\n",
    "# Xt['cluster15'] = k_means_t15"
   ]
  },
  {
   "cell_type": "code",
   "execution_count": 144,
   "id": "9d88eef6",
   "metadata": {},
   "outputs": [],
   "source": [
    "# X_train = np.array(X)\n",
    "# X_test = np.array(Xt)\n",
    "# y_train = np.array(Y)"
   ]
  },
  {
   "cell_type": "code",
   "execution_count": null,
   "id": "fc1235e9",
   "metadata": {},
   "outputs": [],
   "source": []
  },
  {
   "cell_type": "code",
   "execution_count": null,
   "id": "2c65b855",
   "metadata": {},
   "outputs": [],
   "source": []
  },
  {
   "cell_type": "code",
   "execution_count": null,
   "id": "07e4e1a9",
   "metadata": {},
   "outputs": [],
   "source": []
  },
  {
   "cell_type": "code",
   "execution_count": 145,
   "id": "764dd497",
   "metadata": {},
   "outputs": [
    {
     "name": "stderr",
     "output_type": "stream",
     "text": [
      "feature_fraction, val_score: inf:   0%|                                                          | 0/7 [00:00<?, ?it/s]"
     ]
    },
    {
     "name": "stdout",
     "output_type": "stream",
     "text": [
      "Training until validation scores don't improve for 100 rounds\n"
     ]
    },
    {
     "name": "stderr",
     "output_type": "stream",
     "text": [
      "feature_fraction, val_score: 811.288815:  14%|######1                                    | 1/7 [00:39<03:54, 39.00s/it]"
     ]
    },
    {
     "name": "stdout",
     "output_type": "stream",
     "text": [
      "Did not meet early stopping. Best iteration is:\n",
      "[174]\tcv_agg's rmse: 811.289 + 21.6553\n"
     ]
    },
    {
     "name": "stderr",
     "output_type": "stream",
     "text": [
      "feature_fraction, val_score: 810.453648:  29%|############2                              | 2/7 [01:11<03:05, 37.11s/it]"
     ]
    },
    {
     "name": "stdout",
     "output_type": "stream",
     "text": [
      "Did not meet early stopping. Best iteration is:\n",
      "[198]\tcv_agg's rmse: 810.454 + 23.7698\n"
     ]
    },
    {
     "name": "stderr",
     "output_type": "stream",
     "text": [
      "feature_fraction, val_score: 810.453648:  43%|##################4                        | 3/7 [01:48<02:27, 36.99s/it]"
     ]
    },
    {
     "name": "stdout",
     "output_type": "stream",
     "text": [
      "Did not meet early stopping. Best iteration is:\n",
      "[198]\tcv_agg's rmse: 810.454 + 23.7698\n"
     ]
    },
    {
     "name": "stderr",
     "output_type": "stream",
     "text": [
      "feature_fraction, val_score: 809.930998:  57%|########################5                  | 4/7 [02:15<01:42, 34.03s/it]"
     ]
    },
    {
     "name": "stdout",
     "output_type": "stream",
     "text": [
      "Did not meet early stopping. Best iteration is:\n",
      "[174]\tcv_agg's rmse: 809.931 + 19.8721\n"
     ]
    },
    {
     "name": "stderr",
     "output_type": "stream",
     "text": [
      "feature_fraction, val_score: 808.031556:  71%|##############################7            | 5/7 [03:07<01:15, 37.56s/it]\n",
      "  0%|                                                                                           | 0/20 [00:00<?, ?it/s]\n",
      "  0%|                                                                                           | 0/10 [00:00<?, ?it/s]\n",
      "  0%|                                                                                            | 0/6 [00:00<?, ?it/s]\n",
      "  0%|                                                                                           | 0/20 [00:00<?, ?it/s]\n",
      "  0%|                                                                                            | 0/5 [00:00<?, ?it/s]"
     ]
    },
    {
     "name": "stdout",
     "output_type": "stream",
     "text": [
      "Did not meet early stopping. Best iteration is:\n",
      "[157]\tcv_agg's rmse: 808.032 + 22.9114\n"
     ]
    },
    {
     "name": "stderr",
     "output_type": "stream",
     "text": [
      "\n"
     ]
    }
   ],
   "source": [
    "tuner = LightGBMTunerCV(\n",
    "    params={\n",
    "        \"objective\": \"regression\",   # 지도학습 유형(regression/binary/multiclass)\n",
    "        \"metric\": \"rmse\",\n",
    "        \"verbosity\": -1,             # 진행과정 출력안함\n",
    "        \"boosting_type\": \"gbdt\",     # 실행하고자 하는 알고리즘 유형(gbdt/rf/dart/goss)\n",
    "        \"seed\": 0,\n",
    "    },\n",
    "    train_set=lgb.Dataset(X_train, y_train), # LGBM 데이터셋으로 변환\n",
    "    nfold=15,\n",
    "    num_boost_round=200,                     # boosting 반복횟수\n",
    "    callbacks=[lgb.early_stopping(100)],     # 모든 정지 라운드 동안 validation 성능이 개선되지 않으면 조기종료\n",
    "    time_budget=TIMEOUT,                     # 튜닝 허용 최대시간(초단위)\n",
    "    optuna_seed=0,\n",
    ")\n",
    "\n",
    "tuner.run()"
   ]
  },
  {
   "cell_type": "code",
   "execution_count": 146,
   "id": "3fd3386a",
   "metadata": {},
   "outputs": [
    {
     "name": "stdout",
     "output_type": "stream",
     "text": [
      "\n",
      "Best params: {'objective': 'regression', 'metric': 'rmse', 'verbosity': -1, 'boosting_type': 'gbdt', 'seed': 0, 'feature_pre_filter': False, 'lambda_l1': 0.0, 'lambda_l2': 0.0, 'num_leaves': 31, 'feature_fraction': 0.8999999999999999, 'bagging_fraction': 1.0, 'bagging_freq': 0, 'min_child_samples': 20}\n",
      "\n",
      "Best score: 808.03\n"
     ]
    }
   ],
   "source": [
    "print(f\"\\nBest params: {tuner.best_params}\")\n",
    "print(f\"\\nBest score: {tuner.best_score:.2f}\")"
   ]
  },
  {
   "cell_type": "code",
   "execution_count": 147,
   "id": "442297db",
   "metadata": {
    "scrolled": true
   },
   "outputs": [
    {
     "name": "stdout",
     "output_type": "stream",
     "text": [
      "[LightGBM] [Warning] feature_fraction is set=0.8999999999999999, colsample_bytree=1.0 will be ignored. Current value: feature_fraction=0.8999999999999999\n",
      "[LightGBM] [Warning] lambda_l1 is set=0.0, reg_alpha=0.0 will be ignored. Current value: lambda_l1=0.0\n",
      "[LightGBM] [Warning] bagging_fraction is set=1.0, subsample=1.0 will be ignored. Current value: bagging_fraction=1.0\n",
      "[LightGBM] [Warning] lambda_l2 is set=0.0, reg_lambda=0.0 will be ignored. Current value: lambda_l2=0.0\n",
      "[LightGBM] [Warning] bagging_freq is set=0, subsample_freq=0 will be ignored. Current value: bagging_freq=0\n",
      "[LightGBM] [Warning] feature_fraction is set=0.8999999999999999, colsample_bytree=1.0 will be ignored. Current value: feature_fraction=0.8999999999999999\n",
      "[LightGBM] [Warning] lambda_l1 is set=0.0, reg_alpha=0.0 will be ignored. Current value: lambda_l1=0.0\n",
      "[LightGBM] [Warning] bagging_fraction is set=1.0, subsample=1.0 will be ignored. Current value: bagging_fraction=1.0\n",
      "[LightGBM] [Warning] lambda_l2 is set=0.0, reg_lambda=0.0 will be ignored. Current value: lambda_l2=0.0\n",
      "[LightGBM] [Warning] bagging_freq is set=0, subsample_freq=0 will be ignored. Current value: bagging_freq=0\n",
      "[LightGBM] [Warning] feature_fraction is set=0.8999999999999999, colsample_bytree=1.0 will be ignored. Current value: feature_fraction=0.8999999999999999\n",
      "[LightGBM] [Warning] lambda_l1 is set=0.0, reg_alpha=0.0 will be ignored. Current value: lambda_l1=0.0\n",
      "[LightGBM] [Warning] bagging_fraction is set=1.0, subsample=1.0 will be ignored. Current value: bagging_fraction=1.0\n",
      "[LightGBM] [Warning] lambda_l2 is set=0.0, reg_lambda=0.0 will be ignored. Current value: lambda_l2=0.0\n",
      "[LightGBM] [Warning] bagging_freq is set=0, subsample_freq=0 will be ignored. Current value: bagging_freq=0\n",
      "[LightGBM] [Warning] feature_fraction is set=0.8999999999999999, colsample_bytree=1.0 will be ignored. Current value: feature_fraction=0.8999999999999999\n",
      "[LightGBM] [Warning] lambda_l1 is set=0.0, reg_alpha=0.0 will be ignored. Current value: lambda_l1=0.0\n",
      "[LightGBM] [Warning] bagging_fraction is set=1.0, subsample=1.0 will be ignored. Current value: bagging_fraction=1.0\n",
      "[LightGBM] [Warning] lambda_l2 is set=0.0, reg_lambda=0.0 will be ignored. Current value: lambda_l2=0.0\n",
      "[LightGBM] [Warning] bagging_freq is set=0, subsample_freq=0 will be ignored. Current value: bagging_freq=0\n",
      "[LightGBM] [Warning] feature_fraction is set=0.8999999999999999, colsample_bytree=1.0 will be ignored. Current value: feature_fraction=0.8999999999999999\n",
      "[LightGBM] [Warning] lambda_l1 is set=0.0, reg_alpha=0.0 will be ignored. Current value: lambda_l1=0.0\n",
      "[LightGBM] [Warning] bagging_fraction is set=1.0, subsample=1.0 will be ignored. Current value: bagging_fraction=1.0\n",
      "[LightGBM] [Warning] lambda_l2 is set=0.0, reg_lambda=0.0 will be ignored. Current value: lambda_l2=0.0\n",
      "[LightGBM] [Warning] bagging_freq is set=0, subsample_freq=0 will be ignored. Current value: bagging_freq=0\n",
      "[LightGBM] [Warning] feature_fraction is set=0.8999999999999999, colsample_bytree=1.0 will be ignored. Current value: feature_fraction=0.8999999999999999\n",
      "[LightGBM] [Warning] lambda_l1 is set=0.0, reg_alpha=0.0 will be ignored. Current value: lambda_l1=0.0\n",
      "[LightGBM] [Warning] bagging_fraction is set=1.0, subsample=1.0 will be ignored. Current value: bagging_fraction=1.0\n",
      "[LightGBM] [Warning] lambda_l2 is set=0.0, reg_lambda=0.0 will be ignored. Current value: lambda_l2=0.0\n",
      "[LightGBM] [Warning] bagging_freq is set=0, subsample_freq=0 will be ignored. Current value: bagging_freq=0\n",
      "[LightGBM] [Warning] feature_fraction is set=0.8999999999999999, colsample_bytree=1.0 will be ignored. Current value: feature_fraction=0.8999999999999999\n",
      "[LightGBM] [Warning] lambda_l1 is set=0.0, reg_alpha=0.0 will be ignored. Current value: lambda_l1=0.0\n",
      "[LightGBM] [Warning] bagging_fraction is set=1.0, subsample=1.0 will be ignored. Current value: bagging_fraction=1.0\n",
      "[LightGBM] [Warning] lambda_l2 is set=0.0, reg_lambda=0.0 will be ignored. Current value: lambda_l2=0.0\n",
      "[LightGBM] [Warning] bagging_freq is set=0, subsample_freq=0 will be ignored. Current value: bagging_freq=0\n",
      "[LightGBM] [Warning] feature_fraction is set=0.8999999999999999, colsample_bytree=1.0 will be ignored. Current value: feature_fraction=0.8999999999999999\n",
      "[LightGBM] [Warning] lambda_l1 is set=0.0, reg_alpha=0.0 will be ignored. Current value: lambda_l1=0.0\n",
      "[LightGBM] [Warning] bagging_fraction is set=1.0, subsample=1.0 will be ignored. Current value: bagging_fraction=1.0\n",
      "[LightGBM] [Warning] lambda_l2 is set=0.0, reg_lambda=0.0 will be ignored. Current value: lambda_l2=0.0\n",
      "[LightGBM] [Warning] bagging_freq is set=0, subsample_freq=0 will be ignored. Current value: bagging_freq=0\n",
      "[LightGBM] [Warning] feature_fraction is set=0.8999999999999999, colsample_bytree=1.0 will be ignored. Current value: feature_fraction=0.8999999999999999\n",
      "[LightGBM] [Warning] lambda_l1 is set=0.0, reg_alpha=0.0 will be ignored. Current value: lambda_l1=0.0\n",
      "[LightGBM] [Warning] bagging_fraction is set=1.0, subsample=1.0 will be ignored. Current value: bagging_fraction=1.0\n",
      "[LightGBM] [Warning] lambda_l2 is set=0.0, reg_lambda=0.0 will be ignored. Current value: lambda_l2=0.0\n",
      "[LightGBM] [Warning] bagging_freq is set=0, subsample_freq=0 will be ignored. Current value: bagging_freq=0\n",
      "[LightGBM] [Warning] feature_fraction is set=0.8999999999999999, colsample_bytree=1.0 will be ignored. Current value: feature_fraction=0.8999999999999999\n",
      "[LightGBM] [Warning] lambda_l1 is set=0.0, reg_alpha=0.0 will be ignored. Current value: lambda_l1=0.0\n",
      "[LightGBM] [Warning] bagging_fraction is set=1.0, subsample=1.0 will be ignored. Current value: bagging_fraction=1.0\n",
      "[LightGBM] [Warning] lambda_l2 is set=0.0, reg_lambda=0.0 will be ignored. Current value: lambda_l2=0.0\n",
      "[LightGBM] [Warning] bagging_freq is set=0, subsample_freq=0 will be ignored. Current value: bagging_freq=0\n",
      "[LightGBM] [Warning] feature_fraction is set=0.8999999999999999, colsample_bytree=1.0 will be ignored. Current value: feature_fraction=0.8999999999999999\n",
      "[LightGBM] [Warning] lambda_l1 is set=0.0, reg_alpha=0.0 will be ignored. Current value: lambda_l1=0.0\n",
      "[LightGBM] [Warning] bagging_fraction is set=1.0, subsample=1.0 will be ignored. Current value: bagging_fraction=1.0\n",
      "[LightGBM] [Warning] lambda_l2 is set=0.0, reg_lambda=0.0 will be ignored. Current value: lambda_l2=0.0\n",
      "[LightGBM] [Warning] bagging_freq is set=0, subsample_freq=0 will be ignored. Current value: bagging_freq=0\n",
      "[LightGBM] [Warning] feature_fraction is set=0.8999999999999999, colsample_bytree=1.0 will be ignored. Current value: feature_fraction=0.8999999999999999\n",
      "[LightGBM] [Warning] lambda_l1 is set=0.0, reg_alpha=0.0 will be ignored. Current value: lambda_l1=0.0\n",
      "[LightGBM] [Warning] bagging_fraction is set=1.0, subsample=1.0 will be ignored. Current value: bagging_fraction=1.0\n",
      "[LightGBM] [Warning] lambda_l2 is set=0.0, reg_lambda=0.0 will be ignored. Current value: lambda_l2=0.0\n",
      "[LightGBM] [Warning] bagging_freq is set=0, subsample_freq=0 will be ignored. Current value: bagging_freq=0\n",
      "[LightGBM] [Warning] feature_fraction is set=0.8999999999999999, colsample_bytree=1.0 will be ignored. Current value: feature_fraction=0.8999999999999999\n",
      "[LightGBM] [Warning] lambda_l1 is set=0.0, reg_alpha=0.0 will be ignored. Current value: lambda_l1=0.0\n",
      "[LightGBM] [Warning] bagging_fraction is set=1.0, subsample=1.0 will be ignored. Current value: bagging_fraction=1.0\n",
      "[LightGBM] [Warning] lambda_l2 is set=0.0, reg_lambda=0.0 will be ignored. Current value: lambda_l2=0.0\n",
      "[LightGBM] [Warning] bagging_freq is set=0, subsample_freq=0 will be ignored. Current value: bagging_freq=0\n",
      "[LightGBM] [Warning] feature_fraction is set=0.8999999999999999, colsample_bytree=1.0 will be ignored. Current value: feature_fraction=0.8999999999999999\n",
      "[LightGBM] [Warning] lambda_l1 is set=0.0, reg_alpha=0.0 will be ignored. Current value: lambda_l1=0.0\n",
      "[LightGBM] [Warning] bagging_fraction is set=1.0, subsample=1.0 will be ignored. Current value: bagging_fraction=1.0\n",
      "[LightGBM] [Warning] lambda_l2 is set=0.0, reg_lambda=0.0 will be ignored. Current value: lambda_l2=0.0\n",
      "[LightGBM] [Warning] bagging_freq is set=0, subsample_freq=0 will be ignored. Current value: bagging_freq=0\n",
      "\n",
      "Tuned LGBM CV scores:  [818.31540138 806.63462018 829.13671504 826.10925065 806.94084598\n",
      " 805.2513291  824.9867977  843.99037956 805.46347541 826.38294889\n",
      " 787.5009531  812.40137985 820.36741361 812.22687069 823.91644406]\n",
      "Tuned LGBM CV mean = 816.75 with std = 146.05\n"
     ]
    }
   ],
   "source": [
    "# 최적화된 하이퍼파라미터로 OOF를 수행하여 최종 LGBM 모형 생성\n",
    "models = cross_validate(LGBMRegressor(**tuner.best_params,learning_rate = 0.01, num_iterations = 10000), # 최적화된 hyperparameter 사용\n",
    "                        X_train, y_train, \n",
    "                        cv=sscv, \n",
    "                        scoring='neg_mean_squared_error', \n",
    "                        return_estimator=True)\n",
    "oof_pred = np.array([m.predict(X_test) for m in models['estimator']]).mean(axis=0)\n",
    "\n",
    "scores = models['test_score']\n",
    "print(\"\\nTuned LGBM CV scores: \", np.sqrt(-1*scores))\n",
    "print(\"Tuned LGBM CV mean = %.2f\" % np.sqrt(-1*scores.mean()), \"with std = %.2f\" % np.sqrt(scores.std()))"
   ]
  },
  {
   "cell_type": "code",
   "execution_count": 148,
   "id": "4888ade8",
   "metadata": {},
   "outputs": [],
   "source": [
    "filename = f'lgbm_지협지11241705_{np.sqrt(-1*scores.mean()):.2f}.csv'\n",
    "pd.DataFrame({'ID':test_id, 'Salary':oof_pred}).to_csv(filename, index=False)"
   ]
  },
  {
   "cell_type": "code",
   "execution_count": null,
   "id": "032e30c6",
   "metadata": {},
   "outputs": [],
   "source": []
  }
 ],
 "metadata": {
  "kernelspec": {
   "display_name": "Python 3",
   "language": "python",
   "name": "python3"
  },
  "language_info": {
   "codemirror_mode": {
    "name": "ipython",
    "version": 3
   },
   "file_extension": ".py",
   "mimetype": "text/x-python",
   "name": "python",
   "nbconvert_exporter": "python",
   "pygments_lexer": "ipython3",
   "version": "3.8.5"
  }
 },
 "nbformat": 4,
 "nbformat_minor": 5
}
